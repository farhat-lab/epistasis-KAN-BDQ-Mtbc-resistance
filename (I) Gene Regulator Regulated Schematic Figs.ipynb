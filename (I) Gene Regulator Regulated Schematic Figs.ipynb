{
 "cells": [
  {
   "cell_type": "markdown",
   "metadata": {},
   "source": [
    "# This notebook was created to construct a schematic figure of the regulator/regaulated regions interrogated for this study."
   ]
  },
  {
   "cell_type": "code",
   "execution_count": 1,
   "metadata": {},
   "outputs": [
    {
     "data": {
      "text/html": [
       "<style>.container { width:100% !important; }</style>"
      ],
      "text/plain": [
       "<IPython.core.display.HTML object>"
      ]
     },
     "metadata": {},
     "output_type": "display_data"
    }
   ],
   "source": [
    "from IPython.core.display import display, HTML\n",
    "display(HTML(\"<style>.container { width:100% !important; }</style>\"))"
   ]
  },
  {
   "cell_type": "code",
   "execution_count": 2,
   "metadata": {},
   "outputs": [],
   "source": [
    "%matplotlib inline\n",
    "\n",
    "from dna_features_viewer import GraphicFeature, GraphicRecord\n",
    "import os\n",
    "import numpy as np\n",
    "import matplotlib.pyplot as plt\n",
    "import matplotlib as mpl\n",
    "import matplotlib.ticker as ticker\n",
    "import matplotlib.pyplot as plt\n",
    "import matplotlib as mpl\n",
    "from dna_features_viewer import GraphicFeature, GraphicRecord, CircularGraphicRecord, BiopythonTranslator\n",
    "from Bio import SeqIO\n",
    "\n",
    "#for exporting to Adobe Illustrator\n",
    "mpl.rcParams['pdf.fonttype'] = 42\n",
    "mpl.rcParams['ps.fonttype'] = 42"
   ]
  },
  {
   "cell_type": "markdown",
   "metadata": {},
   "source": [
    "### Import and setup DNA Features Viewer (For plotting H37rv genome annotations)"
   ]
  },
  {
   "cell_type": "code",
   "execution_count": 3,
   "metadata": {},
   "outputs": [],
   "source": [
    "BiopythonTranslator.label_fields = ['gene', 'label', 'source', 'locus_tag', 'note', 'gene', 'product']\n",
    "BiopythonTranslator.ignored_features_types = [\"source\", \"gene\"]"
   ]
  },
  {
   "cell_type": "code",
   "execution_count": 4,
   "metadata": {},
   "outputs": [],
   "source": [
    "H37rv_Ref_GBK_PATH = \"/n/data1/hms/dbmi/farhat/mm774/References/GCF_000195955.2_ASM19595v2_genomic.gbk\""
   ]
  },
  {
   "cell_type": "code",
   "execution_count": 5,
   "metadata": {},
   "outputs": [
    {
     "data": {
      "text/plain": [
       "1"
      ]
     },
     "execution_count": 5,
     "metadata": {},
     "output_type": "execute_result"
    }
   ],
   "source": [
    "records = list(SeqIO.parse(H37rv_Ref_GBK_PATH, \"genbank\"))\n",
    "len(records)"
   ]
  },
  {
   "cell_type": "code",
   "execution_count": 6,
   "metadata": {},
   "outputs": [],
   "source": [
    "Mtb_H37rv_SeqIO_Record = records[0]\n",
    "Mtb_H37rv_Graphic_Record = BiopythonTranslator().translate_record(Mtb_H37rv_SeqIO_Record)"
   ]
  },
  {
   "cell_type": "markdown",
   "metadata": {},
   "source": [
    "### Use DNA Features Viewer's plotting function to plot loci we're interested in"
   ]
  },
  {
   "cell_type": "code",
   "execution_count": 25,
   "metadata": {},
   "outputs": [
    {
     "data": {
      "image/png": "[encoded data removed]",
      "text/plain": [
       "<Figure size 432x720 with 4 Axes>"
      ]
     },
     "metadata": {
      "needs_background": "light"
     },
     "output_type": "display_data"
    }
   ],
   "source": [
    "fig, axs = plt.subplots(4, 1, sharex=False)\n",
    "\n",
    "#ahpC promoter/ahpC\n",
    "Start_Coord = 2726088\n",
    "End_Coord = 2726780 + 5\n",
    "Mtb_H37rv_Graphic_Record_cropped = Mtb_H37rv_Graphic_Record.crop((Start_Coord, End_Coord + 1))\n",
    "Mtb_H37rv_Graphic_Record_cropped.plot(strand_in_label_threshold=5, ax = axs[0], plot_sequence = False)\n",
    "axs[0].set_xticks([2726088,   2726101,2726146,   2726193, 2726780])\n",
    "axs[0].tick_params(labelcolor = 'k', rotation=45)\n",
    "axs[0].tick_params(axis='both', which='major', labelsize=5)\n",
    "\n",
    "#mmpL5/mmpS5/mmpR\n",
    "Start_Coord = 775586 - 11\n",
    "End_Coord = 779487\n",
    "Mtb_H37rv_Graphic_Record_cropped = Mtb_H37rv_Graphic_Record.crop((Start_Coord, End_Coord + 1))\n",
    "Mtb_H37rv_Graphic_Record_cropped.plot(strand_in_label_threshold=5, ax = axs[1], plot_sequence = False)\n",
    "axs[1].set_xticks([775586, 778480, 778990, 779487])\n",
    "axs[1].tick_params(labelcolor = 'k', rotation=45)\n",
    "axs[1].tick_params(axis='both', which='major', labelsize=5)\n",
    "\n",
    "#eis promoter/eis\n",
    "Start_Coord = 2714124 - 10\n",
    "End_Coord = 2715383\n",
    "Mtb_H37rv_Graphic_Record_cropped = Mtb_H37rv_Graphic_Record.crop((Start_Coord, End_Coord + 1))\n",
    "Mtb_H37rv_Graphic_Record_cropped.plot(strand_in_label_threshold=5, ax = axs[2], plot_sequence = False)\n",
    "axs[2].set_xticks([2714124, 2715332,   2715338,2715374,   2715383])\n",
    "axs[2].tick_params(labelcolor = 'k', rotation=45)\n",
    "axs[2].tick_params(axis='both', which='major', labelsize=5)\n",
    "\n",
    "#whiB7 promoter/whiB7\n",
    "Start_Coord = 3568401 - 8\n",
    "End_Coord = 3569082\n",
    "Mtb_H37rv_Graphic_Record_cropped = Mtb_H37rv_Graphic_Record.crop((Start_Coord, End_Coord + 1))\n",
    "Mtb_H37rv_Graphic_Record_cropped.plot(strand_in_label_threshold=5, ax = axs[3], plot_sequence = False)\n",
    "axs[3].set_xticks([3568401, 3568679, 3569082])\n",
    "axs[3].tick_params(labelcolor = 'k', rotation=45)\n",
    "axs[3].tick_params(axis='both', which='major', labelsize=5)\n",
    "\n",
    "fig.text(0.5, -0.015, 'H37rv Ref Position', ha='center', fontsize=12)\n",
    "\n",
    "fig = plt.gcf()\n",
    "fig.set_size_inches(6.0, 10.0)\n",
    "fig.tight_layout()\n",
    "\n",
    "file_name = '/n/data1/hms/dbmi/farhat/Roger/mmpR_BDQ_mutant_project/figures/Genomic_Regions_Interrogated_Schematic.pdf'\n",
    "plt.savefig(file_name, bbox_inches='tight', dpi = 300 , transparent = True)\n",
    "\n",
    "plt.show()"
   ]
  },
  {
   "cell_type": "code",
   "execution_count": null,
   "metadata": {},
   "outputs": [],
   "source": []
  },
  {
   "cell_type": "code",
   "execution_count": null,
   "metadata": {},
   "outputs": [],
   "source": []
  }
 ],
 "metadata": {
  "kernelspec": {
   "display_name": "Python [conda env:DNA_Features_Viewer_virtualenv]",
   "language": "python",
   "name": "conda-env-DNA_Features_Viewer_virtualenv-py"
  },
  "language_info": {
   "codemirror_mode": {
    "name": "ipython",
    "version": 3
   },
   "file_extension": ".py",
   "mimetype": "text/x-python",
   "name": "python",
   "nbconvert_exporter": "python",
   "pygments_lexer": "ipython3",
   "version": "3.6.13"
  }
 },
 "nbformat": 4,
 "nbformat_minor": 5
}
