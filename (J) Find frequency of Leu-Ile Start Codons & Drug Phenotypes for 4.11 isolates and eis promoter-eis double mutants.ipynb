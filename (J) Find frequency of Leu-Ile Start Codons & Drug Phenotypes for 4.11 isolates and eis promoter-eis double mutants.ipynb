{
 "cells": [
  {
   "cell_type": "markdown",
   "metadata": {},
   "source": [
    "# This notebook was created to 1. calculate the frequency of START codons Leu & Ile in the Mtbc genome, 2. analyze drug phenotypes for sub-lineage *4.11* isolates and 3. analyze drug phenotypes for *eis* promoter / *eis* double mutants"
   ]
  },
  {
   "cell_type": "code",
   "execution_count": 1,
   "metadata": {},
   "outputs": [
    {
     "data": {
      "text/html": [
       "<style>.container { width:100% !important; }</style>"
      ],
      "text/plain": [
       "<IPython.core.display.HTML object>"
      ]
     },
     "metadata": {},
     "output_type": "display_data"
    }
   ],
   "source": [
    "from IPython.core.display import display, HTML\n",
    "display(HTML(\"<style>.container { width:100% !important; }</style>\"))"
   ]
  },
  {
   "cell_type": "code",
   "execution_count": 2,
   "metadata": {},
   "outputs": [],
   "source": [
    "import os\n",
    "import pandas as pd\n",
    "import numpy as np\n",
    "import sys\n",
    "import pickle\n",
    "\n",
    "import Bio\n",
    "from Bio.Alphabet import IUPAC\n",
    "from Bio.Seq import Seq\n",
    "from Bio.SeqRecord import SeqRecord\n",
    "from Bio.SeqFeature import SeqFeature, FeatureLocation\n",
    "from Bio import SeqIO\n",
    "from StringIO import StringIO\n",
    "from Bio import AlignIO\n",
    "from Bio.Align import AlignInfo\n",
    "from Bio.Seq import MutableSeq"
   ]
  },
  {
   "cell_type": "markdown",
   "metadata": {},
   "source": [
    "# [1] Find Frequency of START codons Leu & Ile"
   ]
  },
  {
   "cell_type": "markdown",
   "metadata": {},
   "source": [
    "## [1.1]  Load the pickled dictionaries that are used for SNP annotation"
   ]
  },
  {
   "cell_type": "code",
   "execution_count": 3,
   "metadata": {},
   "outputs": [],
   "source": [
    "# Relevant Information for H37Rv sequence SNP functional annotation\n",
    "################################################################################################################################################################################################\n",
    "####### Collect all DNA and Amino Acid sequences corresponding to genes on H37Rv #######\n",
    "#load reference genome and reference annotation\n",
    "reference_genome = '/n/data1/hms/dbmi/farhat/bin/work-horse/bin/h37rv.fasta'\n",
    "for reference_genome in SeqIO.parse(reference_genome, \"fasta\"):\n",
    "    reference_genome.seq.alphabet = IUPAC.unambiguous_dna\n",
    "\n",
    "reference_genome_annotation = pd.read_csv('/n/data1/hms/dbmi/farhat/Roger/inhost_TB_dynamics_project/H37Rv/h37rv_genome_summary.txt', '\\t').set_index('name')\n",
    "\n",
    "####### Load in dictionaries for SNP annotation #######\n",
    "with open('/n/data1/hms/dbmi/farhat/Roger/homoplasy_project/pickled_files/dicts_for_SNP_annotation/H37Rv_gene_seq_records.pickle', 'rb') as handle:\n",
    "    ref_gene_sequences_records = pickle.load(handle)\n",
    "    \n",
    "with open('/n/data1/hms/dbmi/farhat/Roger/homoplasy_project/pickled_files/dicts_for_SNP_annotation/H37Rv_protein_seq_records.pickle', 'rb') as handle:\n",
    "    ref_protein_sequences_records = pickle.load(handle)\n",
    "    \n",
    "with open('/n/data1/hms/dbmi/farhat/Roger/homoplasy_project/pickled_files/dicts_for_SNP_annotation/H37Rv_coord_gene_mapping.pickle', 'rb') as handle:\n",
    "    ReferencePosition_Gene_mapping = pickle.load(handle)\n",
    "    \n",
    "####### get Gene Categories #######\n",
    "gene_categories = pd.read_csv('/n/data1/hms/dbmi/farhat/Roger/inhost_TB_dynamics_project/CSV_files/gene_categories/gene_categories.csv').set_index('name')\n",
    "gene_categories_dict = dict([gene_id , gene_category] for gene_id, gene_category in zip(list(gene_categories.gene_id) , list(gene_categories.Gene_Category)))\n",
    "\n",
    "####### get Gene Symbols #######\n",
    "gene_symbol_dict = dict([gene_id , gene_symbol] for gene_id, gene_symbol in zip(list(reference_genome_annotation.symbol.index) , list( reference_genome_annotation.symbol )))\n",
    "################################################################################################################################################################################################"
   ]
  },
  {
   "cell_type": "markdown",
   "metadata": {},
   "source": [
    "## [1.2] Find the start codon that corresponds to each gene"
   ]
  },
  {
   "cell_type": "code",
   "execution_count": 24,
   "metadata": {},
   "outputs": [],
   "source": [
    "gene_ids = ref_protein_sequences_records.keys()"
   ]
  },
  {
   "cell_type": "code",
   "execution_count": 25,
   "metadata": {},
   "outputs": [
    {
     "data": {
      "text/plain": [
       "['Rv0239', 'Rv0238', 'Rv1322', 'Rv1323', 'Rv1324']"
      ]
     },
     "execution_count": 25,
     "metadata": {},
     "output_type": "execute_result"
    }
   ],
   "source": [
    "gene_ids[0:5]"
   ]
  },
  {
   "cell_type": "code",
   "execution_count": 26,
   "metadata": {},
   "outputs": [
    {
     "data": {
      "text/plain": [
       "4049"
      ]
     },
     "execution_count": 26,
     "metadata": {},
     "output_type": "execute_result"
    }
   ],
   "source": [
    "len(gene_ids)"
   ]
  },
  {
   "cell_type": "code",
   "execution_count": 27,
   "metadata": {},
   "outputs": [],
   "source": [
    "gene_START_codon_list = [ref_protein_sequences_records[gene_id].seq[0] for gene_id in gene_ids]\n",
    "gene_START_codon_series = pd.Series(gene_START_codon_list, index = gene_ids)"
   ]
  },
  {
   "cell_type": "code",
   "execution_count": 29,
   "metadata": {},
   "outputs": [
    {
     "data": {
      "text/plain": [
       "Rv0239    M\n",
       "Rv0238    M\n",
       "Rv1322    M\n",
       "Rv1323    V\n",
       "Rv1324    V\n",
       "dtype: object"
      ]
     },
     "execution_count": 29,
     "metadata": {},
     "output_type": "execute_result"
    }
   ],
   "source": [
    "gene_START_codon_series.head()"
   ]
  },
  {
   "cell_type": "markdown",
   "metadata": {},
   "source": [
    "### Genes that have a START codon that is Leu (**L**)"
   ]
  },
  {
   "cell_type": "code",
   "execution_count": 31,
   "metadata": {},
   "outputs": [
    {
     "data": {
      "text/plain": [
       "(203,)"
      ]
     },
     "execution_count": 31,
     "metadata": {},
     "output_type": "execute_result"
    }
   ],
   "source": [
    "np.shape(gene_START_codon_series[gene_START_codon_series == 'L'])"
   ]
  },
  {
   "cell_type": "code",
   "execution_count": 32,
   "metadata": {},
   "outputs": [
    {
     "data": {
      "text/plain": [
       "Rv1871c    L\n",
       "Rv1525     L\n",
       "Rv0122     L\n",
       "Rv3338     L\n",
       "Rv0108c    L\n",
       "dtype: object"
      ]
     },
     "execution_count": 32,
     "metadata": {},
     "output_type": "execute_result"
    }
   ],
   "source": [
    "gene_START_codon_series[gene_START_codon_series == 'L'].head()"
   ]
  },
  {
   "cell_type": "markdown",
   "metadata": {},
   "source": [
    "### Genes that have a START codon that is Ile (**I**)"
   ]
  },
  {
   "cell_type": "code",
   "execution_count": 33,
   "metadata": {},
   "outputs": [
    {
     "data": {
      "text/plain": [
       "(3,)"
      ]
     },
     "execution_count": 33,
     "metadata": {},
     "output_type": "execute_result"
    }
   ],
   "source": [
    "np.shape(gene_START_codon_series[gene_START_codon_series == 'I'])"
   ]
  },
  {
   "cell_type": "code",
   "execution_count": 34,
   "metadata": {},
   "outputs": [
    {
     "data": {
      "text/plain": [
       "Rv0742      I\n",
       "Rv1641      I\n",
       "Rv2427Ac    I\n",
       "dtype: object"
      ]
     },
     "execution_count": 34,
     "metadata": {},
     "output_type": "execute_result"
    }
   ],
   "source": [
    "gene_START_codon_series[gene_START_codon_series == 'I']"
   ]
  },
  {
   "cell_type": "markdown",
   "metadata": {},
   "source": [
    "# [2] Find drug resistance phenotypes for (A) Peru clone and (B) *eis* double mutant isolates"
   ]
  },
  {
   "cell_type": "markdown",
   "metadata": {},
   "source": [
    "## [2.1] Load drug resistance phenotypes"
   ]
  },
  {
   "cell_type": "code",
   "execution_count": 3,
   "metadata": {},
   "outputs": [],
   "source": [
    "drug_res_pheno_df = pd.read_csv('/n/data1/hms/dbmi/farhat/Roger/mmpR_BDQ_mutant_project/CSV files/MIC data/2020-10-28_phenotype.csv')"
   ]
  },
  {
   "cell_type": "code",
   "execution_count": 4,
   "metadata": {},
   "outputs": [
    {
     "data": {
      "text/html": [
       "<div>\n",
       "<style>\n",
       "    .dataframe thead tr:only-child th {\n",
       "        text-align: right;\n",
       "    }\n",
       "\n",
       "    .dataframe thead th {\n",
       "        text-align: left;\n",
       "    }\n",
       "\n",
       "    .dataframe tbody tr th {\n",
       "        vertical-align: top;\n",
       "    }\n",
       "</style>\n",
       "<table border=\"1\" class=\"dataframe\">\n",
       "  <thead>\n",
       "    <tr style=\"text-align: right;\">\n",
       "      <th></th>\n",
       "      <th>run</th>\n",
       "      <th>run_combined</th>\n",
       "      <th>bioproject</th>\n",
       "      <th>biosample</th>\n",
       "      <th>internal</th>\n",
       "      <th>amikacin</th>\n",
       "      <th>capreomycin</th>\n",
       "      <th>ciprofloxacin</th>\n",
       "      <th>ethambutol</th>\n",
       "      <th>ethionamide</th>\n",
       "      <th>isoniazid</th>\n",
       "      <th>kanamycin</th>\n",
       "      <th>levofloxacin</th>\n",
       "      <th>moxifloxacin</th>\n",
       "      <th>ofloxacin</th>\n",
       "      <th>para-aminosalicylic_acid</th>\n",
       "      <th>pyrazinamide</th>\n",
       "      <th>rifampicin</th>\n",
       "      <th>streptomycin</th>\n",
       "    </tr>\n",
       "  </thead>\n",
       "  <tbody>\n",
       "    <tr>\n",
       "      <th>0</th>\n",
       "      <td>1702</td>\n",
       "      <td>1702</td>\n",
       "      <td>internal</td>\n",
       "      <td>1702</td>\n",
       "      <td>1702</td>\n",
       "      <td>R</td>\n",
       "      <td>NaN</td>\n",
       "      <td>NaN</td>\n",
       "      <td>S</td>\n",
       "      <td>NaN</td>\n",
       "      <td>R</td>\n",
       "      <td>NaN</td>\n",
       "      <td>NaN</td>\n",
       "      <td>NaN</td>\n",
       "      <td>NaN</td>\n",
       "      <td>S</td>\n",
       "      <td>S</td>\n",
       "      <td>R</td>\n",
       "      <td>R</td>\n",
       "    </tr>\n",
       "    <tr>\n",
       "      <th>1</th>\n",
       "      <td>1719</td>\n",
       "      <td>1719</td>\n",
       "      <td>internal</td>\n",
       "      <td>1719</td>\n",
       "      <td>1719</td>\n",
       "      <td>R</td>\n",
       "      <td>NaN</td>\n",
       "      <td>NaN</td>\n",
       "      <td>S</td>\n",
       "      <td>NaN</td>\n",
       "      <td>R</td>\n",
       "      <td>NaN</td>\n",
       "      <td>NaN</td>\n",
       "      <td>NaN</td>\n",
       "      <td>NaN</td>\n",
       "      <td>S</td>\n",
       "      <td>S</td>\n",
       "      <td>R</td>\n",
       "      <td>S</td>\n",
       "    </tr>\n",
       "    <tr>\n",
       "      <th>2</th>\n",
       "      <td>1727</td>\n",
       "      <td>1727</td>\n",
       "      <td>internal</td>\n",
       "      <td>1727</td>\n",
       "      <td>1727</td>\n",
       "      <td>R</td>\n",
       "      <td>NaN</td>\n",
       "      <td>NaN</td>\n",
       "      <td>S</td>\n",
       "      <td>NaN</td>\n",
       "      <td>R</td>\n",
       "      <td>NaN</td>\n",
       "      <td>NaN</td>\n",
       "      <td>NaN</td>\n",
       "      <td>NaN</td>\n",
       "      <td>S</td>\n",
       "      <td>S</td>\n",
       "      <td>R</td>\n",
       "      <td>R</td>\n",
       "    </tr>\n",
       "    <tr>\n",
       "      <th>3</th>\n",
       "      <td>1728</td>\n",
       "      <td>1728</td>\n",
       "      <td>internal</td>\n",
       "      <td>1728</td>\n",
       "      <td>1728</td>\n",
       "      <td>R</td>\n",
       "      <td>NaN</td>\n",
       "      <td>NaN</td>\n",
       "      <td>S</td>\n",
       "      <td>NaN</td>\n",
       "      <td>R</td>\n",
       "      <td>NaN</td>\n",
       "      <td>NaN</td>\n",
       "      <td>NaN</td>\n",
       "      <td>NaN</td>\n",
       "      <td>S</td>\n",
       "      <td>S</td>\n",
       "      <td>R</td>\n",
       "      <td>R</td>\n",
       "    </tr>\n",
       "    <tr>\n",
       "      <th>4</th>\n",
       "      <td>1741</td>\n",
       "      <td>1741</td>\n",
       "      <td>internal</td>\n",
       "      <td>1741</td>\n",
       "      <td>1741</td>\n",
       "      <td>R</td>\n",
       "      <td>NaN</td>\n",
       "      <td>NaN</td>\n",
       "      <td>S</td>\n",
       "      <td>NaN</td>\n",
       "      <td>R</td>\n",
       "      <td>NaN</td>\n",
       "      <td>NaN</td>\n",
       "      <td>NaN</td>\n",
       "      <td>NaN</td>\n",
       "      <td>S</td>\n",
       "      <td>S</td>\n",
       "      <td>R</td>\n",
       "      <td>S</td>\n",
       "    </tr>\n",
       "  </tbody>\n",
       "</table>\n",
       "</div>"
      ],
      "text/plain": [
       "    run run_combined bioproject biosample internal amikacin capreomycin  \\\n",
       "0  1702         1702   internal      1702     1702        R         NaN   \n",
       "1  1719         1719   internal      1719     1719        R         NaN   \n",
       "2  1727         1727   internal      1727     1727        R         NaN   \n",
       "3  1728         1728   internal      1728     1728        R         NaN   \n",
       "4  1741         1741   internal      1741     1741        R         NaN   \n",
       "\n",
       "  ciprofloxacin ethambutol ethionamide isoniazid kanamycin levofloxacin  \\\n",
       "0           NaN          S         NaN         R       NaN          NaN   \n",
       "1           NaN          S         NaN         R       NaN          NaN   \n",
       "2           NaN          S         NaN         R       NaN          NaN   \n",
       "3           NaN          S         NaN         R       NaN          NaN   \n",
       "4           NaN          S         NaN         R       NaN          NaN   \n",
       "\n",
       "  moxifloxacin ofloxacin para-aminosalicylic_acid pyrazinamide rifampicin  \\\n",
       "0          NaN       NaN                        S            S          R   \n",
       "1          NaN       NaN                        S            S          R   \n",
       "2          NaN       NaN                        S            S          R   \n",
       "3          NaN       NaN                        S            S          R   \n",
       "4          NaN       NaN                        S            S          R   \n",
       "\n",
       "  streptomycin  \n",
       "0            R  \n",
       "1            S  \n",
       "2            R  \n",
       "3            R  \n",
       "4            S  "
      ]
     },
     "execution_count": 4,
     "metadata": {},
     "output_type": "execute_result"
    }
   ],
   "source": [
    "drug_res_pheno_df.head()"
   ]
  },
  {
   "cell_type": "code",
   "execution_count": 5,
   "metadata": {},
   "outputs": [
    {
     "data": {
      "text/plain": [
       "(20379, 19)"
      ]
     },
     "execution_count": 5,
     "metadata": {},
     "output_type": "execute_result"
    }
   ],
   "source": [
    "np.shape(drug_res_pheno_df)"
   ]
  },
  {
   "cell_type": "markdown",
   "metadata": {},
   "source": [
    "## [2.2] Load isolate annotation DF"
   ]
  },
  {
   "cell_type": "markdown",
   "metadata": {},
   "source": [
    "### *Function* to convert lineage-calls to new/simpler lineage call scheme"
   ]
  },
  {
   "cell_type": "code",
   "execution_count": 6,
   "metadata": {},
   "outputs": [],
   "source": [
    "def convert_lineage_calls(isolate_annotation_DF):\n",
    "\n",
    "    lineage_hierarchincal_to_lineage_map_df = pd.read_csv('/n/data1/hms/dbmi/farhat/Roger/mmpR_BDQ_mutant_project/CSV files/lineage_hierachical_to_lineage_map.csv')\n",
    "    lineage_hierarchincal_to_lineage_map_series = pd.Series(list(lineage_hierarchincal_to_lineage_map_df.loc[:, 'lineage']), index = lineage_hierarchincal_to_lineage_map_df.lineage_hierarchical)\n",
    "\n",
    "    lineage_call_update_list = []\n",
    "\n",
    "    for hierarchical_lineage_call in isolate_annotation_DF.lineage_call:\n",
    "\n",
    "        # if lineage call has an updated shorter call\n",
    "        if hierarchical_lineage_call in lineage_hierarchincal_to_lineage_map_series.index:\n",
    "            lineage_call_update_list.append(lineage_hierarchincal_to_lineage_map_series[hierarchical_lineage_call])\n",
    "\n",
    "        # if lineage call doesn't have an updated shorter call\n",
    "        else:\n",
    "            lineage_call_update_list.append(hierarchical_lineage_call)\n",
    "\n",
    "    # replace the hierarchical calls with the shorter ones\n",
    "    isolate_annotation_DF.loc[:,'lineage_call'] = lineage_call_update_list\n",
    "    \n",
    "    return isolate_annotation_DF"
   ]
  },
  {
   "cell_type": "markdown",
   "metadata": {},
   "source": [
    "### Load annotation for 31,428 isolates"
   ]
  },
  {
   "cell_type": "code",
   "execution_count": 7,
   "metadata": {},
   "outputs": [],
   "source": [
    "#load isolate annotation file (columns of Genotype Matrix)\n",
    "isolate_annotation_DF = pd.read_pickle('/n/data1/hms/dbmi/farhat/Roger/homoplasy_project/rolling_DB_scrape/Genotypes_Filtered_2/genotypes_isolate_annotation.pkl')\n",
    "isolate_annotation_DF = isolate_annotation_DF.loc[:, ['isolate_ID','lineage_call']] #drop columns\n",
    "isolate_annotation_DF = convert_lineage_calls(isolate_annotation_DF)"
   ]
  },
  {
   "cell_type": "code",
   "execution_count": 8,
   "metadata": {},
   "outputs": [
    {
     "data": {
      "text/html": [
       "<div>\n",
       "<style>\n",
       "    .dataframe thead tr:only-child th {\n",
       "        text-align: right;\n",
       "    }\n",
       "\n",
       "    .dataframe thead th {\n",
       "        text-align: left;\n",
       "    }\n",
       "\n",
       "    .dataframe tbody tr th {\n",
       "        vertical-align: top;\n",
       "    }\n",
       "</style>\n",
       "<table border=\"1\" class=\"dataframe\">\n",
       "  <thead>\n",
       "    <tr style=\"text-align: right;\">\n",
       "      <th></th>\n",
       "      <th>isolate_ID</th>\n",
       "      <th>lineage_call</th>\n",
       "    </tr>\n",
       "  </thead>\n",
       "  <tbody>\n",
       "    <tr>\n",
       "      <th>0</th>\n",
       "      <td>SAMEA3558733</td>\n",
       "      <td>4.3.i4.2</td>\n",
       "    </tr>\n",
       "    <tr>\n",
       "      <th>1</th>\n",
       "      <td>SAMN03648641</td>\n",
       "      <td>4.4.1.1</td>\n",
       "    </tr>\n",
       "    <tr>\n",
       "      <th>2</th>\n",
       "      <td>SAMN03647419</td>\n",
       "      <td>3.1.1.i1</td>\n",
       "    </tr>\n",
       "    <tr>\n",
       "      <th>3</th>\n",
       "      <td>SAMEA3671418</td>\n",
       "      <td>4.3.i2</td>\n",
       "    </tr>\n",
       "    <tr>\n",
       "      <th>4</th>\n",
       "      <td>SAMN07659096</td>\n",
       "      <td>1.1.3</td>\n",
       "    </tr>\n",
       "  </tbody>\n",
       "</table>\n",
       "</div>"
      ],
      "text/plain": [
       "     isolate_ID lineage_call\n",
       "0  SAMEA3558733     4.3.i4.2\n",
       "1  SAMN03648641      4.4.1.1\n",
       "2  SAMN03647419     3.1.1.i1\n",
       "3  SAMEA3671418       4.3.i2\n",
       "4  SAMN07659096        1.1.3"
      ]
     },
     "execution_count": 8,
     "metadata": {},
     "output_type": "execute_result"
    }
   ],
   "source": [
    "isolate_annotation_DF.head()"
   ]
  },
  {
   "cell_type": "code",
   "execution_count": 9,
   "metadata": {},
   "outputs": [
    {
     "data": {
      "text/plain": [
       "(31428, 2)"
      ]
     },
     "execution_count": 9,
     "metadata": {},
     "output_type": "execute_result"
    }
   ],
   "source": [
    "np.shape(isolate_annotation_DF)"
   ]
  },
  {
   "cell_type": "markdown",
   "metadata": {},
   "source": [
    "### additional 12 *eis* C-14T mutants with AG MICs"
   ]
  },
  {
   "cell_type": "code",
   "execution_count": 10,
   "metadata": {},
   "outputs": [],
   "source": [
    "#load isolate annotation file (columns of Genotype Matrix)\n",
    "isolate_annotation_DF_extra_strains = pd.read_pickle('/n/data1/hms/dbmi/farhat/Roger/mmpR_BDQ_mutant_project/eis_promoter_mutant_strains_from_Milan/Genotypes/Genotypes_Filtered/genotypes_isolate_annotation.pkl')\n",
    "isolate_annotation_DF_extra_strains = isolate_annotation_DF_extra_strains.loc[:, ['isolate_ID','lineage_call']]\n",
    "isolate_annotation_DF_extra_strains = convert_lineage_calls(isolate_annotation_DF_extra_strains)"
   ]
  },
  {
   "cell_type": "code",
   "execution_count": 11,
   "metadata": {},
   "outputs": [
    {
     "data": {
      "text/html": [
       "<div>\n",
       "<style>\n",
       "    .dataframe thead tr:only-child th {\n",
       "        text-align: right;\n",
       "    }\n",
       "\n",
       "    .dataframe thead th {\n",
       "        text-align: left;\n",
       "    }\n",
       "\n",
       "    .dataframe tbody tr th {\n",
       "        vertical-align: top;\n",
       "    }\n",
       "</style>\n",
       "<table border=\"1\" class=\"dataframe\">\n",
       "  <thead>\n",
       "    <tr style=\"text-align: right;\">\n",
       "      <th></th>\n",
       "      <th>isolate_ID</th>\n",
       "      <th>lineage_call</th>\n",
       "    </tr>\n",
       "  </thead>\n",
       "  <tbody>\n",
       "    <tr>\n",
       "      <th>0</th>\n",
       "      <td>168-19</td>\n",
       "      <td>2.2.1.1.1</td>\n",
       "    </tr>\n",
       "    <tr>\n",
       "      <th>1</th>\n",
       "      <td>622-19</td>\n",
       "      <td>2.2.1.1.1.i3</td>\n",
       "    </tr>\n",
       "    <tr>\n",
       "      <th>2</th>\n",
       "      <td>655-19</td>\n",
       "      <td>4.3.i3.1</td>\n",
       "    </tr>\n",
       "    <tr>\n",
       "      <th>3</th>\n",
       "      <td>IT1070</td>\n",
       "      <td>2.2.1.1.1.i3</td>\n",
       "    </tr>\n",
       "    <tr>\n",
       "      <th>4</th>\n",
       "      <td>IT123</td>\n",
       "      <td>2.2.1.1.1</td>\n",
       "    </tr>\n",
       "  </tbody>\n",
       "</table>\n",
       "</div>"
      ],
      "text/plain": [
       "  isolate_ID  lineage_call\n",
       "0     168-19     2.2.1.1.1\n",
       "1     622-19  2.2.1.1.1.i3\n",
       "2     655-19      4.3.i3.1\n",
       "3     IT1070  2.2.1.1.1.i3\n",
       "4      IT123     2.2.1.1.1"
      ]
     },
     "execution_count": 11,
     "metadata": {},
     "output_type": "execute_result"
    }
   ],
   "source": [
    "isolate_annotation_DF_extra_strains.head()"
   ]
  },
  {
   "cell_type": "code",
   "execution_count": 12,
   "metadata": {},
   "outputs": [
    {
     "data": {
      "text/plain": [
       "(12, 2)"
      ]
     },
     "execution_count": 12,
     "metadata": {},
     "output_type": "execute_result"
    }
   ],
   "source": [
    "np.shape(isolate_annotation_DF_extra_strains)"
   ]
  },
  {
   "cell_type": "code",
   "execution_count": 13,
   "metadata": {},
   "outputs": [],
   "source": [
    "# merge isolate annotation dataframes\n",
    "isolate_annotation_DF = isolate_annotation_DF.append(isolate_annotation_DF_extra_strains)\n",
    "isolate_annotation_DF.reset_index(inplace = True, drop = True)"
   ]
  },
  {
   "cell_type": "code",
   "execution_count": 14,
   "metadata": {},
   "outputs": [
    {
     "data": {
      "text/html": [
       "<div>\n",
       "<style>\n",
       "    .dataframe thead tr:only-child th {\n",
       "        text-align: right;\n",
       "    }\n",
       "\n",
       "    .dataframe thead th {\n",
       "        text-align: left;\n",
       "    }\n",
       "\n",
       "    .dataframe tbody tr th {\n",
       "        vertical-align: top;\n",
       "    }\n",
       "</style>\n",
       "<table border=\"1\" class=\"dataframe\">\n",
       "  <thead>\n",
       "    <tr style=\"text-align: right;\">\n",
       "      <th></th>\n",
       "      <th>isolate_ID</th>\n",
       "      <th>lineage_call</th>\n",
       "    </tr>\n",
       "  </thead>\n",
       "  <tbody>\n",
       "    <tr>\n",
       "      <th>0</th>\n",
       "      <td>SAMEA3558733</td>\n",
       "      <td>4.3.i4.2</td>\n",
       "    </tr>\n",
       "    <tr>\n",
       "      <th>1</th>\n",
       "      <td>SAMN03648641</td>\n",
       "      <td>4.4.1.1</td>\n",
       "    </tr>\n",
       "    <tr>\n",
       "      <th>2</th>\n",
       "      <td>SAMN03647419</td>\n",
       "      <td>3.1.1.i1</td>\n",
       "    </tr>\n",
       "    <tr>\n",
       "      <th>3</th>\n",
       "      <td>SAMEA3671418</td>\n",
       "      <td>4.3.i2</td>\n",
       "    </tr>\n",
       "    <tr>\n",
       "      <th>4</th>\n",
       "      <td>SAMN07659096</td>\n",
       "      <td>1.1.3</td>\n",
       "    </tr>\n",
       "  </tbody>\n",
       "</table>\n",
       "</div>"
      ],
      "text/plain": [
       "     isolate_ID lineage_call\n",
       "0  SAMEA3558733     4.3.i4.2\n",
       "1  SAMN03648641      4.4.1.1\n",
       "2  SAMN03647419     3.1.1.i1\n",
       "3  SAMEA3671418       4.3.i2\n",
       "4  SAMN07659096        1.1.3"
      ]
     },
     "execution_count": 14,
     "metadata": {},
     "output_type": "execute_result"
    }
   ],
   "source": [
    "isolate_annotation_DF.head()"
   ]
  },
  {
   "cell_type": "code",
   "execution_count": 15,
   "metadata": {},
   "outputs": [
    {
     "data": {
      "text/plain": [
       "(31440, 2)"
      ]
     },
     "execution_count": 15,
     "metadata": {},
     "output_type": "execute_result"
    }
   ],
   "source": [
    "np.shape(isolate_annotation_DF)"
   ]
  },
  {
   "cell_type": "markdown",
   "metadata": {},
   "source": [
    "## [2.2] Get phenotypes for Peru clone (sub-lineage = *4.2.1.1.1.1.2* or *4.11*)"
   ]
  },
  {
   "cell_type": "code",
   "execution_count": 19,
   "metadata": {},
   "outputs": [],
   "source": [
    "sub_lineage = '4.11'"
   ]
  },
  {
   "cell_type": "code",
   "execution_count": 20,
   "metadata": {},
   "outputs": [],
   "source": [
    "isolate_annotation_4_11_DF = isolate_annotation_DF[isolate_annotation_DF.lineage_call == sub_lineage]"
   ]
  },
  {
   "cell_type": "code",
   "execution_count": 21,
   "metadata": {},
   "outputs": [
    {
     "data": {
      "text/plain": [
       "(188, 2)"
      ]
     },
     "execution_count": 21,
     "metadata": {},
     "output_type": "execute_result"
    }
   ],
   "source": [
    "np.shape(isolate_annotation_4_11_DF)"
   ]
  },
  {
   "cell_type": "code",
   "execution_count": 22,
   "metadata": {},
   "outputs": [
    {
     "data": {
      "text/html": [
       "<div>\n",
       "<style>\n",
       "    .dataframe thead tr:only-child th {\n",
       "        text-align: right;\n",
       "    }\n",
       "\n",
       "    .dataframe thead th {\n",
       "        text-align: left;\n",
       "    }\n",
       "\n",
       "    .dataframe tbody tr th {\n",
       "        vertical-align: top;\n",
       "    }\n",
       "</style>\n",
       "<table border=\"1\" class=\"dataframe\">\n",
       "  <thead>\n",
       "    <tr style=\"text-align: right;\">\n",
       "      <th></th>\n",
       "      <th>isolate_ID</th>\n",
       "      <th>lineage_call</th>\n",
       "    </tr>\n",
       "  </thead>\n",
       "  <tbody>\n",
       "    <tr>\n",
       "      <th>49</th>\n",
       "      <td>01R0685</td>\n",
       "      <td>4.11</td>\n",
       "    </tr>\n",
       "    <tr>\n",
       "      <th>280</th>\n",
       "      <td>00R1405</td>\n",
       "      <td>4.11</td>\n",
       "    </tr>\n",
       "    <tr>\n",
       "      <th>348</th>\n",
       "      <td>02R1942</td>\n",
       "      <td>4.11</td>\n",
       "    </tr>\n",
       "    <tr>\n",
       "      <th>621</th>\n",
       "      <td>Peru4582</td>\n",
       "      <td>4.11</td>\n",
       "    </tr>\n",
       "    <tr>\n",
       "      <th>770</th>\n",
       "      <td>Peru5115</td>\n",
       "      <td>4.11</td>\n",
       "    </tr>\n",
       "  </tbody>\n",
       "</table>\n",
       "</div>"
      ],
      "text/plain": [
       "    isolate_ID lineage_call\n",
       "49     01R0685         4.11\n",
       "280    00R1405         4.11\n",
       "348    02R1942         4.11\n",
       "621   Peru4582         4.11\n",
       "770   Peru5115         4.11"
      ]
     },
     "execution_count": 22,
     "metadata": {},
     "output_type": "execute_result"
    }
   ],
   "source": [
    "isolate_annotation_4_11_DF.head()"
   ]
  },
  {
   "cell_type": "code",
   "execution_count": 23,
   "metadata": {},
   "outputs": [],
   "source": [
    "#get list of isolate IDs for drug res pheno data\n",
    "isolate_ID_A_list = list(drug_res_pheno_df.run)\n",
    "isolate_ID_B_list = list(drug_res_pheno_df.run_combined)\n",
    "isolate_ID_C_list = list(drug_res_pheno_df.bioproject)\n",
    "isolate_ID_D_list = list(drug_res_pheno_df.biosample)\n",
    "isolate_ID_E_list = list(drug_res_pheno_df.internal)\n",
    "\n",
    "#get set of isolate IDs for isolate group of interest\n",
    "isolates_of_interest = set(isolate_annotation_4_11_DF.isolate_ID)\n",
    "\n",
    "peru_clone_drug_phenos_filter = []\n",
    "isolate_ID_column = []\n",
    "for isolate_ID_A, isolate_ID_B, isolate_ID_C, isolate_ID_D, isolate_ID_E in zip(isolate_ID_A_list,isolate_ID_B_list,isolate_ID_C_list,isolate_ID_D_list,isolate_ID_E_list):\n",
    "    \n",
    "    if (isolate_ID_A in isolates_of_interest):\n",
    "        peru_clone_drug_phenos_filter.append(True)\n",
    "        isolate_ID_column.append(isolate_ID_A)\n",
    "        \n",
    "    elif (isolate_ID_B in isolates_of_interest):\n",
    "        peru_clone_drug_phenos_filter.append(True)\n",
    "        isolate_ID_column.append(isolate_ID_B)\n",
    "        \n",
    "    elif (isolate_ID_C in isolates_of_interest):\n",
    "        peru_clone_drug_phenos_filter.append(True)\n",
    "        isolate_ID_column.append(isolate_ID_C)\n",
    "        \n",
    "    elif (isolate_ID_D in isolates_of_interest):\n",
    "        peru_clone_drug_phenos_filter.append(True)\n",
    "        isolate_ID_column.append(isolate_ID_D)\n",
    "        \n",
    "    elif (isolate_ID_E in isolates_of_interest):\n",
    "        peru_clone_drug_phenos_filter.append(True)\n",
    "        isolate_ID_column.append(isolate_ID_E)\n",
    "        \n",
    "    else:\n",
    "        peru_clone_drug_phenos_filter.append(False)"
   ]
  },
  {
   "cell_type": "code",
   "execution_count": 24,
   "metadata": {},
   "outputs": [
    {
     "name": "stderr",
     "output_type": "stream",
     "text": [
      "/home/rv76/anaconda2/lib/python2.7/site-packages/pandas/core/indexing.py:337: SettingWithCopyWarning: \n",
      "A value is trying to be set on a copy of a slice from a DataFrame.\n",
      "Try using .loc[row_indexer,col_indexer] = value instead\n",
      "\n",
      "See the caveats in the documentation: http://pandas.pydata.org/pandas-docs/stable/indexing.html#indexing-view-versus-copy\n",
      "  self.obj[key] = _infer_fill_value(value)\n",
      "/home/rv76/anaconda2/lib/python2.7/site-packages/pandas/core/indexing.py:517: SettingWithCopyWarning: \n",
      "A value is trying to be set on a copy of a slice from a DataFrame.\n",
      "Try using .loc[row_indexer,col_indexer] = value instead\n",
      "\n",
      "See the caveats in the documentation: http://pandas.pydata.org/pandas-docs/stable/indexing.html#indexing-view-versus-copy\n",
      "  self.obj[item] = s\n"
     ]
    }
   ],
   "source": [
    "drug_res_pheno_peru_clone_df = drug_res_pheno_df[peru_clone_drug_phenos_filter]\n",
    "drug_res_pheno_peru_clone_df.loc[:,'isolate_ID'] = isolate_ID_column"
   ]
  },
  {
   "cell_type": "code",
   "execution_count": 25,
   "metadata": {},
   "outputs": [
    {
     "data": {
      "text/html": [
       "<div>\n",
       "<style>\n",
       "    .dataframe thead tr:only-child th {\n",
       "        text-align: right;\n",
       "    }\n",
       "\n",
       "    .dataframe thead th {\n",
       "        text-align: left;\n",
       "    }\n",
       "\n",
       "    .dataframe tbody tr th {\n",
       "        vertical-align: top;\n",
       "    }\n",
       "</style>\n",
       "<table border=\"1\" class=\"dataframe\">\n",
       "  <thead>\n",
       "    <tr style=\"text-align: right;\">\n",
       "      <th></th>\n",
       "      <th>run</th>\n",
       "      <th>run_combined</th>\n",
       "      <th>bioproject</th>\n",
       "      <th>biosample</th>\n",
       "      <th>internal</th>\n",
       "      <th>amikacin</th>\n",
       "      <th>capreomycin</th>\n",
       "      <th>ciprofloxacin</th>\n",
       "      <th>ethambutol</th>\n",
       "      <th>ethionamide</th>\n",
       "      <th>isoniazid</th>\n",
       "      <th>kanamycin</th>\n",
       "      <th>levofloxacin</th>\n",
       "      <th>moxifloxacin</th>\n",
       "      <th>ofloxacin</th>\n",
       "      <th>para-aminosalicylic_acid</th>\n",
       "      <th>pyrazinamide</th>\n",
       "      <th>rifampicin</th>\n",
       "      <th>streptomycin</th>\n",
       "      <th>isolate_ID</th>\n",
       "    </tr>\n",
       "  </thead>\n",
       "  <tbody>\n",
       "    <tr>\n",
       "      <th>96</th>\n",
       "      <td>internal</td>\n",
       "      <td>Peru2918</td>\n",
       "      <td>internal</td>\n",
       "      <td>Peru2918</td>\n",
       "      <td>Peru2918</td>\n",
       "      <td>S</td>\n",
       "      <td>S</td>\n",
       "      <td>NaN</td>\n",
       "      <td>R</td>\n",
       "      <td>S</td>\n",
       "      <td>R</td>\n",
       "      <td>S</td>\n",
       "      <td>NaN</td>\n",
       "      <td>S</td>\n",
       "      <td>NaN</td>\n",
       "      <td>NaN</td>\n",
       "      <td>S</td>\n",
       "      <td>R</td>\n",
       "      <td>R</td>\n",
       "      <td>Peru2918</td>\n",
       "    </tr>\n",
       "    <tr>\n",
       "      <th>127</th>\n",
       "      <td>internal</td>\n",
       "      <td>Peru2959</td>\n",
       "      <td>internal</td>\n",
       "      <td>Peru2959</td>\n",
       "      <td>Peru2959</td>\n",
       "      <td>S</td>\n",
       "      <td>S</td>\n",
       "      <td>NaN</td>\n",
       "      <td>R</td>\n",
       "      <td>S</td>\n",
       "      <td>R</td>\n",
       "      <td>S</td>\n",
       "      <td>NaN</td>\n",
       "      <td>S</td>\n",
       "      <td>NaN</td>\n",
       "      <td>NaN</td>\n",
       "      <td>R</td>\n",
       "      <td>R</td>\n",
       "      <td>R</td>\n",
       "      <td>Peru2959</td>\n",
       "    </tr>\n",
       "    <tr>\n",
       "      <th>132</th>\n",
       "      <td>internal</td>\n",
       "      <td>Peru2965</td>\n",
       "      <td>internal</td>\n",
       "      <td>Peru2965</td>\n",
       "      <td>Peru2965</td>\n",
       "      <td>S</td>\n",
       "      <td>S</td>\n",
       "      <td>NaN</td>\n",
       "      <td>R</td>\n",
       "      <td>S</td>\n",
       "      <td>R</td>\n",
       "      <td>S</td>\n",
       "      <td>NaN</td>\n",
       "      <td>S</td>\n",
       "      <td>NaN</td>\n",
       "      <td>NaN</td>\n",
       "      <td>R</td>\n",
       "      <td>R</td>\n",
       "      <td>S</td>\n",
       "      <td>Peru2965</td>\n",
       "    </tr>\n",
       "    <tr>\n",
       "      <th>152</th>\n",
       "      <td>internal</td>\n",
       "      <td>Peru3006</td>\n",
       "      <td>internal</td>\n",
       "      <td>Peru3006</td>\n",
       "      <td>Peru3006</td>\n",
       "      <td>S</td>\n",
       "      <td>S</td>\n",
       "      <td>NaN</td>\n",
       "      <td>R</td>\n",
       "      <td>S</td>\n",
       "      <td>R</td>\n",
       "      <td>S</td>\n",
       "      <td>NaN</td>\n",
       "      <td>S</td>\n",
       "      <td>NaN</td>\n",
       "      <td>NaN</td>\n",
       "      <td>R</td>\n",
       "      <td>R</td>\n",
       "      <td>S</td>\n",
       "      <td>Peru3006</td>\n",
       "    </tr>\n",
       "    <tr>\n",
       "      <th>173</th>\n",
       "      <td>internal</td>\n",
       "      <td>Peru3031</td>\n",
       "      <td>internal</td>\n",
       "      <td>Peru3031</td>\n",
       "      <td>Peru3031</td>\n",
       "      <td>S</td>\n",
       "      <td>S</td>\n",
       "      <td>NaN</td>\n",
       "      <td>R</td>\n",
       "      <td>S</td>\n",
       "      <td>R</td>\n",
       "      <td>S</td>\n",
       "      <td>NaN</td>\n",
       "      <td>S</td>\n",
       "      <td>NaN</td>\n",
       "      <td>NaN</td>\n",
       "      <td>R</td>\n",
       "      <td>R</td>\n",
       "      <td>R</td>\n",
       "      <td>Peru3031</td>\n",
       "    </tr>\n",
       "  </tbody>\n",
       "</table>\n",
       "</div>"
      ],
      "text/plain": [
       "          run run_combined bioproject biosample  internal amikacin  \\\n",
       "96   internal     Peru2918   internal  Peru2918  Peru2918        S   \n",
       "127  internal     Peru2959   internal  Peru2959  Peru2959        S   \n",
       "132  internal     Peru2965   internal  Peru2965  Peru2965        S   \n",
       "152  internal     Peru3006   internal  Peru3006  Peru3006        S   \n",
       "173  internal     Peru3031   internal  Peru3031  Peru3031        S   \n",
       "\n",
       "    capreomycin ciprofloxacin ethambutol ethionamide isoniazid kanamycin  \\\n",
       "96            S           NaN          R           S         R         S   \n",
       "127           S           NaN          R           S         R         S   \n",
       "132           S           NaN          R           S         R         S   \n",
       "152           S           NaN          R           S         R         S   \n",
       "173           S           NaN          R           S         R         S   \n",
       "\n",
       "    levofloxacin moxifloxacin ofloxacin para-aminosalicylic_acid pyrazinamide  \\\n",
       "96           NaN            S       NaN                      NaN            S   \n",
       "127          NaN            S       NaN                      NaN            R   \n",
       "132          NaN            S       NaN                      NaN            R   \n",
       "152          NaN            S       NaN                      NaN            R   \n",
       "173          NaN            S       NaN                      NaN            R   \n",
       "\n",
       "    rifampicin streptomycin isolate_ID  \n",
       "96           R            R   Peru2918  \n",
       "127          R            R   Peru2959  \n",
       "132          R            S   Peru2965  \n",
       "152          R            S   Peru3006  \n",
       "173          R            R   Peru3031  "
      ]
     },
     "execution_count": 25,
     "metadata": {},
     "output_type": "execute_result"
    }
   ],
   "source": [
    "drug_res_pheno_peru_clone_df.head()"
   ]
  },
  {
   "cell_type": "code",
   "execution_count": 26,
   "metadata": {},
   "outputs": [
    {
     "data": {
      "text/plain": [
       "(103, 20)"
      ]
     },
     "execution_count": 26,
     "metadata": {},
     "output_type": "execute_result"
    }
   ],
   "source": [
    "np.shape(drug_res_pheno_peru_clone_df)"
   ]
  },
  {
   "cell_type": "markdown",
   "metadata": {},
   "source": [
    "#### Create a column to indicate isolates that had both the *mmpR* insertion **and** the *mmpL5* deletion (n=82)"
   ]
  },
  {
   "cell_type": "code",
   "execution_count": 27,
   "metadata": {},
   "outputs": [],
   "source": [
    "mmpR_mmpL5_double_mutant_list = ['SAMEA5569929', 'SAMEA3402909', 'SAMEA5569553', 'Peru2918', 'Peru4515', 'SAMEA3392629', 'SAMEA5569985', 'SAMEA5569889', 'Peru4671', 'Peru4670', '01R1305', 'Peru2959', '02R0099', 'Peru4683', 'Peru4652', 'Peru4722', 'Peru4961', 'Peru4900', 'SAMEA1101329', 'Peru3418', 'SAMEA3414462', 'Peru2965', 'Peru3056', 'SAMEA2682981', 'Peru5003', '00R1547', 'SAMEA5570040', '02R0417', 'SAMEA5569638', '02R0948', 'Peru3376', 'Peru4521', 'Peru5012', '99R893', 'SAMEA5569636', 'SAMEA2683080', 'SAMEA3558289', 'Peru4988', 'SAMEA3401008', 'Peru4668', 'SAMEA2682695', 'Peru4685', 'SAMEA5569938', '01R0272', '1791', 'Peru4565', 'Peru5036', 'Peru4577', 'Peru4932', 'Peru4646', 'Peru4647', 'Peru4936', 'Peru4937', '02R1942', 'Peru3367', 'Peru4582', 'SAMEA5569790', 'Peru4549', 'Peru4057', 'SAMEA3558270', 'SAMEA2683134', '01R0451', 'SAMEA2682679', 'Peru4492', 'Peru3407', 'Peru5076', 'SAMN02414923', 'SAMEA5569666', 'Peru3342', 'Peru3389', 'Peru3408', 'Peru5445', 'Peru3405', 'Peru5115', 'Peru5114', 'Peru4707', 'SAMEA5569914', 'SAMEA5569642', 'SAMEA5570058', 'Peru3031', 'SAMEA3558288', 'Peru4919']"
   ]
  },
  {
   "cell_type": "code",
   "execution_count": 31,
   "metadata": {},
   "outputs": [],
   "source": [
    "mmpR_mmpL5_double_mutant_set = set(mmpR_mmpL5_double_mutant_list)"
   ]
  },
  {
   "cell_type": "code",
   "execution_count": 51,
   "metadata": {
    "scrolled": true
   },
   "outputs": [
    {
     "data": {
      "text/plain": [
       "False"
      ]
     },
     "execution_count": 51,
     "metadata": {},
     "output_type": "execute_result"
    }
   ],
   "source": [
    "'IDR1600042261' in mmpR_mmpL5_double_mutant_set"
   ]
  },
  {
   "cell_type": "code",
   "execution_count": 161,
   "metadata": {},
   "outputs": [],
   "source": [
    "mmpR_mmpL5_double_mutant_bool = []\n",
    "\n",
    "for isolate_ID in drug_res_pheno_peru_clone_df.isolate_ID:\n",
    "    \n",
    "    if isolate_ID in mmpR_mmpL5_double_mutant_list:\n",
    "        mmpR_mmpL5_double_mutant_bool.append('yes')\n",
    "        \n",
    "    else:\n",
    "        mmpR_mmpL5_double_mutant_bool.append('no')\n",
    "        \n",
    "drug_res_pheno_peru_clone_df.loc[:,'mmpR_ins & mmpL5_del'] = mmpR_mmpL5_double_mutant_bool"
   ]
  },
  {
   "cell_type": "code",
   "execution_count": 162,
   "metadata": {},
   "outputs": [
    {
     "name": "stderr",
     "output_type": "stream",
     "text": [
      "/home/rv76/anaconda2/lib/python2.7/site-packages/ipykernel_launcher.py:1: SettingWithCopyWarning: \n",
      "A value is trying to be set on a copy of a slice from a DataFrame\n",
      "\n",
      "See the caveats in the documentation: http://pandas.pydata.org/pandas-docs/stable/indexing.html#indexing-view-versus-copy\n",
      "  \"\"\"Entry point for launching an IPython kernel.\n"
     ]
    }
   ],
   "source": [
    "drug_res_pheno_peru_clone_df.sort_values(by='mmpR_ins & mmpL5_del', ascending = False, inplace = True)"
   ]
  },
  {
   "cell_type": "markdown",
   "metadata": {},
   "source": [
    "Drop unnecessary oclumns"
   ]
  },
  {
   "cell_type": "code",
   "execution_count": 165,
   "metadata": {},
   "outputs": [],
   "source": [
    "drug_res_pheno_peru_clone_df.drop(axis=1, labels=['run','run_combined','bioproject','biosample','internal'],inplace=True)\n",
    "drug_res_pheno_peru_clone_df.set_index('isolate_ID',inplace=True)"
   ]
  },
  {
   "cell_type": "code",
   "execution_count": 166,
   "metadata": {},
   "outputs": [
    {
     "data": {
      "text/html": [
       "<div>\n",
       "<style>\n",
       "    .dataframe thead tr:only-child th {\n",
       "        text-align: right;\n",
       "    }\n",
       "\n",
       "    .dataframe thead th {\n",
       "        text-align: left;\n",
       "    }\n",
       "\n",
       "    .dataframe tbody tr th {\n",
       "        vertical-align: top;\n",
       "    }\n",
       "</style>\n",
       "<table border=\"1\" class=\"dataframe\">\n",
       "  <thead>\n",
       "    <tr style=\"text-align: right;\">\n",
       "      <th></th>\n",
       "      <th>amikacin</th>\n",
       "      <th>capreomycin</th>\n",
       "      <th>ciprofloxacin</th>\n",
       "      <th>ethambutol</th>\n",
       "      <th>ethionamide</th>\n",
       "      <th>isoniazid</th>\n",
       "      <th>kanamycin</th>\n",
       "      <th>levofloxacin</th>\n",
       "      <th>moxifloxacin</th>\n",
       "      <th>ofloxacin</th>\n",
       "      <th>para-aminosalicylic_acid</th>\n",
       "      <th>pyrazinamide</th>\n",
       "      <th>rifampicin</th>\n",
       "      <th>streptomycin</th>\n",
       "      <th>mmpR_ins &amp; mmpL5_del</th>\n",
       "    </tr>\n",
       "    <tr>\n",
       "      <th>isolate_ID</th>\n",
       "      <th></th>\n",
       "      <th></th>\n",
       "      <th></th>\n",
       "      <th></th>\n",
       "      <th></th>\n",
       "      <th></th>\n",
       "      <th></th>\n",
       "      <th></th>\n",
       "      <th></th>\n",
       "      <th></th>\n",
       "      <th></th>\n",
       "      <th></th>\n",
       "      <th></th>\n",
       "      <th></th>\n",
       "      <th></th>\n",
       "    </tr>\n",
       "  </thead>\n",
       "  <tbody>\n",
       "    <tr>\n",
       "      <th>Peru2918</th>\n",
       "      <td>S</td>\n",
       "      <td>S</td>\n",
       "      <td>NaN</td>\n",
       "      <td>R</td>\n",
       "      <td>S</td>\n",
       "      <td>R</td>\n",
       "      <td>S</td>\n",
       "      <td>NaN</td>\n",
       "      <td>S</td>\n",
       "      <td>NaN</td>\n",
       "      <td>NaN</td>\n",
       "      <td>S</td>\n",
       "      <td>R</td>\n",
       "      <td>R</td>\n",
       "      <td>yes</td>\n",
       "    </tr>\n",
       "    <tr>\n",
       "      <th>Peru4685</th>\n",
       "      <td>R</td>\n",
       "      <td>R</td>\n",
       "      <td>NaN</td>\n",
       "      <td>S</td>\n",
       "      <td>S</td>\n",
       "      <td>R</td>\n",
       "      <td>R</td>\n",
       "      <td>NaN</td>\n",
       "      <td>S</td>\n",
       "      <td>S</td>\n",
       "      <td>S</td>\n",
       "      <td>R</td>\n",
       "      <td>R</td>\n",
       "      <td>S</td>\n",
       "      <td>yes</td>\n",
       "    </tr>\n",
       "    <tr>\n",
       "      <th>SAMEA1101329</th>\n",
       "      <td>NaN</td>\n",
       "      <td>NaN</td>\n",
       "      <td>NaN</td>\n",
       "      <td>NaN</td>\n",
       "      <td>NaN</td>\n",
       "      <td>R</td>\n",
       "      <td>NaN</td>\n",
       "      <td>NaN</td>\n",
       "      <td>NaN</td>\n",
       "      <td>NaN</td>\n",
       "      <td>NaN</td>\n",
       "      <td>NaN</td>\n",
       "      <td>R</td>\n",
       "      <td>NaN</td>\n",
       "      <td>yes</td>\n",
       "    </tr>\n",
       "    <tr>\n",
       "      <th>Peru5445</th>\n",
       "      <td>R</td>\n",
       "      <td>R</td>\n",
       "      <td>NaN</td>\n",
       "      <td>R</td>\n",
       "      <td>R</td>\n",
       "      <td>R</td>\n",
       "      <td>R</td>\n",
       "      <td>NaN</td>\n",
       "      <td>R</td>\n",
       "      <td>NaN</td>\n",
       "      <td>NaN</td>\n",
       "      <td>R</td>\n",
       "      <td>R</td>\n",
       "      <td>R</td>\n",
       "      <td>yes</td>\n",
       "    </tr>\n",
       "    <tr>\n",
       "      <th>Peru4549</th>\n",
       "      <td>S</td>\n",
       "      <td>S</td>\n",
       "      <td>NaN</td>\n",
       "      <td>R</td>\n",
       "      <td>S</td>\n",
       "      <td>R</td>\n",
       "      <td>S</td>\n",
       "      <td>NaN</td>\n",
       "      <td>S</td>\n",
       "      <td>NaN</td>\n",
       "      <td>NaN</td>\n",
       "      <td>S</td>\n",
       "      <td>R</td>\n",
       "      <td>R</td>\n",
       "      <td>yes</td>\n",
       "    </tr>\n",
       "  </tbody>\n",
       "</table>\n",
       "</div>"
      ],
      "text/plain": [
       "             amikacin capreomycin ciprofloxacin ethambutol ethionamide  \\\n",
       "isolate_ID                                                               \n",
       "Peru2918            S           S           NaN          R           S   \n",
       "Peru4685            R           R           NaN          S           S   \n",
       "SAMEA1101329      NaN         NaN           NaN        NaN         NaN   \n",
       "Peru5445            R           R           NaN          R           R   \n",
       "Peru4549            S           S           NaN          R           S   \n",
       "\n",
       "             isoniazid kanamycin levofloxacin moxifloxacin ofloxacin  \\\n",
       "isolate_ID                                                             \n",
       "Peru2918             R         S          NaN            S       NaN   \n",
       "Peru4685             R         R          NaN            S         S   \n",
       "SAMEA1101329         R       NaN          NaN          NaN       NaN   \n",
       "Peru5445             R         R          NaN            R       NaN   \n",
       "Peru4549             R         S          NaN            S       NaN   \n",
       "\n",
       "             para-aminosalicylic_acid pyrazinamide rifampicin streptomycin  \\\n",
       "isolate_ID                                                                   \n",
       "Peru2918                          NaN            S          R            R   \n",
       "Peru4685                            S            R          R            S   \n",
       "SAMEA1101329                      NaN          NaN          R          NaN   \n",
       "Peru5445                          NaN            R          R            R   \n",
       "Peru4549                          NaN            S          R            R   \n",
       "\n",
       "             mmpR_ins & mmpL5_del  \n",
       "isolate_ID                         \n",
       "Peru2918                      yes  \n",
       "Peru4685                      yes  \n",
       "SAMEA1101329                  yes  \n",
       "Peru5445                      yes  \n",
       "Peru4549                      yes  "
      ]
     },
     "execution_count": 166,
     "metadata": {},
     "output_type": "execute_result"
    }
   ],
   "source": [
    "drug_res_pheno_peru_clone_df.head()"
   ]
  },
  {
   "cell_type": "markdown",
   "metadata": {},
   "source": [
    "50/82 *mmpR* insertion **and** the *mmpL5* deletion isolates had drug resistance phenotypes"
   ]
  },
  {
   "cell_type": "code",
   "execution_count": 167,
   "metadata": {},
   "outputs": [
    {
     "data": {
      "text/plain": [
       "50"
      ]
     },
     "execution_count": 167,
     "metadata": {},
     "output_type": "execute_result"
    }
   ],
   "source": [
    "sum(drug_res_pheno_peru_clone_df.loc[:,'mmpR_ins & mmpL5_del'] == 'yes')"
   ]
  },
  {
   "cell_type": "markdown",
   "metadata": {},
   "source": [
    "53/(188-82) = 53/106 other isolates had drug resistance phenotypes"
   ]
  },
  {
   "cell_type": "code",
   "execution_count": 168,
   "metadata": {},
   "outputs": [
    {
     "data": {
      "text/plain": [
       "53"
      ]
     },
     "execution_count": 168,
     "metadata": {},
     "output_type": "execute_result"
    }
   ],
   "source": [
    "sum(drug_res_pheno_peru_clone_df.loc[:,'mmpR_ins & mmpL5_del'] == 'no')"
   ]
  },
  {
   "cell_type": "markdown",
   "metadata": {},
   "source": [
    "#### Save DataFrame as excel file"
   ]
  },
  {
   "cell_type": "code",
   "execution_count": 169,
   "metadata": {},
   "outputs": [],
   "source": [
    "drug_res_pheno_peru_clone_df.to_excel('/n/data1/hms/dbmi/farhat/Roger/mmpR_BDQ_mutant_project/CSV files/MIC data/peru_clone_sublineage_4_11_drug_phenotypes.xlsx')"
   ]
  },
  {
   "cell_type": "markdown",
   "metadata": {},
   "source": [
    "Get list of isolates that are part of the **Peru clone** / sub-lineage **4.11** but don't have binary drug resistance phenotypes"
   ]
  },
  {
   "cell_type": "code",
   "execution_count": 179,
   "metadata": {},
   "outputs": [],
   "source": [
    "peru_clone_isolates_no_pheno_data = list(set(isolate_annotation_4_11_DF.isolate_ID) - set(drug_res_pheno_peru_clone_df.index))"
   ]
  },
  {
   "cell_type": "code",
   "execution_count": 180,
   "metadata": {},
   "outputs": [
    {
     "data": {
      "text/plain": [
       "85"
      ]
     },
     "execution_count": 180,
     "metadata": {},
     "output_type": "execute_result"
    }
   ],
   "source": [
    "len(peru_clone_isolates_no_pheno_data)"
   ]
  },
  {
   "cell_type": "code",
   "execution_count": 183,
   "metadata": {},
   "outputs": [
    {
     "data": {
      "text/plain": [
       "['SAMEA5569929',\n",
       " 'SAMEA2682683',\n",
       " 'SAMEA5569553',\n",
       " 'SAMEA2682821',\n",
       " 'SAMEA3558288']"
      ]
     },
     "execution_count": 183,
     "metadata": {},
     "output_type": "execute_result"
    }
   ],
   "source": [
    "peru_clone_isolates_no_pheno_data[0:5]"
   ]
  },
  {
   "cell_type": "code",
   "execution_count": 184,
   "metadata": {},
   "outputs": [],
   "source": [
    "outfile = open(\"/n/data1/hms/dbmi/farhat/Roger/mmpR_BDQ_mutant_project/CSV files/MIC data/peru_clone_sublineage_4_11_no_drug_phenotypes.txt\", \"w\")\n",
    "print >> outfile, \"\\n\".join(peru_clone_isolates_no_pheno_data)\n",
    "outfile.close()"
   ]
  },
  {
   "cell_type": "markdown",
   "metadata": {},
   "source": [
    "### [2.2.1] Run Fisher's exact test association of MDR between isolates that (A) had *mmpR* insertion **and** the *mmpL5* deletion and (B) other isolates "
   ]
  },
  {
   "cell_type": "code",
   "execution_count": 3,
   "metadata": {},
   "outputs": [],
   "source": [
    "import scipy.stats as stats"
   ]
  },
  {
   "cell_type": "markdown",
   "metadata": {},
   "source": [
    "- Of the 188 isolates that comprise the \"Peru clone\" or sub-lineage 4.11, we have binary drug resistance INH/RIF phenotypes for 122/188 isolates and of these 86/122 are MDR.\n",
    "\n",
    "- Of the 82/188 isolates that have the mmpR frameshift insertion and mmpL5 frameshift deletion, we have binary drug resistance phenotypes for 59/82 isolates and of these 53/59 are MDR.\n",
    "\n",
    "- Of the (188-82)/188 = 106/188 other isolates, we have binary drug resistance phenotypes for 63/106 isolates and of these 33/63 are MDR.\n",
    "\n",
    "|           -          | MDR | not MDR |\n",
    "|:--------------------:|:---:|:-------:|\n",
    "| mmpR ins & mmpL5 del | 53  | 6       |\n",
    "| other                | 33  | 30      |"
   ]
  },
  {
   "cell_type": "code",
   "execution_count": 4,
   "metadata": {},
   "outputs": [],
   "source": [
    "oddsratio, pvalue = stats.fisher_exact([[53, 6], [33, 30]])"
   ]
  },
  {
   "cell_type": "code",
   "execution_count": 5,
   "metadata": {},
   "outputs": [
    {
     "data": {
      "text/plain": [
       "8.030303030303031"
      ]
     },
     "execution_count": 5,
     "metadata": {},
     "output_type": "execute_result"
    }
   ],
   "source": [
    "oddsratio"
   ]
  },
  {
   "cell_type": "code",
   "execution_count": 6,
   "metadata": {},
   "outputs": [
    {
     "data": {
      "text/plain": [
       "7.389745406209789e-06"
      ]
     },
     "execution_count": 6,
     "metadata": {},
     "output_type": "execute_result"
    }
   ],
   "source": [
    "pvalue"
   ]
  },
  {
   "cell_type": "markdown",
   "metadata": {},
   "source": [
    "## [2.3] Get phenotypes for *eis* promoter / *eis* double mutants"
   ]
  },
  {
   "cell_type": "code",
   "execution_count": 16,
   "metadata": {},
   "outputs": [],
   "source": [
    "eis_double_mutant_list = ['SAMEA1016073','SAMN08376196','SAMEA1403685','SAMEA1403638','SAMN06210015','SAMN02419535','SAMN02419543','SAMN07236283','SAMN02584676','SAMN02419586','Peru2946','SAMN02419559','SAMN02584612','SAMN08709032','SAMN04633319','Peru3354','SAMN07956543']"
   ]
  },
  {
   "cell_type": "code",
   "execution_count": 17,
   "metadata": {},
   "outputs": [],
   "source": [
    "isolate_annotation_eis_double_mut_DF = isolate_annotation_DF[[(isolate_id in eis_double_mutant_list) for isolate_id in isolate_annotation_DF.isolate_ID]]\n",
    "isolate_annotation_eis_double_mut_DF.reset_index(drop=True,inplace=True)"
   ]
  },
  {
   "cell_type": "code",
   "execution_count": 18,
   "metadata": {},
   "outputs": [
    {
     "data": {
      "text/html": [
       "<div>\n",
       "<style>\n",
       "    .dataframe thead tr:only-child th {\n",
       "        text-align: right;\n",
       "    }\n",
       "\n",
       "    .dataframe thead th {\n",
       "        text-align: left;\n",
       "    }\n",
       "\n",
       "    .dataframe tbody tr th {\n",
       "        vertical-align: top;\n",
       "    }\n",
       "</style>\n",
       "<table border=\"1\" class=\"dataframe\">\n",
       "  <thead>\n",
       "    <tr style=\"text-align: right;\">\n",
       "      <th></th>\n",
       "      <th>isolate_ID</th>\n",
       "      <th>lineage_call</th>\n",
       "    </tr>\n",
       "  </thead>\n",
       "  <tbody>\n",
       "    <tr>\n",
       "      <th>0</th>\n",
       "      <td>SAMEA1016073</td>\n",
       "      <td>2.2.1.1.1.i3</td>\n",
       "    </tr>\n",
       "    <tr>\n",
       "      <th>1</th>\n",
       "      <td>SAMN08376196</td>\n",
       "      <td>2.2.1.1.1</td>\n",
       "    </tr>\n",
       "    <tr>\n",
       "      <th>2</th>\n",
       "      <td>SAMEA1403685</td>\n",
       "      <td>2.2.1.1.1.i3</td>\n",
       "    </tr>\n",
       "    <tr>\n",
       "      <th>3</th>\n",
       "      <td>SAMEA1403638</td>\n",
       "      <td>2.2.1.1.1.i3</td>\n",
       "    </tr>\n",
       "    <tr>\n",
       "      <th>4</th>\n",
       "      <td>SAMN06210015</td>\n",
       "      <td>2.2.1.1.1</td>\n",
       "    </tr>\n",
       "    <tr>\n",
       "      <th>5</th>\n",
       "      <td>SAMN02419535</td>\n",
       "      <td>2.2.1.1.1.i3</td>\n",
       "    </tr>\n",
       "    <tr>\n",
       "      <th>6</th>\n",
       "      <td>SAMN02419543</td>\n",
       "      <td>2.2.1.1.1.i3</td>\n",
       "    </tr>\n",
       "    <tr>\n",
       "      <th>7</th>\n",
       "      <td>SAMN07236283</td>\n",
       "      <td>1.1.1.1</td>\n",
       "    </tr>\n",
       "    <tr>\n",
       "      <th>8</th>\n",
       "      <td>SAMN02584676</td>\n",
       "      <td>2.2.1.1.1.i3</td>\n",
       "    </tr>\n",
       "    <tr>\n",
       "      <th>9</th>\n",
       "      <td>SAMN02419586</td>\n",
       "      <td>2.2.1.1.1.i3</td>\n",
       "    </tr>\n",
       "    <tr>\n",
       "      <th>10</th>\n",
       "      <td>Peru2946</td>\n",
       "      <td>4.1.i1.1.1.1</td>\n",
       "    </tr>\n",
       "    <tr>\n",
       "      <th>11</th>\n",
       "      <td>SAMN02419559</td>\n",
       "      <td>2.2.1.1.1.i3</td>\n",
       "    </tr>\n",
       "    <tr>\n",
       "      <th>12</th>\n",
       "      <td>SAMN02584612</td>\n",
       "      <td>2.2.1.1.1</td>\n",
       "    </tr>\n",
       "    <tr>\n",
       "      <th>13</th>\n",
       "      <td>SAMN08709032</td>\n",
       "      <td>2.2.1.1.1</td>\n",
       "    </tr>\n",
       "    <tr>\n",
       "      <th>14</th>\n",
       "      <td>SAMN04633319</td>\n",
       "      <td>2.2.1.1.1.i3</td>\n",
       "    </tr>\n",
       "    <tr>\n",
       "      <th>15</th>\n",
       "      <td>Peru3354</td>\n",
       "      <td>4.1.i1.1.1.1</td>\n",
       "    </tr>\n",
       "    <tr>\n",
       "      <th>16</th>\n",
       "      <td>SAMN07956543</td>\n",
       "      <td>2.2.1.1.1.i3</td>\n",
       "    </tr>\n",
       "  </tbody>\n",
       "</table>\n",
       "</div>"
      ],
      "text/plain": [
       "      isolate_ID  lineage_call\n",
       "0   SAMEA1016073  2.2.1.1.1.i3\n",
       "1   SAMN08376196     2.2.1.1.1\n",
       "2   SAMEA1403685  2.2.1.1.1.i3\n",
       "3   SAMEA1403638  2.2.1.1.1.i3\n",
       "4   SAMN06210015     2.2.1.1.1\n",
       "5   SAMN02419535  2.2.1.1.1.i3\n",
       "6   SAMN02419543  2.2.1.1.1.i3\n",
       "7   SAMN07236283       1.1.1.1\n",
       "8   SAMN02584676  2.2.1.1.1.i3\n",
       "9   SAMN02419586  2.2.1.1.1.i3\n",
       "10      Peru2946  4.1.i1.1.1.1\n",
       "11  SAMN02419559  2.2.1.1.1.i3\n",
       "12  SAMN02584612     2.2.1.1.1\n",
       "13  SAMN08709032     2.2.1.1.1\n",
       "14  SAMN04633319  2.2.1.1.1.i3\n",
       "15      Peru3354  4.1.i1.1.1.1\n",
       "16  SAMN07956543  2.2.1.1.1.i3"
      ]
     },
     "execution_count": 18,
     "metadata": {},
     "output_type": "execute_result"
    }
   ],
   "source": [
    "isolate_annotation_eis_double_mut_DF"
   ]
  },
  {
   "cell_type": "code",
   "execution_count": 19,
   "metadata": {},
   "outputs": [],
   "source": [
    "#get list of isolate IDs for drug res pheno data\n",
    "isolate_ID_A_list = list(drug_res_pheno_df.run)\n",
    "isolate_ID_B_list = list(drug_res_pheno_df.run_combined)\n",
    "isolate_ID_C_list = list(drug_res_pheno_df.bioproject)\n",
    "isolate_ID_D_list = list(drug_res_pheno_df.biosample)\n",
    "isolate_ID_E_list = list(drug_res_pheno_df.internal)\n",
    "\n",
    "#get set of isolate IDs for isolate group of interest\n",
    "isolates_of_interest = set(isolate_annotation_eis_double_mut_DF.isolate_ID)\n",
    "\n",
    "eis_double_mutant_drug_phenos_filter = []\n",
    "isolate_ID_column = []\n",
    "for isolate_ID_A, isolate_ID_B, isolate_ID_C, isolate_ID_D, isolate_ID_E in zip(isolate_ID_A_list,isolate_ID_B_list,isolate_ID_C_list,isolate_ID_D_list,isolate_ID_E_list):\n",
    "    \n",
    "    if (isolate_ID_A in isolates_of_interest):\n",
    "        eis_double_mutant_drug_phenos_filter.append(True)\n",
    "        isolate_ID_column.append(isolate_ID_A)\n",
    "        \n",
    "    elif (isolate_ID_B in isolates_of_interest):\n",
    "        eis_double_mutant_drug_phenos_filter.append(True)\n",
    "        isolate_ID_column.append(isolate_ID_B)\n",
    "        \n",
    "    elif (isolate_ID_C in isolates_of_interest):\n",
    "        eis_double_mutant_drug_phenos_filter.append(True)\n",
    "        isolate_ID_column.append(isolate_ID_C)\n",
    "        \n",
    "    elif (isolate_ID_D in isolates_of_interest):\n",
    "        eis_double_mutant_drug_phenos_filter.append(True)\n",
    "        isolate_ID_column.append(isolate_ID_D)\n",
    "        \n",
    "    elif (isolate_ID_E in isolates_of_interest):\n",
    "        eis_double_mutant_drug_phenos_filter.append(True)\n",
    "        isolate_ID_column.append(isolate_ID_E)\n",
    "        \n",
    "    else:\n",
    "        eis_double_mutant_drug_phenos_filter.append(False)"
   ]
  },
  {
   "cell_type": "code",
   "execution_count": 20,
   "metadata": {},
   "outputs": [
    {
     "name": "stderr",
     "output_type": "stream",
     "text": [
      "/home/rv76/anaconda2/lib/python2.7/site-packages/pandas/core/indexing.py:337: SettingWithCopyWarning: \n",
      "A value is trying to be set on a copy of a slice from a DataFrame.\n",
      "Try using .loc[row_indexer,col_indexer] = value instead\n",
      "\n",
      "See the caveats in the documentation: http://pandas.pydata.org/pandas-docs/stable/indexing.html#indexing-view-versus-copy\n",
      "  self.obj[key] = _infer_fill_value(value)\n",
      "/home/rv76/anaconda2/lib/python2.7/site-packages/pandas/core/indexing.py:517: SettingWithCopyWarning: \n",
      "A value is trying to be set on a copy of a slice from a DataFrame.\n",
      "Try using .loc[row_indexer,col_indexer] = value instead\n",
      "\n",
      "See the caveats in the documentation: http://pandas.pydata.org/pandas-docs/stable/indexing.html#indexing-view-versus-copy\n",
      "  self.obj[item] = s\n"
     ]
    }
   ],
   "source": [
    "drug_res_pheno_eis_double_mutant_df = drug_res_pheno_df[eis_double_mutant_drug_phenos_filter]\n",
    "drug_res_pheno_eis_double_mutant_df.loc[:,'isolate_ID'] = isolate_ID_column"
   ]
  },
  {
   "cell_type": "code",
   "execution_count": 21,
   "metadata": {},
   "outputs": [
    {
     "data": {
      "text/html": [
       "<div>\n",
       "<style>\n",
       "    .dataframe thead tr:only-child th {\n",
       "        text-align: right;\n",
       "    }\n",
       "\n",
       "    .dataframe thead th {\n",
       "        text-align: left;\n",
       "    }\n",
       "\n",
       "    .dataframe tbody tr th {\n",
       "        vertical-align: top;\n",
       "    }\n",
       "</style>\n",
       "<table border=\"1\" class=\"dataframe\">\n",
       "  <thead>\n",
       "    <tr style=\"text-align: right;\">\n",
       "      <th></th>\n",
       "      <th>run</th>\n",
       "      <th>run_combined</th>\n",
       "      <th>bioproject</th>\n",
       "      <th>biosample</th>\n",
       "      <th>internal</th>\n",
       "      <th>amikacin</th>\n",
       "      <th>capreomycin</th>\n",
       "      <th>ciprofloxacin</th>\n",
       "      <th>ethambutol</th>\n",
       "      <th>ethionamide</th>\n",
       "      <th>isoniazid</th>\n",
       "      <th>kanamycin</th>\n",
       "      <th>levofloxacin</th>\n",
       "      <th>moxifloxacin</th>\n",
       "      <th>ofloxacin</th>\n",
       "      <th>para-aminosalicylic_acid</th>\n",
       "      <th>pyrazinamide</th>\n",
       "      <th>rifampicin</th>\n",
       "      <th>streptomycin</th>\n",
       "      <th>isolate_ID</th>\n",
       "    </tr>\n",
       "  </thead>\n",
       "  <tbody>\n",
       "    <tr>\n",
       "      <th>116</th>\n",
       "      <td>internal</td>\n",
       "      <td>Peru2946</td>\n",
       "      <td>internal</td>\n",
       "      <td>Peru2946</td>\n",
       "      <td>Peru2946</td>\n",
       "      <td>S</td>\n",
       "      <td>S</td>\n",
       "      <td>NaN</td>\n",
       "      <td>R</td>\n",
       "      <td>R</td>\n",
       "      <td>R</td>\n",
       "      <td>S</td>\n",
       "      <td>NaN</td>\n",
       "      <td>R</td>\n",
       "      <td>NaN</td>\n",
       "      <td>NaN</td>\n",
       "      <td>R</td>\n",
       "      <td>R</td>\n",
       "      <td>R</td>\n",
       "      <td>Peru2946</td>\n",
       "    </tr>\n",
       "    <tr>\n",
       "      <th>295</th>\n",
       "      <td>internal</td>\n",
       "      <td>Peru3354</td>\n",
       "      <td>internal</td>\n",
       "      <td>Peru3354</td>\n",
       "      <td>Peru3354</td>\n",
       "      <td>S</td>\n",
       "      <td>S</td>\n",
       "      <td>NaN</td>\n",
       "      <td>R</td>\n",
       "      <td>S</td>\n",
       "      <td>R</td>\n",
       "      <td>S</td>\n",
       "      <td>NaN</td>\n",
       "      <td>R</td>\n",
       "      <td>NaN</td>\n",
       "      <td>NaN</td>\n",
       "      <td>R</td>\n",
       "      <td>R</td>\n",
       "      <td>R</td>\n",
       "      <td>Peru3354</td>\n",
       "    </tr>\n",
       "    <tr>\n",
       "      <th>5408</th>\n",
       "      <td>ERR108469</td>\n",
       "      <td>ERR108469</td>\n",
       "      <td>PRJEB2138</td>\n",
       "      <td>SAMEA1403638</td>\n",
       "      <td>NaN</td>\n",
       "      <td>S</td>\n",
       "      <td>S</td>\n",
       "      <td>NaN</td>\n",
       "      <td>R</td>\n",
       "      <td>NaN</td>\n",
       "      <td>R</td>\n",
       "      <td>NaN</td>\n",
       "      <td>NaN</td>\n",
       "      <td>R</td>\n",
       "      <td>R</td>\n",
       "      <td>NaN</td>\n",
       "      <td>S</td>\n",
       "      <td>R</td>\n",
       "      <td>R</td>\n",
       "      <td>SAMEA1403638</td>\n",
       "    </tr>\n",
       "    <tr>\n",
       "      <th>5445</th>\n",
       "      <td>ERR133984</td>\n",
       "      <td>ERR133984</td>\n",
       "      <td>PRJEB2138</td>\n",
       "      <td>SAMEA1403685</td>\n",
       "      <td>NaN</td>\n",
       "      <td>S</td>\n",
       "      <td>S</td>\n",
       "      <td>NaN</td>\n",
       "      <td>R</td>\n",
       "      <td>NaN</td>\n",
       "      <td>R</td>\n",
       "      <td>NaN</td>\n",
       "      <td>NaN</td>\n",
       "      <td>S</td>\n",
       "      <td>S</td>\n",
       "      <td>NaN</td>\n",
       "      <td>R</td>\n",
       "      <td>R</td>\n",
       "      <td>R</td>\n",
       "      <td>SAMEA1403685</td>\n",
       "    </tr>\n",
       "    <tr>\n",
       "      <th>15102</th>\n",
       "      <td>SRR5710018</td>\n",
       "      <td>SRR5710018</td>\n",
       "      <td>PRJNA390471</td>\n",
       "      <td>SAMN07236283</td>\n",
       "      <td>NaN</td>\n",
       "      <td>NaN</td>\n",
       "      <td>NaN</td>\n",
       "      <td>NaN</td>\n",
       "      <td>R</td>\n",
       "      <td>NaN</td>\n",
       "      <td>R</td>\n",
       "      <td>NaN</td>\n",
       "      <td>NaN</td>\n",
       "      <td>NaN</td>\n",
       "      <td>NaN</td>\n",
       "      <td>NaN</td>\n",
       "      <td>NaN</td>\n",
       "      <td>R</td>\n",
       "      <td>NaN</td>\n",
       "      <td>SAMN07236283</td>\n",
       "    </tr>\n",
       "  </tbody>\n",
       "</table>\n",
       "</div>"
      ],
      "text/plain": [
       "              run run_combined   bioproject     biosample  internal amikacin  \\\n",
       "116      internal     Peru2946     internal      Peru2946  Peru2946        S   \n",
       "295      internal     Peru3354     internal      Peru3354  Peru3354        S   \n",
       "5408    ERR108469    ERR108469    PRJEB2138  SAMEA1403638       NaN        S   \n",
       "5445    ERR133984    ERR133984    PRJEB2138  SAMEA1403685       NaN        S   \n",
       "15102  SRR5710018   SRR5710018  PRJNA390471  SAMN07236283       NaN      NaN   \n",
       "\n",
       "      capreomycin ciprofloxacin ethambutol ethionamide isoniazid kanamycin  \\\n",
       "116             S           NaN          R           R         R         S   \n",
       "295             S           NaN          R           S         R         S   \n",
       "5408            S           NaN          R         NaN         R       NaN   \n",
       "5445            S           NaN          R         NaN         R       NaN   \n",
       "15102         NaN           NaN          R         NaN         R       NaN   \n",
       "\n",
       "      levofloxacin moxifloxacin ofloxacin para-aminosalicylic_acid  \\\n",
       "116            NaN            R       NaN                      NaN   \n",
       "295            NaN            R       NaN                      NaN   \n",
       "5408           NaN            R         R                      NaN   \n",
       "5445           NaN            S         S                      NaN   \n",
       "15102          NaN          NaN       NaN                      NaN   \n",
       "\n",
       "      pyrazinamide rifampicin streptomycin    isolate_ID  \n",
       "116              R          R            R      Peru2946  \n",
       "295              R          R            R      Peru3354  \n",
       "5408             S          R            R  SAMEA1403638  \n",
       "5445             R          R            R  SAMEA1403685  \n",
       "15102          NaN          R          NaN  SAMN07236283  "
      ]
     },
     "execution_count": 21,
     "metadata": {},
     "output_type": "execute_result"
    }
   ],
   "source": [
    "drug_res_pheno_eis_double_mutant_df"
   ]
  },
  {
   "cell_type": "code",
   "execution_count": 22,
   "metadata": {},
   "outputs": [
    {
     "name": "stderr",
     "output_type": "stream",
     "text": [
      "/home/rv76/anaconda2/lib/python2.7/site-packages/ipykernel_launcher.py:1: SettingWithCopyWarning: \n",
      "A value is trying to be set on a copy of a slice from a DataFrame\n",
      "\n",
      "See the caveats in the documentation: http://pandas.pydata.org/pandas-docs/stable/indexing.html#indexing-view-versus-copy\n",
      "  \"\"\"Entry point for launching an IPython kernel.\n"
     ]
    }
   ],
   "source": [
    "drug_res_pheno_eis_double_mutant_df.drop(axis=1, labels=['run','run_combined','bioproject','biosample','internal'],inplace=True)\n",
    "drug_res_pheno_eis_double_mutant_df.set_index('isolate_ID',inplace=True)"
   ]
  },
  {
   "cell_type": "code",
   "execution_count": 23,
   "metadata": {},
   "outputs": [
    {
     "data": {
      "text/html": [
       "<div>\n",
       "<style>\n",
       "    .dataframe thead tr:only-child th {\n",
       "        text-align: right;\n",
       "    }\n",
       "\n",
       "    .dataframe thead th {\n",
       "        text-align: left;\n",
       "    }\n",
       "\n",
       "    .dataframe tbody tr th {\n",
       "        vertical-align: top;\n",
       "    }\n",
       "</style>\n",
       "<table border=\"1\" class=\"dataframe\">\n",
       "  <thead>\n",
       "    <tr style=\"text-align: right;\">\n",
       "      <th></th>\n",
       "      <th>amikacin</th>\n",
       "      <th>capreomycin</th>\n",
       "      <th>ciprofloxacin</th>\n",
       "      <th>ethambutol</th>\n",
       "      <th>ethionamide</th>\n",
       "      <th>isoniazid</th>\n",
       "      <th>kanamycin</th>\n",
       "      <th>levofloxacin</th>\n",
       "      <th>moxifloxacin</th>\n",
       "      <th>ofloxacin</th>\n",
       "      <th>para-aminosalicylic_acid</th>\n",
       "      <th>pyrazinamide</th>\n",
       "      <th>rifampicin</th>\n",
       "      <th>streptomycin</th>\n",
       "    </tr>\n",
       "    <tr>\n",
       "      <th>isolate_ID</th>\n",
       "      <th></th>\n",
       "      <th></th>\n",
       "      <th></th>\n",
       "      <th></th>\n",
       "      <th></th>\n",
       "      <th></th>\n",
       "      <th></th>\n",
       "      <th></th>\n",
       "      <th></th>\n",
       "      <th></th>\n",
       "      <th></th>\n",
       "      <th></th>\n",
       "      <th></th>\n",
       "      <th></th>\n",
       "    </tr>\n",
       "  </thead>\n",
       "  <tbody>\n",
       "    <tr>\n",
       "      <th>Peru2946</th>\n",
       "      <td>S</td>\n",
       "      <td>S</td>\n",
       "      <td>NaN</td>\n",
       "      <td>R</td>\n",
       "      <td>R</td>\n",
       "      <td>R</td>\n",
       "      <td>S</td>\n",
       "      <td>NaN</td>\n",
       "      <td>R</td>\n",
       "      <td>NaN</td>\n",
       "      <td>NaN</td>\n",
       "      <td>R</td>\n",
       "      <td>R</td>\n",
       "      <td>R</td>\n",
       "    </tr>\n",
       "    <tr>\n",
       "      <th>Peru3354</th>\n",
       "      <td>S</td>\n",
       "      <td>S</td>\n",
       "      <td>NaN</td>\n",
       "      <td>R</td>\n",
       "      <td>S</td>\n",
       "      <td>R</td>\n",
       "      <td>S</td>\n",
       "      <td>NaN</td>\n",
       "      <td>R</td>\n",
       "      <td>NaN</td>\n",
       "      <td>NaN</td>\n",
       "      <td>R</td>\n",
       "      <td>R</td>\n",
       "      <td>R</td>\n",
       "    </tr>\n",
       "    <tr>\n",
       "      <th>SAMEA1403638</th>\n",
       "      <td>S</td>\n",
       "      <td>S</td>\n",
       "      <td>NaN</td>\n",
       "      <td>R</td>\n",
       "      <td>NaN</td>\n",
       "      <td>R</td>\n",
       "      <td>NaN</td>\n",
       "      <td>NaN</td>\n",
       "      <td>R</td>\n",
       "      <td>R</td>\n",
       "      <td>NaN</td>\n",
       "      <td>S</td>\n",
       "      <td>R</td>\n",
       "      <td>R</td>\n",
       "    </tr>\n",
       "    <tr>\n",
       "      <th>SAMEA1403685</th>\n",
       "      <td>S</td>\n",
       "      <td>S</td>\n",
       "      <td>NaN</td>\n",
       "      <td>R</td>\n",
       "      <td>NaN</td>\n",
       "      <td>R</td>\n",
       "      <td>NaN</td>\n",
       "      <td>NaN</td>\n",
       "      <td>S</td>\n",
       "      <td>S</td>\n",
       "      <td>NaN</td>\n",
       "      <td>R</td>\n",
       "      <td>R</td>\n",
       "      <td>R</td>\n",
       "    </tr>\n",
       "    <tr>\n",
       "      <th>SAMN07236283</th>\n",
       "      <td>NaN</td>\n",
       "      <td>NaN</td>\n",
       "      <td>NaN</td>\n",
       "      <td>R</td>\n",
       "      <td>NaN</td>\n",
       "      <td>R</td>\n",
       "      <td>NaN</td>\n",
       "      <td>NaN</td>\n",
       "      <td>NaN</td>\n",
       "      <td>NaN</td>\n",
       "      <td>NaN</td>\n",
       "      <td>NaN</td>\n",
       "      <td>R</td>\n",
       "      <td>NaN</td>\n",
       "    </tr>\n",
       "  </tbody>\n",
       "</table>\n",
       "</div>"
      ],
      "text/plain": [
       "             amikacin capreomycin ciprofloxacin ethambutol ethionamide  \\\n",
       "isolate_ID                                                               \n",
       "Peru2946            S           S           NaN          R           R   \n",
       "Peru3354            S           S           NaN          R           S   \n",
       "SAMEA1403638        S           S           NaN          R         NaN   \n",
       "SAMEA1403685        S           S           NaN          R         NaN   \n",
       "SAMN07236283      NaN         NaN           NaN          R         NaN   \n",
       "\n",
       "             isoniazid kanamycin levofloxacin moxifloxacin ofloxacin  \\\n",
       "isolate_ID                                                             \n",
       "Peru2946             R         S          NaN            R       NaN   \n",
       "Peru3354             R         S          NaN            R       NaN   \n",
       "SAMEA1403638         R       NaN          NaN            R         R   \n",
       "SAMEA1403685         R       NaN          NaN            S         S   \n",
       "SAMN07236283         R       NaN          NaN          NaN       NaN   \n",
       "\n",
       "             para-aminosalicylic_acid pyrazinamide rifampicin streptomycin  \n",
       "isolate_ID                                                                  \n",
       "Peru2946                          NaN            R          R            R  \n",
       "Peru3354                          NaN            R          R            R  \n",
       "SAMEA1403638                      NaN            S          R            R  \n",
       "SAMEA1403685                      NaN            R          R            R  \n",
       "SAMN07236283                      NaN          NaN          R          NaN  "
      ]
     },
     "execution_count": 23,
     "metadata": {},
     "output_type": "execute_result"
    }
   ],
   "source": [
    "drug_res_pheno_eis_double_mutant_df"
   ]
  },
  {
   "cell_type": "markdown",
   "metadata": {},
   "source": [
    "#### Save DataFrame as excel file"
   ]
  },
  {
   "cell_type": "code",
   "execution_count": 24,
   "metadata": {},
   "outputs": [],
   "source": [
    "drug_res_pheno_eis_double_mutant_df.to_excel('/n/data1/hms/dbmi/farhat/Roger/mmpR_BDQ_mutant_project/CSV files/MIC data/eis_double_mutant_drug_phenotypes.xlsx')"
   ]
  }
 ],
 "metadata": {
  "kernelspec": {
   "display_name": "Python [conda env:root] *",
   "language": "python",
   "name": "conda-root-py"
  },
  "language_info": {
   "codemirror_mode": {
    "name": "ipython",
    "version": 2
   },
   "file_extension": ".py",
   "mimetype": "text/x-python",
   "name": "python",
   "nbconvert_exporter": "python",
   "pygments_lexer": "ipython2",
   "version": "2.7.16"
  }
 },
 "nbformat": 4,
 "nbformat_minor": 2
}
