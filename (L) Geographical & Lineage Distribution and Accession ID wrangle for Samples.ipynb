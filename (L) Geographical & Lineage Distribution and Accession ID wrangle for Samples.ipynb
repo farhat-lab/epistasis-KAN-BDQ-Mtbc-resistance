{
 "cells": [
  {
   "cell_type": "code",
   "execution_count": 1,
   "metadata": {
    "scrolled": true
   },
   "outputs": [
    {
     "data": {
      "text/html": [
       "<style>.container { width:100% !important; }</style>"
      ],
      "text/plain": [
       "<IPython.core.display.HTML object>"
      ]
     },
     "metadata": {},
     "output_type": "display_data"
    }
   ],
   "source": [
    "from IPython.core.display import display, HTML\n",
    "display(HTML(\"<style>.container { width:100% !important; }</style>\"))"
   ]
  },
  {
   "cell_type": "markdown",
   "metadata": {},
   "source": [
    "# This notebook was created to construct a supplementary table with *accession IDs* for all isolates in our sample and to identify the geographical origin of each isolate for isolates that have this meta-data"
   ]
  },
  {
   "cell_type": "code",
   "execution_count": 2,
   "metadata": {},
   "outputs": [],
   "source": [
    "import vcf\n",
    "\n",
    "%matplotlib inline\n",
    "import os\n",
    "import pandas as pd\n",
    "import numpy as np\n",
    "import matplotlib.pyplot as plt\n",
    "import matplotlib as mpl\n",
    "import matplotlib.ticker as ticker\n",
    "from itertools import compress\n",
    "from pylab import MaxNLocator\n",
    "import seaborn as sns; sns.set()\n",
    "from matplotlib.colors import LogNorm\n",
    "from matplotlib import gridspec\n",
    "from matplotlib.gridspec import GridSpec\n",
    "import ast\n",
    "import itertools\n",
    "import seaborn as sns\n",
    "from sklearn.preprocessing import StandardScaler\n",
    "\n",
    "import fastcluster\n",
    "from sklearn import cluster, datasets\n",
    "import scipy.cluster.hierarchy as hier\n",
    "from sklearn.cluster import KMeans\n",
    "import time\n",
    "import sys\n",
    "\n",
    "import Bio\n",
    "from Bio.Alphabet import IUPAC\n",
    "from Bio.Blast.Applications import NcbiblastnCommandline\n",
    "from Bio.Blast import NCBIXML\n",
    "from Bio.Seq import Seq\n",
    "from Bio.SeqRecord import SeqRecord\n",
    "from Bio.SeqFeature import SeqFeature, FeatureLocation\n",
    "from Bio import pairwise2\n",
    "from Bio import SeqIO\n",
    "from Bio.Graphics import GenomeDiagram\n",
    "from Bio.SeqUtils import GC\n",
    "from Bio import Phylo\n",
    "\n",
    "from Bio.Align.Applications import MuscleCommandline\n",
    "from StringIO import StringIO\n",
    "from Bio import AlignIO\n",
    "from Bio.Align import AlignInfo\n",
    "from Bio.Seq import MutableSeq\n",
    "import itertools\n",
    "import gzip\n",
    "\n",
    "import networkx as nx\n",
    "import scipy\n",
    "from collections import Counter\n",
    "from itertools import groupby\n",
    "from operator import itemgetter\n",
    "\n",
    "#for exporting to Adobe Illustrator\n",
    "mpl.rcParams['pdf.fonttype'] = 42\n",
    "mpl.rcParams['ps.fonttype'] = 42"
   ]
  },
  {
   "cell_type": "markdown",
   "metadata": {},
   "source": [
    "####################################################################################################################################################################################"
   ]
  },
  {
   "cell_type": "markdown",
   "metadata": {},
   "source": [
    "# [1] Load Sample Annotation Files & Sample Metadata Files"
   ]
  },
  {
   "cell_type": "markdown",
   "metadata": {},
   "source": [
    "####################################################################################################################################################################################"
   ]
  },
  {
   "cell_type": "code",
   "execution_count": 3,
   "metadata": {},
   "outputs": [],
   "source": [
    "#load isolate annotation file (columns of Genotype Matrix)\n",
    "isolate_annotation_DF = pd.read_pickle('/n/data1/hms/dbmi/farhat/Roger/homoplasy_project/rolling_DB_scrape/Genotypes_Filtered_2/genotypes_isolate_annotation.pkl')\n",
    "\n",
    "#load SNP annotation file (rows of Genotype Matrix) with gene annotation information\n",
    "SNP_annotation_DF = pd.read_pickle('/n/data1/hms/dbmi/farhat/Roger/homoplasy_project/rolling_DB_scrape/Genotypes_Filtered_2/genotypes_SNP_annotation.pkl')"
   ]
  },
  {
   "cell_type": "markdown",
   "metadata": {},
   "source": [
    "Columns of Genotype Matrix"
   ]
  },
  {
   "cell_type": "code",
   "execution_count": 4,
   "metadata": {},
   "outputs": [
    {
     "data": {
      "text/html": [
       "<div>\n",
       "<style>\n",
       "    .dataframe thead tr:only-child th {\n",
       "        text-align: right;\n",
       "    }\n",
       "\n",
       "    .dataframe thead th {\n",
       "        text-align: left;\n",
       "    }\n",
       "\n",
       "    .dataframe tbody tr th {\n",
       "        vertical-align: top;\n",
       "    }\n",
       "</style>\n",
       "<table border=\"1\" class=\"dataframe\">\n",
       "  <thead>\n",
       "    <tr style=\"text-align: right;\">\n",
       "      <th></th>\n",
       "      <th>lineage_1</th>\n",
       "      <th>lineage_2</th>\n",
       "      <th>lineage_3</th>\n",
       "      <th>lineage_4</th>\n",
       "      <th>lineage_5</th>\n",
       "      <th>lineage_6</th>\n",
       "      <th>lineage_7</th>\n",
       "      <th>lineage_8</th>\n",
       "      <th>lineage_9</th>\n",
       "      <th>lineage_10</th>\n",
       "      <th>lineage_11</th>\n",
       "      <th>isolate_ID</th>\n",
       "      <th>lineage_call</th>\n",
       "      <th>group</th>\n",
       "    </tr>\n",
       "  </thead>\n",
       "  <tbody>\n",
       "    <tr>\n",
       "      <th>0</th>\n",
       "      <td>4</td>\n",
       "      <td>2</td>\n",
       "      <td>1</td>\n",
       "      <td>2</td>\n",
       "      <td>1</td>\n",
       "      <td>1</td>\n",
       "      <td>i3</td>\n",
       "      <td>1</td>\n",
       "      <td>NaN</td>\n",
       "      <td>NaN</td>\n",
       "      <td>NaN</td>\n",
       "      <td>SAMEA3558733</td>\n",
       "      <td>4.2.1.2.1.1.i3.1</td>\n",
       "      <td>4B</td>\n",
       "    </tr>\n",
       "    <tr>\n",
       "      <th>1</th>\n",
       "      <td>4</td>\n",
       "      <td>2</td>\n",
       "      <td>1</td>\n",
       "      <td>2</td>\n",
       "      <td>2</td>\n",
       "      <td>1</td>\n",
       "      <td>1</td>\n",
       "      <td>NaN</td>\n",
       "      <td>NaN</td>\n",
       "      <td>NaN</td>\n",
       "      <td>NaN</td>\n",
       "      <td>SAMN03648641</td>\n",
       "      <td>4.2.1.2.2.1.1</td>\n",
       "      <td>4B</td>\n",
       "    </tr>\n",
       "    <tr>\n",
       "      <th>2</th>\n",
       "      <td>3</td>\n",
       "      <td>1</td>\n",
       "      <td>1</td>\n",
       "      <td>i1</td>\n",
       "      <td>NaN</td>\n",
       "      <td>NaN</td>\n",
       "      <td>NaN</td>\n",
       "      <td>NaN</td>\n",
       "      <td>NaN</td>\n",
       "      <td>NaN</td>\n",
       "      <td>NaN</td>\n",
       "      <td>SAMN03647419</td>\n",
       "      <td>3.1.1.i1</td>\n",
       "      <td>3</td>\n",
       "    </tr>\n",
       "    <tr>\n",
       "      <th>3</th>\n",
       "      <td>4</td>\n",
       "      <td>2</td>\n",
       "      <td>1</td>\n",
       "      <td>2</td>\n",
       "      <td>1</td>\n",
       "      <td>1</td>\n",
       "      <td>i1</td>\n",
       "      <td>NaN</td>\n",
       "      <td>NaN</td>\n",
       "      <td>NaN</td>\n",
       "      <td>NaN</td>\n",
       "      <td>SAMEA3671418</td>\n",
       "      <td>4.2.1.2.1.1.i1</td>\n",
       "      <td>4B</td>\n",
       "    </tr>\n",
       "    <tr>\n",
       "      <th>4</th>\n",
       "      <td>1</td>\n",
       "      <td>1</td>\n",
       "      <td>1</td>\n",
       "      <td>2</td>\n",
       "      <td>NaN</td>\n",
       "      <td>NaN</td>\n",
       "      <td>NaN</td>\n",
       "      <td>NaN</td>\n",
       "      <td>NaN</td>\n",
       "      <td>NaN</td>\n",
       "      <td>NaN</td>\n",
       "      <td>SAMN07659096</td>\n",
       "      <td>1.1.1.2</td>\n",
       "      <td>1</td>\n",
       "    </tr>\n",
       "  </tbody>\n",
       "</table>\n",
       "</div>"
      ],
      "text/plain": [
       "  lineage_1 lineage_2 lineage_3 lineage_4 lineage_5 lineage_6 lineage_7  \\\n",
       "0         4         2         1         2         1         1        i3   \n",
       "1         4         2         1         2         2         1         1   \n",
       "2         3         1         1        i1       NaN       NaN       NaN   \n",
       "3         4         2         1         2         1         1        i1   \n",
       "4         1         1         1         2       NaN       NaN       NaN   \n",
       "\n",
       "  lineage_8 lineage_9 lineage_10 lineage_11    isolate_ID      lineage_call  \\\n",
       "0         1       NaN        NaN        NaN  SAMEA3558733  4.2.1.2.1.1.i3.1   \n",
       "1       NaN       NaN        NaN        NaN  SAMN03648641     4.2.1.2.2.1.1   \n",
       "2       NaN       NaN        NaN        NaN  SAMN03647419          3.1.1.i1   \n",
       "3       NaN       NaN        NaN        NaN  SAMEA3671418    4.2.1.2.1.1.i1   \n",
       "4       NaN       NaN        NaN        NaN  SAMN07659096           1.1.1.2   \n",
       "\n",
       "  group  \n",
       "0    4B  \n",
       "1    4B  \n",
       "2     3  \n",
       "3    4B  \n",
       "4     1  "
      ]
     },
     "execution_count": 4,
     "metadata": {},
     "output_type": "execute_result"
    }
   ],
   "source": [
    "isolate_annotation_DF.head()"
   ]
  },
  {
   "cell_type": "code",
   "execution_count": 5,
   "metadata": {},
   "outputs": [
    {
     "data": {
      "text/plain": [
       "(31428, 14)"
      ]
     },
     "execution_count": 5,
     "metadata": {},
     "output_type": "execute_result"
    }
   ],
   "source": [
    "np.shape(isolate_annotation_DF)"
   ]
  },
  {
   "cell_type": "markdown",
   "metadata": {},
   "source": [
    "Rows of Genotype Matrix"
   ]
  },
  {
   "cell_type": "code",
   "execution_count": 6,
   "metadata": {},
   "outputs": [
    {
     "data": {
      "text/html": [
       "<div>\n",
       "<style>\n",
       "    .dataframe thead tr:only-child th {\n",
       "        text-align: right;\n",
       "    }\n",
       "\n",
       "    .dataframe thead th {\n",
       "        text-align: left;\n",
       "    }\n",
       "\n",
       "    .dataframe tbody tr th {\n",
       "        vertical-align: top;\n",
       "    }\n",
       "</style>\n",
       "<table border=\"1\" class=\"dataframe\">\n",
       "  <thead>\n",
       "    <tr style=\"text-align: right;\">\n",
       "      <th></th>\n",
       "      <th>pos</th>\n",
       "      <th>ref</th>\n",
       "      <th>alt</th>\n",
       "      <th>gene_id</th>\n",
       "      <th>gene_pos</th>\n",
       "      <th>gene_category</th>\n",
       "      <th>gene_name</th>\n",
       "    </tr>\n",
       "  </thead>\n",
       "  <tbody>\n",
       "    <tr>\n",
       "      <th>0</th>\n",
       "      <td>48</td>\n",
       "      <td>C</td>\n",
       "      <td>[T]</td>\n",
       "      <td>Rv0001</td>\n",
       "      <td>47.0</td>\n",
       "      <td>Essential</td>\n",
       "      <td>dnaA</td>\n",
       "    </tr>\n",
       "    <tr>\n",
       "      <th>1</th>\n",
       "      <td>64</td>\n",
       "      <td>G</td>\n",
       "      <td>[C]</td>\n",
       "      <td>Rv0001</td>\n",
       "      <td>63.0</td>\n",
       "      <td>Essential</td>\n",
       "      <td>dnaA</td>\n",
       "    </tr>\n",
       "    <tr>\n",
       "      <th>2</th>\n",
       "      <td>67</td>\n",
       "      <td>G</td>\n",
       "      <td>[A, T]</td>\n",
       "      <td>Rv0001</td>\n",
       "      <td>66.0</td>\n",
       "      <td>Essential</td>\n",
       "      <td>dnaA</td>\n",
       "    </tr>\n",
       "    <tr>\n",
       "      <th>3</th>\n",
       "      <td>69</td>\n",
       "      <td>C</td>\n",
       "      <td>[T]</td>\n",
       "      <td>Rv0001</td>\n",
       "      <td>68.0</td>\n",
       "      <td>Essential</td>\n",
       "      <td>dnaA</td>\n",
       "    </tr>\n",
       "    <tr>\n",
       "      <th>4</th>\n",
       "      <td>71</td>\n",
       "      <td>C</td>\n",
       "      <td>[T]</td>\n",
       "      <td>Rv0001</td>\n",
       "      <td>70.0</td>\n",
       "      <td>Essential</td>\n",
       "      <td>dnaA</td>\n",
       "    </tr>\n",
       "  </tbody>\n",
       "</table>\n",
       "</div>"
      ],
      "text/plain": [
       "   pos ref     alt gene_id  gene_pos gene_category gene_name\n",
       "0   48   C     [T]  Rv0001      47.0     Essential      dnaA\n",
       "1   64   G     [C]  Rv0001      63.0     Essential      dnaA\n",
       "2   67   G  [A, T]  Rv0001      66.0     Essential      dnaA\n",
       "3   69   C     [T]  Rv0001      68.0     Essential      dnaA\n",
       "4   71   C     [T]  Rv0001      70.0     Essential      dnaA"
      ]
     },
     "execution_count": 6,
     "metadata": {},
     "output_type": "execute_result"
    }
   ],
   "source": [
    "SNP_annotation_DF.head()"
   ]
  },
  {
   "cell_type": "code",
   "execution_count": 7,
   "metadata": {},
   "outputs": [
    {
     "data": {
      "text/plain": [
       "(782565, 7)"
      ]
     },
     "execution_count": 7,
     "metadata": {},
     "output_type": "execute_result"
    }
   ],
   "source": [
    "np.shape(SNP_annotation_DF)"
   ]
  },
  {
   "cell_type": "markdown",
   "metadata": {},
   "source": [
    "#### Retrieve geographical data for isolates"
   ]
  },
  {
   "cell_type": "code",
   "execution_count": 8,
   "metadata": {},
   "outputs": [],
   "source": [
    "geographic_isolate_df_A = pd.read_csv('/n/data1/hms/dbmi/farhat/Roger/homoplasy_project/RRDR_mutant_project/GEO data/geo_sampling.txt', sep=\"\\t\", header=0).set_index('BioSample')\n",
    "geographic_isolate_df_B = pd.read_csv('/n/data1/hms/dbmi/farhat/Roger/homoplasy_project/RRDR_mutant_project/GEO data/validation_ids_TableS4.csv', sep=\",\", header=0).set_index('Isolate ID')"
   ]
  },
  {
   "cell_type": "code",
   "execution_count": 9,
   "metadata": {},
   "outputs": [
    {
     "data": {
      "text/html": [
       "<div>\n",
       "<style>\n",
       "    .dataframe thead tr:only-child th {\n",
       "        text-align: right;\n",
       "    }\n",
       "\n",
       "    .dataframe thead th {\n",
       "        text-align: left;\n",
       "    }\n",
       "\n",
       "    .dataframe tbody tr th {\n",
       "        vertical-align: top;\n",
       "    }\n",
       "</style>\n",
       "<table border=\"1\" class=\"dataframe\">\n",
       "  <thead>\n",
       "    <tr style=\"text-align: right;\">\n",
       "      <th></th>\n",
       "      <th>isolation_country</th>\n",
       "      <th>collection_year</th>\n",
       "      <th>tag</th>\n",
       "    </tr>\n",
       "    <tr>\n",
       "      <th>BioSample</th>\n",
       "      <th></th>\n",
       "      <th></th>\n",
       "      <th></th>\n",
       "    </tr>\n",
       "  </thead>\n",
       "  <tbody>\n",
       "    <tr>\n",
       "      <th>SAMEA787746</th>\n",
       "      <td>Uganda</td>\n",
       "      <td>2005.0</td>\n",
       "      <td>patric,ncbi</td>\n",
       "    </tr>\n",
       "    <tr>\n",
       "      <th>SAMN08684019</th>\n",
       "      <td>Lebanon</td>\n",
       "      <td>2017.0</td>\n",
       "      <td>patric,ncbi</td>\n",
       "    </tr>\n",
       "    <tr>\n",
       "      <th>SAMN09566410</th>\n",
       "      <td>South Africa</td>\n",
       "      <td>2011.0</td>\n",
       "      <td>patric,ncbi</td>\n",
       "    </tr>\n",
       "  </tbody>\n",
       "</table>\n",
       "</div>"
      ],
      "text/plain": [
       "             isolation_country  collection_year          tag\n",
       "BioSample                                                   \n",
       "SAMEA787746             Uganda           2005.0  patric,ncbi\n",
       "SAMN08684019           Lebanon           2017.0  patric,ncbi\n",
       "SAMN09566410      South Africa           2011.0  patric,ncbi"
      ]
     },
     "execution_count": 9,
     "metadata": {},
     "output_type": "execute_result"
    }
   ],
   "source": [
    "geographic_isolate_df_A.head(n=3)"
   ]
  },
  {
   "cell_type": "code",
   "execution_count": 10,
   "metadata": {},
   "outputs": [
    {
     "data": {
      "text/plain": [
       "(64933, 3)"
      ]
     },
     "execution_count": 10,
     "metadata": {},
     "output_type": "execute_result"
    }
   ],
   "source": [
    "np.shape(geographic_isolate_df_A)"
   ]
  },
  {
   "cell_type": "code",
   "execution_count": 11,
   "metadata": {},
   "outputs": [
    {
     "data": {
      "text/html": [
       "<div>\n",
       "<style>\n",
       "    .dataframe thead tr:only-child th {\n",
       "        text-align: right;\n",
       "    }\n",
       "\n",
       "    .dataframe thead th {\n",
       "        text-align: left;\n",
       "    }\n",
       "\n",
       "    .dataframe tbody tr th {\n",
       "        vertical-align: top;\n",
       "    }\n",
       "</style>\n",
       "<table border=\"1\" class=\"dataframe\">\n",
       "  <thead>\n",
       "    <tr style=\"text-align: right;\">\n",
       "      <th></th>\n",
       "      <th>Count</th>\n",
       "      <th>Source</th>\n",
       "      <th>Lab</th>\n",
       "      <th>Country</th>\n",
       "    </tr>\n",
       "    <tr>\n",
       "      <th>Isolate ID</th>\n",
       "      <th></th>\n",
       "      <th></th>\n",
       "      <th></th>\n",
       "      <th></th>\n",
       "    </tr>\n",
       "  </thead>\n",
       "  <tbody>\n",
       "    <tr>\n",
       "      <th>1478813216721T177115lib4769nextseqn0035151bp</th>\n",
       "      <td>1</td>\n",
       "      <td>ReseqTB</td>\n",
       "      <td>Borstel</td>\n",
       "      <td>Germany</td>\n",
       "    </tr>\n",
       "    <tr>\n",
       "      <th>1478813216721T177215lib4770nextseqn0035151bp</th>\n",
       "      <td>2</td>\n",
       "      <td>ReseqTB</td>\n",
       "      <td>Borstel</td>\n",
       "      <td>Germany</td>\n",
       "    </tr>\n",
       "    <tr>\n",
       "      <th>1478813216721T177315lib4771nextseqn0035151bp</th>\n",
       "      <td>3</td>\n",
       "      <td>ReseqTB</td>\n",
       "      <td>Borstel</td>\n",
       "      <td>Germany</td>\n",
       "    </tr>\n",
       "  </tbody>\n",
       "</table>\n",
       "</div>"
      ],
      "text/plain": [
       "                                              Count   Source      Lab  Country\n",
       "Isolate ID                                                                    \n",
       "1478813216721T177115lib4769nextseqn0035151bp      1  ReseqTB  Borstel  Germany\n",
       "1478813216721T177215lib4770nextseqn0035151bp      2  ReseqTB  Borstel  Germany\n",
       "1478813216721T177315lib4771nextseqn0035151bp      3  ReseqTB  Borstel  Germany"
      ]
     },
     "execution_count": 11,
     "metadata": {},
     "output_type": "execute_result"
    }
   ],
   "source": [
    "geographic_isolate_df_B.head(n=3)"
   ]
  },
  {
   "cell_type": "code",
   "execution_count": 12,
   "metadata": {},
   "outputs": [
    {
     "data": {
      "text/plain": [
       "(792, 4)"
      ]
     },
     "execution_count": 12,
     "metadata": {},
     "output_type": "execute_result"
    }
   ],
   "source": [
    "np.shape(geographic_isolate_df_B)"
   ]
  },
  {
   "cell_type": "markdown",
   "metadata": {},
   "source": [
    "####################################################################################################################################################################################"
   ]
  },
  {
   "cell_type": "markdown",
   "metadata": {},
   "source": [
    "# [2] Table with all BioSample / Patric IDs for Supplementary Materials"
   ]
  },
  {
   "cell_type": "markdown",
   "metadata": {},
   "source": [
    "####################################################################################################################################################################################"
   ]
  },
  {
   "cell_type": "markdown",
   "metadata": {},
   "source": [
    "# [2.1] check sample accessions and bin into sample category"
   ]
  },
  {
   "cell_type": "markdown",
   "metadata": {},
   "source": [
    "#### Add accession IDs (NCBI) for additional 12 *eis* C-14T mutants with AG MICs"
   ]
  },
  {
   "cell_type": "markdown",
   "metadata": {},
   "source": [
    "- IT123: SAMN21438148 (PRJNA763160)\n",
    "- IT184: SAMN21438149 (PRJNA763160)\n",
    "- IT952: SAMN21438150 (PRJNA763160)\n",
    "- IT524: SAMN21438151 (PRJNA763160)\n",
    "- 655-19: SAMN21438152 (PRJNA763160)\n",
    "- IT233: ERS2395000 (PRJEB25972)\n",
    "- IT77: ERS2394970 (PRJEB25972)\n",
    "- 622-19: SAMN21438153 (PRJNA763160)\n",
    "- IT1070: SAMN21438154 (PRJNA763160)\n",
    "- IT947: SAMN21438155 (PRJNA763160)\n",
    "- 168-19: SAMN21438156 (PRJNA763160)\n",
    "- IT634: ERS2395185 (PRJEB25972)"
   ]
  },
  {
   "cell_type": "code",
   "execution_count": 192,
   "metadata": {},
   "outputs": [],
   "source": [
    "# store each isolate ID and relevant info\n",
    "isolate_tag_list = ['IT123','IT184','IT952','IT524','655-19','IT233','IT77','622-19','IT1070','IT947','168-19','IT634']\n",
    "isolate_accession_ID_list = ['SAMN21438148','SAMN21438149','SAMN21438150','SAMN21438151','SAMN21438152','ERS2395000','ERS2394970','SAMN21438153','SAMN21438154','SAMN21438155','SAMN21438156','ERS2395185']\n",
    "isolate_info_list = ['ncbi']*12\n",
    "\n",
    "# create sets from DataFrame indices for faster checking\n",
    "geographic_isolate_df_A_IDs = set(geographic_isolate_df_A.index)\n",
    "geographic_isolate_df_B_IDs = set(geographic_isolate_df_B.index)\n",
    "\n",
    "#iterate through each isolate ID and check to see if it has associated info in either DataFrame\n",
    "for isolate_ID in isolate_annotation_DF.isolate_ID:\n",
    "    \n",
    "    if isolate_ID in geographic_isolate_df_A_IDs:\n",
    "        isolate_tag_list.append(isolate_ID)\n",
    "        \n",
    "        if geographic_isolate_df_A.loc[isolate_ID, 'tag'] == 'farhat_lab:cetr':\n",
    "            isolate_accession_ID_list.append('farhat_nat_comm_2019')\n",
    "            isolate_info_list.append('ncbi')\n",
    "        else:\n",
    "            isolate_accession_ID_list.append(isolate_ID)\n",
    "            isolate_info_list.append(geographic_isolate_df_A.loc[isolate_ID, 'tag'])\n",
    "        \n",
    "    elif isolate_ID in geographic_isolate_df_B_IDs:\n",
    "        isolate_tag_list.append(isolate_ID)\n",
    "        \n",
    "        if geographic_isolate_df_B.loc[isolate_ID, 'Source'] == 'farhat_lab:cetr':\n",
    "            isolate_accession_ID_list.append('farhat_nat_comm_2019')\n",
    "            isolate_info_list.append('ncbi')\n",
    "        else:\n",
    "            isolate_accession_ID_list.append(isolate_ID)\n",
    "            isolate_info_list.append(geographic_isolate_df_B.loc[isolate_ID, 'Source'])\n",
    "        \n",
    "    elif ((len(isolate_ID) == 6) or (len(isolate_ID) == 7) or (len(isolate_ID) == 8)) and ('R' in isolate_ID):\n",
    "        isolate_tag_list.append(isolate_ID)\n",
    "        isolate_accession_ID_list.append('farhat_nat_comm_2019')\n",
    "        isolate_info_list.append('ncbi')\n",
    "        \n",
    "    elif ('Peru' in isolate_ID):\n",
    "        isolate_tag_list.append(isolate_ID)\n",
    "        isolate_accession_ID_list.append('farhat_nat_comm_2019')\n",
    "        isolate_info_list.append('ncbi')\n",
    "\n",
    "    elif isolate_ID[0:3] == 'TDR':\n",
    "        isolate_tag_list.append(isolate_ID)\n",
    "        isolate_accession_ID_list.append('farhat_nat_comm_2019')\n",
    "        isolate_info_list.append('ncbi')\n",
    "\n",
    "    elif isolate_ID[0:3] == 'SAM':\n",
    "        isolate_tag_list.append(isolate_ID)\n",
    "        isolate_accession_ID_list.append(isolate_ID)\n",
    "        isolate_info_list.append('ncbi')\n",
    "        \n",
    "    elif isolate_ID[0:3] == 'ERR':\n",
    "        isolate_tag_list.append(isolate_ID)\n",
    "        isolate_accession_ID_list.append(isolate_ID)\n",
    "        isolate_info_list.append('ena')\n",
    "        \n",
    "    elif (len(isolate_ID) == 7):\n",
    "        isolate_tag_list.append(isolate_ID)\n",
    "        isolate_accession_ID_list.append('farhat_nat_comm_2019')\n",
    "        isolate_info_list.append('ncbi')\n",
    "        \n",
    "    else:\n",
    "        isolate_tag_list.append(isolate_ID)\n",
    "        isolate_accession_ID_list.append('N/A')\n",
    "        isolate_info_list.append('N/A')\n",
    "        \n",
    "# construct DataFrame from lists\n",
    "supplementary_table_isolate_IDs = pd.DataFrame()\n",
    "supplementary_table_isolate_IDs['sample ID'] = isolate_tag_list\n",
    "supplementary_table_isolate_IDs['accession ID'] = isolate_accession_ID_list\n",
    "supplementary_table_isolate_IDs['INFO'] = isolate_info_list"
   ]
  },
  {
   "cell_type": "code",
   "execution_count": 193,
   "metadata": {},
   "outputs": [
    {
     "data": {
      "text/html": [
       "<div>\n",
       "<style>\n",
       "    .dataframe thead tr:only-child th {\n",
       "        text-align: right;\n",
       "    }\n",
       "\n",
       "    .dataframe thead th {\n",
       "        text-align: left;\n",
       "    }\n",
       "\n",
       "    .dataframe tbody tr th {\n",
       "        vertical-align: top;\n",
       "    }\n",
       "</style>\n",
       "<table border=\"1\" class=\"dataframe\">\n",
       "  <thead>\n",
       "    <tr style=\"text-align: right;\">\n",
       "      <th></th>\n",
       "      <th>sample ID</th>\n",
       "      <th>accession ID</th>\n",
       "      <th>INFO</th>\n",
       "    </tr>\n",
       "  </thead>\n",
       "  <tbody>\n",
       "    <tr>\n",
       "      <th>0</th>\n",
       "      <td>IT123</td>\n",
       "      <td>SAMN21438148</td>\n",
       "      <td>ncbi</td>\n",
       "    </tr>\n",
       "    <tr>\n",
       "      <th>1</th>\n",
       "      <td>IT184</td>\n",
       "      <td>SAMN21438149</td>\n",
       "      <td>ncbi</td>\n",
       "    </tr>\n",
       "    <tr>\n",
       "      <th>2</th>\n",
       "      <td>IT952</td>\n",
       "      <td>SAMN21438150</td>\n",
       "      <td>ncbi</td>\n",
       "    </tr>\n",
       "    <tr>\n",
       "      <th>3</th>\n",
       "      <td>IT524</td>\n",
       "      <td>SAMN21438151</td>\n",
       "      <td>ncbi</td>\n",
       "    </tr>\n",
       "    <tr>\n",
       "      <th>4</th>\n",
       "      <td>655-19</td>\n",
       "      <td>SAMN21438152</td>\n",
       "      <td>ncbi</td>\n",
       "    </tr>\n",
       "    <tr>\n",
       "      <th>5</th>\n",
       "      <td>IT233</td>\n",
       "      <td>ERS2395000</td>\n",
       "      <td>ncbi</td>\n",
       "    </tr>\n",
       "    <tr>\n",
       "      <th>6</th>\n",
       "      <td>IT77</td>\n",
       "      <td>ERS2394970</td>\n",
       "      <td>ncbi</td>\n",
       "    </tr>\n",
       "    <tr>\n",
       "      <th>7</th>\n",
       "      <td>622-19</td>\n",
       "      <td>SAMN21438153</td>\n",
       "      <td>ncbi</td>\n",
       "    </tr>\n",
       "    <tr>\n",
       "      <th>8</th>\n",
       "      <td>IT1070</td>\n",
       "      <td>SAMN21438154</td>\n",
       "      <td>ncbi</td>\n",
       "    </tr>\n",
       "    <tr>\n",
       "      <th>9</th>\n",
       "      <td>IT947</td>\n",
       "      <td>SAMN21438155</td>\n",
       "      <td>ncbi</td>\n",
       "    </tr>\n",
       "    <tr>\n",
       "      <th>10</th>\n",
       "      <td>168-19</td>\n",
       "      <td>SAMN21438156</td>\n",
       "      <td>ncbi</td>\n",
       "    </tr>\n",
       "    <tr>\n",
       "      <th>11</th>\n",
       "      <td>IT634</td>\n",
       "      <td>ERS2395185</td>\n",
       "      <td>ncbi</td>\n",
       "    </tr>\n",
       "    <tr>\n",
       "      <th>12</th>\n",
       "      <td>SAMEA3558733</td>\n",
       "      <td>SAMEA3558733</td>\n",
       "      <td>ncbi</td>\n",
       "    </tr>\n",
       "    <tr>\n",
       "      <th>13</th>\n",
       "      <td>SAMN03648641</td>\n",
       "      <td>SAMN03648641</td>\n",
       "      <td>patric,ncbi</td>\n",
       "    </tr>\n",
       "    <tr>\n",
       "      <th>14</th>\n",
       "      <td>SAMN03647419</td>\n",
       "      <td>SAMN03647419</td>\n",
       "      <td>patric,ncbi</td>\n",
       "    </tr>\n",
       "    <tr>\n",
       "      <th>15</th>\n",
       "      <td>SAMEA3671418</td>\n",
       "      <td>SAMEA3671418</td>\n",
       "      <td>ncbi</td>\n",
       "    </tr>\n",
       "    <tr>\n",
       "      <th>16</th>\n",
       "      <td>SAMN07659096</td>\n",
       "      <td>SAMN07659096</td>\n",
       "      <td>patric,ncbi</td>\n",
       "    </tr>\n",
       "    <tr>\n",
       "      <th>17</th>\n",
       "      <td>SAMEA1119683</td>\n",
       "      <td>SAMEA1119683</td>\n",
       "      <td>patric,ncbi</td>\n",
       "    </tr>\n",
       "    <tr>\n",
       "      <th>18</th>\n",
       "      <td>SAMN05576173</td>\n",
       "      <td>SAMN05576173</td>\n",
       "      <td>ncbi</td>\n",
       "    </tr>\n",
       "    <tr>\n",
       "      <th>19</th>\n",
       "      <td>SAMN07373373</td>\n",
       "      <td>SAMN07373373</td>\n",
       "      <td>ncbi</td>\n",
       "    </tr>\n",
       "  </tbody>\n",
       "</table>\n",
       "</div>"
      ],
      "text/plain": [
       "       sample ID  accession ID         INFO\n",
       "0          IT123  SAMN21438148         ncbi\n",
       "1          IT184  SAMN21438149         ncbi\n",
       "2          IT952  SAMN21438150         ncbi\n",
       "3          IT524  SAMN21438151         ncbi\n",
       "4         655-19  SAMN21438152         ncbi\n",
       "5          IT233    ERS2395000         ncbi\n",
       "6           IT77    ERS2394970         ncbi\n",
       "7         622-19  SAMN21438153         ncbi\n",
       "8         IT1070  SAMN21438154         ncbi\n",
       "9          IT947  SAMN21438155         ncbi\n",
       "10        168-19  SAMN21438156         ncbi\n",
       "11         IT634    ERS2395185         ncbi\n",
       "12  SAMEA3558733  SAMEA3558733         ncbi\n",
       "13  SAMN03648641  SAMN03648641  patric,ncbi\n",
       "14  SAMN03647419  SAMN03647419  patric,ncbi\n",
       "15  SAMEA3671418  SAMEA3671418         ncbi\n",
       "16  SAMN07659096  SAMN07659096  patric,ncbi\n",
       "17  SAMEA1119683  SAMEA1119683  patric,ncbi\n",
       "18  SAMN05576173  SAMN05576173         ncbi\n",
       "19  SAMN07373373  SAMN07373373         ncbi"
      ]
     },
     "execution_count": 193,
     "metadata": {},
     "output_type": "execute_result"
    }
   ],
   "source": [
    "supplementary_table_isolate_IDs.head(n = 20)"
   ]
  },
  {
   "cell_type": "code",
   "execution_count": 194,
   "metadata": {},
   "outputs": [
    {
     "data": {
      "text/plain": [
       "(31440, 3)"
      ]
     },
     "execution_count": 194,
     "metadata": {},
     "output_type": "execute_result"
    }
   ],
   "source": [
    "np.shape(supplementary_table_isolate_IDs)"
   ]
  },
  {
   "cell_type": "markdown",
   "metadata": {},
   "source": [
    "# [2.2] check sample accessions that haven't been deposited"
   ]
  },
  {
   "cell_type": "code",
   "execution_count": 195,
   "metadata": {},
   "outputs": [
    {
     "data": {
      "text/html": [
       "<div>\n",
       "<style>\n",
       "    .dataframe thead tr:only-child th {\n",
       "        text-align: right;\n",
       "    }\n",
       "\n",
       "    .dataframe thead th {\n",
       "        text-align: left;\n",
       "    }\n",
       "\n",
       "    .dataframe tbody tr th {\n",
       "        vertical-align: top;\n",
       "    }\n",
       "</style>\n",
       "<table border=\"1\" class=\"dataframe\">\n",
       "  <thead>\n",
       "    <tr style=\"text-align: right;\">\n",
       "      <th></th>\n",
       "      <th>sample ID</th>\n",
       "      <th>accession ID</th>\n",
       "      <th>INFO</th>\n",
       "    </tr>\n",
       "  </thead>\n",
       "  <tbody>\n",
       "    <tr>\n",
       "      <th>7626</th>\n",
       "      <td>1479144119992T178715lib4992nextseqn0036151bp</td>\n",
       "      <td>N/A</td>\n",
       "      <td>N/A</td>\n",
       "    </tr>\n",
       "    <tr>\n",
       "      <th>9270</th>\n",
       "      <td>1479144119992T178015lib4985nextseqn0035151bp</td>\n",
       "      <td>N/A</td>\n",
       "      <td>N/A</td>\n",
       "    </tr>\n",
       "    <tr>\n",
       "      <th>22582</th>\n",
       "      <td>1479144813357T180715lib5012nextseqn0035151bp</td>\n",
       "      <td>N/A</td>\n",
       "      <td>N/A</td>\n",
       "    </tr>\n",
       "  </tbody>\n",
       "</table>\n",
       "</div>"
      ],
      "text/plain": [
       "                                          sample ID accession ID INFO\n",
       "7626   1479144119992T178715lib4992nextseqn0036151bp          N/A  N/A\n",
       "9270   1479144119992T178015lib4985nextseqn0035151bp          N/A  N/A\n",
       "22582  1479144813357T180715lib5012nextseqn0035151bp          N/A  N/A"
      ]
     },
     "execution_count": 195,
     "metadata": {},
     "output_type": "execute_result"
    }
   ],
   "source": [
    "supplementary_table_isolate_IDs[supplementary_table_isolate_IDs.INFO == 'N/A']"
   ]
  },
  {
   "cell_type": "code",
   "execution_count": 196,
   "metadata": {},
   "outputs": [
    {
     "data": {
      "text/plain": [
       "(3, 3)"
      ]
     },
     "execution_count": 196,
     "metadata": {},
     "output_type": "execute_result"
    }
   ],
   "source": [
    "np.shape(supplementary_table_isolate_IDs[supplementary_table_isolate_IDs.INFO == 'N/A'])"
   ]
  },
  {
   "cell_type": "code",
   "execution_count": 197,
   "metadata": {},
   "outputs": [
    {
     "data": {
      "text/html": [
       "<div>\n",
       "<style>\n",
       "    .dataframe thead tr:only-child th {\n",
       "        text-align: right;\n",
       "    }\n",
       "\n",
       "    .dataframe thead th {\n",
       "        text-align: left;\n",
       "    }\n",
       "\n",
       "    .dataframe tbody tr th {\n",
       "        vertical-align: top;\n",
       "    }\n",
       "</style>\n",
       "<table border=\"1\" class=\"dataframe\">\n",
       "  <thead>\n",
       "    <tr style=\"text-align: right;\">\n",
       "      <th></th>\n",
       "      <th>lineage_1</th>\n",
       "      <th>lineage_2</th>\n",
       "      <th>lineage_3</th>\n",
       "      <th>lineage_4</th>\n",
       "      <th>lineage_5</th>\n",
       "      <th>lineage_6</th>\n",
       "      <th>lineage_7</th>\n",
       "      <th>lineage_8</th>\n",
       "      <th>lineage_9</th>\n",
       "      <th>lineage_10</th>\n",
       "      <th>lineage_11</th>\n",
       "      <th>isolate_ID</th>\n",
       "      <th>lineage_call</th>\n",
       "      <th>group</th>\n",
       "    </tr>\n",
       "  </thead>\n",
       "  <tbody>\n",
       "    <tr>\n",
       "      <th>7614</th>\n",
       "      <td>2</td>\n",
       "      <td>2</td>\n",
       "      <td>2</td>\n",
       "      <td>NaN</td>\n",
       "      <td>NaN</td>\n",
       "      <td>NaN</td>\n",
       "      <td>NaN</td>\n",
       "      <td>NaN</td>\n",
       "      <td>NaN</td>\n",
       "      <td>NaN</td>\n",
       "      <td>NaN</td>\n",
       "      <td>1479144119992T178715lib4992nextseqn0036151bp</td>\n",
       "      <td>2.2.2</td>\n",
       "      <td>2</td>\n",
       "    </tr>\n",
       "  </tbody>\n",
       "</table>\n",
       "</div>"
      ],
      "text/plain": [
       "     lineage_1 lineage_2 lineage_3 lineage_4 lineage_5 lineage_6 lineage_7  \\\n",
       "7614         2         2         2       NaN       NaN       NaN       NaN   \n",
       "\n",
       "     lineage_8 lineage_9 lineage_10 lineage_11  \\\n",
       "7614       NaN       NaN        NaN        NaN   \n",
       "\n",
       "                                        isolate_ID lineage_call group  \n",
       "7614  1479144119992T178715lib4992nextseqn0036151bp        2.2.2     2  "
      ]
     },
     "execution_count": 197,
     "metadata": {},
     "output_type": "execute_result"
    }
   ],
   "source": [
    "isolate_annotation_DF[isolate_annotation_DF.isolate_ID == '1479144119992T178715lib4992nextseqn0036151bp']"
   ]
  },
  {
   "cell_type": "code",
   "execution_count": 198,
   "metadata": {},
   "outputs": [
    {
     "data": {
      "text/html": [
       "<div>\n",
       "<style>\n",
       "    .dataframe thead tr:only-child th {\n",
       "        text-align: right;\n",
       "    }\n",
       "\n",
       "    .dataframe thead th {\n",
       "        text-align: left;\n",
       "    }\n",
       "\n",
       "    .dataframe tbody tr th {\n",
       "        vertical-align: top;\n",
       "    }\n",
       "</style>\n",
       "<table border=\"1\" class=\"dataframe\">\n",
       "  <thead>\n",
       "    <tr style=\"text-align: right;\">\n",
       "      <th></th>\n",
       "      <th>lineage_1</th>\n",
       "      <th>lineage_2</th>\n",
       "      <th>lineage_3</th>\n",
       "      <th>lineage_4</th>\n",
       "      <th>lineage_5</th>\n",
       "      <th>lineage_6</th>\n",
       "      <th>lineage_7</th>\n",
       "      <th>lineage_8</th>\n",
       "      <th>lineage_9</th>\n",
       "      <th>lineage_10</th>\n",
       "      <th>lineage_11</th>\n",
       "      <th>isolate_ID</th>\n",
       "      <th>lineage_call</th>\n",
       "      <th>group</th>\n",
       "    </tr>\n",
       "  </thead>\n",
       "  <tbody>\n",
       "    <tr>\n",
       "      <th>9258</th>\n",
       "      <td>2</td>\n",
       "      <td>2</td>\n",
       "      <td>1</td>\n",
       "      <td>1</td>\n",
       "      <td>1</td>\n",
       "      <td>NaN</td>\n",
       "      <td>NaN</td>\n",
       "      <td>NaN</td>\n",
       "      <td>NaN</td>\n",
       "      <td>NaN</td>\n",
       "      <td>NaN</td>\n",
       "      <td>1479144119992T178015lib4985nextseqn0035151bp</td>\n",
       "      <td>2.2.1.1.1</td>\n",
       "      <td>2</td>\n",
       "    </tr>\n",
       "  </tbody>\n",
       "</table>\n",
       "</div>"
      ],
      "text/plain": [
       "     lineage_1 lineage_2 lineage_3 lineage_4 lineage_5 lineage_6 lineage_7  \\\n",
       "9258         2         2         1         1         1       NaN       NaN   \n",
       "\n",
       "     lineage_8 lineage_9 lineage_10 lineage_11  \\\n",
       "9258       NaN       NaN        NaN        NaN   \n",
       "\n",
       "                                        isolate_ID lineage_call group  \n",
       "9258  1479144119992T178015lib4985nextseqn0035151bp    2.2.1.1.1     2  "
      ]
     },
     "execution_count": 198,
     "metadata": {},
     "output_type": "execute_result"
    }
   ],
   "source": [
    "isolate_annotation_DF[isolate_annotation_DF.isolate_ID == '1479144119992T178015lib4985nextseqn0035151bp']"
   ]
  },
  {
   "cell_type": "code",
   "execution_count": 199,
   "metadata": {},
   "outputs": [
    {
     "data": {
      "text/html": [
       "<div>\n",
       "<style>\n",
       "    .dataframe thead tr:only-child th {\n",
       "        text-align: right;\n",
       "    }\n",
       "\n",
       "    .dataframe thead th {\n",
       "        text-align: left;\n",
       "    }\n",
       "\n",
       "    .dataframe tbody tr th {\n",
       "        vertical-align: top;\n",
       "    }\n",
       "</style>\n",
       "<table border=\"1\" class=\"dataframe\">\n",
       "  <thead>\n",
       "    <tr style=\"text-align: right;\">\n",
       "      <th></th>\n",
       "      <th>lineage_1</th>\n",
       "      <th>lineage_2</th>\n",
       "      <th>lineage_3</th>\n",
       "      <th>lineage_4</th>\n",
       "      <th>lineage_5</th>\n",
       "      <th>lineage_6</th>\n",
       "      <th>lineage_7</th>\n",
       "      <th>lineage_8</th>\n",
       "      <th>lineage_9</th>\n",
       "      <th>lineage_10</th>\n",
       "      <th>lineage_11</th>\n",
       "      <th>isolate_ID</th>\n",
       "      <th>lineage_call</th>\n",
       "      <th>group</th>\n",
       "    </tr>\n",
       "  </thead>\n",
       "  <tbody>\n",
       "    <tr>\n",
       "      <th>22570</th>\n",
       "      <td>2</td>\n",
       "      <td>2</td>\n",
       "      <td>1</td>\n",
       "      <td>1</td>\n",
       "      <td>1</td>\n",
       "      <td>NaN</td>\n",
       "      <td>NaN</td>\n",
       "      <td>NaN</td>\n",
       "      <td>NaN</td>\n",
       "      <td>NaN</td>\n",
       "      <td>NaN</td>\n",
       "      <td>1479144813357T180715lib5012nextseqn0035151bp</td>\n",
       "      <td>2.2.1.1.1</td>\n",
       "      <td>2</td>\n",
       "    </tr>\n",
       "  </tbody>\n",
       "</table>\n",
       "</div>"
      ],
      "text/plain": [
       "      lineage_1 lineage_2 lineage_3 lineage_4 lineage_5 lineage_6 lineage_7  \\\n",
       "22570         2         2         1         1         1       NaN       NaN   \n",
       "\n",
       "      lineage_8 lineage_9 lineage_10 lineage_11  \\\n",
       "22570       NaN       NaN        NaN        NaN   \n",
       "\n",
       "                                         isolate_ID lineage_call group  \n",
       "22570  1479144813357T180715lib5012nextseqn0035151bp    2.2.1.1.1     2  "
      ]
     },
     "execution_count": 199,
     "metadata": {},
     "output_type": "execute_result"
    }
   ],
   "source": [
    "isolate_annotation_DF[isolate_annotation_DF.isolate_ID == '1479144813357T180715lib5012nextseqn0035151bp']"
   ]
  },
  {
   "cell_type": "markdown",
   "metadata": {},
   "source": [
    "All **\"147\"** isolates came from the same source"
   ]
  },
  {
   "cell_type": "code",
   "execution_count": 200,
   "metadata": {},
   "outputs": [
    {
     "data": {
      "text/plain": [
       "{'ReseqTB'}"
      ]
     },
     "execution_count": 200,
     "metadata": {},
     "output_type": "execute_result"
    }
   ],
   "source": [
    "set(geographic_isolate_df_B[[('147' == isolate_ID[0:3]) for isolate_ID in geographic_isolate_df_B.index]].Source)"
   ]
  },
  {
   "cell_type": "code",
   "execution_count": 201,
   "metadata": {},
   "outputs": [
    {
     "data": {
      "text/plain": [
       "{'Borstel'}"
      ]
     },
     "execution_count": 201,
     "metadata": {},
     "output_type": "execute_result"
    }
   ],
   "source": [
    "set(geographic_isolate_df_B[[('147' == isolate_ID[0:3]) for isolate_ID in geographic_isolate_df_B.index]].Lab)"
   ]
  },
  {
   "cell_type": "code",
   "execution_count": 202,
   "metadata": {},
   "outputs": [
    {
     "data": {
      "text/plain": [
       "{'Germany'}"
      ]
     },
     "execution_count": 202,
     "metadata": {},
     "output_type": "execute_result"
    }
   ],
   "source": [
    "set(geographic_isolate_df_B[[('147' == isolate_ID[0:3]) for isolate_ID in geographic_isolate_df_B.index]].Country)"
   ]
  },
  {
   "cell_type": "markdown",
   "metadata": {},
   "source": [
    "### Replace N/A values with accession IDs that were uploaded to NCBI"
   ]
  },
  {
   "cell_type": "markdown",
   "metadata": {},
   "source": [
    "- 1479144119992T178715lib4992nextseqn0036151bp: SAMN21441812\n",
    "- 1479144119992T178015lib4985nextseqn0035151bp: SAMN21441811\n",
    "- 1479144813357T180715lib5012nextseqn0035151bp: SAMN21441813"
   ]
  },
  {
   "cell_type": "code",
   "execution_count": 203,
   "metadata": {},
   "outputs": [],
   "source": [
    "supplementary_table_isolate_IDs.loc[7626, ['accession ID','INFO']] = ['SAMN21441812','ncbi']\n",
    "supplementary_table_isolate_IDs.loc[9270, ['accession ID','INFO']] = ['SAMN21441811','ncbi']\n",
    "supplementary_table_isolate_IDs.loc[22582, ['accession ID','INFO']] = ['SAMN21441813','ncbi']"
   ]
  },
  {
   "cell_type": "code",
   "execution_count": 204,
   "metadata": {},
   "outputs": [
    {
     "data": {
      "text/html": [
       "<div>\n",
       "<style>\n",
       "    .dataframe thead tr:only-child th {\n",
       "        text-align: right;\n",
       "    }\n",
       "\n",
       "    .dataframe thead th {\n",
       "        text-align: left;\n",
       "    }\n",
       "\n",
       "    .dataframe tbody tr th {\n",
       "        vertical-align: top;\n",
       "    }\n",
       "</style>\n",
       "<table border=\"1\" class=\"dataframe\">\n",
       "  <thead>\n",
       "    <tr style=\"text-align: right;\">\n",
       "      <th></th>\n",
       "      <th>sample ID</th>\n",
       "      <th>accession ID</th>\n",
       "      <th>INFO</th>\n",
       "    </tr>\n",
       "  </thead>\n",
       "  <tbody>\n",
       "  </tbody>\n",
       "</table>\n",
       "</div>"
      ],
      "text/plain": [
       "Empty DataFrame\n",
       "Columns: [sample ID, accession ID, INFO]\n",
       "Index: []"
      ]
     },
     "execution_count": 204,
     "metadata": {},
     "output_type": "execute_result"
    }
   ],
   "source": [
    "supplementary_table_isolate_IDs[supplementary_table_isolate_IDs.INFO == 'N/A']"
   ]
  },
  {
   "cell_type": "markdown",
   "metadata": {},
   "source": [
    "# [2.3] check sample accessions that belong to *peru* samples from *NatComm* 2019 paper"
   ]
  },
  {
   "cell_type": "code",
   "execution_count": 205,
   "metadata": {},
   "outputs": [
    {
     "data": {
      "text/html": [
       "<div>\n",
       "<style>\n",
       "    .dataframe thead tr:only-child th {\n",
       "        text-align: right;\n",
       "    }\n",
       "\n",
       "    .dataframe thead th {\n",
       "        text-align: left;\n",
       "    }\n",
       "\n",
       "    .dataframe tbody tr th {\n",
       "        vertical-align: top;\n",
       "    }\n",
       "</style>\n",
       "<table border=\"1\" class=\"dataframe\">\n",
       "  <thead>\n",
       "    <tr style=\"text-align: right;\">\n",
       "      <th></th>\n",
       "      <th>sample ID</th>\n",
       "      <th>accession ID</th>\n",
       "      <th>INFO</th>\n",
       "    </tr>\n",
       "  </thead>\n",
       "  <tbody>\n",
       "    <tr>\n",
       "      <th>45</th>\n",
       "      <td>02R1945</td>\n",
       "      <td>farhat_nat_comm_2019</td>\n",
       "      <td>ncbi</td>\n",
       "    </tr>\n",
       "    <tr>\n",
       "      <th>61</th>\n",
       "      <td>01R0685</td>\n",
       "      <td>farhat_nat_comm_2019</td>\n",
       "      <td>ncbi</td>\n",
       "    </tr>\n",
       "    <tr>\n",
       "      <th>63</th>\n",
       "      <td>Peru4532</td>\n",
       "      <td>farhat_nat_comm_2019</td>\n",
       "      <td>ncbi</td>\n",
       "    </tr>\n",
       "    <tr>\n",
       "      <th>90</th>\n",
       "      <td>TDR236S160L002</td>\n",
       "      <td>farhat_nat_comm_2019</td>\n",
       "      <td>ncbi</td>\n",
       "    </tr>\n",
       "    <tr>\n",
       "      <th>111</th>\n",
       "      <td>TDR94S189L002</td>\n",
       "      <td>farhat_nat_comm_2019</td>\n",
       "      <td>ncbi</td>\n",
       "    </tr>\n",
       "  </tbody>\n",
       "</table>\n",
       "</div>"
      ],
      "text/plain": [
       "          sample ID          accession ID  INFO\n",
       "45          02R1945  farhat_nat_comm_2019  ncbi\n",
       "61          01R0685  farhat_nat_comm_2019  ncbi\n",
       "63         Peru4532  farhat_nat_comm_2019  ncbi\n",
       "90   TDR236S160L002  farhat_nat_comm_2019  ncbi\n",
       "111   TDR94S189L002  farhat_nat_comm_2019  ncbi"
      ]
     },
     "execution_count": 205,
     "metadata": {},
     "output_type": "execute_result"
    }
   ],
   "source": [
    "supplementary_table_isolate_IDs[supplementary_table_isolate_IDs.loc[:,'accession ID'] == 'farhat_nat_comm_2019'].head()"
   ]
  },
  {
   "cell_type": "code",
   "execution_count": 206,
   "metadata": {},
   "outputs": [
    {
     "data": {
      "text/plain": [
       "(1226, 3)"
      ]
     },
     "execution_count": 206,
     "metadata": {},
     "output_type": "execute_result"
    }
   ],
   "source": [
    "np.shape(supplementary_table_isolate_IDs[supplementary_table_isolate_IDs.loc[:,'accession ID'] == 'farhat_nat_comm_2019'])"
   ]
  },
  {
   "cell_type": "markdown",
   "metadata": {},
   "source": [
    "#### Load in the CSV file that contains annotation information from isolates examined in *Farhat et al (2019) Nature Communications*"
   ]
  },
  {
   "cell_type": "code",
   "execution_count": 207,
   "metadata": {},
   "outputs": [],
   "source": [
    "farhat_2019_natcomm_annot_df = pd.read_csv('/n/data1/hms/dbmi/farhat/Roger/inhost_TB_dynamics_project/CSV_files/sample_annotation_files/41467_2019_10110_MOESM4_ESM.csv')"
   ]
  },
  {
   "cell_type": "code",
   "execution_count": 208,
   "metadata": {},
   "outputs": [
    {
     "data": {
      "text/html": [
       "<div>\n",
       "<style>\n",
       "    .dataframe thead tr:only-child th {\n",
       "        text-align: right;\n",
       "    }\n",
       "\n",
       "    .dataframe thead th {\n",
       "        text-align: left;\n",
       "    }\n",
       "\n",
       "    .dataframe tbody tr th {\n",
       "        vertical-align: top;\n",
       "    }\n",
       "</style>\n",
       "<table border=\"1\" class=\"dataframe\">\n",
       "  <thead>\n",
       "    <tr style=\"text-align: right;\">\n",
       "      <th></th>\n",
       "      <th>BioProject</th>\n",
       "      <th>Run No</th>\n",
       "      <th>BioSample</th>\n",
       "      <th>WGSAccessionNumber OR Run Accession</th>\n",
       "      <th>ID</th>\n",
       "      <th>Alt ID</th>\n",
       "      <th>PATIENT_ID1</th>\n",
       "      <th>PATIENT_ID2</th>\n",
       "      <th>Country of Isolation</th>\n",
       "      <th>Phylogenetic lineage</th>\n",
       "      <th>spoligotype family</th>\n",
       "      <th>Coll et al Barcode based lineage</th>\n",
       "    </tr>\n",
       "  </thead>\n",
       "  <tbody>\n",
       "    <tr>\n",
       "      <th>0</th>\n",
       "      <td>PRJEB26000</td>\n",
       "      <td>NaN</td>\n",
       "      <td>ERS2401270</td>\n",
       "      <td>ERR2516592</td>\n",
       "      <td>00-R0223</td>\n",
       "      <td>00-R0223</td>\n",
       "      <td>NaN</td>\n",
       "      <td>NaN</td>\n",
       "      <td>Peru</td>\n",
       "      <td>4.8</td>\n",
       "      <td>Haarlem</td>\n",
       "      <td>lineage4,lineage4.8</td>\n",
       "    </tr>\n",
       "    <tr>\n",
       "      <th>1</th>\n",
       "      <td>PRJEB26000</td>\n",
       "      <td>NaN</td>\n",
       "      <td>ERS2401327</td>\n",
       "      <td>ERR2516649</td>\n",
       "      <td>00-R0312</td>\n",
       "      <td>00-R0312</td>\n",
       "      <td>NaN</td>\n",
       "      <td>NaN</td>\n",
       "      <td>Peru</td>\n",
       "      <td>4.3</td>\n",
       "      <td>LAM</td>\n",
       "      <td>lineage4,lineage4.3,lineage4.3.3</td>\n",
       "    </tr>\n",
       "    <tr>\n",
       "      <th>2</th>\n",
       "      <td>PRJEB26000</td>\n",
       "      <td>NaN</td>\n",
       "      <td>ERS2401310</td>\n",
       "      <td>ERR2516632</td>\n",
       "      <td>00-R0435</td>\n",
       "      <td>00-R0435</td>\n",
       "      <td>NaN</td>\n",
       "      <td>NaN</td>\n",
       "      <td>Peru</td>\n",
       "      <td>NaN</td>\n",
       "      <td>NaN</td>\n",
       "      <td>lineage4,lineage4.8</td>\n",
       "    </tr>\n",
       "    <tr>\n",
       "      <th>3</th>\n",
       "      <td>PRJEB26000</td>\n",
       "      <td>NaN</td>\n",
       "      <td>ERS2401368</td>\n",
       "      <td>ERR2516690</td>\n",
       "      <td>00-R0453</td>\n",
       "      <td>00-R0453</td>\n",
       "      <td>NaN</td>\n",
       "      <td>NaN</td>\n",
       "      <td>Peru</td>\n",
       "      <td>4.3</td>\n",
       "      <td>LAM</td>\n",
       "      <td>lineage4,lineage4.3,lineage4.3.3</td>\n",
       "    </tr>\n",
       "    <tr>\n",
       "      <th>4</th>\n",
       "      <td>PRJEB26000</td>\n",
       "      <td>NaN</td>\n",
       "      <td>ERS2401251</td>\n",
       "      <td>ERR2516573</td>\n",
       "      <td>00-R1566</td>\n",
       "      <td>00-R1566</td>\n",
       "      <td>NaN</td>\n",
       "      <td>NaN</td>\n",
       "      <td>Peru</td>\n",
       "      <td>4.1</td>\n",
       "      <td>X – clade</td>\n",
       "      <td>lineage4,lineage4.1,lineage4.1.1,lineage4.1.1.3</td>\n",
       "    </tr>\n",
       "  </tbody>\n",
       "</table>\n",
       "</div>"
      ],
      "text/plain": [
       "   BioProject Run No   BioSample WGSAccessionNumber OR Run Accession  \\\n",
       "0  PRJEB26000    NaN  ERS2401270                          ERR2516592   \n",
       "1  PRJEB26000    NaN  ERS2401327                          ERR2516649   \n",
       "2  PRJEB26000    NaN  ERS2401310                          ERR2516632   \n",
       "3  PRJEB26000    NaN  ERS2401368                          ERR2516690   \n",
       "4  PRJEB26000    NaN  ERS2401251                          ERR2516573   \n",
       "\n",
       "         ID    Alt ID PATIENT_ID1 PATIENT_ID2 Country of Isolation  \\\n",
       "0  00-R0223  00-R0223         NaN         NaN                 Peru   \n",
       "1  00-R0312  00-R0312         NaN         NaN                 Peru   \n",
       "2  00-R0435  00-R0435         NaN         NaN                 Peru   \n",
       "3  00-R0453  00-R0453         NaN         NaN                 Peru   \n",
       "4  00-R1566  00-R1566         NaN         NaN                 Peru   \n",
       "\n",
       "  Phylogenetic lineage spoligotype family  \\\n",
       "0                  4.8            Haarlem   \n",
       "1                  4.3                LAM   \n",
       "2                  NaN                NaN   \n",
       "3                  4.3                LAM   \n",
       "4                  4.1          X – clade   \n",
       "\n",
       "                  Coll et al Barcode based lineage  \n",
       "0                              lineage4,lineage4.8  \n",
       "1                 lineage4,lineage4.3,lineage4.3.3  \n",
       "2                              lineage4,lineage4.8  \n",
       "3                 lineage4,lineage4.3,lineage4.3.3  \n",
       "4  lineage4,lineage4.1,lineage4.1.1,lineage4.1.1.3  "
      ]
     },
     "execution_count": 208,
     "metadata": {},
     "output_type": "execute_result"
    }
   ],
   "source": [
    "farhat_2019_natcomm_annot_df.head()"
   ]
  },
  {
   "cell_type": "code",
   "execution_count": 209,
   "metadata": {},
   "outputs": [
    {
     "data": {
      "text/plain": [
       "(1483, 12)"
      ]
     },
     "execution_count": 209,
     "metadata": {},
     "output_type": "execute_result"
    }
   ],
   "source": [
    "np.shape(farhat_2019_natcomm_annot_df)"
   ]
  },
  {
   "cell_type": "markdown",
   "metadata": {},
   "source": [
    "### Fill in Run Accession IDs where missing for annotation files"
   ]
  },
  {
   "cell_type": "code",
   "execution_count": 210,
   "metadata": {},
   "outputs": [],
   "source": [
    "def get_missing_runIDs_from_farhat2019_NatComm(isolate_annot_df):\n",
    "    \n",
    "    '''\n",
    "    This function takes as input a df of isolate annotations and fills in missing Run ID accessions that are available from the Farhat et. al. (2019) Nature Communications paper.\n",
    "    '''\n",
    "\n",
    "    accession_ID_list = []\n",
    "\n",
    "    for row_i in isolate_annot_df.index:\n",
    "        \n",
    "        #if accession ID 'farhat_nat_comm_2019', then search for it in annotation file\n",
    "        if supplementary_table_isolate_IDs.loc[row_i, 'accession ID'] == 'farhat_nat_comm_2019':\n",
    "            \n",
    "            sample_ID = isolate_annot_df.loc[row_i , 'sample ID']\n",
    "            \n",
    "            #the sample ID matches a row for an isolate in the annotation file\n",
    "            if np.shape( farhat_2019_natcomm_annot_df[farhat_2019_natcomm_annot_df.ID == sample_ID] )[0] == 1:\n",
    "\n",
    "                WGS_or_Run_Accession = farhat_2019_natcomm_annot_df[farhat_2019_natcomm_annot_df.ID == sample_ID].loc[: , 'WGSAccessionNumber OR Run Accession'].values[0]\n",
    "                accession_ID_list.append(WGS_or_Run_Accession)\n",
    "                \n",
    "            # check for sample ID for the \"TDR\" farhat 2019 NatComm isolates\n",
    "            elif sample_ID[0:3] == \"TDR\":\n",
    "                \n",
    "                sample_ID_TDR = 'TDR ' + sample_ID.split('TDR')[1].split('S')[0] + ' S' + sample_ID.split('TDR')[1].split('S')[1].split('L')[0] + ' L' + sample_ID.split('TDR')[1].split('S')[1].split('L')[1]\n",
    "                \n",
    "                if np.shape( farhat_2019_natcomm_annot_df[farhat_2019_natcomm_annot_df.ID == sample_ID_TDR] )[0] == 1:\n",
    "                    \n",
    "                    WGS_or_Run_Accession = farhat_2019_natcomm_annot_df[farhat_2019_natcomm_annot_df.ID == sample_ID_TDR].loc[: , 'WGSAccessionNumber OR Run Accession'].values[0]\n",
    "                    accession_ID_list.append(WGS_or_Run_Accession)\n",
    "                    \n",
    "                else:\n",
    "                    accession_ID_list.append('PRJEB31023')\n",
    "                    \n",
    "            # check for sample ID for the \"M\" farhat 2019 NatComm isolates\n",
    "            elif sample_ID[0] == \"M\":\n",
    "            \n",
    "                if np.shape( farhat_2019_natcomm_annot_df[farhat_2019_natcomm_annot_df.loc[:,\"Alt ID\"] == sample_ID] )[0] == 1:\n",
    "\n",
    "                    WGS_or_Run_Accession = farhat_2019_natcomm_annot_df[farhat_2019_natcomm_annot_df.loc[:,\"Alt ID\"] == sample_ID].loc[: , 'WGSAccessionNumber OR Run Accession'].values[0]\n",
    "                    accession_ID_list.append(WGS_or_Run_Accession)\n",
    "\n",
    "                else:\n",
    "                    accession_ID_list.append('PRJNA343736')\n",
    "                \n",
    "\n",
    "            #the sample ID was NOT found in the other annotation file(s)\n",
    "            else:\n",
    "                accession_ID_list.append('PRJEB26000')\n",
    "        \n",
    "        #accession ID is same\n",
    "        else:\n",
    "            accession_ID_list.append(isolate_annot_df.loc[row_i , 'accession ID'])\n",
    "\n",
    "    #replace Run ID column from annotation df with updated Run ID column\n",
    "    isolate_annot_df['accession ID'] = accession_ID_list\n",
    "    \n",
    "    return isolate_annot_df"
   ]
  },
  {
   "cell_type": "markdown",
   "metadata": {},
   "source": [
    "#### Update the CSV file that contains annotation information for isolates"
   ]
  },
  {
   "cell_type": "code",
   "execution_count": 211,
   "metadata": {},
   "outputs": [],
   "source": [
    "supplementary_table_isolate_IDs = get_missing_runIDs_from_farhat2019_NatComm(supplementary_table_isolate_IDs)"
   ]
  },
  {
   "cell_type": "code",
   "execution_count": 212,
   "metadata": {},
   "outputs": [
    {
     "data": {
      "text/html": [
       "<div>\n",
       "<style>\n",
       "    .dataframe thead tr:only-child th {\n",
       "        text-align: right;\n",
       "    }\n",
       "\n",
       "    .dataframe thead th {\n",
       "        text-align: left;\n",
       "    }\n",
       "\n",
       "    .dataframe tbody tr th {\n",
       "        vertical-align: top;\n",
       "    }\n",
       "</style>\n",
       "<table border=\"1\" class=\"dataframe\">\n",
       "  <thead>\n",
       "    <tr style=\"text-align: right;\">\n",
       "      <th></th>\n",
       "      <th>sample ID</th>\n",
       "      <th>accession ID</th>\n",
       "      <th>INFO</th>\n",
       "    </tr>\n",
       "  </thead>\n",
       "  <tbody>\n",
       "    <tr>\n",
       "      <th>0</th>\n",
       "      <td>IT123</td>\n",
       "      <td>SAMN21438148</td>\n",
       "      <td>ncbi</td>\n",
       "    </tr>\n",
       "    <tr>\n",
       "      <th>1</th>\n",
       "      <td>IT184</td>\n",
       "      <td>SAMN21438149</td>\n",
       "      <td>ncbi</td>\n",
       "    </tr>\n",
       "    <tr>\n",
       "      <th>2</th>\n",
       "      <td>IT952</td>\n",
       "      <td>SAMN21438150</td>\n",
       "      <td>ncbi</td>\n",
       "    </tr>\n",
       "    <tr>\n",
       "      <th>3</th>\n",
       "      <td>IT524</td>\n",
       "      <td>SAMN21438151</td>\n",
       "      <td>ncbi</td>\n",
       "    </tr>\n",
       "    <tr>\n",
       "      <th>4</th>\n",
       "      <td>655-19</td>\n",
       "      <td>SAMN21438152</td>\n",
       "      <td>ncbi</td>\n",
       "    </tr>\n",
       "  </tbody>\n",
       "</table>\n",
       "</div>"
      ],
      "text/plain": [
       "  sample ID  accession ID  INFO\n",
       "0     IT123  SAMN21438148  ncbi\n",
       "1     IT184  SAMN21438149  ncbi\n",
       "2     IT952  SAMN21438150  ncbi\n",
       "3     IT524  SAMN21438151  ncbi\n",
       "4    655-19  SAMN21438152  ncbi"
      ]
     },
     "execution_count": 212,
     "metadata": {},
     "output_type": "execute_result"
    }
   ],
   "source": [
    "supplementary_table_isolate_IDs.head()"
   ]
  },
  {
   "cell_type": "code",
   "execution_count": 213,
   "metadata": {},
   "outputs": [
    {
     "data": {
      "text/html": [
       "<div>\n",
       "<style>\n",
       "    .dataframe thead tr:only-child th {\n",
       "        text-align: right;\n",
       "    }\n",
       "\n",
       "    .dataframe thead th {\n",
       "        text-align: left;\n",
       "    }\n",
       "\n",
       "    .dataframe tbody tr th {\n",
       "        vertical-align: top;\n",
       "    }\n",
       "</style>\n",
       "<table border=\"1\" class=\"dataframe\">\n",
       "  <thead>\n",
       "    <tr style=\"text-align: right;\">\n",
       "      <th></th>\n",
       "      <th>sample ID</th>\n",
       "      <th>accession ID</th>\n",
       "      <th>INFO</th>\n",
       "    </tr>\n",
       "  </thead>\n",
       "  <tbody>\n",
       "  </tbody>\n",
       "</table>\n",
       "</div>"
      ],
      "text/plain": [
       "Empty DataFrame\n",
       "Columns: [sample ID, accession ID, INFO]\n",
       "Index: []"
      ]
     },
     "execution_count": 213,
     "metadata": {},
     "output_type": "execute_result"
    }
   ],
   "source": [
    "supplementary_table_isolate_IDs[supplementary_table_isolate_IDs.loc[:,'accession ID'] == 'farhat_nat_comm_2019'].head(n=40)"
   ]
  },
  {
   "cell_type": "code",
   "execution_count": 214,
   "metadata": {},
   "outputs": [
    {
     "data": {
      "text/plain": [
       "(0, 3)"
      ]
     },
     "execution_count": 214,
     "metadata": {},
     "output_type": "execute_result"
    }
   ],
   "source": [
    "np.shape(supplementary_table_isolate_IDs[supplementary_table_isolate_IDs.loc[:,'accession ID'] == 'farhat_nat_comm_2019'])"
   ]
  },
  {
   "cell_type": "code",
   "execution_count": 215,
   "metadata": {},
   "outputs": [],
   "source": [
    "supplementary_table_isolate_IDs.to_excel('/n/data1/hms/dbmi/farhat/Roger/mmpR_BDQ_mutant_project/CSV files/Accession IDs for Isolates.xlsx')"
   ]
  },
  {
   "cell_type": "markdown",
   "metadata": {},
   "source": [
    "####################################################################################################################################################################################"
   ]
  },
  {
   "cell_type": "markdown",
   "metadata": {},
   "source": [
    "# [3] Get geographical information for samples"
   ]
  },
  {
   "cell_type": "markdown",
   "metadata": {},
   "source": [
    "####################################################################################################################################################################################"
   ]
  },
  {
   "cell_type": "markdown",
   "metadata": {},
   "source": [
    "Concatenate geographic information into one df"
   ]
  },
  {
   "cell_type": "code",
   "execution_count": 19,
   "metadata": {},
   "outputs": [],
   "source": [
    "isolate_tags = list(geographic_isolate_df_A.index) + list(geographic_isolate_df_B.index)"
   ]
  },
  {
   "cell_type": "code",
   "execution_count": 20,
   "metadata": {},
   "outputs": [
    {
     "data": {
      "text/plain": [
       "65725"
      ]
     },
     "execution_count": 20,
     "metadata": {},
     "output_type": "execute_result"
    }
   ],
   "source": [
    "len(isolate_tags)"
   ]
  },
  {
   "cell_type": "code",
   "execution_count": 21,
   "metadata": {},
   "outputs": [
    {
     "data": {
      "text/plain": [
       "65725"
      ]
     },
     "execution_count": 21,
     "metadata": {},
     "output_type": "execute_result"
    }
   ],
   "source": [
    "len(set(isolate_tags)) #check for no repeats"
   ]
  },
  {
   "cell_type": "code",
   "execution_count": 22,
   "metadata": {},
   "outputs": [],
   "source": [
    "geographic_isolate_df = pd.DataFrame(index = isolate_tags)\n",
    "geographic_location_list = list(geographic_isolate_df_A.isolation_country) + list(geographic_isolate_df_B.Country)\n",
    "geographic_isolate_df.loc[:, 'country'] = geographic_location_list"
   ]
  },
  {
   "cell_type": "code",
   "execution_count": 23,
   "metadata": {},
   "outputs": [
    {
     "data": {
      "text/html": [
       "<div>\n",
       "<style>\n",
       "    .dataframe thead tr:only-child th {\n",
       "        text-align: right;\n",
       "    }\n",
       "\n",
       "    .dataframe thead th {\n",
       "        text-align: left;\n",
       "    }\n",
       "\n",
       "    .dataframe tbody tr th {\n",
       "        vertical-align: top;\n",
       "    }\n",
       "</style>\n",
       "<table border=\"1\" class=\"dataframe\">\n",
       "  <thead>\n",
       "    <tr style=\"text-align: right;\">\n",
       "      <th></th>\n",
       "      <th>country</th>\n",
       "    </tr>\n",
       "  </thead>\n",
       "  <tbody>\n",
       "    <tr>\n",
       "      <th>SAMEA787746</th>\n",
       "      <td>Uganda</td>\n",
       "    </tr>\n",
       "    <tr>\n",
       "      <th>SAMN08684019</th>\n",
       "      <td>Lebanon</td>\n",
       "    </tr>\n",
       "    <tr>\n",
       "      <th>SAMN09566410</th>\n",
       "      <td>South Africa</td>\n",
       "    </tr>\n",
       "  </tbody>\n",
       "</table>\n",
       "</div>"
      ],
      "text/plain": [
       "                   country\n",
       "SAMEA787746         Uganda\n",
       "SAMN08684019       Lebanon\n",
       "SAMN09566410  South Africa"
      ]
     },
     "execution_count": 23,
     "metadata": {},
     "output_type": "execute_result"
    }
   ],
   "source": [
    "geographic_isolate_df.head(n=3)"
   ]
  },
  {
   "cell_type": "code",
   "execution_count": 24,
   "metadata": {},
   "outputs": [
    {
     "data": {
      "text/plain": [
       "(65725, 1)"
      ]
     },
     "execution_count": 24,
     "metadata": {},
     "output_type": "execute_result"
    }
   ],
   "source": [
    "np.shape(geographic_isolate_df)"
   ]
  },
  {
   "cell_type": "markdown",
   "metadata": {},
   "source": [
    "Drop **nan** values, isolates with no country info"
   ]
  },
  {
   "cell_type": "code",
   "execution_count": 25,
   "metadata": {},
   "outputs": [],
   "source": [
    "isolates_with_country_filter = geographic_isolate_df.loc[: , 'country'].isnull() == False\n",
    "geographic_isolate_df = geographic_isolate_df[isolates_with_country_filter]"
   ]
  },
  {
   "cell_type": "code",
   "execution_count": 26,
   "metadata": {},
   "outputs": [
    {
     "data": {
      "text/plain": [
       "(48261, 1)"
      ]
     },
     "execution_count": 26,
     "metadata": {},
     "output_type": "execute_result"
    }
   ],
   "source": [
    "np.shape(geographic_isolate_df)"
   ]
  },
  {
   "cell_type": "markdown",
   "metadata": {},
   "source": [
    "Append to isolate annotation DF"
   ]
  },
  {
   "cell_type": "code",
   "execution_count": 27,
   "metadata": {},
   "outputs": [],
   "source": [
    "isolate_country_origin_list = []\n",
    "\n",
    "for isolate_id in isolate_annotation_DF.isolate_ID:\n",
    "    \n",
    "    if isolate_id in geographic_isolate_df.index:\n",
    "        \n",
    "        isolate_country_origin_list.append(geographic_isolate_df.loc[isolate_id , 'country'])\n",
    "        \n",
    "    else:\n",
    "        \n",
    "        isolate_country_origin_list.append('#')\n",
    "        \n",
    "isolate_annotation_DF['country'] = isolate_country_origin_list"
   ]
  },
  {
   "cell_type": "code",
   "execution_count": 28,
   "metadata": {},
   "outputs": [
    {
     "data": {
      "text/html": [
       "<div>\n",
       "<style>\n",
       "    .dataframe thead tr:only-child th {\n",
       "        text-align: right;\n",
       "    }\n",
       "\n",
       "    .dataframe thead th {\n",
       "        text-align: left;\n",
       "    }\n",
       "\n",
       "    .dataframe tbody tr th {\n",
       "        vertical-align: top;\n",
       "    }\n",
       "</style>\n",
       "<table border=\"1\" class=\"dataframe\">\n",
       "  <thead>\n",
       "    <tr style=\"text-align: right;\">\n",
       "      <th></th>\n",
       "      <th>lineage_1</th>\n",
       "      <th>lineage_2</th>\n",
       "      <th>lineage_3</th>\n",
       "      <th>lineage_4</th>\n",
       "      <th>lineage_5</th>\n",
       "      <th>lineage_6</th>\n",
       "      <th>lineage_7</th>\n",
       "      <th>lineage_8</th>\n",
       "      <th>lineage_9</th>\n",
       "      <th>lineage_10</th>\n",
       "      <th>lineage_11</th>\n",
       "      <th>isolate_ID</th>\n",
       "      <th>lineage_call</th>\n",
       "      <th>group</th>\n",
       "      <th>country</th>\n",
       "    </tr>\n",
       "  </thead>\n",
       "  <tbody>\n",
       "    <tr>\n",
       "      <th>0</th>\n",
       "      <td>4</td>\n",
       "      <td>2</td>\n",
       "      <td>1</td>\n",
       "      <td>2</td>\n",
       "      <td>1</td>\n",
       "      <td>1</td>\n",
       "      <td>i3</td>\n",
       "      <td>1</td>\n",
       "      <td>NaN</td>\n",
       "      <td>NaN</td>\n",
       "      <td>NaN</td>\n",
       "      <td>SAMEA3558733</td>\n",
       "      <td>4.2.1.2.1.1.i3.1</td>\n",
       "      <td>4B</td>\n",
       "      <td>#</td>\n",
       "    </tr>\n",
       "    <tr>\n",
       "      <th>1</th>\n",
       "      <td>4</td>\n",
       "      <td>2</td>\n",
       "      <td>1</td>\n",
       "      <td>2</td>\n",
       "      <td>2</td>\n",
       "      <td>1</td>\n",
       "      <td>1</td>\n",
       "      <td>NaN</td>\n",
       "      <td>NaN</td>\n",
       "      <td>NaN</td>\n",
       "      <td>NaN</td>\n",
       "      <td>SAMN03648641</td>\n",
       "      <td>4.2.1.2.2.1.1</td>\n",
       "      <td>4B</td>\n",
       "      <td>#</td>\n",
       "    </tr>\n",
       "    <tr>\n",
       "      <th>2</th>\n",
       "      <td>3</td>\n",
       "      <td>1</td>\n",
       "      <td>1</td>\n",
       "      <td>i1</td>\n",
       "      <td>NaN</td>\n",
       "      <td>NaN</td>\n",
       "      <td>NaN</td>\n",
       "      <td>NaN</td>\n",
       "      <td>NaN</td>\n",
       "      <td>NaN</td>\n",
       "      <td>NaN</td>\n",
       "      <td>SAMN03647419</td>\n",
       "      <td>3.1.1.i1</td>\n",
       "      <td>3</td>\n",
       "      <td>#</td>\n",
       "    </tr>\n",
       "    <tr>\n",
       "      <th>3</th>\n",
       "      <td>4</td>\n",
       "      <td>2</td>\n",
       "      <td>1</td>\n",
       "      <td>2</td>\n",
       "      <td>1</td>\n",
       "      <td>1</td>\n",
       "      <td>i1</td>\n",
       "      <td>NaN</td>\n",
       "      <td>NaN</td>\n",
       "      <td>NaN</td>\n",
       "      <td>NaN</td>\n",
       "      <td>SAMEA3671418</td>\n",
       "      <td>4.2.1.2.1.1.i1</td>\n",
       "      <td>4B</td>\n",
       "      <td>#</td>\n",
       "    </tr>\n",
       "    <tr>\n",
       "      <th>4</th>\n",
       "      <td>1</td>\n",
       "      <td>1</td>\n",
       "      <td>1</td>\n",
       "      <td>2</td>\n",
       "      <td>NaN</td>\n",
       "      <td>NaN</td>\n",
       "      <td>NaN</td>\n",
       "      <td>NaN</td>\n",
       "      <td>NaN</td>\n",
       "      <td>NaN</td>\n",
       "      <td>NaN</td>\n",
       "      <td>SAMN07659096</td>\n",
       "      <td>1.1.1.2</td>\n",
       "      <td>1</td>\n",
       "      <td>United Kingdom</td>\n",
       "    </tr>\n",
       "  </tbody>\n",
       "</table>\n",
       "</div>"
      ],
      "text/plain": [
       "  lineage_1 lineage_2 lineage_3 lineage_4 lineage_5 lineage_6 lineage_7  \\\n",
       "0         4         2         1         2         1         1        i3   \n",
       "1         4         2         1         2         2         1         1   \n",
       "2         3         1         1        i1       NaN       NaN       NaN   \n",
       "3         4         2         1         2         1         1        i1   \n",
       "4         1         1         1         2       NaN       NaN       NaN   \n",
       "\n",
       "  lineage_8 lineage_9 lineage_10 lineage_11    isolate_ID      lineage_call  \\\n",
       "0         1       NaN        NaN        NaN  SAMEA3558733  4.2.1.2.1.1.i3.1   \n",
       "1       NaN       NaN        NaN        NaN  SAMN03648641     4.2.1.2.2.1.1   \n",
       "2       NaN       NaN        NaN        NaN  SAMN03647419          3.1.1.i1   \n",
       "3       NaN       NaN        NaN        NaN  SAMEA3671418    4.2.1.2.1.1.i1   \n",
       "4       NaN       NaN        NaN        NaN  SAMN07659096           1.1.1.2   \n",
       "\n",
       "  group         country  \n",
       "0    4B               #  \n",
       "1    4B               #  \n",
       "2     3               #  \n",
       "3    4B               #  \n",
       "4     1  United Kingdom  "
      ]
     },
     "execution_count": 28,
     "metadata": {},
     "output_type": "execute_result"
    }
   ],
   "source": [
    "isolate_annotation_DF.head()"
   ]
  },
  {
   "cell_type": "code",
   "execution_count": 29,
   "metadata": {},
   "outputs": [
    {
     "data": {
      "text/html": [
       "<div>\n",
       "<style>\n",
       "    .dataframe thead tr:only-child th {\n",
       "        text-align: right;\n",
       "    }\n",
       "\n",
       "    .dataframe thead th {\n",
       "        text-align: left;\n",
       "    }\n",
       "\n",
       "    .dataframe tbody tr th {\n",
       "        vertical-align: top;\n",
       "    }\n",
       "</style>\n",
       "<table border=\"1\" class=\"dataframe\">\n",
       "  <thead>\n",
       "    <tr style=\"text-align: right;\">\n",
       "      <th></th>\n",
       "      <th>lineage_1</th>\n",
       "      <th>lineage_2</th>\n",
       "      <th>lineage_3</th>\n",
       "      <th>lineage_4</th>\n",
       "      <th>lineage_5</th>\n",
       "      <th>lineage_6</th>\n",
       "      <th>lineage_7</th>\n",
       "      <th>lineage_8</th>\n",
       "      <th>lineage_9</th>\n",
       "      <th>lineage_10</th>\n",
       "      <th>lineage_11</th>\n",
       "      <th>isolate_ID</th>\n",
       "      <th>lineage_call</th>\n",
       "      <th>group</th>\n",
       "      <th>country</th>\n",
       "    </tr>\n",
       "  </thead>\n",
       "  <tbody>\n",
       "    <tr>\n",
       "      <th>31422</th>\n",
       "      <td>1</td>\n",
       "      <td>2</td>\n",
       "      <td>2</td>\n",
       "      <td>1</td>\n",
       "      <td>NaN</td>\n",
       "      <td>NaN</td>\n",
       "      <td>NaN</td>\n",
       "      <td>NaN</td>\n",
       "      <td>NaN</td>\n",
       "      <td>NaN</td>\n",
       "      <td>NaN</td>\n",
       "      <td>SAMEA1485358</td>\n",
       "      <td>1.2.2.1</td>\n",
       "      <td>1</td>\n",
       "      <td>Malawi</td>\n",
       "    </tr>\n",
       "    <tr>\n",
       "      <th>31423</th>\n",
       "      <td>4</td>\n",
       "      <td>2</td>\n",
       "      <td>1</td>\n",
       "      <td>2</td>\n",
       "      <td>1</td>\n",
       "      <td>1</td>\n",
       "      <td>i3</td>\n",
       "      <td>1</td>\n",
       "      <td>NaN</td>\n",
       "      <td>NaN</td>\n",
       "      <td>NaN</td>\n",
       "      <td>SAMEA1530754</td>\n",
       "      <td>4.2.1.2.1.1.i3.1</td>\n",
       "      <td>4B</td>\n",
       "      <td>Malawi</td>\n",
       "    </tr>\n",
       "    <tr>\n",
       "      <th>31424</th>\n",
       "      <td>4</td>\n",
       "      <td>2</td>\n",
       "      <td>1</td>\n",
       "      <td>2</td>\n",
       "      <td>1</td>\n",
       "      <td>1</td>\n",
       "      <td>i4</td>\n",
       "      <td>1</td>\n",
       "      <td>NaN</td>\n",
       "      <td>NaN</td>\n",
       "      <td>NaN</td>\n",
       "      <td>SAMEA104708028</td>\n",
       "      <td>4.2.1.2.1.1.i4.1</td>\n",
       "      <td>4B</td>\n",
       "      <td>Brazil</td>\n",
       "    </tr>\n",
       "    <tr>\n",
       "      <th>31426</th>\n",
       "      <td>4</td>\n",
       "      <td>2</td>\n",
       "      <td>1</td>\n",
       "      <td>2</td>\n",
       "      <td>1</td>\n",
       "      <td>1</td>\n",
       "      <td>i3</td>\n",
       "      <td>1</td>\n",
       "      <td>NaN</td>\n",
       "      <td>NaN</td>\n",
       "      <td>NaN</td>\n",
       "      <td>SAMEA1465982</td>\n",
       "      <td>4.2.1.2.1.1.i3.1</td>\n",
       "      <td>4B</td>\n",
       "      <td>Malawi</td>\n",
       "    </tr>\n",
       "    <tr>\n",
       "      <th>31427</th>\n",
       "      <td>4</td>\n",
       "      <td>2</td>\n",
       "      <td>1</td>\n",
       "      <td>1</td>\n",
       "      <td>1</td>\n",
       "      <td>1</td>\n",
       "      <td>1</td>\n",
       "      <td>1</td>\n",
       "      <td>i1</td>\n",
       "      <td>NaN</td>\n",
       "      <td>NaN</td>\n",
       "      <td>SAMEA1523377</td>\n",
       "      <td>4.2.1.1.1.1.1.1.i1</td>\n",
       "      <td>4C</td>\n",
       "      <td>South Africa</td>\n",
       "    </tr>\n",
       "  </tbody>\n",
       "</table>\n",
       "</div>"
      ],
      "text/plain": [
       "      lineage_1 lineage_2 lineage_3 lineage_4 lineage_5 lineage_6 lineage_7  \\\n",
       "31422         1         2         2         1       NaN       NaN       NaN   \n",
       "31423         4         2         1         2         1         1        i3   \n",
       "31424         4         2         1         2         1         1        i4   \n",
       "31426         4         2         1         2         1         1        i3   \n",
       "31427         4         2         1         1         1         1         1   \n",
       "\n",
       "      lineage_8 lineage_9 lineage_10 lineage_11      isolate_ID  \\\n",
       "31422       NaN       NaN        NaN        NaN    SAMEA1485358   \n",
       "31423         1       NaN        NaN        NaN    SAMEA1530754   \n",
       "31424         1       NaN        NaN        NaN  SAMEA104708028   \n",
       "31426         1       NaN        NaN        NaN    SAMEA1465982   \n",
       "31427         1        i1        NaN        NaN    SAMEA1523377   \n",
       "\n",
       "             lineage_call group       country  \n",
       "31422             1.2.2.1     1        Malawi  \n",
       "31423    4.2.1.2.1.1.i3.1    4B        Malawi  \n",
       "31424    4.2.1.2.1.1.i4.1    4B        Brazil  \n",
       "31426    4.2.1.2.1.1.i3.1    4B        Malawi  \n",
       "31427  4.2.1.1.1.1.1.1.i1    4C  South Africa  "
      ]
     },
     "execution_count": 29,
     "metadata": {},
     "output_type": "execute_result"
    }
   ],
   "source": [
    "isolate_annotation_DF[isolate_annotation_DF.country != '#'].tail()"
   ]
  },
  {
   "cell_type": "code",
   "execution_count": 30,
   "metadata": {},
   "outputs": [
    {
     "data": {
      "text/plain": [
       "(31428, 15)"
      ]
     },
     "execution_count": 30,
     "metadata": {},
     "output_type": "execute_result"
    }
   ],
   "source": [
    "np.shape(isolate_annotation_DF)"
   ]
  },
  {
   "cell_type": "code",
   "execution_count": 31,
   "metadata": {},
   "outputs": [
    {
     "data": {
      "text/plain": [
       "(21500, 15)"
      ]
     },
     "execution_count": 31,
     "metadata": {},
     "output_type": "execute_result"
    }
   ],
   "source": [
    "np.shape(isolate_annotation_DF[isolate_annotation_DF.country != '#']) #number of isolates WITH country info"
   ]
  },
  {
   "cell_type": "code",
   "execution_count": 32,
   "metadata": {},
   "outputs": [
    {
     "data": {
      "text/plain": [
       "(9928, 15)"
      ]
     },
     "execution_count": 32,
     "metadata": {},
     "output_type": "execute_result"
    }
   ],
   "source": [
    "np.shape(isolate_annotation_DF[isolate_annotation_DF.country == '#']) #number of isolates WITHOUT country info"
   ]
  },
  {
   "cell_type": "markdown",
   "metadata": {},
   "source": [
    "####################################################################################################################################################################################"
   ]
  },
  {
   "cell_type": "markdown",
   "metadata": {},
   "source": [
    "# [4] Examine geographical distribution"
   ]
  },
  {
   "cell_type": "markdown",
   "metadata": {},
   "source": [
    "####################################################################################################################################################################################"
   ]
  },
  {
   "cell_type": "code",
   "execution_count": 33,
   "metadata": {},
   "outputs": [],
   "source": [
    "from collections import Counter"
   ]
  },
  {
   "cell_type": "code",
   "execution_count": 34,
   "metadata": {},
   "outputs": [
    {
     "data": {
      "text/plain": [
       "#                 9928\n",
       "South Africa      3340\n",
       "United Kingdom    2987\n",
       "Peru              1593\n",
       "Vietnam           1391\n",
       "Malawi            1362\n",
       "Canada            1352\n",
       "Russia             995\n",
       "Ukraine            995\n",
       "Azerbaijan         667\n",
       "China              638\n",
       "Netherlands        523\n",
       "Bangladesh         518\n",
       "USA                376\n",
       "Japan              369\n",
       "Pakistan           346\n",
       "Moldova            316\n",
       "Germany            305\n",
       "Thailand           288\n",
       "Denmark            284\n",
       "Italy              230\n",
       "India              212\n",
       "Brazil             190\n",
       "DR Congo           189\n",
       "Argentina          169\n",
       "dtype: int64"
      ]
     },
     "execution_count": 34,
     "metadata": {},
     "output_type": "execute_result"
    }
   ],
   "source": [
    "num_isolates_per_country = pd.Series( Counter( isolate_annotation_DF.country ) )\n",
    "num_isolates_per_country.sort_values(ascending = False, inplace = True)\n",
    "num_isolates_per_country.head(n=25)"
   ]
  },
  {
   "cell_type": "code",
   "execution_count": 35,
   "metadata": {},
   "outputs": [
    {
     "data": {
      "text/plain": [
       "230"
      ]
     },
     "execution_count": 35,
     "metadata": {},
     "output_type": "execute_result"
    }
   ],
   "source": [
    "num_isolates_per_country['Italy']"
   ]
  },
  {
   "cell_type": "code",
   "execution_count": 36,
   "metadata": {},
   "outputs": [
    {
     "data": {
      "text/plain": [
       "37"
      ]
     },
     "execution_count": 36,
     "metadata": {},
     "output_type": "execute_result"
    }
   ],
   "source": [
    "num_isolates_per_country['Belarus']"
   ]
  },
  {
   "cell_type": "code",
   "execution_count": 37,
   "metadata": {
    "scrolled": true
   },
   "outputs": [
    {
     "data": {
      "text/plain": [
       "5"
      ]
     },
     "execution_count": 37,
     "metadata": {},
     "output_type": "execute_result"
    }
   ],
   "source": [
    "num_isolates_per_country['Iran']"
   ]
  },
  {
   "cell_type": "markdown",
   "metadata": {},
   "source": [
    "#### Add counts for additional 12 *eis* C-14T mutants with AG MICs"
   ]
  },
  {
   "cell_type": "markdown",
   "metadata": {},
   "source": [
    "- IT123: Italy\n",
    "- IT184: Italy\n",
    "- IT952: Italy\n",
    "- IT524: Italy\n",
    "- 655-19: Belarus\n",
    "- IT233: Italy\n",
    "- IT77: Italy\n",
    "- 622-19: Belarus\n",
    "- IT1070: Italy\n",
    "- IT947: Italy\n",
    "- 168-19: Iran\n",
    "- IT634: Italy\n",
    "\n",
    "Italy + 9\n",
    "\n",
    "Belarus + 2\n",
    "\n",
    "Iran + 1"
   ]
  },
  {
   "cell_type": "code",
   "execution_count": 38,
   "metadata": {},
   "outputs": [],
   "source": [
    "num_isolates_per_country['Italy'] = num_isolates_per_country['Italy'] + 9\n",
    "num_isolates_per_country['Belarus'] = num_isolates_per_country['Belarus'] + 2\n",
    "num_isolates_per_country['Iran'] = num_isolates_per_country['Iran'] + 1"
   ]
  },
  {
   "cell_type": "code",
   "execution_count": 39,
   "metadata": {},
   "outputs": [
    {
     "data": {
      "text/plain": [
       "239"
      ]
     },
     "execution_count": 39,
     "metadata": {},
     "output_type": "execute_result"
    }
   ],
   "source": [
    "num_isolates_per_country['Italy']"
   ]
  },
  {
   "cell_type": "code",
   "execution_count": 40,
   "metadata": {},
   "outputs": [
    {
     "data": {
      "text/plain": [
       "39"
      ]
     },
     "execution_count": 40,
     "metadata": {},
     "output_type": "execute_result"
    }
   ],
   "source": [
    "num_isolates_per_country['Belarus']"
   ]
  },
  {
   "cell_type": "code",
   "execution_count": 41,
   "metadata": {},
   "outputs": [
    {
     "data": {
      "text/plain": [
       "6"
      ]
     },
     "execution_count": 41,
     "metadata": {},
     "output_type": "execute_result"
    }
   ],
   "source": [
    "num_isolates_per_country['Iran']"
   ]
  },
  {
   "cell_type": "markdown",
   "metadata": {},
   "source": [
    "#### Drop samples count that didn't have country data"
   ]
  },
  {
   "cell_type": "code",
   "execution_count": 42,
   "metadata": {},
   "outputs": [],
   "source": [
    "num_isolates_per_country = num_isolates_per_country[num_isolates_per_country.index != '#']"
   ]
  },
  {
   "cell_type": "code",
   "execution_count": 43,
   "metadata": {},
   "outputs": [
    {
     "data": {
      "text/plain": [
       "(80,)"
      ]
     },
     "execution_count": 43,
     "metadata": {},
     "output_type": "execute_result"
    }
   ],
   "source": [
    "np.shape(num_isolates_per_country)"
   ]
  },
  {
   "cell_type": "code",
   "execution_count": 44,
   "metadata": {},
   "outputs": [
    {
     "data": {
      "text/plain": [
       "South Africa      3340\n",
       "United Kingdom    2987\n",
       "Peru              1593\n",
       "Vietnam           1391\n",
       "Malawi            1362\n",
       "dtype: int64"
      ]
     },
     "execution_count": 44,
     "metadata": {},
     "output_type": "execute_result"
    }
   ],
   "source": [
    "num_isolates_per_country.head(n=5)"
   ]
  },
  {
   "cell_type": "markdown",
   "metadata": {},
   "source": [
    "How many isolates out of **31,440** did we have geographical information for?"
   ]
  },
  {
   "cell_type": "code",
   "execution_count": 45,
   "metadata": {},
   "outputs": [
    {
     "data": {
      "text/plain": [
       "21512.0"
      ]
     },
     "execution_count": 45,
     "metadata": {},
     "output_type": "execute_result"
    }
   ],
   "source": [
    "float(num_isolates_per_country.sum())"
   ]
  },
  {
   "cell_type": "code",
   "execution_count": 46,
   "metadata": {},
   "outputs": [],
   "source": [
    "plt.style.use('ggplot')\n",
    "plt.rcParams['lines.linewidth']=3\n",
    "plt.rcParams['axes.facecolor']='1.0'\n",
    "plt.rcParams['xtick.color']='black'\n",
    "plt.rcParams['ytick.color']='black'\n",
    "plt.rcParams['axes.grid']=True\n",
    "plt.rcParams['axes.edgecolor']='black'\n",
    "plt.rcParams['grid.color']= '1.0'\n",
    "plt.rcParams.update({'font.size': 12})"
   ]
  },
  {
   "cell_type": "code",
   "execution_count": 47,
   "metadata": {},
   "outputs": [
    {
     "data": {
      "image/png": "[encoded data removed]",
      "text/plain": [
       "<Figure size 684x468 with 1 Axes>"
      ]
     },
     "metadata": {},
     "output_type": "display_data"
    }
   ],
   "source": [
    "countries_with_many_isolates_series = num_isolates_per_country[num_isolates_per_country >= 50]\n",
    "\n",
    "# data to plot\n",
    "n_groups = np.shape(countries_with_many_isolates_series)[0]\n",
    "\n",
    "# create plot\n",
    "fig, ax = plt.subplots()\n",
    "index = np.arange(n_groups)\n",
    "bar_width = 0.67\n",
    "opacity = 1.0\n",
    "edgecolor = 'k'\n",
    "linewidth = 1.0\n",
    "\n",
    "rects1 = plt.bar(index, countries_with_many_isolates_series, bar_width,\n",
    "alpha=opacity,\n",
    "color='0.75',\n",
    "label='Countries with >= 50 samples',\n",
    "linewidth = linewidth,\n",
    "edgecolor = edgecolor)\n",
    "\n",
    "plt.xlabel('Country\\n(with at least 50 isolates)' , color = 'k' , fontsize = 12)\n",
    "plt.ylabel('Number of Isolates', color = 'k' , fontsize = 12)\n",
    "plt.xticks(index, countries_with_many_isolates_series.index, rotation = 90, fontsize = 11)\n",
    "plt.xlim(min(index)-0.6, max(index)+0.6)\n",
    "#plt.legend()\n",
    "\n",
    "ax.spines['right'].set_visible(False)\n",
    "ax.spines['top'].set_visible(False)\n",
    "\n",
    "plt.tick_params(axis='y', which='major', labelsize=12 , labelcolor = 'k')\n",
    "plt.tick_params(axis='x', which='major', labelsize=12 , labelcolor = 'k')\n",
    "\n",
    "fig = plt.gcf()\n",
    "fig.set_size_inches(9.5, 6.5)\n",
    "fig.tight_layout()\n",
    "\n",
    "file_name = '/n/data1/hms/dbmi/farhat/Roger/mmpR_BDQ_mutant_project/figures/sample_breakdown_by_country.pdf'\n",
    "plt.savefig(file_name, bbox_inches='tight', dpi = 300 , transparent = True)\n",
    "\n",
    "plt.show()"
   ]
  },
  {
   "cell_type": "code",
   "execution_count": 48,
   "metadata": {},
   "outputs": [
    {
     "data": {
      "text/plain": [
       "(38,)"
      ]
     },
     "execution_count": 48,
     "metadata": {},
     "output_type": "execute_result"
    }
   ],
   "source": [
    "np.shape(countries_with_many_isolates_series)"
   ]
  },
  {
   "cell_type": "code",
   "execution_count": 49,
   "metadata": {},
   "outputs": [
    {
     "data": {
      "text/plain": [
       "South Africa        3340\n",
       "United Kingdom      2987\n",
       "Peru                1593\n",
       "Vietnam             1391\n",
       "Malawi              1362\n",
       "Canada              1352\n",
       "Russia               995\n",
       "Ukraine              995\n",
       "Azerbaijan           667\n",
       "China                638\n",
       "Netherlands          523\n",
       "Bangladesh           518\n",
       "USA                  376\n",
       "Japan                369\n",
       "Pakistan             346\n",
       "Moldova              316\n",
       "Germany              305\n",
       "Thailand             288\n",
       "Denmark              284\n",
       "Italy                239\n",
       "India                212\n",
       "Brazil               190\n",
       "DR Congo             189\n",
       "Argentina            169\n",
       "Philippines          166\n",
       "Eswatini             160\n",
       "Indonesia            122\n",
       "Belgium              118\n",
       "Norway               107\n",
       "Romania               98\n",
       "Djibouti              90\n",
       "Georgia               86\n",
       "Portugal              85\n",
       "United States         77\n",
       "Australia             75\n",
       "Papua New Guinea      57\n",
       "Uganda                54\n",
       "France                51\n",
       "dtype: int64"
      ]
     },
     "execution_count": 49,
     "metadata": {},
     "output_type": "execute_result"
    }
   ],
   "source": [
    "countries_with_many_isolates_series"
   ]
  },
  {
   "cell_type": "markdown",
   "metadata": {},
   "source": [
    "####################################################################################################################################################################################"
   ]
  },
  {
   "cell_type": "markdown",
   "metadata": {},
   "source": [
    "# [5] Examine lineage distribution"
   ]
  },
  {
   "cell_type": "markdown",
   "metadata": {},
   "source": [
    "####################################################################################################################################################################################"
   ]
  },
  {
   "cell_type": "code",
   "execution_count": 50,
   "metadata": {},
   "outputs": [
    {
     "data": {
      "text/html": [
       "<div>\n",
       "<style>\n",
       "    .dataframe thead tr:only-child th {\n",
       "        text-align: right;\n",
       "    }\n",
       "\n",
       "    .dataframe thead th {\n",
       "        text-align: left;\n",
       "    }\n",
       "\n",
       "    .dataframe tbody tr th {\n",
       "        vertical-align: top;\n",
       "    }\n",
       "</style>\n",
       "<table border=\"1\" class=\"dataframe\">\n",
       "  <thead>\n",
       "    <tr style=\"text-align: right;\">\n",
       "      <th></th>\n",
       "      <th>lineage_1</th>\n",
       "      <th>lineage_2</th>\n",
       "      <th>lineage_3</th>\n",
       "      <th>lineage_4</th>\n",
       "      <th>lineage_5</th>\n",
       "      <th>lineage_6</th>\n",
       "      <th>lineage_7</th>\n",
       "      <th>lineage_8</th>\n",
       "      <th>lineage_9</th>\n",
       "      <th>lineage_10</th>\n",
       "      <th>lineage_11</th>\n",
       "      <th>isolate_ID</th>\n",
       "      <th>lineage_call</th>\n",
       "      <th>group</th>\n",
       "      <th>country</th>\n",
       "    </tr>\n",
       "  </thead>\n",
       "  <tbody>\n",
       "    <tr>\n",
       "      <th>0</th>\n",
       "      <td>4</td>\n",
       "      <td>2</td>\n",
       "      <td>1</td>\n",
       "      <td>2</td>\n",
       "      <td>1</td>\n",
       "      <td>1</td>\n",
       "      <td>i3</td>\n",
       "      <td>1</td>\n",
       "      <td>NaN</td>\n",
       "      <td>NaN</td>\n",
       "      <td>NaN</td>\n",
       "      <td>SAMEA3558733</td>\n",
       "      <td>4.2.1.2.1.1.i3.1</td>\n",
       "      <td>4B</td>\n",
       "      <td>#</td>\n",
       "    </tr>\n",
       "    <tr>\n",
       "      <th>1</th>\n",
       "      <td>4</td>\n",
       "      <td>2</td>\n",
       "      <td>1</td>\n",
       "      <td>2</td>\n",
       "      <td>2</td>\n",
       "      <td>1</td>\n",
       "      <td>1</td>\n",
       "      <td>NaN</td>\n",
       "      <td>NaN</td>\n",
       "      <td>NaN</td>\n",
       "      <td>NaN</td>\n",
       "      <td>SAMN03648641</td>\n",
       "      <td>4.2.1.2.2.1.1</td>\n",
       "      <td>4B</td>\n",
       "      <td>#</td>\n",
       "    </tr>\n",
       "    <tr>\n",
       "      <th>2</th>\n",
       "      <td>3</td>\n",
       "      <td>1</td>\n",
       "      <td>1</td>\n",
       "      <td>i1</td>\n",
       "      <td>NaN</td>\n",
       "      <td>NaN</td>\n",
       "      <td>NaN</td>\n",
       "      <td>NaN</td>\n",
       "      <td>NaN</td>\n",
       "      <td>NaN</td>\n",
       "      <td>NaN</td>\n",
       "      <td>SAMN03647419</td>\n",
       "      <td>3.1.1.i1</td>\n",
       "      <td>3</td>\n",
       "      <td>#</td>\n",
       "    </tr>\n",
       "    <tr>\n",
       "      <th>3</th>\n",
       "      <td>4</td>\n",
       "      <td>2</td>\n",
       "      <td>1</td>\n",
       "      <td>2</td>\n",
       "      <td>1</td>\n",
       "      <td>1</td>\n",
       "      <td>i1</td>\n",
       "      <td>NaN</td>\n",
       "      <td>NaN</td>\n",
       "      <td>NaN</td>\n",
       "      <td>NaN</td>\n",
       "      <td>SAMEA3671418</td>\n",
       "      <td>4.2.1.2.1.1.i1</td>\n",
       "      <td>4B</td>\n",
       "      <td>#</td>\n",
       "    </tr>\n",
       "    <tr>\n",
       "      <th>4</th>\n",
       "      <td>1</td>\n",
       "      <td>1</td>\n",
       "      <td>1</td>\n",
       "      <td>2</td>\n",
       "      <td>NaN</td>\n",
       "      <td>NaN</td>\n",
       "      <td>NaN</td>\n",
       "      <td>NaN</td>\n",
       "      <td>NaN</td>\n",
       "      <td>NaN</td>\n",
       "      <td>NaN</td>\n",
       "      <td>SAMN07659096</td>\n",
       "      <td>1.1.1.2</td>\n",
       "      <td>1</td>\n",
       "      <td>United Kingdom</td>\n",
       "    </tr>\n",
       "  </tbody>\n",
       "</table>\n",
       "</div>"
      ],
      "text/plain": [
       "  lineage_1 lineage_2 lineage_3 lineage_4 lineage_5 lineage_6 lineage_7  \\\n",
       "0         4         2         1         2         1         1        i3   \n",
       "1         4         2         1         2         2         1         1   \n",
       "2         3         1         1        i1       NaN       NaN       NaN   \n",
       "3         4         2         1         2         1         1        i1   \n",
       "4         1         1         1         2       NaN       NaN       NaN   \n",
       "\n",
       "  lineage_8 lineage_9 lineage_10 lineage_11    isolate_ID      lineage_call  \\\n",
       "0         1       NaN        NaN        NaN  SAMEA3558733  4.2.1.2.1.1.i3.1   \n",
       "1       NaN       NaN        NaN        NaN  SAMN03648641     4.2.1.2.2.1.1   \n",
       "2       NaN       NaN        NaN        NaN  SAMN03647419          3.1.1.i1   \n",
       "3       NaN       NaN        NaN        NaN  SAMEA3671418    4.2.1.2.1.1.i1   \n",
       "4       NaN       NaN        NaN        NaN  SAMN07659096           1.1.1.2   \n",
       "\n",
       "  group         country  \n",
       "0    4B               #  \n",
       "1    4B               #  \n",
       "2     3               #  \n",
       "3    4B               #  \n",
       "4     1  United Kingdom  "
      ]
     },
     "execution_count": 50,
     "metadata": {},
     "output_type": "execute_result"
    }
   ],
   "source": [
    "isolate_annotation_DF.head()"
   ]
  },
  {
   "cell_type": "code",
   "execution_count": 51,
   "metadata": {},
   "outputs": [],
   "source": [
    "num_isolates_per_global_lineage = pd.Series( Counter( isolate_annotation_DF.lineage_1 ) )"
   ]
  },
  {
   "cell_type": "code",
   "execution_count": 52,
   "metadata": {},
   "outputs": [
    {
     "data": {
      "text/plain": [
       "1     2815\n",
       "2     8090\n",
       "3     3398\n",
       "4    16931\n",
       "5       98\n",
       "6       96\n",
       "dtype: int64"
      ]
     },
     "execution_count": 52,
     "metadata": {},
     "output_type": "execute_result"
    }
   ],
   "source": [
    "num_isolates_per_global_lineage"
   ]
  },
  {
   "cell_type": "markdown",
   "metadata": {},
   "source": [
    "#### Add counts for additional 12 *eis* C-14T mutants with AG MICs"
   ]
  },
  {
   "cell_type": "code",
   "execution_count": 53,
   "metadata": {},
   "outputs": [],
   "source": [
    "isolate_annotation_DF_additional_isolates = pd.read_pickle('/n/data1/hms/dbmi/farhat/Roger/mmpR_BDQ_mutant_project/eis_promoter_mutant_strains_from_Milan/Genotypes/Genotypes_Filtered/genotypes_isolate_annotation.pkl')"
   ]
  },
  {
   "cell_type": "code",
   "execution_count": 54,
   "metadata": {},
   "outputs": [
    {
     "data": {
      "text/plain": [
       "8090"
      ]
     },
     "execution_count": 54,
     "metadata": {},
     "output_type": "execute_result"
    }
   ],
   "source": [
    "num_isolates_per_global_lineage['2']"
   ]
  },
  {
   "cell_type": "code",
   "execution_count": 55,
   "metadata": {},
   "outputs": [
    {
     "data": {
      "text/plain": [
       "16931"
      ]
     },
     "execution_count": 55,
     "metadata": {},
     "output_type": "execute_result"
    }
   ],
   "source": [
    "num_isolates_per_global_lineage['4']"
   ]
  },
  {
   "cell_type": "code",
   "execution_count": 56,
   "metadata": {
    "scrolled": false
   },
   "outputs": [
    {
     "data": {
      "text/html": [
       "<div>\n",
       "<style>\n",
       "    .dataframe thead tr:only-child th {\n",
       "        text-align: right;\n",
       "    }\n",
       "\n",
       "    .dataframe thead th {\n",
       "        text-align: left;\n",
       "    }\n",
       "\n",
       "    .dataframe tbody tr th {\n",
       "        vertical-align: top;\n",
       "    }\n",
       "</style>\n",
       "<table border=\"1\" class=\"dataframe\">\n",
       "  <thead>\n",
       "    <tr style=\"text-align: right;\">\n",
       "      <th></th>\n",
       "      <th>lineage_call</th>\n",
       "      <th>isolate_ID</th>\n",
       "    </tr>\n",
       "  </thead>\n",
       "  <tbody>\n",
       "    <tr>\n",
       "      <th>0</th>\n",
       "      <td>2.2.1.1.1</td>\n",
       "      <td>168-19</td>\n",
       "    </tr>\n",
       "    <tr>\n",
       "      <th>1</th>\n",
       "      <td>2.2.1.1.1.i3</td>\n",
       "      <td>622-19</td>\n",
       "    </tr>\n",
       "    <tr>\n",
       "      <th>2</th>\n",
       "      <td>4.2.1.2.1.1.i4.1</td>\n",
       "      <td>655-19</td>\n",
       "    </tr>\n",
       "    <tr>\n",
       "      <th>3</th>\n",
       "      <td>2.2.1.1.1.i3</td>\n",
       "      <td>IT1070</td>\n",
       "    </tr>\n",
       "    <tr>\n",
       "      <th>4</th>\n",
       "      <td>2.2.1.1.1</td>\n",
       "      <td>IT123</td>\n",
       "    </tr>\n",
       "    <tr>\n",
       "      <th>5</th>\n",
       "      <td>2.2.1.1.1</td>\n",
       "      <td>IT184</td>\n",
       "    </tr>\n",
       "    <tr>\n",
       "      <th>6</th>\n",
       "      <td>2.2.1.1.1.i3</td>\n",
       "      <td>IT233</td>\n",
       "    </tr>\n",
       "    <tr>\n",
       "      <th>7</th>\n",
       "      <td>4.2.1.1.1.1.1.1.i2</td>\n",
       "      <td>IT524</td>\n",
       "    </tr>\n",
       "    <tr>\n",
       "      <th>8</th>\n",
       "      <td>2.2.1.1.1.i3</td>\n",
       "      <td>IT634</td>\n",
       "    </tr>\n",
       "    <tr>\n",
       "      <th>9</th>\n",
       "      <td>2.2.1.1.1.i3</td>\n",
       "      <td>IT77</td>\n",
       "    </tr>\n",
       "    <tr>\n",
       "      <th>10</th>\n",
       "      <td>2.2.1.1.1.i3</td>\n",
       "      <td>IT947</td>\n",
       "    </tr>\n",
       "    <tr>\n",
       "      <th>11</th>\n",
       "      <td>4.2.1.1.1.1.1.1.i2</td>\n",
       "      <td>IT952</td>\n",
       "    </tr>\n",
       "  </tbody>\n",
       "</table>\n",
       "</div>"
      ],
      "text/plain": [
       "          lineage_call isolate_ID\n",
       "0            2.2.1.1.1     168-19\n",
       "1         2.2.1.1.1.i3     622-19\n",
       "2     4.2.1.2.1.1.i4.1     655-19\n",
       "3         2.2.1.1.1.i3     IT1070\n",
       "4            2.2.1.1.1      IT123\n",
       "5            2.2.1.1.1      IT184\n",
       "6         2.2.1.1.1.i3      IT233\n",
       "7   4.2.1.1.1.1.1.1.i2      IT524\n",
       "8         2.2.1.1.1.i3      IT634\n",
       "9         2.2.1.1.1.i3       IT77\n",
       "10        2.2.1.1.1.i3      IT947\n",
       "11  4.2.1.1.1.1.1.1.i2      IT952"
      ]
     },
     "execution_count": 56,
     "metadata": {},
     "output_type": "execute_result"
    }
   ],
   "source": [
    "isolate_annotation_DF_additional_isolates"
   ]
  },
  {
   "cell_type": "markdown",
   "metadata": {},
   "source": [
    "- IT123: 2\n",
    "- IT184: 2\n",
    "- IT952: 4\n",
    "- IT524: 4\n",
    "- 655-19: 4\n",
    "- IT233: 2\n",
    "- IT77: 2\n",
    "- 622-19: 4\n",
    "- IT1070: 2\n",
    "- IT947: 2\n",
    "- 168-19: 2\n",
    "- IT634: 2\n",
    "\n",
    "L2 + 8\n",
    "\n",
    "L4 + 4"
   ]
  },
  {
   "cell_type": "code",
   "execution_count": 57,
   "metadata": {},
   "outputs": [],
   "source": [
    "num_isolates_per_global_lineage['2'] = num_isolates_per_global_lineage['2'] + 8\n",
    "num_isolates_per_global_lineage['4'] = num_isolates_per_global_lineage['4'] + 4"
   ]
  },
  {
   "cell_type": "code",
   "execution_count": 58,
   "metadata": {},
   "outputs": [
    {
     "data": {
      "text/plain": [
       "8098"
      ]
     },
     "execution_count": 58,
     "metadata": {},
     "output_type": "execute_result"
    }
   ],
   "source": [
    "num_isolates_per_global_lineage['2']"
   ]
  },
  {
   "cell_type": "code",
   "execution_count": 59,
   "metadata": {},
   "outputs": [
    {
     "data": {
      "text/plain": [
       "16935"
      ]
     },
     "execution_count": 59,
     "metadata": {},
     "output_type": "execute_result"
    }
   ],
   "source": [
    "num_isolates_per_global_lineage['4']"
   ]
  },
  {
   "cell_type": "code",
   "execution_count": 60,
   "metadata": {},
   "outputs": [
    {
     "data": {
      "image/png": "[encoded data removed]",
      "text/plain": [
       "<Figure size 288x288 with 1 Axes>"
      ]
     },
     "metadata": {},
     "output_type": "display_data"
    }
   ],
   "source": [
    "pie_slice_proportions = []\n",
    "labels = []\n",
    "colors = []\n",
    "\n",
    "for lineage_call in num_isolates_per_global_lineage.index:\n",
    "    \n",
    "    proportion = float(num_isolates_per_global_lineage[lineage_call]) / float(num_isolates_per_global_lineage.sum())\n",
    "    pie_slice_proportions.append(proportion)\n",
    "    labels.append(lineage_call)\n",
    "    \n",
    "    if lineage_call[0] == '1':\n",
    "        colors.append('xkcd:pink')\n",
    "    if lineage_call[0] == '2':\n",
    "        colors.append('xkcd:bright blue')\n",
    "    if lineage_call[0] == '3':\n",
    "        colors.append('xkcd:purple')\n",
    "    if lineage_call[0] == '4':\n",
    "        colors.append('xkcd:red')\n",
    "    if lineage_call[0] == '5':\n",
    "        colors.append('xkcd:light brown')\n",
    "    if lineage_call[0] == '6':\n",
    "        colors.append('xkcd:light green')\n",
    "        \n",
    "# Make square figures and axes\n",
    "the_grid = GridSpec(1, 1)\n",
    "\n",
    "fig, ax = plt.subplots()\n",
    "\n",
    "wedges, texts = ax.pie(pie_slice_proportions, shadow=False , colors = colors , wedgeprops = {'linewidth': 12 } , labeldistance = 1.1 , startangle = 23)\n",
    "\n",
    "fig = plt.gcf()\n",
    "fig.set_size_inches(4, 4)\n",
    "fig.tight_layout()\n",
    "\n",
    "for w in wedges:\n",
    "    w.set_linewidth(1.5)\n",
    "    w.set_edgecolor('black')\n",
    "    \n",
    "#for text in texts:\n",
    "#    text.set_rotation(0)\n",
    "\n",
    "file_name = '/n/data1/hms/dbmi/farhat/Roger/mmpR_BDQ_mutant_project/figures/Global_Lineage_Distribution_across_subjects.pdf'\n",
    "plt.savefig(file_name, bbox_inches='tight', dpi = 300 , transparent = True)\n",
    "    \n",
    "plt.show()"
   ]
  },
  {
   "cell_type": "markdown",
   "metadata": {},
   "source": [
    "Make sure all **31,440** isolates are accounted for"
   ]
  },
  {
   "cell_type": "code",
   "execution_count": 61,
   "metadata": {},
   "outputs": [
    {
     "data": {
      "text/plain": [
       "31440.0"
      ]
     },
     "execution_count": 61,
     "metadata": {},
     "output_type": "execute_result"
    }
   ],
   "source": [
    "float(num_isolates_per_global_lineage.sum())"
   ]
  },
  {
   "cell_type": "code",
   "execution_count": null,
   "metadata": {},
   "outputs": [],
   "source": []
  }
 ],
 "metadata": {
  "kernelspec": {
   "display_name": "Python 2",
   "language": "python",
   "name": "python2"
  },
  "language_info": {
   "codemirror_mode": {
    "name": "ipython",
    "version": 2
   },
   "file_extension": ".py",
   "mimetype": "text/x-python",
   "name": "python",
   "nbconvert_exporter": "python",
   "pygments_lexer": "ipython2",
   "version": "2.7.16"
  }
 },
 "nbformat": 4,
 "nbformat_minor": 2
}
