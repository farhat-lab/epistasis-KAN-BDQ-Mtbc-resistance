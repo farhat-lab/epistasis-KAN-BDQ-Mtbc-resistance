{
 "cells": [
  {
   "cell_type": "markdown",
   "metadata": {},
   "source": [
    "# This notebook was created to collect frameshift indel variants with $10\\% \\le $ alt AF $< 75\\%$ in *mmpR*, *mmpL5*, *mmpS5*, *eis*, *whiB7* and *ahpC* from 31,428 isolates in our sample"
   ]
  },
  {
   "cell_type": "code",
   "execution_count": 1,
   "metadata": {},
   "outputs": [
    {
     "data": {
      "text/html": [
       "<style>.container { width:100% !important; }</style>"
      ],
      "text/plain": [
       "<IPython.core.display.HTML object>"
      ]
     },
     "metadata": {},
     "output_type": "display_data"
    }
   ],
   "source": [
    "from IPython.core.display import display, HTML\n",
    "display(HTML(\"<style>.container { width:100% !important; }</style>\"))"
   ]
  },
  {
   "cell_type": "code",
   "execution_count": 10,
   "metadata": {},
   "outputs": [],
   "source": [
    "import vcf\n",
    "\n",
    "%matplotlib inline\n",
    "import os\n",
    "import pandas as pd\n",
    "import numpy as np\n",
    "import matplotlib.pyplot as plt\n",
    "import matplotlib as mpl\n",
    "import matplotlib.ticker as ticker\n",
    "from itertools import compress\n",
    "from pylab import MaxNLocator\n",
    "import seaborn as sns; sns.set()\n",
    "from matplotlib.colors import LogNorm\n",
    "from matplotlib import gridspec\n",
    "import ast\n",
    "import itertools\n",
    "import seaborn as sns\n",
    "from sklearn.preprocessing import StandardScaler\n",
    "\n",
    "import fastcluster\n",
    "from sklearn import cluster, datasets\n",
    "import scipy.cluster.hierarchy as hier\n",
    "from sklearn.cluster import KMeans\n",
    "import time\n",
    "import sys\n",
    "import pickle\n",
    "\n",
    "import Bio\n",
    "from Bio.Alphabet import IUPAC\n",
    "from Bio.Blast.Applications import NcbiblastnCommandline\n",
    "from Bio.Blast import NCBIXML\n",
    "from Bio.Seq import Seq\n",
    "from Bio.SeqRecord import SeqRecord\n",
    "from Bio.SeqFeature import SeqFeature, FeatureLocation\n",
    "from Bio import pairwise2\n",
    "from Bio import SeqIO\n",
    "from Bio.Graphics import GenomeDiagram\n",
    "from Bio.SeqUtils import GC\n",
    "from Bio import Phylo\n",
    "\n",
    "from Bio.Align.Applications import MuscleCommandline\n",
    "from StringIO import StringIO\n",
    "from Bio import AlignIO\n",
    "from Bio.Align import AlignInfo\n",
    "from Bio.Seq import MutableSeq\n",
    "import itertools\n",
    "import gzip\n",
    "\n",
    "import networkx as nx\n",
    "import scipy\n",
    "from collections import Counter"
   ]
  },
  {
   "cell_type": "markdown",
   "metadata": {},
   "source": [
    "################################################################################################################################################################################################################"
   ]
  },
  {
   "cell_type": "markdown",
   "metadata": {},
   "source": [
    "# [1] Load INDEL genotype matrix and Annotation Files"
   ]
  },
  {
   "cell_type": "markdown",
   "metadata": {},
   "source": [
    "################################################################################################################################################################################################################"
   ]
  },
  {
   "cell_type": "code",
   "execution_count": 3,
   "metadata": {},
   "outputs": [],
   "source": [
    "#load isolate annotation file (columns of Genotype Matrix)\n",
    "isolate_annotation_DF = pd.read_pickle('/n/data1/hms/dbmi/farhat/Roger/mmpR_BDQ_mutant_project/rolling_DB_scrape_indels/Genotypes_Filtered_2/genotypes_isolate_annotation.pkl')\n",
    "\n",
    "#load INDEL annotation file (rows of Genotype Matrix) with gene annotation information\n",
    "INDEL_annotation_DF = pd.read_pickle('/n/data1/hms/dbmi/farhat/Roger/mmpR_BDQ_mutant_project/rolling_DB_scrape_indels/Genotypes_Filtered_2/genotypes_INDEL_functional_annotation.pkl')\n",
    "INDEL_annotation_DF.reset_index(inplace = True , drop = False)\n",
    "\n",
    "#load Genotypes Matrix\n",
    "genotypes_array =  np.load('/n/data1/hms/dbmi/farhat/Roger/mmpR_BDQ_mutant_project/rolling_DB_scrape_indels/Genotypes_Filtered_2/genotypes_matrix.npy')"
   ]
  },
  {
   "cell_type": "code",
   "execution_count": 4,
   "metadata": {},
   "outputs": [
    {
     "data": {
      "text/html": [
       "<div>\n",
       "<style>\n",
       "    .dataframe thead tr:only-child th {\n",
       "        text-align: right;\n",
       "    }\n",
       "\n",
       "    .dataframe thead th {\n",
       "        text-align: left;\n",
       "    }\n",
       "\n",
       "    .dataframe tbody tr th {\n",
       "        vertical-align: top;\n",
       "    }\n",
       "</style>\n",
       "<table border=\"1\" class=\"dataframe\">\n",
       "  <thead>\n",
       "    <tr style=\"text-align: right;\">\n",
       "      <th></th>\n",
       "      <th>isolate_ID</th>\n",
       "      <th>lineage_1</th>\n",
       "      <th>lineage_2</th>\n",
       "      <th>lineage_3</th>\n",
       "      <th>lineage_4</th>\n",
       "      <th>lineage_5</th>\n",
       "      <th>lineage_6</th>\n",
       "      <th>lineage_7</th>\n",
       "      <th>lineage_8</th>\n",
       "      <th>lineage_9</th>\n",
       "      <th>lineage_10</th>\n",
       "      <th>lineage_11</th>\n",
       "      <th>lineage_call</th>\n",
       "      <th>group</th>\n",
       "    </tr>\n",
       "  </thead>\n",
       "  <tbody>\n",
       "    <tr>\n",
       "      <th>0</th>\n",
       "      <td>SAMN13051687</td>\n",
       "      <td>2</td>\n",
       "      <td>2</td>\n",
       "      <td>1</td>\n",
       "      <td>1</td>\n",
       "      <td>1</td>\n",
       "      <td>i3</td>\n",
       "      <td>NaN</td>\n",
       "      <td>NaN</td>\n",
       "      <td>NaN</td>\n",
       "      <td>NaN</td>\n",
       "      <td>NaN</td>\n",
       "      <td>2.2.1.1.1.i3</td>\n",
       "      <td>2</td>\n",
       "    </tr>\n",
       "    <tr>\n",
       "      <th>1</th>\n",
       "      <td>SAMN09100245</td>\n",
       "      <td>4</td>\n",
       "      <td>2</td>\n",
       "      <td>1</td>\n",
       "      <td>2</td>\n",
       "      <td>1</td>\n",
       "      <td>1</td>\n",
       "      <td>i3</td>\n",
       "      <td>2</td>\n",
       "      <td>NaN</td>\n",
       "      <td>NaN</td>\n",
       "      <td>NaN</td>\n",
       "      <td>4.2.1.2.1.1.i3.2</td>\n",
       "      <td>4B</td>\n",
       "    </tr>\n",
       "    <tr>\n",
       "      <th>2</th>\n",
       "      <td>SAMN08732238</td>\n",
       "      <td>2</td>\n",
       "      <td>2</td>\n",
       "      <td>1</td>\n",
       "      <td>1</td>\n",
       "      <td>1</td>\n",
       "      <td>NaN</td>\n",
       "      <td>NaN</td>\n",
       "      <td>NaN</td>\n",
       "      <td>NaN</td>\n",
       "      <td>NaN</td>\n",
       "      <td>NaN</td>\n",
       "      <td>2.2.1.1.1</td>\n",
       "      <td>2</td>\n",
       "    </tr>\n",
       "    <tr>\n",
       "      <th>3</th>\n",
       "      <td>SAMN07658260</td>\n",
       "      <td>3</td>\n",
       "      <td>1</td>\n",
       "      <td>1</td>\n",
       "      <td>NaN</td>\n",
       "      <td>NaN</td>\n",
       "      <td>NaN</td>\n",
       "      <td>NaN</td>\n",
       "      <td>NaN</td>\n",
       "      <td>NaN</td>\n",
       "      <td>NaN</td>\n",
       "      <td>NaN</td>\n",
       "      <td>3.1.1</td>\n",
       "      <td>3</td>\n",
       "    </tr>\n",
       "    <tr>\n",
       "      <th>4</th>\n",
       "      <td>SAMN03648003</td>\n",
       "      <td>2</td>\n",
       "      <td>2</td>\n",
       "      <td>1</td>\n",
       "      <td>1</td>\n",
       "      <td>1</td>\n",
       "      <td>NaN</td>\n",
       "      <td>NaN</td>\n",
       "      <td>NaN</td>\n",
       "      <td>NaN</td>\n",
       "      <td>NaN</td>\n",
       "      <td>NaN</td>\n",
       "      <td>2.2.1.1.1</td>\n",
       "      <td>2</td>\n",
       "    </tr>\n",
       "  </tbody>\n",
       "</table>\n",
       "</div>"
      ],
      "text/plain": [
       "     isolate_ID lineage_1 lineage_2 lineage_3 lineage_4 lineage_5 lineage_6  \\\n",
       "0  SAMN13051687         2         2         1         1         1        i3   \n",
       "1  SAMN09100245         4         2         1         2         1         1   \n",
       "2  SAMN08732238         2         2         1         1         1       NaN   \n",
       "3  SAMN07658260         3         1         1       NaN       NaN       NaN   \n",
       "4  SAMN03648003         2         2         1         1         1       NaN   \n",
       "\n",
       "  lineage_7 lineage_8 lineage_9 lineage_10 lineage_11      lineage_call group  \n",
       "0       NaN       NaN       NaN        NaN        NaN      2.2.1.1.1.i3     2  \n",
       "1        i3         2       NaN        NaN        NaN  4.2.1.2.1.1.i3.2    4B  \n",
       "2       NaN       NaN       NaN        NaN        NaN         2.2.1.1.1     2  \n",
       "3       NaN       NaN       NaN        NaN        NaN             3.1.1     3  \n",
       "4       NaN       NaN       NaN        NaN        NaN         2.2.1.1.1     2  "
      ]
     },
     "execution_count": 4,
     "metadata": {},
     "output_type": "execute_result"
    }
   ],
   "source": [
    "isolate_annotation_DF.head()"
   ]
  },
  {
   "cell_type": "code",
   "execution_count": 5,
   "metadata": {
    "scrolled": true
   },
   "outputs": [
    {
     "data": {
      "text/html": [
       "<div>\n",
       "<style>\n",
       "    .dataframe thead tr:only-child th {\n",
       "        text-align: right;\n",
       "    }\n",
       "\n",
       "    .dataframe thead th {\n",
       "        text-align: left;\n",
       "    }\n",
       "\n",
       "    .dataframe tbody tr th {\n",
       "        vertical-align: top;\n",
       "    }\n",
       "</style>\n",
       "<table border=\"1\" class=\"dataframe\">\n",
       "  <thead>\n",
       "    <tr style=\"text-align: right;\">\n",
       "      <th></th>\n",
       "      <th>key</th>\n",
       "      <th>pos</th>\n",
       "      <th>ref</th>\n",
       "      <th>alt</th>\n",
       "      <th>gene_category</th>\n",
       "      <th>gene_name</th>\n",
       "      <th>gene_id</th>\n",
       "      <th>gene_pos</th>\n",
       "      <th>ins_del</th>\n",
       "      <th>INDEL_type</th>\n",
       "      <th>codon_pos</th>\n",
       "    </tr>\n",
       "  </thead>\n",
       "  <tbody>\n",
       "    <tr>\n",
       "      <th>0</th>\n",
       "      <td>ACCGACGAAG_313_A</td>\n",
       "      <td>313</td>\n",
       "      <td>ACCGACGAAG</td>\n",
       "      <td>A</td>\n",
       "      <td>Essential</td>\n",
       "      <td>dnaA</td>\n",
       "      <td>Rv0001</td>\n",
       "      <td>313</td>\n",
       "      <td>del</td>\n",
       "      <td>inframe</td>\n",
       "      <td>105</td>\n",
       "    </tr>\n",
       "    <tr>\n",
       "      <th>1</th>\n",
       "      <td>TC_1549_T</td>\n",
       "      <td>1549</td>\n",
       "      <td>TC</td>\n",
       "      <td>T</td>\n",
       "      <td>None</td>\n",
       "      <td>None</td>\n",
       "      <td>Rv0001_Rv0002</td>\n",
       "      <td>None</td>\n",
       "      <td>del</td>\n",
       "      <td>frameshift</td>\n",
       "      <td>None</td>\n",
       "    </tr>\n",
       "    <tr>\n",
       "      <th>2</th>\n",
       "      <td>TAA_1552_T</td>\n",
       "      <td>1552</td>\n",
       "      <td>TAA</td>\n",
       "      <td>T</td>\n",
       "      <td>None</td>\n",
       "      <td>None</td>\n",
       "      <td>Rv0001_Rv0002</td>\n",
       "      <td>None</td>\n",
       "      <td>del</td>\n",
       "      <td>frameshift</td>\n",
       "      <td>None</td>\n",
       "    </tr>\n",
       "    <tr>\n",
       "      <th>3</th>\n",
       "      <td>TA_1552_T</td>\n",
       "      <td>1552</td>\n",
       "      <td>TA</td>\n",
       "      <td>T</td>\n",
       "      <td>None</td>\n",
       "      <td>None</td>\n",
       "      <td>Rv0001_Rv0002</td>\n",
       "      <td>None</td>\n",
       "      <td>del</td>\n",
       "      <td>frameshift</td>\n",
       "      <td>None</td>\n",
       "    </tr>\n",
       "    <tr>\n",
       "      <th>4</th>\n",
       "      <td>T_1552_TA</td>\n",
       "      <td>1552</td>\n",
       "      <td>T</td>\n",
       "      <td>TA</td>\n",
       "      <td>None</td>\n",
       "      <td>None</td>\n",
       "      <td>Rv0001_Rv0002</td>\n",
       "      <td>None</td>\n",
       "      <td>ins</td>\n",
       "      <td>frameshift</td>\n",
       "      <td>None</td>\n",
       "    </tr>\n",
       "  </tbody>\n",
       "</table>\n",
       "</div>"
      ],
      "text/plain": [
       "                key   pos         ref alt gene_category gene_name  \\\n",
       "0  ACCGACGAAG_313_A   313  ACCGACGAAG   A     Essential      dnaA   \n",
       "1         TC_1549_T  1549          TC   T          None      None   \n",
       "2        TAA_1552_T  1552         TAA   T          None      None   \n",
       "3         TA_1552_T  1552          TA   T          None      None   \n",
       "4         T_1552_TA  1552           T  TA          None      None   \n",
       "\n",
       "         gene_id gene_pos ins_del  INDEL_type codon_pos  \n",
       "0         Rv0001      313     del     inframe       105  \n",
       "1  Rv0001_Rv0002     None     del  frameshift      None  \n",
       "2  Rv0001_Rv0002     None     del  frameshift      None  \n",
       "3  Rv0001_Rv0002     None     del  frameshift      None  \n",
       "4  Rv0001_Rv0002     None     ins  frameshift      None  "
      ]
     },
     "execution_count": 5,
     "metadata": {},
     "output_type": "execute_result"
    }
   ],
   "source": [
    "INDEL_annotation_DF.head()"
   ]
  },
  {
   "cell_type": "code",
   "execution_count": 6,
   "metadata": {},
   "outputs": [
    {
     "data": {
      "text/plain": [
       "array([[0, 0, 0, ..., 0, 0, 0],\n",
       "       [0, 0, 0, ..., 0, 0, 0],\n",
       "       [0, 0, 0, ..., 0, 0, 0],\n",
       "       ...,\n",
       "       [0, 0, 0, ..., 0, 0, 0],\n",
       "       [0, 0, 0, ..., 0, 0, 0],\n",
       "       [0, 0, 0, ..., 0, 0, 0]], dtype=int8)"
      ]
     },
     "execution_count": 6,
     "metadata": {},
     "output_type": "execute_result"
    }
   ],
   "source": [
    "genotypes_array"
   ]
  },
  {
   "cell_type": "code",
   "execution_count": 7,
   "metadata": {},
   "outputs": [
    {
     "data": {
      "text/plain": [
       "(55268, 31428)"
      ]
     },
     "execution_count": 7,
     "metadata": {},
     "output_type": "execute_result"
    }
   ],
   "source": [
    "np.shape(genotypes_array)"
   ]
  },
  {
   "cell_type": "markdown",
   "metadata": {},
   "source": [
    "################################################################################################################################################################################################################"
   ]
  },
  {
   "cell_type": "markdown",
   "metadata": {},
   "source": [
    "# [2] Keep only *mixed* indels ($10\\% \\le $ alt AF $< 75\\%$)"
   ]
  },
  {
   "cell_type": "markdown",
   "metadata": {},
   "source": [
    "################################################################################################################################################################################################################"
   ]
  },
  {
   "cell_type": "markdown",
   "metadata": {},
   "source": [
    "The genotypes matrix retains all high-quality indels coded as % allele frequency:\n",
    "- $0\\%$ allele frequency\n",
    "- between $10\\%$ and $100\\%$ allele frequency\n",
    "- -9 for bad quality calls \n",
    "filter and retain only the ones with *mixed* allele frequencies"
   ]
  },
  {
   "cell_type": "code",
   "execution_count": null,
   "metadata": {},
   "outputs": [],
   "source": [
    "#drop rows (indel variants) with ZERO mixed indels\n",
    "INDELs_to_keep_filter = []\n",
    "\n",
    "#iterate through each indel variant (takes ~1 hour)\n",
    "for row_i in INDEL_annotation_DF.index: \n",
    "    \n",
    "    #number of indels that are mixed with 10% <= AF < 75% out of 31,428 isolates\n",
    "    num_mixed_indels_i = sum([(AF_larger_than_10 and AF_smaller_than_75) for AF_larger_than_10, AF_smaller_than_75 in zip(genotypes_array[row_i , :] >= 10, genotypes_array[row_i , :] < 75)])\n",
    "    \n",
    "    if num_mixed_indels_i >= 1:\n",
    "        INDELs_to_keep_filter.append(True)\n",
    "    elif num_mixed_indels_i == 0:\n",
    "        INDELs_to_keep_filter.append(False)"
   ]
  },
  {
   "cell_type": "markdown",
   "metadata": {},
   "source": [
    "Drop Indels (rows) with no mixed calls across all of the isolates from the INDEL annotation dataframe"
   ]
  },
  {
   "cell_type": "code",
   "execution_count": null,
   "metadata": {},
   "outputs": [],
   "source": [
    "sum(INDELs_to_keep_filter)"
   ]
  },
  {
   "cell_type": "code",
   "execution_count": null,
   "metadata": {},
   "outputs": [],
   "source": [
    "#filter Genotypes Matrix\n",
    "genotypes_array = genotypes_array[INDELs_to_keep_filter , :]\n",
    "\n",
    "#filter INDEL annotation file\n",
    "INDEL_annotation_DF = INDEL_annotation_DF[INDELs_to_keep_filter]\n",
    "INDEL_annotation_DF.reset_index(drop = True , inplace = True) #re-index new filtered INDEL annotation DF (so new index matches indexing of genotypes matrix rows)"
   ]
  },
  {
   "cell_type": "code",
   "execution_count": null,
   "metadata": {},
   "outputs": [],
   "source": [
    "len(INDELs_to_keep_filter) - sum(INDELs_to_keep_filter) #number of INDELs dropped by this filter"
   ]
  },
  {
   "cell_type": "code",
   "execution_count": null,
   "metadata": {},
   "outputs": [],
   "source": [
    "np.shape(genotypes_array)"
   ]
  },
  {
   "cell_type": "code",
   "execution_count": null,
   "metadata": {},
   "outputs": [],
   "source": [
    "INDEL_annotation_DF.head()"
   ]
  },
  {
   "cell_type": "code",
   "execution_count": null,
   "metadata": {},
   "outputs": [],
   "source": [
    "np.shape(INDEL_annotation_DF) #Annotation for Rows of Genotypes Matrix"
   ]
  },
  {
   "cell_type": "markdown",
   "metadata": {},
   "source": [
    "Save __Genotypes Matrix__"
   ]
  },
  {
   "cell_type": "code",
   "execution_count": null,
   "metadata": {},
   "outputs": [],
   "source": [
    "#save Genotypes Matrix\n",
    "np.save('/n/data1/hms/dbmi/farhat/Roger/mmpR_BDQ_mutant_project/rolling_DB_scrape_indels/Genotypes_Mixed_only/genotypes_matrix' , genotypes_array , allow_pickle = True)"
   ]
  },
  {
   "cell_type": "markdown",
   "metadata": {},
   "source": [
    "Save __INDEL annotation file__"
   ]
  },
  {
   "cell_type": "code",
   "execution_count": null,
   "metadata": {},
   "outputs": [],
   "source": [
    "INDEL_annotation_DF.to_pickle('/n/data1/hms/dbmi/farhat/Roger/mmpR_BDQ_mutant_project/rolling_DB_scrape_indels/Genotypes_Mixed_only/genotypes_INDEL_functional_annotation.pkl')"
   ]
  },
  {
   "cell_type": "markdown",
   "metadata": {},
   "source": [
    "Save __Isolate annotation file__"
   ]
  },
  {
   "cell_type": "code",
   "execution_count": null,
   "metadata": {},
   "outputs": [],
   "source": [
    "isolate_annotation_DF.to_pickle('/n/data1/hms/dbmi/farhat/Roger/mmpR_BDQ_mutant_project/rolling_DB_scrape_indels/Genotypes_Mixed_only/genotypes_isolate_annotation.pkl')"
   ]
  },
  {
   "cell_type": "markdown",
   "metadata": {},
   "source": [
    "################################################################################################################################################################################################################"
   ]
  },
  {
   "cell_type": "markdown",
   "metadata": {},
   "source": [
    "# [3] Analyze *frameshift* mixed indels in mmpR, mmpS5, mmpL5, eis, whiB7, ahpC"
   ]
  },
  {
   "cell_type": "markdown",
   "metadata": {},
   "source": [
    "################################################################################################################################################################################################################"
   ]
  },
  {
   "cell_type": "markdown",
   "metadata": {},
   "source": [
    "### Load *mixed* INDEL genotype matrix and Annotation Files"
   ]
  },
  {
   "cell_type": "code",
   "execution_count": 11,
   "metadata": {},
   "outputs": [],
   "source": [
    "#load isolate annotation file (columns of Genotype Matrix)\n",
    "isolate_annotation_DF = pd.read_pickle('/n/data1/hms/dbmi/farhat/Roger/mmpR_BDQ_mutant_project/rolling_DB_scrape_indels/Genotypes_Mixed_only/genotypes_isolate_annotation.pkl')\n",
    "\n",
    "#load INDEL annotation file (rows of Genotype Matrix) with gene annotation information\n",
    "INDEL_annotation_DF = pd.read_pickle('/n/data1/hms/dbmi/farhat/Roger/mmpR_BDQ_mutant_project/rolling_DB_scrape_indels/Genotypes_Mixed_only/genotypes_INDEL_functional_annotation.pkl')\n",
    "\n",
    "#load Genotypes Matrix\n",
    "genotypes_array =  np.load('/n/data1/hms/dbmi/farhat/Roger/mmpR_BDQ_mutant_project/rolling_DB_scrape_indels/Genotypes_Mixed_only/genotypes_matrix.npy')"
   ]
  },
  {
   "cell_type": "code",
   "execution_count": 12,
   "metadata": {},
   "outputs": [
    {
     "data": {
      "text/html": [
       "<div>\n",
       "<style>\n",
       "    .dataframe thead tr:only-child th {\n",
       "        text-align: right;\n",
       "    }\n",
       "\n",
       "    .dataframe thead th {\n",
       "        text-align: left;\n",
       "    }\n",
       "\n",
       "    .dataframe tbody tr th {\n",
       "        vertical-align: top;\n",
       "    }\n",
       "</style>\n",
       "<table border=\"1\" class=\"dataframe\">\n",
       "  <thead>\n",
       "    <tr style=\"text-align: right;\">\n",
       "      <th></th>\n",
       "      <th>isolate_ID</th>\n",
       "      <th>lineage_1</th>\n",
       "      <th>lineage_2</th>\n",
       "      <th>lineage_3</th>\n",
       "      <th>lineage_4</th>\n",
       "      <th>lineage_5</th>\n",
       "      <th>lineage_6</th>\n",
       "      <th>lineage_7</th>\n",
       "      <th>lineage_8</th>\n",
       "      <th>lineage_9</th>\n",
       "      <th>lineage_10</th>\n",
       "      <th>lineage_11</th>\n",
       "      <th>lineage_call</th>\n",
       "      <th>group</th>\n",
       "    </tr>\n",
       "  </thead>\n",
       "  <tbody>\n",
       "    <tr>\n",
       "      <th>0</th>\n",
       "      <td>SAMN13051687</td>\n",
       "      <td>2</td>\n",
       "      <td>2</td>\n",
       "      <td>1</td>\n",
       "      <td>1</td>\n",
       "      <td>1</td>\n",
       "      <td>i3</td>\n",
       "      <td>NaN</td>\n",
       "      <td>NaN</td>\n",
       "      <td>NaN</td>\n",
       "      <td>NaN</td>\n",
       "      <td>NaN</td>\n",
       "      <td>2.2.1.1.1.i3</td>\n",
       "      <td>2</td>\n",
       "    </tr>\n",
       "    <tr>\n",
       "      <th>1</th>\n",
       "      <td>SAMN09100245</td>\n",
       "      <td>4</td>\n",
       "      <td>2</td>\n",
       "      <td>1</td>\n",
       "      <td>2</td>\n",
       "      <td>1</td>\n",
       "      <td>1</td>\n",
       "      <td>i3</td>\n",
       "      <td>2</td>\n",
       "      <td>NaN</td>\n",
       "      <td>NaN</td>\n",
       "      <td>NaN</td>\n",
       "      <td>4.2.1.2.1.1.i3.2</td>\n",
       "      <td>4B</td>\n",
       "    </tr>\n",
       "    <tr>\n",
       "      <th>2</th>\n",
       "      <td>SAMN08732238</td>\n",
       "      <td>2</td>\n",
       "      <td>2</td>\n",
       "      <td>1</td>\n",
       "      <td>1</td>\n",
       "      <td>1</td>\n",
       "      <td>NaN</td>\n",
       "      <td>NaN</td>\n",
       "      <td>NaN</td>\n",
       "      <td>NaN</td>\n",
       "      <td>NaN</td>\n",
       "      <td>NaN</td>\n",
       "      <td>2.2.1.1.1</td>\n",
       "      <td>2</td>\n",
       "    </tr>\n",
       "    <tr>\n",
       "      <th>3</th>\n",
       "      <td>SAMN07658260</td>\n",
       "      <td>3</td>\n",
       "      <td>1</td>\n",
       "      <td>1</td>\n",
       "      <td>NaN</td>\n",
       "      <td>NaN</td>\n",
       "      <td>NaN</td>\n",
       "      <td>NaN</td>\n",
       "      <td>NaN</td>\n",
       "      <td>NaN</td>\n",
       "      <td>NaN</td>\n",
       "      <td>NaN</td>\n",
       "      <td>3.1.1</td>\n",
       "      <td>3</td>\n",
       "    </tr>\n",
       "    <tr>\n",
       "      <th>4</th>\n",
       "      <td>SAMN03648003</td>\n",
       "      <td>2</td>\n",
       "      <td>2</td>\n",
       "      <td>1</td>\n",
       "      <td>1</td>\n",
       "      <td>1</td>\n",
       "      <td>NaN</td>\n",
       "      <td>NaN</td>\n",
       "      <td>NaN</td>\n",
       "      <td>NaN</td>\n",
       "      <td>NaN</td>\n",
       "      <td>NaN</td>\n",
       "      <td>2.2.1.1.1</td>\n",
       "      <td>2</td>\n",
       "    </tr>\n",
       "  </tbody>\n",
       "</table>\n",
       "</div>"
      ],
      "text/plain": [
       "     isolate_ID lineage_1 lineage_2 lineage_3 lineage_4 lineage_5 lineage_6  \\\n",
       "0  SAMN13051687         2         2         1         1         1        i3   \n",
       "1  SAMN09100245         4         2         1         2         1         1   \n",
       "2  SAMN08732238         2         2         1         1         1       NaN   \n",
       "3  SAMN07658260         3         1         1       NaN       NaN       NaN   \n",
       "4  SAMN03648003         2         2         1         1         1       NaN   \n",
       "\n",
       "  lineage_7 lineage_8 lineage_9 lineage_10 lineage_11      lineage_call group  \n",
       "0       NaN       NaN       NaN        NaN        NaN      2.2.1.1.1.i3     2  \n",
       "1        i3         2       NaN        NaN        NaN  4.2.1.2.1.1.i3.2    4B  \n",
       "2       NaN       NaN       NaN        NaN        NaN         2.2.1.1.1     2  \n",
       "3       NaN       NaN       NaN        NaN        NaN             3.1.1     3  \n",
       "4       NaN       NaN       NaN        NaN        NaN         2.2.1.1.1     2  "
      ]
     },
     "execution_count": 12,
     "metadata": {},
     "output_type": "execute_result"
    }
   ],
   "source": [
    "isolate_annotation_DF.head()"
   ]
  },
  {
   "cell_type": "code",
   "execution_count": 13,
   "metadata": {},
   "outputs": [
    {
     "data": {
      "text/plain": [
       "(31428, 14)"
      ]
     },
     "execution_count": 13,
     "metadata": {},
     "output_type": "execute_result"
    }
   ],
   "source": [
    "np.shape(isolate_annotation_DF)"
   ]
  },
  {
   "cell_type": "code",
   "execution_count": 14,
   "metadata": {},
   "outputs": [
    {
     "data": {
      "text/html": [
       "<div>\n",
       "<style>\n",
       "    .dataframe thead tr:only-child th {\n",
       "        text-align: right;\n",
       "    }\n",
       "\n",
       "    .dataframe thead th {\n",
       "        text-align: left;\n",
       "    }\n",
       "\n",
       "    .dataframe tbody tr th {\n",
       "        vertical-align: top;\n",
       "    }\n",
       "</style>\n",
       "<table border=\"1\" class=\"dataframe\">\n",
       "  <thead>\n",
       "    <tr style=\"text-align: right;\">\n",
       "      <th></th>\n",
       "      <th>key</th>\n",
       "      <th>pos</th>\n",
       "      <th>ref</th>\n",
       "      <th>alt</th>\n",
       "      <th>gene_category</th>\n",
       "      <th>gene_name</th>\n",
       "      <th>gene_id</th>\n",
       "      <th>gene_pos</th>\n",
       "      <th>ins_del</th>\n",
       "      <th>INDEL_type</th>\n",
       "      <th>codon_pos</th>\n",
       "    </tr>\n",
       "  </thead>\n",
       "  <tbody>\n",
       "    <tr>\n",
       "      <th>0</th>\n",
       "      <td>TA_1552_T</td>\n",
       "      <td>1552</td>\n",
       "      <td>TA</td>\n",
       "      <td>T</td>\n",
       "      <td>None</td>\n",
       "      <td>None</td>\n",
       "      <td>Rv0001_Rv0002</td>\n",
       "      <td>None</td>\n",
       "      <td>del</td>\n",
       "      <td>frameshift</td>\n",
       "      <td>None</td>\n",
       "    </tr>\n",
       "    <tr>\n",
       "      <th>1</th>\n",
       "      <td>T_1552_TA</td>\n",
       "      <td>1552</td>\n",
       "      <td>T</td>\n",
       "      <td>TA</td>\n",
       "      <td>None</td>\n",
       "      <td>None</td>\n",
       "      <td>Rv0001_Rv0002</td>\n",
       "      <td>None</td>\n",
       "      <td>ins</td>\n",
       "      <td>frameshift</td>\n",
       "      <td>None</td>\n",
       "    </tr>\n",
       "    <tr>\n",
       "      <th>2</th>\n",
       "      <td>G_1622_GCGCACAGA</td>\n",
       "      <td>1622</td>\n",
       "      <td>G</td>\n",
       "      <td>GCGCACAGA</td>\n",
       "      <td>None</td>\n",
       "      <td>None</td>\n",
       "      <td>Rv0001_Rv0002</td>\n",
       "      <td>None</td>\n",
       "      <td>ins</td>\n",
       "      <td>frameshift</td>\n",
       "      <td>None</td>\n",
       "    </tr>\n",
       "    <tr>\n",
       "      <th>3</th>\n",
       "      <td>C_1652_CG</td>\n",
       "      <td>1652</td>\n",
       "      <td>C</td>\n",
       "      <td>CG</td>\n",
       "      <td>None</td>\n",
       "      <td>None</td>\n",
       "      <td>Rv0001_Rv0002</td>\n",
       "      <td>None</td>\n",
       "      <td>ins</td>\n",
       "      <td>frameshift</td>\n",
       "      <td>None</td>\n",
       "    </tr>\n",
       "    <tr>\n",
       "      <th>4</th>\n",
       "      <td>A_1692_ACCC</td>\n",
       "      <td>1692</td>\n",
       "      <td>A</td>\n",
       "      <td>ACCC</td>\n",
       "      <td>None</td>\n",
       "      <td>None</td>\n",
       "      <td>Rv0001_Rv0002</td>\n",
       "      <td>None</td>\n",
       "      <td>ins</td>\n",
       "      <td>inframe</td>\n",
       "      <td>None</td>\n",
       "    </tr>\n",
       "  </tbody>\n",
       "</table>\n",
       "</div>"
      ],
      "text/plain": [
       "                key   pos ref        alt gene_category gene_name  \\\n",
       "0         TA_1552_T  1552  TA          T          None      None   \n",
       "1         T_1552_TA  1552   T         TA          None      None   \n",
       "2  G_1622_GCGCACAGA  1622   G  GCGCACAGA          None      None   \n",
       "3         C_1652_CG  1652   C         CG          None      None   \n",
       "4       A_1692_ACCC  1692   A       ACCC          None      None   \n",
       "\n",
       "         gene_id gene_pos ins_del  INDEL_type codon_pos  \n",
       "0  Rv0001_Rv0002     None     del  frameshift      None  \n",
       "1  Rv0001_Rv0002     None     ins  frameshift      None  \n",
       "2  Rv0001_Rv0002     None     ins  frameshift      None  \n",
       "3  Rv0001_Rv0002     None     ins  frameshift      None  \n",
       "4  Rv0001_Rv0002     None     ins     inframe      None  "
      ]
     },
     "execution_count": 14,
     "metadata": {},
     "output_type": "execute_result"
    }
   ],
   "source": [
    "INDEL_annotation_DF.head()"
   ]
  },
  {
   "cell_type": "code",
   "execution_count": 15,
   "metadata": {},
   "outputs": [
    {
     "data": {
      "text/plain": [
       "(7731, 11)"
      ]
     },
     "execution_count": 15,
     "metadata": {},
     "output_type": "execute_result"
    }
   ],
   "source": [
    "np.shape(INDEL_annotation_DF)"
   ]
  },
  {
   "cell_type": "code",
   "execution_count": 16,
   "metadata": {},
   "outputs": [
    {
     "data": {
      "text/plain": [
       "array([[ 0,  0,  0, ...,  0,  0,  0],\n",
       "       [ 0,  0,  0, ...,  0,  0,  0],\n",
       "       [ 0,  0, -9, ...,  0,  0, -9],\n",
       "       ...,\n",
       "       [ 0,  0,  0, ...,  0,  0,  0],\n",
       "       [ 0,  0,  0, ...,  0,  0,  0],\n",
       "       [ 0,  0,  0, ...,  0,  0,  0]], dtype=int8)"
      ]
     },
     "execution_count": 16,
     "metadata": {},
     "output_type": "execute_result"
    }
   ],
   "source": [
    "genotypes_array"
   ]
  },
  {
   "cell_type": "code",
   "execution_count": 17,
   "metadata": {},
   "outputs": [
    {
     "data": {
      "text/plain": [
       "(7731, 31428)"
      ]
     },
     "execution_count": 17,
     "metadata": {},
     "output_type": "execute_result"
    }
   ],
   "source": [
    "np.shape(genotypes_array)"
   ]
  },
  {
   "cell_type": "markdown",
   "metadata": {},
   "source": [
    "## keep only *frameshift* indels"
   ]
  },
  {
   "cell_type": "code",
   "execution_count": 18,
   "metadata": {},
   "outputs": [],
   "source": [
    "INDEL_annotation_DF = INDEL_annotation_DF[INDEL_annotation_DF.INDEL_type == 'frameshift']"
   ]
  },
  {
   "cell_type": "code",
   "execution_count": 19,
   "metadata": {},
   "outputs": [
    {
     "data": {
      "text/html": [
       "<div>\n",
       "<style>\n",
       "    .dataframe thead tr:only-child th {\n",
       "        text-align: right;\n",
       "    }\n",
       "\n",
       "    .dataframe thead th {\n",
       "        text-align: left;\n",
       "    }\n",
       "\n",
       "    .dataframe tbody tr th {\n",
       "        vertical-align: top;\n",
       "    }\n",
       "</style>\n",
       "<table border=\"1\" class=\"dataframe\">\n",
       "  <thead>\n",
       "    <tr style=\"text-align: right;\">\n",
       "      <th></th>\n",
       "      <th>key</th>\n",
       "      <th>pos</th>\n",
       "      <th>ref</th>\n",
       "      <th>alt</th>\n",
       "      <th>gene_category</th>\n",
       "      <th>gene_name</th>\n",
       "      <th>gene_id</th>\n",
       "      <th>gene_pos</th>\n",
       "      <th>ins_del</th>\n",
       "      <th>INDEL_type</th>\n",
       "      <th>codon_pos</th>\n",
       "    </tr>\n",
       "  </thead>\n",
       "  <tbody>\n",
       "    <tr>\n",
       "      <th>0</th>\n",
       "      <td>TA_1552_T</td>\n",
       "      <td>1552</td>\n",
       "      <td>TA</td>\n",
       "      <td>T</td>\n",
       "      <td>None</td>\n",
       "      <td>None</td>\n",
       "      <td>Rv0001_Rv0002</td>\n",
       "      <td>None</td>\n",
       "      <td>del</td>\n",
       "      <td>frameshift</td>\n",
       "      <td>None</td>\n",
       "    </tr>\n",
       "    <tr>\n",
       "      <th>1</th>\n",
       "      <td>T_1552_TA</td>\n",
       "      <td>1552</td>\n",
       "      <td>T</td>\n",
       "      <td>TA</td>\n",
       "      <td>None</td>\n",
       "      <td>None</td>\n",
       "      <td>Rv0001_Rv0002</td>\n",
       "      <td>None</td>\n",
       "      <td>ins</td>\n",
       "      <td>frameshift</td>\n",
       "      <td>None</td>\n",
       "    </tr>\n",
       "    <tr>\n",
       "      <th>2</th>\n",
       "      <td>G_1622_GCGCACAGA</td>\n",
       "      <td>1622</td>\n",
       "      <td>G</td>\n",
       "      <td>GCGCACAGA</td>\n",
       "      <td>None</td>\n",
       "      <td>None</td>\n",
       "      <td>Rv0001_Rv0002</td>\n",
       "      <td>None</td>\n",
       "      <td>ins</td>\n",
       "      <td>frameshift</td>\n",
       "      <td>None</td>\n",
       "    </tr>\n",
       "    <tr>\n",
       "      <th>3</th>\n",
       "      <td>C_1652_CG</td>\n",
       "      <td>1652</td>\n",
       "      <td>C</td>\n",
       "      <td>CG</td>\n",
       "      <td>None</td>\n",
       "      <td>None</td>\n",
       "      <td>Rv0001_Rv0002</td>\n",
       "      <td>None</td>\n",
       "      <td>ins</td>\n",
       "      <td>frameshift</td>\n",
       "      <td>None</td>\n",
       "    </tr>\n",
       "    <tr>\n",
       "      <th>6</th>\n",
       "      <td>T_1779_TA</td>\n",
       "      <td>1779</td>\n",
       "      <td>T</td>\n",
       "      <td>TA</td>\n",
       "      <td>None</td>\n",
       "      <td>None</td>\n",
       "      <td>Rv0001_Rv0002</td>\n",
       "      <td>None</td>\n",
       "      <td>ins</td>\n",
       "      <td>frameshift</td>\n",
       "      <td>None</td>\n",
       "    </tr>\n",
       "  </tbody>\n",
       "</table>\n",
       "</div>"
      ],
      "text/plain": [
       "                key   pos ref        alt gene_category gene_name  \\\n",
       "0         TA_1552_T  1552  TA          T          None      None   \n",
       "1         T_1552_TA  1552   T         TA          None      None   \n",
       "2  G_1622_GCGCACAGA  1622   G  GCGCACAGA          None      None   \n",
       "3         C_1652_CG  1652   C         CG          None      None   \n",
       "6         T_1779_TA  1779   T         TA          None      None   \n",
       "\n",
       "         gene_id gene_pos ins_del  INDEL_type codon_pos  \n",
       "0  Rv0001_Rv0002     None     del  frameshift      None  \n",
       "1  Rv0001_Rv0002     None     ins  frameshift      None  \n",
       "2  Rv0001_Rv0002     None     ins  frameshift      None  \n",
       "3  Rv0001_Rv0002     None     ins  frameshift      None  \n",
       "6  Rv0001_Rv0002     None     ins  frameshift      None  "
      ]
     },
     "execution_count": 19,
     "metadata": {},
     "output_type": "execute_result"
    }
   ],
   "source": [
    "INDEL_annotation_DF.head()"
   ]
  },
  {
   "cell_type": "code",
   "execution_count": 20,
   "metadata": {},
   "outputs": [
    {
     "data": {
      "text/plain": [
       "(5925, 11)"
      ]
     },
     "execution_count": 20,
     "metadata": {},
     "output_type": "execute_result"
    }
   ],
   "source": [
    "np.shape(INDEL_annotation_DF)"
   ]
  },
  {
   "cell_type": "markdown",
   "metadata": {},
   "source": [
    "### Look for indels in *mmpR*"
   ]
  },
  {
   "cell_type": "code",
   "execution_count": 63,
   "metadata": {},
   "outputs": [
    {
     "data": {
      "text/html": [
       "<div>\n",
       "<style>\n",
       "    .dataframe thead tr:only-child th {\n",
       "        text-align: right;\n",
       "    }\n",
       "\n",
       "    .dataframe thead th {\n",
       "        text-align: left;\n",
       "    }\n",
       "\n",
       "    .dataframe tbody tr th {\n",
       "        vertical-align: top;\n",
       "    }\n",
       "</style>\n",
       "<table border=\"1\" class=\"dataframe\">\n",
       "  <thead>\n",
       "    <tr style=\"text-align: right;\">\n",
       "      <th></th>\n",
       "      <th>key</th>\n",
       "      <th>pos</th>\n",
       "      <th>ref</th>\n",
       "      <th>alt</th>\n",
       "      <th>gene_category</th>\n",
       "      <th>gene_name</th>\n",
       "      <th>gene_id</th>\n",
       "      <th>gene_pos</th>\n",
       "      <th>ins_del</th>\n",
       "      <th>INDEL_type</th>\n",
       "      <th>codon_pos</th>\n",
       "    </tr>\n",
       "  </thead>\n",
       "  <tbody>\n",
       "    <tr>\n",
       "      <th>1374</th>\n",
       "      <td>C_779181_CG</td>\n",
       "      <td>779181</td>\n",
       "      <td>C</td>\n",
       "      <td>CG</td>\n",
       "      <td>Non-Essential</td>\n",
       "      <td>Rv0678</td>\n",
       "      <td>Rv0678</td>\n",
       "      <td>192</td>\n",
       "      <td>ins</td>\n",
       "      <td>frameshift</td>\n",
       "      <td>64</td>\n",
       "    </tr>\n",
       "    <tr>\n",
       "      <th>1375</th>\n",
       "      <td>G_779249_GC</td>\n",
       "      <td>779249</td>\n",
       "      <td>G</td>\n",
       "      <td>GC</td>\n",
       "      <td>Non-Essential</td>\n",
       "      <td>Rv0678</td>\n",
       "      <td>Rv0678</td>\n",
       "      <td>260</td>\n",
       "      <td>ins</td>\n",
       "      <td>frameshift</td>\n",
       "      <td>87</td>\n",
       "    </tr>\n",
       "  </tbody>\n",
       "</table>\n",
       "</div>"
      ],
      "text/plain": [
       "              key     pos ref alt  gene_category gene_name gene_id gene_pos  \\\n",
       "1374  C_779181_CG  779181   C  CG  Non-Essential    Rv0678  Rv0678      192   \n",
       "1375  G_779249_GC  779249   G  GC  Non-Essential    Rv0678  Rv0678      260   \n",
       "\n",
       "     ins_del  INDEL_type codon_pos  \n",
       "1374     ins  frameshift        64  \n",
       "1375     ins  frameshift        87  "
      ]
     },
     "execution_count": 63,
     "metadata": {},
     "output_type": "execute_result"
    }
   ],
   "source": [
    "INDEL_annotation_DF[[('Rv0678' in gene_id) & ('_' not in gene_id) for gene_id in INDEL_annotation_DF.gene_id]].head() #mmpR"
   ]
  },
  {
   "cell_type": "markdown",
   "metadata": {},
   "source": [
    "Insertion in *mmpR* is **C_779181_CG**\n",
    "\n",
    "Deletion in *mmpR* is **CG_779181_C**"
   ]
  },
  {
   "cell_type": "code",
   "execution_count": 64,
   "metadata": {},
   "outputs": [],
   "source": [
    "mmpR_indels_df = INDEL_annotation_DF[[('Rv0678' in gene_id) & ('_' not in gene_id) for gene_id in INDEL_annotation_DF.gene_id]]"
   ]
  },
  {
   "cell_type": "markdown",
   "metadata": {},
   "source": [
    "### Look for indels in *mmpS5*"
   ]
  },
  {
   "cell_type": "code",
   "execution_count": 65,
   "metadata": {},
   "outputs": [
    {
     "data": {
      "text/html": [
       "<div>\n",
       "<style>\n",
       "    .dataframe thead tr:only-child th {\n",
       "        text-align: right;\n",
       "    }\n",
       "\n",
       "    .dataframe thead th {\n",
       "        text-align: left;\n",
       "    }\n",
       "\n",
       "    .dataframe tbody tr th {\n",
       "        vertical-align: top;\n",
       "    }\n",
       "</style>\n",
       "<table border=\"1\" class=\"dataframe\">\n",
       "  <thead>\n",
       "    <tr style=\"text-align: right;\">\n",
       "      <th></th>\n",
       "      <th>key</th>\n",
       "      <th>pos</th>\n",
       "      <th>ref</th>\n",
       "      <th>alt</th>\n",
       "      <th>gene_category</th>\n",
       "      <th>gene_name</th>\n",
       "      <th>gene_id</th>\n",
       "      <th>gene_pos</th>\n",
       "      <th>ins_del</th>\n",
       "      <th>INDEL_type</th>\n",
       "      <th>codon_pos</th>\n",
       "    </tr>\n",
       "  </thead>\n",
       "  <tbody>\n",
       "    <tr>\n",
       "      <th>1373</th>\n",
       "      <td>G_778696_GTTGA</td>\n",
       "      <td>778696</td>\n",
       "      <td>G</td>\n",
       "      <td>GTTGA</td>\n",
       "      <td>Non-Essential</td>\n",
       "      <td>mmpS5</td>\n",
       "      <td>Rv0677c</td>\n",
       "      <td>210</td>\n",
       "      <td>ins</td>\n",
       "      <td>frameshift</td>\n",
       "      <td>70</td>\n",
       "    </tr>\n",
       "  </tbody>\n",
       "</table>\n",
       "</div>"
      ],
      "text/plain": [
       "                 key     pos ref    alt  gene_category gene_name  gene_id  \\\n",
       "1373  G_778696_GTTGA  778696   G  GTTGA  Non-Essential     mmpS5  Rv0677c   \n",
       "\n",
       "     gene_pos ins_del  INDEL_type codon_pos  \n",
       "1373      210     ins  frameshift        70  "
      ]
     },
     "execution_count": 65,
     "metadata": {},
     "output_type": "execute_result"
    }
   ],
   "source": [
    "INDEL_annotation_DF[[('Rv0677c' in gene_id) & ('_' not in gene_id) for gene_id in INDEL_annotation_DF.gene_id]].head() #mmpS5"
   ]
  },
  {
   "cell_type": "code",
   "execution_count": 66,
   "metadata": {},
   "outputs": [],
   "source": [
    "mmpS5_indels_df = INDEL_annotation_DF[[('Rv0677c' in gene_id) & ('_' not in gene_id) for gene_id in INDEL_annotation_DF.gene_id]]"
   ]
  },
  {
   "cell_type": "markdown",
   "metadata": {},
   "source": [
    "### Look for indels in *mmpL5*"
   ]
  },
  {
   "cell_type": "code",
   "execution_count": 67,
   "metadata": {},
   "outputs": [
    {
     "data": {
      "text/html": [
       "<div>\n",
       "<style>\n",
       "    .dataframe thead tr:only-child th {\n",
       "        text-align: right;\n",
       "    }\n",
       "\n",
       "    .dataframe thead th {\n",
       "        text-align: left;\n",
       "    }\n",
       "\n",
       "    .dataframe tbody tr th {\n",
       "        vertical-align: top;\n",
       "    }\n",
       "</style>\n",
       "<table border=\"1\" class=\"dataframe\">\n",
       "  <thead>\n",
       "    <tr style=\"text-align: right;\">\n",
       "      <th></th>\n",
       "      <th>key</th>\n",
       "      <th>pos</th>\n",
       "      <th>ref</th>\n",
       "      <th>alt</th>\n",
       "      <th>gene_category</th>\n",
       "      <th>gene_name</th>\n",
       "      <th>gene_id</th>\n",
       "      <th>gene_pos</th>\n",
       "      <th>ins_del</th>\n",
       "      <th>INDEL_type</th>\n",
       "      <th>codon_pos</th>\n",
       "    </tr>\n",
       "  </thead>\n",
       "  <tbody>\n",
       "    <tr>\n",
       "      <th>1372</th>\n",
       "      <td>CGATCT_777076_C</td>\n",
       "      <td>777076</td>\n",
       "      <td>CGATCT</td>\n",
       "      <td>C</td>\n",
       "      <td>Non-Essential</td>\n",
       "      <td>mmpL5</td>\n",
       "      <td>Rv0676c</td>\n",
       "      <td>1405</td>\n",
       "      <td>del</td>\n",
       "      <td>frameshift</td>\n",
       "      <td>469</td>\n",
       "    </tr>\n",
       "  </tbody>\n",
       "</table>\n",
       "</div>"
      ],
      "text/plain": [
       "                  key     pos     ref alt  gene_category gene_name  gene_id  \\\n",
       "1372  CGATCT_777076_C  777076  CGATCT   C  Non-Essential     mmpL5  Rv0676c   \n",
       "\n",
       "     gene_pos ins_del  INDEL_type codon_pos  \n",
       "1372     1405     del  frameshift       469  "
      ]
     },
     "execution_count": 67,
     "metadata": {},
     "output_type": "execute_result"
    }
   ],
   "source": [
    "INDEL_annotation_DF[[('Rv0676c' in gene_id) & ('_' not in gene_id) for gene_id in INDEL_annotation_DF.gene_id]].head() #mmpL5"
   ]
  },
  {
   "cell_type": "markdown",
   "metadata": {},
   "source": [
    "Deletion in *mmpL5* is **AC_777875_A**"
   ]
  },
  {
   "cell_type": "code",
   "execution_count": 68,
   "metadata": {},
   "outputs": [],
   "source": [
    "mmpL5_indels_df = INDEL_annotation_DF[[('Rv0676c' in gene_id) & ('_' not in gene_id) for gene_id in INDEL_annotation_DF.gene_id]]"
   ]
  },
  {
   "cell_type": "markdown",
   "metadata": {},
   "source": [
    "### Look for indels in *eis*"
   ]
  },
  {
   "cell_type": "code",
   "execution_count": 69,
   "metadata": {},
   "outputs": [
    {
     "data": {
      "text/html": [
       "<div>\n",
       "<style>\n",
       "    .dataframe thead tr:only-child th {\n",
       "        text-align: right;\n",
       "    }\n",
       "\n",
       "    .dataframe thead th {\n",
       "        text-align: left;\n",
       "    }\n",
       "\n",
       "    .dataframe tbody tr th {\n",
       "        vertical-align: top;\n",
       "    }\n",
       "</style>\n",
       "<table border=\"1\" class=\"dataframe\">\n",
       "  <thead>\n",
       "    <tr style=\"text-align: right;\">\n",
       "      <th></th>\n",
       "      <th>key</th>\n",
       "      <th>pos</th>\n",
       "      <th>ref</th>\n",
       "      <th>alt</th>\n",
       "      <th>gene_category</th>\n",
       "      <th>gene_name</th>\n",
       "      <th>gene_id</th>\n",
       "      <th>gene_pos</th>\n",
       "      <th>ins_del</th>\n",
       "      <th>INDEL_type</th>\n",
       "      <th>codon_pos</th>\n",
       "    </tr>\n",
       "  </thead>\n",
       "  <tbody>\n",
       "    <tr>\n",
       "      <th>4787</th>\n",
       "      <td>GGT_2714526_G</td>\n",
       "      <td>2714526</td>\n",
       "      <td>GGT</td>\n",
       "      <td>G</td>\n",
       "      <td>Non-Essential</td>\n",
       "      <td>eis</td>\n",
       "      <td>Rv2416c</td>\n",
       "      <td>807</td>\n",
       "      <td>del</td>\n",
       "      <td>frameshift</td>\n",
       "      <td>269</td>\n",
       "    </tr>\n",
       "    <tr>\n",
       "      <th>4788</th>\n",
       "      <td>G_2714847_GCT</td>\n",
       "      <td>2714847</td>\n",
       "      <td>G</td>\n",
       "      <td>GCT</td>\n",
       "      <td>Non-Essential</td>\n",
       "      <td>eis</td>\n",
       "      <td>Rv2416c</td>\n",
       "      <td>486</td>\n",
       "      <td>ins</td>\n",
       "      <td>frameshift</td>\n",
       "      <td>162</td>\n",
       "    </tr>\n",
       "  </tbody>\n",
       "</table>\n",
       "</div>"
      ],
      "text/plain": [
       "                key      pos  ref  alt  gene_category gene_name  gene_id  \\\n",
       "4787  GGT_2714526_G  2714526  GGT    G  Non-Essential       eis  Rv2416c   \n",
       "4788  G_2714847_GCT  2714847    G  GCT  Non-Essential       eis  Rv2416c   \n",
       "\n",
       "     gene_pos ins_del  INDEL_type codon_pos  \n",
       "4787      807     del  frameshift       269  \n",
       "4788      486     ins  frameshift       162  "
      ]
     },
     "execution_count": 69,
     "metadata": {},
     "output_type": "execute_result"
    }
   ],
   "source": [
    "INDEL_annotation_DF[[('Rv2416c' in gene_id) & ('_' not in gene_id) for gene_id in INDEL_annotation_DF.gene_id]].head() #eis"
   ]
  },
  {
   "cell_type": "code",
   "execution_count": 70,
   "metadata": {},
   "outputs": [],
   "source": [
    "eis_indels_df = INDEL_annotation_DF[[('Rv2416c' in gene_id) & ('_' not in gene_id) for gene_id in INDEL_annotation_DF.gene_id]]"
   ]
  },
  {
   "cell_type": "markdown",
   "metadata": {},
   "source": [
    "### Look for indels in *whiB7*"
   ]
  },
  {
   "cell_type": "code",
   "execution_count": 71,
   "metadata": {},
   "outputs": [
    {
     "data": {
      "text/html": [
       "<div>\n",
       "<style>\n",
       "    .dataframe thead tr:only-child th {\n",
       "        text-align: right;\n",
       "    }\n",
       "\n",
       "    .dataframe thead th {\n",
       "        text-align: left;\n",
       "    }\n",
       "\n",
       "    .dataframe tbody tr th {\n",
       "        vertical-align: top;\n",
       "    }\n",
       "</style>\n",
       "<table border=\"1\" class=\"dataframe\">\n",
       "  <thead>\n",
       "    <tr style=\"text-align: right;\">\n",
       "      <th></th>\n",
       "      <th>key</th>\n",
       "      <th>pos</th>\n",
       "      <th>ref</th>\n",
       "      <th>alt</th>\n",
       "      <th>gene_category</th>\n",
       "      <th>gene_name</th>\n",
       "      <th>gene_id</th>\n",
       "      <th>gene_pos</th>\n",
       "      <th>ins_del</th>\n",
       "      <th>INDEL_type</th>\n",
       "      <th>codon_pos</th>\n",
       "    </tr>\n",
       "  </thead>\n",
       "  <tbody>\n",
       "    <tr>\n",
       "      <th>6195</th>\n",
       "      <td>GC_3568488_G</td>\n",
       "      <td>3568488</td>\n",
       "      <td>GC</td>\n",
       "      <td>G</td>\n",
       "      <td>Non-Essential</td>\n",
       "      <td>whiB7</td>\n",
       "      <td>Rv3197A</td>\n",
       "      <td>192</td>\n",
       "      <td>del</td>\n",
       "      <td>frameshift</td>\n",
       "      <td>64</td>\n",
       "    </tr>\n",
       "  </tbody>\n",
       "</table>\n",
       "</div>"
      ],
      "text/plain": [
       "               key      pos ref alt  gene_category gene_name  gene_id  \\\n",
       "6195  GC_3568488_G  3568488  GC   G  Non-Essential     whiB7  Rv3197A   \n",
       "\n",
       "     gene_pos ins_del  INDEL_type codon_pos  \n",
       "6195      192     del  frameshift        64  "
      ]
     },
     "execution_count": 71,
     "metadata": {},
     "output_type": "execute_result"
    }
   ],
   "source": [
    "INDEL_annotation_DF[[('Rv3197A' in gene_id) & ('_' not in gene_id) for gene_id in INDEL_annotation_DF.gene_id]].head() #whiB7"
   ]
  },
  {
   "cell_type": "code",
   "execution_count": 72,
   "metadata": {},
   "outputs": [],
   "source": [
    "whiB7_indels_df = INDEL_annotation_DF[[('Rv3197A' in gene_id) & ('_' not in gene_id) for gene_id in INDEL_annotation_DF.gene_id]]"
   ]
  },
  {
   "cell_type": "markdown",
   "metadata": {},
   "source": [
    "### Look for indels in *ahpC*"
   ]
  },
  {
   "cell_type": "code",
   "execution_count": 73,
   "metadata": {},
   "outputs": [
    {
     "data": {
      "text/html": [
       "<div>\n",
       "<style>\n",
       "    .dataframe thead tr:only-child th {\n",
       "        text-align: right;\n",
       "    }\n",
       "\n",
       "    .dataframe thead th {\n",
       "        text-align: left;\n",
       "    }\n",
       "\n",
       "    .dataframe tbody tr th {\n",
       "        vertical-align: top;\n",
       "    }\n",
       "</style>\n",
       "<table border=\"1\" class=\"dataframe\">\n",
       "  <thead>\n",
       "    <tr style=\"text-align: right;\">\n",
       "      <th></th>\n",
       "      <th>key</th>\n",
       "      <th>pos</th>\n",
       "      <th>ref</th>\n",
       "      <th>alt</th>\n",
       "      <th>gene_category</th>\n",
       "      <th>gene_name</th>\n",
       "      <th>gene_id</th>\n",
       "      <th>gene_pos</th>\n",
       "      <th>ins_del</th>\n",
       "      <th>INDEL_type</th>\n",
       "      <th>codon_pos</th>\n",
       "    </tr>\n",
       "  </thead>\n",
       "  <tbody>\n",
       "    <tr>\n",
       "      <th>4811</th>\n",
       "      <td>G_2726370_GT</td>\n",
       "      <td>2726370</td>\n",
       "      <td>G</td>\n",
       "      <td>GT</td>\n",
       "      <td>Antibiotic Resistance</td>\n",
       "      <td>ahpC</td>\n",
       "      <td>Rv2428</td>\n",
       "      <td>178</td>\n",
       "      <td>ins</td>\n",
       "      <td>frameshift</td>\n",
       "      <td>60</td>\n",
       "    </tr>\n",
       "    <tr>\n",
       "      <th>4812</th>\n",
       "      <td>C_2726405_CA</td>\n",
       "      <td>2726405</td>\n",
       "      <td>C</td>\n",
       "      <td>CA</td>\n",
       "      <td>Antibiotic Resistance</td>\n",
       "      <td>ahpC</td>\n",
       "      <td>Rv2428</td>\n",
       "      <td>213</td>\n",
       "      <td>ins</td>\n",
       "      <td>frameshift</td>\n",
       "      <td>71</td>\n",
       "    </tr>\n",
       "  </tbody>\n",
       "</table>\n",
       "</div>"
      ],
      "text/plain": [
       "               key      pos ref alt          gene_category gene_name gene_id  \\\n",
       "4811  G_2726370_GT  2726370   G  GT  Antibiotic Resistance      ahpC  Rv2428   \n",
       "4812  C_2726405_CA  2726405   C  CA  Antibiotic Resistance      ahpC  Rv2428   \n",
       "\n",
       "     gene_pos ins_del  INDEL_type codon_pos  \n",
       "4811      178     ins  frameshift        60  \n",
       "4812      213     ins  frameshift        71  "
      ]
     },
     "execution_count": 73,
     "metadata": {},
     "output_type": "execute_result"
    }
   ],
   "source": [
    "INDEL_annotation_DF[[('Rv2428' in gene_id) & ('_' not in gene_id) for gene_id in INDEL_annotation_DF.gene_id]].head() #ahpC"
   ]
  },
  {
   "cell_type": "code",
   "execution_count": 74,
   "metadata": {},
   "outputs": [],
   "source": [
    "ahpC_indels_df = INDEL_annotation_DF[[('Rv2428' in gene_id) & ('_' not in gene_id) for gene_id in INDEL_annotation_DF.gene_id]]"
   ]
  },
  {
   "cell_type": "markdown",
   "metadata": {},
   "source": [
    "################################################################################################################################################################################################################"
   ]
  },
  {
   "cell_type": "markdown",
   "metadata": {},
   "source": [
    "# [4] Get genotypes for indels of interest"
   ]
  },
  {
   "cell_type": "markdown",
   "metadata": {},
   "source": [
    "################################################################################################################################################################################################################"
   ]
  },
  {
   "cell_type": "markdown",
   "metadata": {},
   "source": [
    "### *Function* to get the genotypes for a specifc indel and get attributes for isolates that support indel"
   ]
  },
  {
   "cell_type": "code",
   "execution_count": 75,
   "metadata": {},
   "outputs": [],
   "source": [
    "def get_genotypes_for_indel(indel_i_key):\n",
    "    \n",
    "    #0 supports Ref, 10-75 supports Alt, -9 indicated bad quality call\n",
    "    indel_i_genotypes = genotypes_array[INDEL_annotation_DF[INDEL_annotation_DF.key == indel_i_key].index[0] , :] \n",
    "\n",
    "    #count the number of isolates that support this (mixed) indel call\n",
    "    mixed_indel_bool = [(AF_larger_than_10 and AF_smaller_than_75) for AF_larger_than_10, AF_smaller_than_75 in zip(indel_i_genotypes >= 10, indel_i_genotypes < 75)]\n",
    "    num_isolates_indel_i = np.sum(mixed_indel_bool)\n",
    "\n",
    "    #create a boolean filter and extract information for the isolates that support this call\n",
    "    isolate_annotation_indel_i = isolate_annotation_DF[mixed_indel_bool]\n",
    "\n",
    "    #find number of sub-lineages that have indel support in at least 1 isolate\n",
    "    num_sublineages_with_indel_i = len(set(list(isolate_annotation_indel_i.lineage_call.values)))\n",
    "\n",
    "    #get list of sublineages w/ at least 1 isolates that supports indel call\n",
    "    #sublineages_with_indel = list(set(isolate_annotation_indel_i.lineage_call.values))\n",
    "    sublineage_with_indel_count_dict = Counter(isolate_annotation_indel_i.lineage_call.values)\n",
    "    sublineages_with_indel_list = []\n",
    "    for sublineage_i in sublineage_with_indel_count_dict.keys():\n",
    "\n",
    "        sublineage_i_with_indel = sublineage_i + '({0})'.format(str(sublineage_with_indel_count_dict[sublineage_i]))\n",
    "        sublineages_with_indel_list.append(sublineage_i_with_indel)\n",
    "\n",
    "    sublineages_with_indel = ' - '.join(sublineages_with_indel_list)\n",
    "\n",
    "    #get the alternate allele frequencies for the mixed indel calls (these were rounded down to the nearest %)\n",
    "    indel_i_allele_freqs = indel_i_genotypes[mixed_indel_bool]\n",
    "    indel_i_allele_freqs_with_isolate_list = [ isolate_ID + '(' + str(alt_AF) + '%)' for isolate_ID, alt_AF in zip(isolate_annotation_indel_i.isolate_ID, indel_i_allele_freqs) ]\n",
    "    indel_i_allele_freqs_with_isolate_str = ' - '.join(indel_i_allele_freqs_with_isolate_list)\n",
    "    \n",
    "    return [num_isolates_indel_i , num_sublineages_with_indel_i , sublineages_with_indel , indel_i_allele_freqs_with_isolate_str]"
   ]
  },
  {
   "cell_type": "markdown",
   "metadata": {},
   "source": [
    "### *Function* to append isolate info to indels DataFrame"
   ]
  },
  {
   "cell_type": "code",
   "execution_count": 76,
   "metadata": {},
   "outputs": [],
   "source": [
    "def append_isolate_info_to_indel_DF(locus_indels_df):\n",
    "    \n",
    "    num_isolates_with_indel = []\n",
    "    num_sublineages_with_indel = []\n",
    "    sublineages_with_indel = []\n",
    "    isolates_with_indel_and_altAF = []\n",
    "\n",
    "    for indel_i_key in locus_indels_df.key:\n",
    "\n",
    "        num_isolates_with_indel_i , num_sublineages_with_indel_i , sublineages_with_indel_i , isolates_with_indel_i_and_altAF = get_genotypes_for_indel(indel_i_key)\n",
    "\n",
    "        num_isolates_with_indel.append(num_isolates_with_indel_i)\n",
    "        num_sublineages_with_indel.append(num_sublineages_with_indel_i)\n",
    "        sublineages_with_indel.append(sublineages_with_indel_i)\n",
    "        isolates_with_indel_and_altAF.append(isolates_with_indel_i_and_altAF)\n",
    "\n",
    "    locus_indels_df.loc[: , 'num_isolates'] = num_isolates_with_indel\n",
    "    locus_indels_df.loc[: , 'num_sublineages'] = num_sublineages_with_indel\n",
    "    locus_indels_df.loc[: , 'sublineages'] = sublineages_with_indel    \n",
    "    locus_indels_df.loc[: , 'isolateID_and_AF'] = isolates_with_indel_and_altAF\n",
    "\n",
    "    #drop indels present in 0 isolates\n",
    "    locus_indels_df = locus_indels_df[locus_indels_df.num_isolates > 0]\n",
    "    \n",
    "    return locus_indels_df"
   ]
  },
  {
   "cell_type": "markdown",
   "metadata": {},
   "source": [
    "### mmpR"
   ]
  },
  {
   "cell_type": "code",
   "execution_count": 77,
   "metadata": {},
   "outputs": [
    {
     "data": {
      "text/html": [
       "<div>\n",
       "<style>\n",
       "    .dataframe thead tr:only-child th {\n",
       "        text-align: right;\n",
       "    }\n",
       "\n",
       "    .dataframe thead th {\n",
       "        text-align: left;\n",
       "    }\n",
       "\n",
       "    .dataframe tbody tr th {\n",
       "        vertical-align: top;\n",
       "    }\n",
       "</style>\n",
       "<table border=\"1\" class=\"dataframe\">\n",
       "  <thead>\n",
       "    <tr style=\"text-align: right;\">\n",
       "      <th></th>\n",
       "      <th>key</th>\n",
       "      <th>pos</th>\n",
       "      <th>ref</th>\n",
       "      <th>alt</th>\n",
       "      <th>gene_category</th>\n",
       "      <th>gene_name</th>\n",
       "      <th>gene_id</th>\n",
       "      <th>gene_pos</th>\n",
       "      <th>ins_del</th>\n",
       "      <th>INDEL_type</th>\n",
       "      <th>codon_pos</th>\n",
       "    </tr>\n",
       "  </thead>\n",
       "  <tbody>\n",
       "    <tr>\n",
       "      <th>1374</th>\n",
       "      <td>C_779181_CG</td>\n",
       "      <td>779181</td>\n",
       "      <td>C</td>\n",
       "      <td>CG</td>\n",
       "      <td>Non-Essential</td>\n",
       "      <td>Rv0678</td>\n",
       "      <td>Rv0678</td>\n",
       "      <td>192</td>\n",
       "      <td>ins</td>\n",
       "      <td>frameshift</td>\n",
       "      <td>64</td>\n",
       "    </tr>\n",
       "    <tr>\n",
       "      <th>1375</th>\n",
       "      <td>G_779249_GC</td>\n",
       "      <td>779249</td>\n",
       "      <td>G</td>\n",
       "      <td>GC</td>\n",
       "      <td>Non-Essential</td>\n",
       "      <td>Rv0678</td>\n",
       "      <td>Rv0678</td>\n",
       "      <td>260</td>\n",
       "      <td>ins</td>\n",
       "      <td>frameshift</td>\n",
       "      <td>87</td>\n",
       "    </tr>\n",
       "  </tbody>\n",
       "</table>\n",
       "</div>"
      ],
      "text/plain": [
       "              key     pos ref alt  gene_category gene_name gene_id gene_pos  \\\n",
       "1374  C_779181_CG  779181   C  CG  Non-Essential    Rv0678  Rv0678      192   \n",
       "1375  G_779249_GC  779249   G  GC  Non-Essential    Rv0678  Rv0678      260   \n",
       "\n",
       "     ins_del  INDEL_type codon_pos  \n",
       "1374     ins  frameshift        64  \n",
       "1375     ins  frameshift        87  "
      ]
     },
     "execution_count": 77,
     "metadata": {},
     "output_type": "execute_result"
    }
   ],
   "source": [
    "mmpR_indels_df.head()"
   ]
  },
  {
   "cell_type": "code",
   "execution_count": 78,
   "metadata": {},
   "outputs": [
    {
     "data": {
      "text/plain": [
       "(2, 11)"
      ]
     },
     "execution_count": 78,
     "metadata": {},
     "output_type": "execute_result"
    }
   ],
   "source": [
    "np.shape(mmpR_indels_df)"
   ]
  },
  {
   "cell_type": "code",
   "execution_count": 79,
   "metadata": {},
   "outputs": [],
   "source": [
    "mmpR_indels_df = append_isolate_info_to_indel_DF(mmpR_indels_df)"
   ]
  },
  {
   "cell_type": "code",
   "execution_count": 80,
   "metadata": {},
   "outputs": [
    {
     "data": {
      "text/html": [
       "<div>\n",
       "<style>\n",
       "    .dataframe thead tr:only-child th {\n",
       "        text-align: right;\n",
       "    }\n",
       "\n",
       "    .dataframe thead th {\n",
       "        text-align: left;\n",
       "    }\n",
       "\n",
       "    .dataframe tbody tr th {\n",
       "        vertical-align: top;\n",
       "    }\n",
       "</style>\n",
       "<table border=\"1\" class=\"dataframe\">\n",
       "  <thead>\n",
       "    <tr style=\"text-align: right;\">\n",
       "      <th></th>\n",
       "      <th>key</th>\n",
       "      <th>pos</th>\n",
       "      <th>ref</th>\n",
       "      <th>alt</th>\n",
       "      <th>gene_category</th>\n",
       "      <th>gene_name</th>\n",
       "      <th>gene_id</th>\n",
       "      <th>gene_pos</th>\n",
       "      <th>ins_del</th>\n",
       "      <th>INDEL_type</th>\n",
       "      <th>codon_pos</th>\n",
       "      <th>num_isolates</th>\n",
       "      <th>num_sublineages</th>\n",
       "      <th>sublineages</th>\n",
       "      <th>isolateID_and_AF</th>\n",
       "    </tr>\n",
       "  </thead>\n",
       "  <tbody>\n",
       "    <tr>\n",
       "      <th>1374</th>\n",
       "      <td>C_779181_CG</td>\n",
       "      <td>779181</td>\n",
       "      <td>C</td>\n",
       "      <td>CG</td>\n",
       "      <td>Non-Essential</td>\n",
       "      <td>Rv0678</td>\n",
       "      <td>Rv0678</td>\n",
       "      <td>192</td>\n",
       "      <td>ins</td>\n",
       "      <td>frameshift</td>\n",
       "      <td>64</td>\n",
       "      <td>2</td>\n",
       "      <td>2</td>\n",
       "      <td>4.2.1.1.2(1) - 4.2.1.1.1.1.2(1)</td>\n",
       "      <td>SAMEA104357571(66%) - Peru4498(71%)</td>\n",
       "    </tr>\n",
       "    <tr>\n",
       "      <th>1375</th>\n",
       "      <td>G_779249_GC</td>\n",
       "      <td>779249</td>\n",
       "      <td>G</td>\n",
       "      <td>GC</td>\n",
       "      <td>Non-Essential</td>\n",
       "      <td>Rv0678</td>\n",
       "      <td>Rv0678</td>\n",
       "      <td>260</td>\n",
       "      <td>ins</td>\n",
       "      <td>frameshift</td>\n",
       "      <td>87</td>\n",
       "      <td>1</td>\n",
       "      <td>1</td>\n",
       "      <td>4.2.1.2.2.1.1(1)</td>\n",
       "      <td>SAMEA2534929(69%)</td>\n",
       "    </tr>\n",
       "  </tbody>\n",
       "</table>\n",
       "</div>"
      ],
      "text/plain": [
       "              key     pos ref alt  gene_category gene_name gene_id gene_pos  \\\n",
       "1374  C_779181_CG  779181   C  CG  Non-Essential    Rv0678  Rv0678      192   \n",
       "1375  G_779249_GC  779249   G  GC  Non-Essential    Rv0678  Rv0678      260   \n",
       "\n",
       "     ins_del  INDEL_type codon_pos  num_isolates  num_sublineages  \\\n",
       "1374     ins  frameshift        64             2                2   \n",
       "1375     ins  frameshift        87             1                1   \n",
       "\n",
       "                          sublineages                     isolateID_and_AF  \n",
       "1374  4.2.1.1.2(1) - 4.2.1.1.1.1.2(1)  SAMEA104357571(66%) - Peru4498(71%)  \n",
       "1375                 4.2.1.2.2.1.1(1)                    SAMEA2534929(69%)  "
      ]
     },
     "execution_count": 80,
     "metadata": {},
     "output_type": "execute_result"
    }
   ],
   "source": [
    "mmpR_indels_df"
   ]
  },
  {
   "cell_type": "markdown",
   "metadata": {},
   "source": [
    "### mmpS5"
   ]
  },
  {
   "cell_type": "code",
   "execution_count": 81,
   "metadata": {},
   "outputs": [
    {
     "data": {
      "text/html": [
       "<div>\n",
       "<style>\n",
       "    .dataframe thead tr:only-child th {\n",
       "        text-align: right;\n",
       "    }\n",
       "\n",
       "    .dataframe thead th {\n",
       "        text-align: left;\n",
       "    }\n",
       "\n",
       "    .dataframe tbody tr th {\n",
       "        vertical-align: top;\n",
       "    }\n",
       "</style>\n",
       "<table border=\"1\" class=\"dataframe\">\n",
       "  <thead>\n",
       "    <tr style=\"text-align: right;\">\n",
       "      <th></th>\n",
       "      <th>key</th>\n",
       "      <th>pos</th>\n",
       "      <th>ref</th>\n",
       "      <th>alt</th>\n",
       "      <th>gene_category</th>\n",
       "      <th>gene_name</th>\n",
       "      <th>gene_id</th>\n",
       "      <th>gene_pos</th>\n",
       "      <th>ins_del</th>\n",
       "      <th>INDEL_type</th>\n",
       "      <th>codon_pos</th>\n",
       "    </tr>\n",
       "  </thead>\n",
       "  <tbody>\n",
       "    <tr>\n",
       "      <th>1373</th>\n",
       "      <td>G_778696_GTTGA</td>\n",
       "      <td>778696</td>\n",
       "      <td>G</td>\n",
       "      <td>GTTGA</td>\n",
       "      <td>Non-Essential</td>\n",
       "      <td>mmpS5</td>\n",
       "      <td>Rv0677c</td>\n",
       "      <td>210</td>\n",
       "      <td>ins</td>\n",
       "      <td>frameshift</td>\n",
       "      <td>70</td>\n",
       "    </tr>\n",
       "  </tbody>\n",
       "</table>\n",
       "</div>"
      ],
      "text/plain": [
       "                 key     pos ref    alt  gene_category gene_name  gene_id  \\\n",
       "1373  G_778696_GTTGA  778696   G  GTTGA  Non-Essential     mmpS5  Rv0677c   \n",
       "\n",
       "     gene_pos ins_del  INDEL_type codon_pos  \n",
       "1373      210     ins  frameshift        70  "
      ]
     },
     "execution_count": 81,
     "metadata": {},
     "output_type": "execute_result"
    }
   ],
   "source": [
    "mmpS5_indels_df.head()"
   ]
  },
  {
   "cell_type": "code",
   "execution_count": 82,
   "metadata": {},
   "outputs": [
    {
     "data": {
      "text/plain": [
       "(1, 11)"
      ]
     },
     "execution_count": 82,
     "metadata": {},
     "output_type": "execute_result"
    }
   ],
   "source": [
    "np.shape(mmpS5_indels_df)"
   ]
  },
  {
   "cell_type": "code",
   "execution_count": 83,
   "metadata": {},
   "outputs": [],
   "source": [
    "mmpS5_indels_df = append_isolate_info_to_indel_DF(mmpS5_indels_df)"
   ]
  },
  {
   "cell_type": "code",
   "execution_count": 84,
   "metadata": {},
   "outputs": [
    {
     "data": {
      "text/html": [
       "<div>\n",
       "<style>\n",
       "    .dataframe thead tr:only-child th {\n",
       "        text-align: right;\n",
       "    }\n",
       "\n",
       "    .dataframe thead th {\n",
       "        text-align: left;\n",
       "    }\n",
       "\n",
       "    .dataframe tbody tr th {\n",
       "        vertical-align: top;\n",
       "    }\n",
       "</style>\n",
       "<table border=\"1\" class=\"dataframe\">\n",
       "  <thead>\n",
       "    <tr style=\"text-align: right;\">\n",
       "      <th></th>\n",
       "      <th>key</th>\n",
       "      <th>pos</th>\n",
       "      <th>ref</th>\n",
       "      <th>alt</th>\n",
       "      <th>gene_category</th>\n",
       "      <th>gene_name</th>\n",
       "      <th>gene_id</th>\n",
       "      <th>gene_pos</th>\n",
       "      <th>ins_del</th>\n",
       "      <th>INDEL_type</th>\n",
       "      <th>codon_pos</th>\n",
       "      <th>num_isolates</th>\n",
       "      <th>num_sublineages</th>\n",
       "      <th>sublineages</th>\n",
       "      <th>isolateID_and_AF</th>\n",
       "    </tr>\n",
       "  </thead>\n",
       "  <tbody>\n",
       "    <tr>\n",
       "      <th>1373</th>\n",
       "      <td>G_778696_GTTGA</td>\n",
       "      <td>778696</td>\n",
       "      <td>G</td>\n",
       "      <td>GTTGA</td>\n",
       "      <td>Non-Essential</td>\n",
       "      <td>mmpS5</td>\n",
       "      <td>Rv0677c</td>\n",
       "      <td>210</td>\n",
       "      <td>ins</td>\n",
       "      <td>frameshift</td>\n",
       "      <td>70</td>\n",
       "      <td>1</td>\n",
       "      <td>1</td>\n",
       "      <td>1(1)</td>\n",
       "      <td>SAMEA3558232(54%)</td>\n",
       "    </tr>\n",
       "  </tbody>\n",
       "</table>\n",
       "</div>"
      ],
      "text/plain": [
       "                 key     pos ref    alt  gene_category gene_name  gene_id  \\\n",
       "1373  G_778696_GTTGA  778696   G  GTTGA  Non-Essential     mmpS5  Rv0677c   \n",
       "\n",
       "     gene_pos ins_del  INDEL_type codon_pos  num_isolates  num_sublineages  \\\n",
       "1373      210     ins  frameshift        70             1                1   \n",
       "\n",
       "     sublineages   isolateID_and_AF  \n",
       "1373        1(1)  SAMEA3558232(54%)  "
      ]
     },
     "execution_count": 84,
     "metadata": {},
     "output_type": "execute_result"
    }
   ],
   "source": [
    "mmpS5_indels_df"
   ]
  },
  {
   "cell_type": "markdown",
   "metadata": {},
   "source": [
    "### mmpL5"
   ]
  },
  {
   "cell_type": "code",
   "execution_count": 85,
   "metadata": {},
   "outputs": [
    {
     "data": {
      "text/html": [
       "<div>\n",
       "<style>\n",
       "    .dataframe thead tr:only-child th {\n",
       "        text-align: right;\n",
       "    }\n",
       "\n",
       "    .dataframe thead th {\n",
       "        text-align: left;\n",
       "    }\n",
       "\n",
       "    .dataframe tbody tr th {\n",
       "        vertical-align: top;\n",
       "    }\n",
       "</style>\n",
       "<table border=\"1\" class=\"dataframe\">\n",
       "  <thead>\n",
       "    <tr style=\"text-align: right;\">\n",
       "      <th></th>\n",
       "      <th>key</th>\n",
       "      <th>pos</th>\n",
       "      <th>ref</th>\n",
       "      <th>alt</th>\n",
       "      <th>gene_category</th>\n",
       "      <th>gene_name</th>\n",
       "      <th>gene_id</th>\n",
       "      <th>gene_pos</th>\n",
       "      <th>ins_del</th>\n",
       "      <th>INDEL_type</th>\n",
       "      <th>codon_pos</th>\n",
       "    </tr>\n",
       "  </thead>\n",
       "  <tbody>\n",
       "    <tr>\n",
       "      <th>1372</th>\n",
       "      <td>CGATCT_777076_C</td>\n",
       "      <td>777076</td>\n",
       "      <td>CGATCT</td>\n",
       "      <td>C</td>\n",
       "      <td>Non-Essential</td>\n",
       "      <td>mmpL5</td>\n",
       "      <td>Rv0676c</td>\n",
       "      <td>1405</td>\n",
       "      <td>del</td>\n",
       "      <td>frameshift</td>\n",
       "      <td>469</td>\n",
       "    </tr>\n",
       "  </tbody>\n",
       "</table>\n",
       "</div>"
      ],
      "text/plain": [
       "                  key     pos     ref alt  gene_category gene_name  gene_id  \\\n",
       "1372  CGATCT_777076_C  777076  CGATCT   C  Non-Essential     mmpL5  Rv0676c   \n",
       "\n",
       "     gene_pos ins_del  INDEL_type codon_pos  \n",
       "1372     1405     del  frameshift       469  "
      ]
     },
     "execution_count": 85,
     "metadata": {},
     "output_type": "execute_result"
    }
   ],
   "source": [
    "mmpL5_indels_df.head()"
   ]
  },
  {
   "cell_type": "code",
   "execution_count": 86,
   "metadata": {},
   "outputs": [
    {
     "data": {
      "text/plain": [
       "(1, 11)"
      ]
     },
     "execution_count": 86,
     "metadata": {},
     "output_type": "execute_result"
    }
   ],
   "source": [
    "np.shape(mmpL5_indels_df)"
   ]
  },
  {
   "cell_type": "code",
   "execution_count": 87,
   "metadata": {},
   "outputs": [],
   "source": [
    "mmpL5_indels_df = append_isolate_info_to_indel_DF(mmpL5_indels_df)"
   ]
  },
  {
   "cell_type": "code",
   "execution_count": 88,
   "metadata": {},
   "outputs": [
    {
     "data": {
      "text/html": [
       "<div>\n",
       "<style>\n",
       "    .dataframe thead tr:only-child th {\n",
       "        text-align: right;\n",
       "    }\n",
       "\n",
       "    .dataframe thead th {\n",
       "        text-align: left;\n",
       "    }\n",
       "\n",
       "    .dataframe tbody tr th {\n",
       "        vertical-align: top;\n",
       "    }\n",
       "</style>\n",
       "<table border=\"1\" class=\"dataframe\">\n",
       "  <thead>\n",
       "    <tr style=\"text-align: right;\">\n",
       "      <th></th>\n",
       "      <th>key</th>\n",
       "      <th>pos</th>\n",
       "      <th>ref</th>\n",
       "      <th>alt</th>\n",
       "      <th>gene_category</th>\n",
       "      <th>gene_name</th>\n",
       "      <th>gene_id</th>\n",
       "      <th>gene_pos</th>\n",
       "      <th>ins_del</th>\n",
       "      <th>INDEL_type</th>\n",
       "      <th>codon_pos</th>\n",
       "      <th>num_isolates</th>\n",
       "      <th>num_sublineages</th>\n",
       "      <th>sublineages</th>\n",
       "      <th>isolateID_and_AF</th>\n",
       "    </tr>\n",
       "  </thead>\n",
       "  <tbody>\n",
       "    <tr>\n",
       "      <th>1372</th>\n",
       "      <td>CGATCT_777076_C</td>\n",
       "      <td>777076</td>\n",
       "      <td>CGATCT</td>\n",
       "      <td>C</td>\n",
       "      <td>Non-Essential</td>\n",
       "      <td>mmpL5</td>\n",
       "      <td>Rv0676c</td>\n",
       "      <td>1405</td>\n",
       "      <td>del</td>\n",
       "      <td>frameshift</td>\n",
       "      <td>469</td>\n",
       "      <td>2</td>\n",
       "      <td>1</td>\n",
       "      <td>2.2.1.1.1.i3(2)</td>\n",
       "      <td>SAMN08708254(70%) - SAMN08709186(71%)</td>\n",
       "    </tr>\n",
       "  </tbody>\n",
       "</table>\n",
       "</div>"
      ],
      "text/plain": [
       "                  key     pos     ref alt  gene_category gene_name  gene_id  \\\n",
       "1372  CGATCT_777076_C  777076  CGATCT   C  Non-Essential     mmpL5  Rv0676c   \n",
       "\n",
       "     gene_pos ins_del  INDEL_type codon_pos  num_isolates  num_sublineages  \\\n",
       "1372     1405     del  frameshift       469             2                1   \n",
       "\n",
       "          sublineages                       isolateID_and_AF  \n",
       "1372  2.2.1.1.1.i3(2)  SAMN08708254(70%) - SAMN08709186(71%)  "
      ]
     },
     "execution_count": 88,
     "metadata": {},
     "output_type": "execute_result"
    }
   ],
   "source": [
    "mmpL5_indels_df"
   ]
  },
  {
   "cell_type": "markdown",
   "metadata": {},
   "source": [
    "### eis"
   ]
  },
  {
   "cell_type": "code",
   "execution_count": 89,
   "metadata": {},
   "outputs": [
    {
     "data": {
      "text/html": [
       "<div>\n",
       "<style>\n",
       "    .dataframe thead tr:only-child th {\n",
       "        text-align: right;\n",
       "    }\n",
       "\n",
       "    .dataframe thead th {\n",
       "        text-align: left;\n",
       "    }\n",
       "\n",
       "    .dataframe tbody tr th {\n",
       "        vertical-align: top;\n",
       "    }\n",
       "</style>\n",
       "<table border=\"1\" class=\"dataframe\">\n",
       "  <thead>\n",
       "    <tr style=\"text-align: right;\">\n",
       "      <th></th>\n",
       "      <th>key</th>\n",
       "      <th>pos</th>\n",
       "      <th>ref</th>\n",
       "      <th>alt</th>\n",
       "      <th>gene_category</th>\n",
       "      <th>gene_name</th>\n",
       "      <th>gene_id</th>\n",
       "      <th>gene_pos</th>\n",
       "      <th>ins_del</th>\n",
       "      <th>INDEL_type</th>\n",
       "      <th>codon_pos</th>\n",
       "    </tr>\n",
       "  </thead>\n",
       "  <tbody>\n",
       "    <tr>\n",
       "      <th>4787</th>\n",
       "      <td>GGT_2714526_G</td>\n",
       "      <td>2714526</td>\n",
       "      <td>GGT</td>\n",
       "      <td>G</td>\n",
       "      <td>Non-Essential</td>\n",
       "      <td>eis</td>\n",
       "      <td>Rv2416c</td>\n",
       "      <td>807</td>\n",
       "      <td>del</td>\n",
       "      <td>frameshift</td>\n",
       "      <td>269</td>\n",
       "    </tr>\n",
       "    <tr>\n",
       "      <th>4788</th>\n",
       "      <td>G_2714847_GCT</td>\n",
       "      <td>2714847</td>\n",
       "      <td>G</td>\n",
       "      <td>GCT</td>\n",
       "      <td>Non-Essential</td>\n",
       "      <td>eis</td>\n",
       "      <td>Rv2416c</td>\n",
       "      <td>486</td>\n",
       "      <td>ins</td>\n",
       "      <td>frameshift</td>\n",
       "      <td>162</td>\n",
       "    </tr>\n",
       "  </tbody>\n",
       "</table>\n",
       "</div>"
      ],
      "text/plain": [
       "                key      pos  ref  alt  gene_category gene_name  gene_id  \\\n",
       "4787  GGT_2714526_G  2714526  GGT    G  Non-Essential       eis  Rv2416c   \n",
       "4788  G_2714847_GCT  2714847    G  GCT  Non-Essential       eis  Rv2416c   \n",
       "\n",
       "     gene_pos ins_del  INDEL_type codon_pos  \n",
       "4787      807     del  frameshift       269  \n",
       "4788      486     ins  frameshift       162  "
      ]
     },
     "execution_count": 89,
     "metadata": {},
     "output_type": "execute_result"
    }
   ],
   "source": [
    "eis_indels_df.head()"
   ]
  },
  {
   "cell_type": "code",
   "execution_count": 90,
   "metadata": {},
   "outputs": [
    {
     "data": {
      "text/plain": [
       "(2, 11)"
      ]
     },
     "execution_count": 90,
     "metadata": {},
     "output_type": "execute_result"
    }
   ],
   "source": [
    "np.shape(eis_indels_df)"
   ]
  },
  {
   "cell_type": "code",
   "execution_count": 91,
   "metadata": {},
   "outputs": [],
   "source": [
    "eis_indels_df = append_isolate_info_to_indel_DF(eis_indels_df)"
   ]
  },
  {
   "cell_type": "code",
   "execution_count": 92,
   "metadata": {},
   "outputs": [
    {
     "data": {
      "text/html": [
       "<div>\n",
       "<style>\n",
       "    .dataframe thead tr:only-child th {\n",
       "        text-align: right;\n",
       "    }\n",
       "\n",
       "    .dataframe thead th {\n",
       "        text-align: left;\n",
       "    }\n",
       "\n",
       "    .dataframe tbody tr th {\n",
       "        vertical-align: top;\n",
       "    }\n",
       "</style>\n",
       "<table border=\"1\" class=\"dataframe\">\n",
       "  <thead>\n",
       "    <tr style=\"text-align: right;\">\n",
       "      <th></th>\n",
       "      <th>key</th>\n",
       "      <th>pos</th>\n",
       "      <th>ref</th>\n",
       "      <th>alt</th>\n",
       "      <th>gene_category</th>\n",
       "      <th>gene_name</th>\n",
       "      <th>gene_id</th>\n",
       "      <th>gene_pos</th>\n",
       "      <th>ins_del</th>\n",
       "      <th>INDEL_type</th>\n",
       "      <th>codon_pos</th>\n",
       "      <th>num_isolates</th>\n",
       "      <th>num_sublineages</th>\n",
       "      <th>sublineages</th>\n",
       "      <th>isolateID_and_AF</th>\n",
       "    </tr>\n",
       "  </thead>\n",
       "  <tbody>\n",
       "    <tr>\n",
       "      <th>4787</th>\n",
       "      <td>GGT_2714526_G</td>\n",
       "      <td>2714526</td>\n",
       "      <td>GGT</td>\n",
       "      <td>G</td>\n",
       "      <td>Non-Essential</td>\n",
       "      <td>eis</td>\n",
       "      <td>Rv2416c</td>\n",
       "      <td>807</td>\n",
       "      <td>del</td>\n",
       "      <td>frameshift</td>\n",
       "      <td>269</td>\n",
       "      <td>84</td>\n",
       "      <td>2</td>\n",
       "      <td>2.2.1.1(2) - 2.2.1.1.1(82)</td>\n",
       "      <td>SAMEA1119916(67%) - SAMN06055959(68%) - SAMN06...</td>\n",
       "    </tr>\n",
       "    <tr>\n",
       "      <th>4788</th>\n",
       "      <td>G_2714847_GCT</td>\n",
       "      <td>2714847</td>\n",
       "      <td>G</td>\n",
       "      <td>GCT</td>\n",
       "      <td>Non-Essential</td>\n",
       "      <td>eis</td>\n",
       "      <td>Rv2416c</td>\n",
       "      <td>486</td>\n",
       "      <td>ins</td>\n",
       "      <td>frameshift</td>\n",
       "      <td>162</td>\n",
       "      <td>1</td>\n",
       "      <td>1</td>\n",
       "      <td>4.1.i1.1.1.1(1)</td>\n",
       "      <td>Peru2912(69%)</td>\n",
       "    </tr>\n",
       "  </tbody>\n",
       "</table>\n",
       "</div>"
      ],
      "text/plain": [
       "                key      pos  ref  alt  gene_category gene_name  gene_id  \\\n",
       "4787  GGT_2714526_G  2714526  GGT    G  Non-Essential       eis  Rv2416c   \n",
       "4788  G_2714847_GCT  2714847    G  GCT  Non-Essential       eis  Rv2416c   \n",
       "\n",
       "     gene_pos ins_del  INDEL_type codon_pos  num_isolates  num_sublineages  \\\n",
       "4787      807     del  frameshift       269            84                2   \n",
       "4788      486     ins  frameshift       162             1                1   \n",
       "\n",
       "                     sublineages  \\\n",
       "4787  2.2.1.1(2) - 2.2.1.1.1(82)   \n",
       "4788             4.1.i1.1.1.1(1)   \n",
       "\n",
       "                                       isolateID_and_AF  \n",
       "4787  SAMEA1119916(67%) - SAMN06055959(68%) - SAMN06...  \n",
       "4788                                      Peru2912(69%)  "
      ]
     },
     "execution_count": 92,
     "metadata": {},
     "output_type": "execute_result"
    }
   ],
   "source": [
    "eis_indels_df"
   ]
  },
  {
   "cell_type": "code",
   "execution_count": 93,
   "metadata": {},
   "outputs": [
    {
     "data": {
      "text/plain": [
       "'SAMEA1119916(67%) - SAMN06055959(68%) - SAMN06092379(71%) - SAMEA2533580(59%) - SAMN06091746(70%) - SAMN06055864(73%) - SAMN08912870(67%) - SAMN08912867(70%) - SAMN06055832(72%) - SAMEA1569341(65%) - SAMN07660153(60%) - SAMN03648834(73%) - SAMN06092543(71%) - SAMN06055526(72%) - SAMN06092377(72%) - SAMN06092566(71%) - SAMEA2535268(60%) - SAMEA1118160(74%) - SAMN06091821(70%) - SAMN06092673(72%) - SAMN06092504(68%) - SAMN06056018(62%) - SAMN06055667(74%) - SAMN06092617(71%) - SAMN07658614(67%) - IDR1600027139(73%) - SAMN06092586(72%) - SAMN06055935(70%) - SAMN06091901(73%) - SAMN06092205(66%) - SAMN06055602(74%) - SAMN06055439(73%) - IDR1200022433(68%) - SAMEA1903069(62%) - SAMN08912910(63%) - SAMN06055566(73%) - SAMN06055907(61%) - SAMN06092550(72%) - SAMN06055544(73%) - SAMN06092177(71%) - SAMN06055983(66%) - SAMN03648790(73%) - SAMN06055446(69%) - SAMN03648789(63%) - SAMN06091927(70%) - SAMN06055789(68%) - SAMN06091733(67%) - SAMEA2534301(74%) - SAMN06092238(73%) - SAMN06055792(69%) - SAMN06055810(73%) - SAMN03647116(46%) - SAMN06091878(72%) - SAMN08912805(52%) - SAMN06092282(73%) - SAMN06092682(65%) - SAMN08913058(74%) - SAMN06092032(73%) - IDR1500059313(60%) - SAMN06092697(70%) - SAMN06092428(62%) - SAMN06092263(64%) - SAMN06055909(68%) - SAMN06055496(72%) - SAMN06055540(72%) - SAMN04522016(69%) - SAMN06091804(54%) - SAMN08912740(72%) - SAMN03648337(71%) - SAMEA4441493(64%) - SAMEA2297176(70%) - SAMN06091974(72%) - SAMN06091860(61%) - SAMN06092319(73%) - SAMN06092696(68%) - SAMN06055974(71%) - SAMN06055769(71%) - SAMN06055954(71%) - SAMN03648760(66%) - SAMN06092362(74%) - SAMN06092089(67%) - SAMN06092599(74%) - SAMN03647233(44%) - SAMN03648831(68%)'"
      ]
     },
     "execution_count": 93,
     "metadata": {},
     "output_type": "execute_result"
    }
   ],
   "source": [
    "eis_indels_df.loc[4787, :].isolateID_and_AF"
   ]
  },
  {
   "cell_type": "markdown",
   "metadata": {},
   "source": [
    "### whiB7"
   ]
  },
  {
   "cell_type": "code",
   "execution_count": 94,
   "metadata": {},
   "outputs": [
    {
     "data": {
      "text/html": [
       "<div>\n",
       "<style>\n",
       "    .dataframe thead tr:only-child th {\n",
       "        text-align: right;\n",
       "    }\n",
       "\n",
       "    .dataframe thead th {\n",
       "        text-align: left;\n",
       "    }\n",
       "\n",
       "    .dataframe tbody tr th {\n",
       "        vertical-align: top;\n",
       "    }\n",
       "</style>\n",
       "<table border=\"1\" class=\"dataframe\">\n",
       "  <thead>\n",
       "    <tr style=\"text-align: right;\">\n",
       "      <th></th>\n",
       "      <th>key</th>\n",
       "      <th>pos</th>\n",
       "      <th>ref</th>\n",
       "      <th>alt</th>\n",
       "      <th>gene_category</th>\n",
       "      <th>gene_name</th>\n",
       "      <th>gene_id</th>\n",
       "      <th>gene_pos</th>\n",
       "      <th>ins_del</th>\n",
       "      <th>INDEL_type</th>\n",
       "      <th>codon_pos</th>\n",
       "    </tr>\n",
       "  </thead>\n",
       "  <tbody>\n",
       "    <tr>\n",
       "      <th>6195</th>\n",
       "      <td>GC_3568488_G</td>\n",
       "      <td>3568488</td>\n",
       "      <td>GC</td>\n",
       "      <td>G</td>\n",
       "      <td>Non-Essential</td>\n",
       "      <td>whiB7</td>\n",
       "      <td>Rv3197A</td>\n",
       "      <td>192</td>\n",
       "      <td>del</td>\n",
       "      <td>frameshift</td>\n",
       "      <td>64</td>\n",
       "    </tr>\n",
       "  </tbody>\n",
       "</table>\n",
       "</div>"
      ],
      "text/plain": [
       "               key      pos ref alt  gene_category gene_name  gene_id  \\\n",
       "6195  GC_3568488_G  3568488  GC   G  Non-Essential     whiB7  Rv3197A   \n",
       "\n",
       "     gene_pos ins_del  INDEL_type codon_pos  \n",
       "6195      192     del  frameshift        64  "
      ]
     },
     "execution_count": 94,
     "metadata": {},
     "output_type": "execute_result"
    }
   ],
   "source": [
    "whiB7_indels_df.head()"
   ]
  },
  {
   "cell_type": "code",
   "execution_count": 95,
   "metadata": {},
   "outputs": [
    {
     "data": {
      "text/plain": [
       "(1, 11)"
      ]
     },
     "execution_count": 95,
     "metadata": {},
     "output_type": "execute_result"
    }
   ],
   "source": [
    "np.shape(whiB7_indels_df)"
   ]
  },
  {
   "cell_type": "code",
   "execution_count": 96,
   "metadata": {},
   "outputs": [],
   "source": [
    "whiB7_indels_df = append_isolate_info_to_indel_DF(whiB7_indels_df)"
   ]
  },
  {
   "cell_type": "code",
   "execution_count": 97,
   "metadata": {},
   "outputs": [
    {
     "data": {
      "text/html": [
       "<div>\n",
       "<style>\n",
       "    .dataframe thead tr:only-child th {\n",
       "        text-align: right;\n",
       "    }\n",
       "\n",
       "    .dataframe thead th {\n",
       "        text-align: left;\n",
       "    }\n",
       "\n",
       "    .dataframe tbody tr th {\n",
       "        vertical-align: top;\n",
       "    }\n",
       "</style>\n",
       "<table border=\"1\" class=\"dataframe\">\n",
       "  <thead>\n",
       "    <tr style=\"text-align: right;\">\n",
       "      <th></th>\n",
       "      <th>key</th>\n",
       "      <th>pos</th>\n",
       "      <th>ref</th>\n",
       "      <th>alt</th>\n",
       "      <th>gene_category</th>\n",
       "      <th>gene_name</th>\n",
       "      <th>gene_id</th>\n",
       "      <th>gene_pos</th>\n",
       "      <th>ins_del</th>\n",
       "      <th>INDEL_type</th>\n",
       "      <th>codon_pos</th>\n",
       "      <th>num_isolates</th>\n",
       "      <th>num_sublineages</th>\n",
       "      <th>sublineages</th>\n",
       "      <th>isolateID_and_AF</th>\n",
       "    </tr>\n",
       "  </thead>\n",
       "  <tbody>\n",
       "    <tr>\n",
       "      <th>6195</th>\n",
       "      <td>GC_3568488_G</td>\n",
       "      <td>3568488</td>\n",
       "      <td>GC</td>\n",
       "      <td>G</td>\n",
       "      <td>Non-Essential</td>\n",
       "      <td>whiB7</td>\n",
       "      <td>Rv3197A</td>\n",
       "      <td>192</td>\n",
       "      <td>del</td>\n",
       "      <td>frameshift</td>\n",
       "      <td>64</td>\n",
       "      <td>11</td>\n",
       "      <td>3</td>\n",
       "      <td>1.2.1.1.2(2) - 1.2.1.1(1) - 1.2.1.1.1(8)</td>\n",
       "      <td>SAMN04276657(66%) - SAMN09101721(73%) - SAMEA5...</td>\n",
       "    </tr>\n",
       "  </tbody>\n",
       "</table>\n",
       "</div>"
      ],
      "text/plain": [
       "               key      pos ref alt  gene_category gene_name  gene_id  \\\n",
       "6195  GC_3568488_G  3568488  GC   G  Non-Essential     whiB7  Rv3197A   \n",
       "\n",
       "     gene_pos ins_del  INDEL_type codon_pos  num_isolates  num_sublineages  \\\n",
       "6195      192     del  frameshift        64            11                3   \n",
       "\n",
       "                                   sublineages  \\\n",
       "6195  1.2.1.1.2(2) - 1.2.1.1(1) - 1.2.1.1.1(8)   \n",
       "\n",
       "                                       isolateID_and_AF  \n",
       "6195  SAMN04276657(66%) - SAMN09101721(73%) - SAMEA5...  "
      ]
     },
     "execution_count": 97,
     "metadata": {},
     "output_type": "execute_result"
    }
   ],
   "source": [
    "whiB7_indels_df"
   ]
  },
  {
   "cell_type": "markdown",
   "metadata": {},
   "source": [
    "### ahpC"
   ]
  },
  {
   "cell_type": "code",
   "execution_count": 98,
   "metadata": {},
   "outputs": [
    {
     "data": {
      "text/html": [
       "<div>\n",
       "<style>\n",
       "    .dataframe thead tr:only-child th {\n",
       "        text-align: right;\n",
       "    }\n",
       "\n",
       "    .dataframe thead th {\n",
       "        text-align: left;\n",
       "    }\n",
       "\n",
       "    .dataframe tbody tr th {\n",
       "        vertical-align: top;\n",
       "    }\n",
       "</style>\n",
       "<table border=\"1\" class=\"dataframe\">\n",
       "  <thead>\n",
       "    <tr style=\"text-align: right;\">\n",
       "      <th></th>\n",
       "      <th>key</th>\n",
       "      <th>pos</th>\n",
       "      <th>ref</th>\n",
       "      <th>alt</th>\n",
       "      <th>gene_category</th>\n",
       "      <th>gene_name</th>\n",
       "      <th>gene_id</th>\n",
       "      <th>gene_pos</th>\n",
       "      <th>ins_del</th>\n",
       "      <th>INDEL_type</th>\n",
       "      <th>codon_pos</th>\n",
       "    </tr>\n",
       "  </thead>\n",
       "  <tbody>\n",
       "    <tr>\n",
       "      <th>4811</th>\n",
       "      <td>G_2726370_GT</td>\n",
       "      <td>2726370</td>\n",
       "      <td>G</td>\n",
       "      <td>GT</td>\n",
       "      <td>Antibiotic Resistance</td>\n",
       "      <td>ahpC</td>\n",
       "      <td>Rv2428</td>\n",
       "      <td>178</td>\n",
       "      <td>ins</td>\n",
       "      <td>frameshift</td>\n",
       "      <td>60</td>\n",
       "    </tr>\n",
       "    <tr>\n",
       "      <th>4812</th>\n",
       "      <td>C_2726405_CA</td>\n",
       "      <td>2726405</td>\n",
       "      <td>C</td>\n",
       "      <td>CA</td>\n",
       "      <td>Antibiotic Resistance</td>\n",
       "      <td>ahpC</td>\n",
       "      <td>Rv2428</td>\n",
       "      <td>213</td>\n",
       "      <td>ins</td>\n",
       "      <td>frameshift</td>\n",
       "      <td>71</td>\n",
       "    </tr>\n",
       "  </tbody>\n",
       "</table>\n",
       "</div>"
      ],
      "text/plain": [
       "               key      pos ref alt          gene_category gene_name gene_id  \\\n",
       "4811  G_2726370_GT  2726370   G  GT  Antibiotic Resistance      ahpC  Rv2428   \n",
       "4812  C_2726405_CA  2726405   C  CA  Antibiotic Resistance      ahpC  Rv2428   \n",
       "\n",
       "     gene_pos ins_del  INDEL_type codon_pos  \n",
       "4811      178     ins  frameshift        60  \n",
       "4812      213     ins  frameshift        71  "
      ]
     },
     "execution_count": 98,
     "metadata": {},
     "output_type": "execute_result"
    }
   ],
   "source": [
    "ahpC_indels_df.head()"
   ]
  },
  {
   "cell_type": "code",
   "execution_count": 99,
   "metadata": {},
   "outputs": [
    {
     "data": {
      "text/plain": [
       "(2, 11)"
      ]
     },
     "execution_count": 99,
     "metadata": {},
     "output_type": "execute_result"
    }
   ],
   "source": [
    "np.shape(ahpC_indels_df)"
   ]
  },
  {
   "cell_type": "code",
   "execution_count": 100,
   "metadata": {},
   "outputs": [],
   "source": [
    "ahpC_indels_df = append_isolate_info_to_indel_DF(ahpC_indels_df)"
   ]
  },
  {
   "cell_type": "code",
   "execution_count": 101,
   "metadata": {},
   "outputs": [
    {
     "data": {
      "text/html": [
       "<div>\n",
       "<style>\n",
       "    .dataframe thead tr:only-child th {\n",
       "        text-align: right;\n",
       "    }\n",
       "\n",
       "    .dataframe thead th {\n",
       "        text-align: left;\n",
       "    }\n",
       "\n",
       "    .dataframe tbody tr th {\n",
       "        vertical-align: top;\n",
       "    }\n",
       "</style>\n",
       "<table border=\"1\" class=\"dataframe\">\n",
       "  <thead>\n",
       "    <tr style=\"text-align: right;\">\n",
       "      <th></th>\n",
       "      <th>key</th>\n",
       "      <th>pos</th>\n",
       "      <th>ref</th>\n",
       "      <th>alt</th>\n",
       "      <th>gene_category</th>\n",
       "      <th>gene_name</th>\n",
       "      <th>gene_id</th>\n",
       "      <th>gene_pos</th>\n",
       "      <th>ins_del</th>\n",
       "      <th>INDEL_type</th>\n",
       "      <th>codon_pos</th>\n",
       "      <th>num_isolates</th>\n",
       "      <th>num_sublineages</th>\n",
       "      <th>sublineages</th>\n",
       "      <th>isolateID_and_AF</th>\n",
       "    </tr>\n",
       "  </thead>\n",
       "  <tbody>\n",
       "    <tr>\n",
       "      <th>4811</th>\n",
       "      <td>G_2726370_GT</td>\n",
       "      <td>2726370</td>\n",
       "      <td>G</td>\n",
       "      <td>GT</td>\n",
       "      <td>Antibiotic Resistance</td>\n",
       "      <td>ahpC</td>\n",
       "      <td>Rv2428</td>\n",
       "      <td>178</td>\n",
       "      <td>ins</td>\n",
       "      <td>frameshift</td>\n",
       "      <td>60</td>\n",
       "      <td>1</td>\n",
       "      <td>1</td>\n",
       "      <td>1.1.2(1)</td>\n",
       "      <td>SAMN04396889(68%)</td>\n",
       "    </tr>\n",
       "    <tr>\n",
       "      <th>4812</th>\n",
       "      <td>C_2726405_CA</td>\n",
       "      <td>2726405</td>\n",
       "      <td>C</td>\n",
       "      <td>CA</td>\n",
       "      <td>Antibiotic Resistance</td>\n",
       "      <td>ahpC</td>\n",
       "      <td>Rv2428</td>\n",
       "      <td>213</td>\n",
       "      <td>ins</td>\n",
       "      <td>frameshift</td>\n",
       "      <td>71</td>\n",
       "      <td>2</td>\n",
       "      <td>1</td>\n",
       "      <td>2.2.1.1.1(2)</td>\n",
       "      <td>SAMN08912870(63%) - SAMN03648834(67%)</td>\n",
       "    </tr>\n",
       "  </tbody>\n",
       "</table>\n",
       "</div>"
      ],
      "text/plain": [
       "               key      pos ref alt          gene_category gene_name gene_id  \\\n",
       "4811  G_2726370_GT  2726370   G  GT  Antibiotic Resistance      ahpC  Rv2428   \n",
       "4812  C_2726405_CA  2726405   C  CA  Antibiotic Resistance      ahpC  Rv2428   \n",
       "\n",
       "     gene_pos ins_del  INDEL_type codon_pos  num_isolates  num_sublineages  \\\n",
       "4811      178     ins  frameshift        60             1                1   \n",
       "4812      213     ins  frameshift        71             2                1   \n",
       "\n",
       "       sublineages                       isolateID_and_AF  \n",
       "4811      1.1.2(1)                      SAMN04396889(68%)  \n",
       "4812  2.2.1.1.1(2)  SAMN08912870(63%) - SAMN03648834(67%)  "
      ]
     },
     "execution_count": 101,
     "metadata": {},
     "output_type": "execute_result"
    }
   ],
   "source": [
    "ahpC_indels_df"
   ]
  },
  {
   "cell_type": "markdown",
   "metadata": {},
   "source": [
    "Save DataFrame for *mmpR*, *mmpS5*, *mmpL5*, *eis*, *whiB7*, *ahpC* indels"
   ]
  },
  {
   "cell_type": "code",
   "execution_count": 102,
   "metadata": {},
   "outputs": [],
   "source": [
    "mmpR_mmpS5_mmpL5_eis_whiB7_ahpC_indels_df = mmpR_indels_df.append(mmpS5_indels_df.append(mmpL5_indels_df.append(eis_indels_df.append(whiB7_indels_df.append(ahpC_indels_df)))))"
   ]
  },
  {
   "cell_type": "code",
   "execution_count": 103,
   "metadata": {},
   "outputs": [
    {
     "data": {
      "text/plain": [
       "(9, 15)"
      ]
     },
     "execution_count": 103,
     "metadata": {},
     "output_type": "execute_result"
    }
   ],
   "source": [
    "np.shape(mmpR_mmpS5_mmpL5_eis_whiB7_ahpC_indels_df)"
   ]
  },
  {
   "cell_type": "code",
   "execution_count": 104,
   "metadata": {},
   "outputs": [
    {
     "data": {
      "text/html": [
       "<div>\n",
       "<style>\n",
       "    .dataframe thead tr:only-child th {\n",
       "        text-align: right;\n",
       "    }\n",
       "\n",
       "    .dataframe thead th {\n",
       "        text-align: left;\n",
       "    }\n",
       "\n",
       "    .dataframe tbody tr th {\n",
       "        vertical-align: top;\n",
       "    }\n",
       "</style>\n",
       "<table border=\"1\" class=\"dataframe\">\n",
       "  <thead>\n",
       "    <tr style=\"text-align: right;\">\n",
       "      <th></th>\n",
       "      <th>key</th>\n",
       "      <th>pos</th>\n",
       "      <th>ref</th>\n",
       "      <th>alt</th>\n",
       "      <th>gene_category</th>\n",
       "      <th>gene_name</th>\n",
       "      <th>gene_id</th>\n",
       "      <th>gene_pos</th>\n",
       "      <th>ins_del</th>\n",
       "      <th>INDEL_type</th>\n",
       "      <th>codon_pos</th>\n",
       "      <th>num_isolates</th>\n",
       "      <th>num_sublineages</th>\n",
       "      <th>sublineages</th>\n",
       "      <th>isolateID_and_AF</th>\n",
       "    </tr>\n",
       "  </thead>\n",
       "  <tbody>\n",
       "    <tr>\n",
       "      <th>1374</th>\n",
       "      <td>C_779181_CG</td>\n",
       "      <td>779181</td>\n",
       "      <td>C</td>\n",
       "      <td>CG</td>\n",
       "      <td>Non-Essential</td>\n",
       "      <td>Rv0678</td>\n",
       "      <td>Rv0678</td>\n",
       "      <td>192</td>\n",
       "      <td>ins</td>\n",
       "      <td>frameshift</td>\n",
       "      <td>64</td>\n",
       "      <td>2</td>\n",
       "      <td>2</td>\n",
       "      <td>4.2.1.1.2(1) - 4.2.1.1.1.1.2(1)</td>\n",
       "      <td>SAMEA104357571(66%) - Peru4498(71%)</td>\n",
       "    </tr>\n",
       "    <tr>\n",
       "      <th>1375</th>\n",
       "      <td>G_779249_GC</td>\n",
       "      <td>779249</td>\n",
       "      <td>G</td>\n",
       "      <td>GC</td>\n",
       "      <td>Non-Essential</td>\n",
       "      <td>Rv0678</td>\n",
       "      <td>Rv0678</td>\n",
       "      <td>260</td>\n",
       "      <td>ins</td>\n",
       "      <td>frameshift</td>\n",
       "      <td>87</td>\n",
       "      <td>1</td>\n",
       "      <td>1</td>\n",
       "      <td>4.2.1.2.2.1.1(1)</td>\n",
       "      <td>SAMEA2534929(69%)</td>\n",
       "    </tr>\n",
       "    <tr>\n",
       "      <th>1373</th>\n",
       "      <td>G_778696_GTTGA</td>\n",
       "      <td>778696</td>\n",
       "      <td>G</td>\n",
       "      <td>GTTGA</td>\n",
       "      <td>Non-Essential</td>\n",
       "      <td>mmpS5</td>\n",
       "      <td>Rv0677c</td>\n",
       "      <td>210</td>\n",
       "      <td>ins</td>\n",
       "      <td>frameshift</td>\n",
       "      <td>70</td>\n",
       "      <td>1</td>\n",
       "      <td>1</td>\n",
       "      <td>1(1)</td>\n",
       "      <td>SAMEA3558232(54%)</td>\n",
       "    </tr>\n",
       "    <tr>\n",
       "      <th>1372</th>\n",
       "      <td>CGATCT_777076_C</td>\n",
       "      <td>777076</td>\n",
       "      <td>CGATCT</td>\n",
       "      <td>C</td>\n",
       "      <td>Non-Essential</td>\n",
       "      <td>mmpL5</td>\n",
       "      <td>Rv0676c</td>\n",
       "      <td>1405</td>\n",
       "      <td>del</td>\n",
       "      <td>frameshift</td>\n",
       "      <td>469</td>\n",
       "      <td>2</td>\n",
       "      <td>1</td>\n",
       "      <td>2.2.1.1.1.i3(2)</td>\n",
       "      <td>SAMN08708254(70%) - SAMN08709186(71%)</td>\n",
       "    </tr>\n",
       "    <tr>\n",
       "      <th>4787</th>\n",
       "      <td>GGT_2714526_G</td>\n",
       "      <td>2714526</td>\n",
       "      <td>GGT</td>\n",
       "      <td>G</td>\n",
       "      <td>Non-Essential</td>\n",
       "      <td>eis</td>\n",
       "      <td>Rv2416c</td>\n",
       "      <td>807</td>\n",
       "      <td>del</td>\n",
       "      <td>frameshift</td>\n",
       "      <td>269</td>\n",
       "      <td>84</td>\n",
       "      <td>2</td>\n",
       "      <td>2.2.1.1(2) - 2.2.1.1.1(82)</td>\n",
       "      <td>SAMEA1119916(67%) - SAMN06055959(68%) - SAMN06...</td>\n",
       "    </tr>\n",
       "    <tr>\n",
       "      <th>4788</th>\n",
       "      <td>G_2714847_GCT</td>\n",
       "      <td>2714847</td>\n",
       "      <td>G</td>\n",
       "      <td>GCT</td>\n",
       "      <td>Non-Essential</td>\n",
       "      <td>eis</td>\n",
       "      <td>Rv2416c</td>\n",
       "      <td>486</td>\n",
       "      <td>ins</td>\n",
       "      <td>frameshift</td>\n",
       "      <td>162</td>\n",
       "      <td>1</td>\n",
       "      <td>1</td>\n",
       "      <td>4.1.i1.1.1.1(1)</td>\n",
       "      <td>Peru2912(69%)</td>\n",
       "    </tr>\n",
       "    <tr>\n",
       "      <th>6195</th>\n",
       "      <td>GC_3568488_G</td>\n",
       "      <td>3568488</td>\n",
       "      <td>GC</td>\n",
       "      <td>G</td>\n",
       "      <td>Non-Essential</td>\n",
       "      <td>whiB7</td>\n",
       "      <td>Rv3197A</td>\n",
       "      <td>192</td>\n",
       "      <td>del</td>\n",
       "      <td>frameshift</td>\n",
       "      <td>64</td>\n",
       "      <td>11</td>\n",
       "      <td>3</td>\n",
       "      <td>1.2.1.1.2(2) - 1.2.1.1(1) - 1.2.1.1.1(8)</td>\n",
       "      <td>SAMN04276657(66%) - SAMN09101721(73%) - SAMEA5...</td>\n",
       "    </tr>\n",
       "    <tr>\n",
       "      <th>4811</th>\n",
       "      <td>G_2726370_GT</td>\n",
       "      <td>2726370</td>\n",
       "      <td>G</td>\n",
       "      <td>GT</td>\n",
       "      <td>Antibiotic Resistance</td>\n",
       "      <td>ahpC</td>\n",
       "      <td>Rv2428</td>\n",
       "      <td>178</td>\n",
       "      <td>ins</td>\n",
       "      <td>frameshift</td>\n",
       "      <td>60</td>\n",
       "      <td>1</td>\n",
       "      <td>1</td>\n",
       "      <td>1.1.2(1)</td>\n",
       "      <td>SAMN04396889(68%)</td>\n",
       "    </tr>\n",
       "    <tr>\n",
       "      <th>4812</th>\n",
       "      <td>C_2726405_CA</td>\n",
       "      <td>2726405</td>\n",
       "      <td>C</td>\n",
       "      <td>CA</td>\n",
       "      <td>Antibiotic Resistance</td>\n",
       "      <td>ahpC</td>\n",
       "      <td>Rv2428</td>\n",
       "      <td>213</td>\n",
       "      <td>ins</td>\n",
       "      <td>frameshift</td>\n",
       "      <td>71</td>\n",
       "      <td>2</td>\n",
       "      <td>1</td>\n",
       "      <td>2.2.1.1.1(2)</td>\n",
       "      <td>SAMN08912870(63%) - SAMN03648834(67%)</td>\n",
       "    </tr>\n",
       "  </tbody>\n",
       "</table>\n",
       "</div>"
      ],
      "text/plain": [
       "                  key      pos     ref    alt          gene_category  \\\n",
       "1374      C_779181_CG   779181       C     CG          Non-Essential   \n",
       "1375      G_779249_GC   779249       G     GC          Non-Essential   \n",
       "1373   G_778696_GTTGA   778696       G  GTTGA          Non-Essential   \n",
       "1372  CGATCT_777076_C   777076  CGATCT      C          Non-Essential   \n",
       "4787    GGT_2714526_G  2714526     GGT      G          Non-Essential   \n",
       "4788    G_2714847_GCT  2714847       G    GCT          Non-Essential   \n",
       "6195     GC_3568488_G  3568488      GC      G          Non-Essential   \n",
       "4811     G_2726370_GT  2726370       G     GT  Antibiotic Resistance   \n",
       "4812     C_2726405_CA  2726405       C     CA  Antibiotic Resistance   \n",
       "\n",
       "     gene_name  gene_id gene_pos ins_del  INDEL_type codon_pos  num_isolates  \\\n",
       "1374    Rv0678   Rv0678      192     ins  frameshift        64             2   \n",
       "1375    Rv0678   Rv0678      260     ins  frameshift        87             1   \n",
       "1373     mmpS5  Rv0677c      210     ins  frameshift        70             1   \n",
       "1372     mmpL5  Rv0676c     1405     del  frameshift       469             2   \n",
       "4787       eis  Rv2416c      807     del  frameshift       269            84   \n",
       "4788       eis  Rv2416c      486     ins  frameshift       162             1   \n",
       "6195     whiB7  Rv3197A      192     del  frameshift        64            11   \n",
       "4811      ahpC   Rv2428      178     ins  frameshift        60             1   \n",
       "4812      ahpC   Rv2428      213     ins  frameshift        71             2   \n",
       "\n",
       "      num_sublineages                               sublineages  \\\n",
       "1374                2           4.2.1.1.2(1) - 4.2.1.1.1.1.2(1)   \n",
       "1375                1                          4.2.1.2.2.1.1(1)   \n",
       "1373                1                                      1(1)   \n",
       "1372                1                           2.2.1.1.1.i3(2)   \n",
       "4787                2                2.2.1.1(2) - 2.2.1.1.1(82)   \n",
       "4788                1                           4.1.i1.1.1.1(1)   \n",
       "6195                3  1.2.1.1.2(2) - 1.2.1.1(1) - 1.2.1.1.1(8)   \n",
       "4811                1                                  1.1.2(1)   \n",
       "4812                1                              2.2.1.1.1(2)   \n",
       "\n",
       "                                       isolateID_and_AF  \n",
       "1374                SAMEA104357571(66%) - Peru4498(71%)  \n",
       "1375                                  SAMEA2534929(69%)  \n",
       "1373                                  SAMEA3558232(54%)  \n",
       "1372              SAMN08708254(70%) - SAMN08709186(71%)  \n",
       "4787  SAMEA1119916(67%) - SAMN06055959(68%) - SAMN06...  \n",
       "4788                                      Peru2912(69%)  \n",
       "6195  SAMN04276657(66%) - SAMN09101721(73%) - SAMEA5...  \n",
       "4811                                  SAMN04396889(68%)  \n",
       "4812              SAMN08912870(63%) - SAMN03648834(67%)  "
      ]
     },
     "execution_count": 104,
     "metadata": {},
     "output_type": "execute_result"
    }
   ],
   "source": [
    "mmpR_mmpS5_mmpL5_eis_whiB7_ahpC_indels_df"
   ]
  },
  {
   "cell_type": "code",
   "execution_count": 105,
   "metadata": {},
   "outputs": [],
   "source": [
    "mmpR_mmpS5_mmpL5_eis_whiB7_ahpC_indels_df.to_csv('/n/data1/hms/dbmi/farhat/Roger/mmpR_BDQ_mutant_project/CSV files/mmpR_mmpS5_mmpL5_eis_whiB7_ahpC_mixed_indels_in_31428_isolates.csv' , sep = ',')"
   ]
  }
 ],
 "metadata": {
  "kernelspec": {
   "display_name": "Python 2",
   "language": "python",
   "name": "python2"
  },
  "language_info": {
   "codemirror_mode": {
    "name": "ipython",
    "version": 2
   },
   "file_extension": ".py",
   "mimetype": "text/x-python",
   "name": "python",
   "nbconvert_exporter": "python",
   "pygments_lexer": "ipython2",
   "version": "2.7.16"
  }
 },
 "nbformat": 4,
 "nbformat_minor": 2
}
