{
 "cells": [
  {
   "cell_type": "markdown",
   "metadata": {},
   "source": [
    "# This notebook was created to identify the cluster of sub-lineage 2.2.1.1.1.i3 isolates (444/1893) from a t-SNE (based on pairwise SNP distance) of all isolates and to visualize homoplastic variants in the *eis* promoter and *eis* within the isolate cluster."
   ]
  },
  {
   "cell_type": "code",
   "execution_count": 1,
   "metadata": {},
   "outputs": [
    {
     "data": {
      "text/html": [
       "<style>.container { width:100% !important; }</style>"
      ],
      "text/plain": [
       "<IPython.core.display.HTML object>"
      ]
     },
     "metadata": {},
     "output_type": "display_data"
    }
   ],
   "source": [
    "from IPython.core.display import display, HTML\n",
    "display(HTML(\"<style>.container { width:100% !important; }</style>\"))"
   ]
  },
  {
   "cell_type": "code",
   "execution_count": 2,
   "metadata": {},
   "outputs": [],
   "source": [
    "%matplotlib inline\n",
    "import os\n",
    "import pandas as pd\n",
    "import numpy as np\n",
    "import matplotlib.pyplot as plt\n",
    "import matplotlib as mpl\n",
    "import matplotlib.ticker as ticker\n",
    "from pylab import MaxNLocator\n",
    "import seaborn as sns; sns.set()\n",
    "from matplotlib.colors import LogNorm\n",
    "from matplotlib import gridspec\n",
    "import itertools\n",
    "\n",
    "#for exporting to Adobe Illustrator\n",
    "mpl.rcParams['pdf.fonttype'] = 42\n",
    "mpl.rcParams['ps.fonttype'] = 42"
   ]
  },
  {
   "cell_type": "markdown",
   "metadata": {},
   "source": [
    "### Load SNP genotype matrix and Annotation Files"
   ]
  },
  {
   "cell_type": "code",
   "execution_count": 3,
   "metadata": {},
   "outputs": [],
   "source": [
    "#load isolate annotation file (columns of Genotype Matrix)\n",
    "isolate_annotation_DF_SNPs = pd.read_pickle('/n/data1/hms/dbmi/farhat/Roger/homoplasy_project/rolling_DB_scrape/Genotypes_Filtered_2/genotypes_isolate_annotation.pkl')\n",
    "\n",
    "#load SNP annotation file (rows of Genotype Matrix) with gene annotation information\n",
    "SNP_annotation_DF = pd.read_pickle('/n/data1/hms/dbmi/farhat/Roger/homoplasy_project/rolling_DB_scrape/Genotypes_Filtered_2/genotypes_SNP_annotation.pkl')\n",
    "\n",
    "#load SNP functional annotation file\n",
    "SNP_func_annotation_DF = pd.read_pickle('/n/data1/hms/dbmi/farhat/Roger/homoplasy_project/rolling_DB_scrape/Genotypes_Filtered_2/genotypes_SNP_functional_annotation.pkl')\n",
    "\n",
    "#load Genotypes Matrix\n",
    "genotypes_array_SNPs =  np.load('/n/data1/hms/dbmi/farhat/Roger/homoplasy_project/rolling_DB_scrape/Genotypes_Filtered_2/genotypes_matrix.npy')"
   ]
  },
  {
   "cell_type": "code",
   "execution_count": 4,
   "metadata": {},
   "outputs": [],
   "source": [
    "allele_code_map_dict = {'A':0 , 'C':1 , 'G':2 , 'T':3}\n",
    "allele_code_map_dict_r = {0:'A' , 1:'C' , 2:'G' , 3:'T'}"
   ]
  },
  {
   "cell_type": "code",
   "execution_count": 5,
   "metadata": {
    "scrolled": true
   },
   "outputs": [
    {
     "data": {
      "text/html": [
       "<div>\n",
       "<style>\n",
       "    .dataframe thead tr:only-child th {\n",
       "        text-align: right;\n",
       "    }\n",
       "\n",
       "    .dataframe thead th {\n",
       "        text-align: left;\n",
       "    }\n",
       "\n",
       "    .dataframe tbody tr th {\n",
       "        vertical-align: top;\n",
       "    }\n",
       "</style>\n",
       "<table border=\"1\" class=\"dataframe\">\n",
       "  <thead>\n",
       "    <tr style=\"text-align: right;\">\n",
       "      <th></th>\n",
       "      <th>lineage_1</th>\n",
       "      <th>lineage_2</th>\n",
       "      <th>lineage_3</th>\n",
       "      <th>lineage_4</th>\n",
       "      <th>lineage_5</th>\n",
       "      <th>lineage_6</th>\n",
       "      <th>lineage_7</th>\n",
       "      <th>lineage_8</th>\n",
       "      <th>lineage_9</th>\n",
       "      <th>lineage_10</th>\n",
       "      <th>lineage_11</th>\n",
       "      <th>isolate_ID</th>\n",
       "      <th>lineage_call</th>\n",
       "      <th>group</th>\n",
       "    </tr>\n",
       "  </thead>\n",
       "  <tbody>\n",
       "    <tr>\n",
       "      <th>0</th>\n",
       "      <td>4</td>\n",
       "      <td>2</td>\n",
       "      <td>1</td>\n",
       "      <td>2</td>\n",
       "      <td>1</td>\n",
       "      <td>1</td>\n",
       "      <td>i3</td>\n",
       "      <td>1</td>\n",
       "      <td>NaN</td>\n",
       "      <td>NaN</td>\n",
       "      <td>NaN</td>\n",
       "      <td>SAMEA3558733</td>\n",
       "      <td>4.2.1.2.1.1.i3.1</td>\n",
       "      <td>4B</td>\n",
       "    </tr>\n",
       "    <tr>\n",
       "      <th>1</th>\n",
       "      <td>4</td>\n",
       "      <td>2</td>\n",
       "      <td>1</td>\n",
       "      <td>2</td>\n",
       "      <td>2</td>\n",
       "      <td>1</td>\n",
       "      <td>1</td>\n",
       "      <td>NaN</td>\n",
       "      <td>NaN</td>\n",
       "      <td>NaN</td>\n",
       "      <td>NaN</td>\n",
       "      <td>SAMN03648641</td>\n",
       "      <td>4.2.1.2.2.1.1</td>\n",
       "      <td>4B</td>\n",
       "    </tr>\n",
       "    <tr>\n",
       "      <th>2</th>\n",
       "      <td>3</td>\n",
       "      <td>1</td>\n",
       "      <td>1</td>\n",
       "      <td>i1</td>\n",
       "      <td>NaN</td>\n",
       "      <td>NaN</td>\n",
       "      <td>NaN</td>\n",
       "      <td>NaN</td>\n",
       "      <td>NaN</td>\n",
       "      <td>NaN</td>\n",
       "      <td>NaN</td>\n",
       "      <td>SAMN03647419</td>\n",
       "      <td>3.1.1.i1</td>\n",
       "      <td>3</td>\n",
       "    </tr>\n",
       "    <tr>\n",
       "      <th>3</th>\n",
       "      <td>4</td>\n",
       "      <td>2</td>\n",
       "      <td>1</td>\n",
       "      <td>2</td>\n",
       "      <td>1</td>\n",
       "      <td>1</td>\n",
       "      <td>i1</td>\n",
       "      <td>NaN</td>\n",
       "      <td>NaN</td>\n",
       "      <td>NaN</td>\n",
       "      <td>NaN</td>\n",
       "      <td>SAMEA3671418</td>\n",
       "      <td>4.2.1.2.1.1.i1</td>\n",
       "      <td>4B</td>\n",
       "    </tr>\n",
       "    <tr>\n",
       "      <th>4</th>\n",
       "      <td>1</td>\n",
       "      <td>1</td>\n",
       "      <td>1</td>\n",
       "      <td>2</td>\n",
       "      <td>NaN</td>\n",
       "      <td>NaN</td>\n",
       "      <td>NaN</td>\n",
       "      <td>NaN</td>\n",
       "      <td>NaN</td>\n",
       "      <td>NaN</td>\n",
       "      <td>NaN</td>\n",
       "      <td>SAMN07659096</td>\n",
       "      <td>1.1.1.2</td>\n",
       "      <td>1</td>\n",
       "    </tr>\n",
       "  </tbody>\n",
       "</table>\n",
       "</div>"
      ],
      "text/plain": [
       "  lineage_1 lineage_2 lineage_3 lineage_4 lineage_5 lineage_6 lineage_7  \\\n",
       "0         4         2         1         2         1         1        i3   \n",
       "1         4         2         1         2         2         1         1   \n",
       "2         3         1         1        i1       NaN       NaN       NaN   \n",
       "3         4         2         1         2         1         1        i1   \n",
       "4         1         1         1         2       NaN       NaN       NaN   \n",
       "\n",
       "  lineage_8 lineage_9 lineage_10 lineage_11    isolate_ID      lineage_call  \\\n",
       "0         1       NaN        NaN        NaN  SAMEA3558733  4.2.1.2.1.1.i3.1   \n",
       "1       NaN       NaN        NaN        NaN  SAMN03648641     4.2.1.2.2.1.1   \n",
       "2       NaN       NaN        NaN        NaN  SAMN03647419          3.1.1.i1   \n",
       "3       NaN       NaN        NaN        NaN  SAMEA3671418    4.2.1.2.1.1.i1   \n",
       "4       NaN       NaN        NaN        NaN  SAMN07659096           1.1.1.2   \n",
       "\n",
       "  group  \n",
       "0    4B  \n",
       "1    4B  \n",
       "2     3  \n",
       "3    4B  \n",
       "4     1  "
      ]
     },
     "execution_count": 5,
     "metadata": {},
     "output_type": "execute_result"
    }
   ],
   "source": [
    "isolate_annotation_DF_SNPs.head()"
   ]
  },
  {
   "cell_type": "code",
   "execution_count": 6,
   "metadata": {},
   "outputs": [
    {
     "data": {
      "text/plain": [
       "(31428, 14)"
      ]
     },
     "execution_count": 6,
     "metadata": {},
     "output_type": "execute_result"
    }
   ],
   "source": [
    "np.shape(isolate_annotation_DF_SNPs)"
   ]
  },
  {
   "cell_type": "code",
   "execution_count": 7,
   "metadata": {},
   "outputs": [
    {
     "data": {
      "text/html": [
       "<div>\n",
       "<style>\n",
       "    .dataframe thead tr:only-child th {\n",
       "        text-align: right;\n",
       "    }\n",
       "\n",
       "    .dataframe thead th {\n",
       "        text-align: left;\n",
       "    }\n",
       "\n",
       "    .dataframe tbody tr th {\n",
       "        vertical-align: top;\n",
       "    }\n",
       "</style>\n",
       "<table border=\"1\" class=\"dataframe\">\n",
       "  <thead>\n",
       "    <tr style=\"text-align: right;\">\n",
       "      <th></th>\n",
       "      <th>pos</th>\n",
       "      <th>ref</th>\n",
       "      <th>alt</th>\n",
       "      <th>gene_id</th>\n",
       "      <th>gene_pos</th>\n",
       "      <th>gene_category</th>\n",
       "      <th>gene_name</th>\n",
       "    </tr>\n",
       "  </thead>\n",
       "  <tbody>\n",
       "    <tr>\n",
       "      <th>0</th>\n",
       "      <td>48</td>\n",
       "      <td>C</td>\n",
       "      <td>[T]</td>\n",
       "      <td>Rv0001</td>\n",
       "      <td>47.0</td>\n",
       "      <td>Essential</td>\n",
       "      <td>dnaA</td>\n",
       "    </tr>\n",
       "    <tr>\n",
       "      <th>1</th>\n",
       "      <td>64</td>\n",
       "      <td>G</td>\n",
       "      <td>[C]</td>\n",
       "      <td>Rv0001</td>\n",
       "      <td>63.0</td>\n",
       "      <td>Essential</td>\n",
       "      <td>dnaA</td>\n",
       "    </tr>\n",
       "    <tr>\n",
       "      <th>2</th>\n",
       "      <td>67</td>\n",
       "      <td>G</td>\n",
       "      <td>[A, T]</td>\n",
       "      <td>Rv0001</td>\n",
       "      <td>66.0</td>\n",
       "      <td>Essential</td>\n",
       "      <td>dnaA</td>\n",
       "    </tr>\n",
       "    <tr>\n",
       "      <th>3</th>\n",
       "      <td>69</td>\n",
       "      <td>C</td>\n",
       "      <td>[T]</td>\n",
       "      <td>Rv0001</td>\n",
       "      <td>68.0</td>\n",
       "      <td>Essential</td>\n",
       "      <td>dnaA</td>\n",
       "    </tr>\n",
       "    <tr>\n",
       "      <th>4</th>\n",
       "      <td>71</td>\n",
       "      <td>C</td>\n",
       "      <td>[T]</td>\n",
       "      <td>Rv0001</td>\n",
       "      <td>70.0</td>\n",
       "      <td>Essential</td>\n",
       "      <td>dnaA</td>\n",
       "    </tr>\n",
       "  </tbody>\n",
       "</table>\n",
       "</div>"
      ],
      "text/plain": [
       "   pos ref     alt gene_id  gene_pos gene_category gene_name\n",
       "0   48   C     [T]  Rv0001      47.0     Essential      dnaA\n",
       "1   64   G     [C]  Rv0001      63.0     Essential      dnaA\n",
       "2   67   G  [A, T]  Rv0001      66.0     Essential      dnaA\n",
       "3   69   C     [T]  Rv0001      68.0     Essential      dnaA\n",
       "4   71   C     [T]  Rv0001      70.0     Essential      dnaA"
      ]
     },
     "execution_count": 7,
     "metadata": {},
     "output_type": "execute_result"
    }
   ],
   "source": [
    "SNP_annotation_DF.head()"
   ]
  },
  {
   "cell_type": "code",
   "execution_count": 8,
   "metadata": {},
   "outputs": [
    {
     "data": {
      "text/plain": [
       "(782565, 7)"
      ]
     },
     "execution_count": 8,
     "metadata": {},
     "output_type": "execute_result"
    }
   ],
   "source": [
    "np.shape(SNP_annotation_DF)"
   ]
  },
  {
   "cell_type": "code",
   "execution_count": 9,
   "metadata": {},
   "outputs": [
    {
     "data": {
      "text/plain": [
       "(782565, 31428)"
      ]
     },
     "execution_count": 9,
     "metadata": {},
     "output_type": "execute_result"
    }
   ],
   "source": [
    "np.shape(genotypes_array_SNPs)"
   ]
  },
  {
   "cell_type": "markdown",
   "metadata": {},
   "source": [
    "### Load INDEL genotype matrix and Annotation Files"
   ]
  },
  {
   "cell_type": "code",
   "execution_count": 10,
   "metadata": {},
   "outputs": [],
   "source": [
    "#load isolate annotation file (columns of Genotype Matrix)\n",
    "isolate_annotation_DF_indels = pd.read_pickle('/n/data1/hms/dbmi/farhat/Roger/homoplasy_project/rolling_DB_scrape_indels/Genotypes_Filtered_2/genotypes_isolate_annotation.pkl')\n",
    "\n",
    "#load INDEL annotation file (rows of Genotype Matrix) with gene annotation information\n",
    "INDEL_annotation_DF = pd.read_pickle('/n/data1/hms/dbmi/farhat/Roger/homoplasy_project/rolling_DB_scrape_indels/Genotypes_Filtered_2/genotypes_INDEL_annotation.pkl')\n",
    "\n",
    "#load Genotypes Matrix\n",
    "genotypes_array_INDELs =  np.load('/n/data1/hms/dbmi/farhat/Roger/homoplasy_project/rolling_DB_scrape_indels/Genotypes_Filtered_2/genotypes_matrix.npy')"
   ]
  },
  {
   "cell_type": "code",
   "execution_count": 11,
   "metadata": {},
   "outputs": [
    {
     "data": {
      "text/html": [
       "<div>\n",
       "<style>\n",
       "    .dataframe thead tr:only-child th {\n",
       "        text-align: right;\n",
       "    }\n",
       "\n",
       "    .dataframe thead th {\n",
       "        text-align: left;\n",
       "    }\n",
       "\n",
       "    .dataframe tbody tr th {\n",
       "        vertical-align: top;\n",
       "    }\n",
       "</style>\n",
       "<table border=\"1\" class=\"dataframe\">\n",
       "  <thead>\n",
       "    <tr style=\"text-align: right;\">\n",
       "      <th></th>\n",
       "      <th>isolate_ID</th>\n",
       "      <th>lineage_1</th>\n",
       "      <th>lineage_2</th>\n",
       "      <th>lineage_3</th>\n",
       "      <th>lineage_4</th>\n",
       "      <th>lineage_5</th>\n",
       "      <th>lineage_6</th>\n",
       "      <th>lineage_7</th>\n",
       "      <th>lineage_8</th>\n",
       "      <th>lineage_9</th>\n",
       "      <th>lineage_10</th>\n",
       "      <th>lineage_11</th>\n",
       "      <th>lineage_call</th>\n",
       "      <th>group</th>\n",
       "    </tr>\n",
       "  </thead>\n",
       "  <tbody>\n",
       "    <tr>\n",
       "      <th>0</th>\n",
       "      <td>SAMN13051687</td>\n",
       "      <td>2</td>\n",
       "      <td>2</td>\n",
       "      <td>1</td>\n",
       "      <td>1</td>\n",
       "      <td>1</td>\n",
       "      <td>i3</td>\n",
       "      <td>NaN</td>\n",
       "      <td>NaN</td>\n",
       "      <td>NaN</td>\n",
       "      <td>NaN</td>\n",
       "      <td>NaN</td>\n",
       "      <td>2.2.1.1.1.i3</td>\n",
       "      <td>2</td>\n",
       "    </tr>\n",
       "    <tr>\n",
       "      <th>1</th>\n",
       "      <td>SAMN09100245</td>\n",
       "      <td>4</td>\n",
       "      <td>2</td>\n",
       "      <td>1</td>\n",
       "      <td>2</td>\n",
       "      <td>1</td>\n",
       "      <td>1</td>\n",
       "      <td>i3</td>\n",
       "      <td>2</td>\n",
       "      <td>NaN</td>\n",
       "      <td>NaN</td>\n",
       "      <td>NaN</td>\n",
       "      <td>4.2.1.2.1.1.i3.2</td>\n",
       "      <td>4B</td>\n",
       "    </tr>\n",
       "    <tr>\n",
       "      <th>2</th>\n",
       "      <td>SAMN08732238</td>\n",
       "      <td>2</td>\n",
       "      <td>2</td>\n",
       "      <td>1</td>\n",
       "      <td>1</td>\n",
       "      <td>1</td>\n",
       "      <td>NaN</td>\n",
       "      <td>NaN</td>\n",
       "      <td>NaN</td>\n",
       "      <td>NaN</td>\n",
       "      <td>NaN</td>\n",
       "      <td>NaN</td>\n",
       "      <td>2.2.1.1.1</td>\n",
       "      <td>2</td>\n",
       "    </tr>\n",
       "    <tr>\n",
       "      <th>3</th>\n",
       "      <td>SAMN07658260</td>\n",
       "      <td>3</td>\n",
       "      <td>1</td>\n",
       "      <td>1</td>\n",
       "      <td>NaN</td>\n",
       "      <td>NaN</td>\n",
       "      <td>NaN</td>\n",
       "      <td>NaN</td>\n",
       "      <td>NaN</td>\n",
       "      <td>NaN</td>\n",
       "      <td>NaN</td>\n",
       "      <td>NaN</td>\n",
       "      <td>3.1.1</td>\n",
       "      <td>3</td>\n",
       "    </tr>\n",
       "    <tr>\n",
       "      <th>4</th>\n",
       "      <td>SAMN03648003</td>\n",
       "      <td>2</td>\n",
       "      <td>2</td>\n",
       "      <td>1</td>\n",
       "      <td>1</td>\n",
       "      <td>1</td>\n",
       "      <td>NaN</td>\n",
       "      <td>NaN</td>\n",
       "      <td>NaN</td>\n",
       "      <td>NaN</td>\n",
       "      <td>NaN</td>\n",
       "      <td>NaN</td>\n",
       "      <td>2.2.1.1.1</td>\n",
       "      <td>2</td>\n",
       "    </tr>\n",
       "  </tbody>\n",
       "</table>\n",
       "</div>"
      ],
      "text/plain": [
       "     isolate_ID lineage_1 lineage_2 lineage_3 lineage_4 lineage_5 lineage_6  \\\n",
       "0  SAMN13051687         2         2         1         1         1        i3   \n",
       "1  SAMN09100245         4         2         1         2         1         1   \n",
       "2  SAMN08732238         2         2         1         1         1       NaN   \n",
       "3  SAMN07658260         3         1         1       NaN       NaN       NaN   \n",
       "4  SAMN03648003         2         2         1         1         1       NaN   \n",
       "\n",
       "  lineage_7 lineage_8 lineage_9 lineage_10 lineage_11      lineage_call group  \n",
       "0       NaN       NaN       NaN        NaN        NaN      2.2.1.1.1.i3     2  \n",
       "1        i3         2       NaN        NaN        NaN  4.2.1.2.1.1.i3.2    4B  \n",
       "2       NaN       NaN       NaN        NaN        NaN         2.2.1.1.1     2  \n",
       "3       NaN       NaN       NaN        NaN        NaN             3.1.1     3  \n",
       "4       NaN       NaN       NaN        NaN        NaN         2.2.1.1.1     2  "
      ]
     },
     "execution_count": 11,
     "metadata": {},
     "output_type": "execute_result"
    }
   ],
   "source": [
    "isolate_annotation_DF_indels.head()"
   ]
  },
  {
   "cell_type": "code",
   "execution_count": 12,
   "metadata": {},
   "outputs": [
    {
     "data": {
      "text/plain": [
       "(31428, 14)"
      ]
     },
     "execution_count": 12,
     "metadata": {},
     "output_type": "execute_result"
    }
   ],
   "source": [
    "np.shape(isolate_annotation_DF_indels)"
   ]
  },
  {
   "cell_type": "code",
   "execution_count": 13,
   "metadata": {},
   "outputs": [
    {
     "data": {
      "text/html": [
       "<div>\n",
       "<style>\n",
       "    .dataframe thead tr:only-child th {\n",
       "        text-align: right;\n",
       "    }\n",
       "\n",
       "    .dataframe thead th {\n",
       "        text-align: left;\n",
       "    }\n",
       "\n",
       "    .dataframe tbody tr th {\n",
       "        vertical-align: top;\n",
       "    }\n",
       "</style>\n",
       "<table border=\"1\" class=\"dataframe\">\n",
       "  <thead>\n",
       "    <tr style=\"text-align: right;\">\n",
       "      <th></th>\n",
       "      <th>key</th>\n",
       "      <th>pos</th>\n",
       "      <th>ref</th>\n",
       "      <th>alt</th>\n",
       "      <th>gene_id</th>\n",
       "      <th>gene_pos</th>\n",
       "      <th>gene_category</th>\n",
       "      <th>gene_name</th>\n",
       "    </tr>\n",
       "  </thead>\n",
       "  <tbody>\n",
       "    <tr>\n",
       "      <th>0</th>\n",
       "      <td>ACCGACGAAG_313_A</td>\n",
       "      <td>313</td>\n",
       "      <td>ACCGACGAAG</td>\n",
       "      <td>A</td>\n",
       "      <td>Rv0001</td>\n",
       "      <td>312.0</td>\n",
       "      <td>Essential</td>\n",
       "      <td>dnaA</td>\n",
       "    </tr>\n",
       "    <tr>\n",
       "      <th>1</th>\n",
       "      <td>TC_1549_T</td>\n",
       "      <td>1549</td>\n",
       "      <td>TC</td>\n",
       "      <td>T</td>\n",
       "      <td>intergenic</td>\n",
       "      <td>NaN</td>\n",
       "      <td>None</td>\n",
       "      <td>None</td>\n",
       "    </tr>\n",
       "    <tr>\n",
       "      <th>2</th>\n",
       "      <td>T_1552_TAA</td>\n",
       "      <td>1552</td>\n",
       "      <td>T</td>\n",
       "      <td>TAA</td>\n",
       "      <td>intergenic</td>\n",
       "      <td>NaN</td>\n",
       "      <td>None</td>\n",
       "      <td>None</td>\n",
       "    </tr>\n",
       "    <tr>\n",
       "      <th>3</th>\n",
       "      <td>TAA_1552_T</td>\n",
       "      <td>1552</td>\n",
       "      <td>TAA</td>\n",
       "      <td>T</td>\n",
       "      <td>intergenic</td>\n",
       "      <td>NaN</td>\n",
       "      <td>None</td>\n",
       "      <td>None</td>\n",
       "    </tr>\n",
       "    <tr>\n",
       "      <th>4</th>\n",
       "      <td>T_1552_TA</td>\n",
       "      <td>1552</td>\n",
       "      <td>T</td>\n",
       "      <td>TA</td>\n",
       "      <td>intergenic</td>\n",
       "      <td>NaN</td>\n",
       "      <td>None</td>\n",
       "      <td>None</td>\n",
       "    </tr>\n",
       "  </tbody>\n",
       "</table>\n",
       "</div>"
      ],
      "text/plain": [
       "                key   pos         ref  alt     gene_id  gene_pos  \\\n",
       "0  ACCGACGAAG_313_A   313  ACCGACGAAG    A      Rv0001     312.0   \n",
       "1         TC_1549_T  1549          TC    T  intergenic       NaN   \n",
       "2        T_1552_TAA  1552           T  TAA  intergenic       NaN   \n",
       "3        TAA_1552_T  1552         TAA    T  intergenic       NaN   \n",
       "4         T_1552_TA  1552           T   TA  intergenic       NaN   \n",
       "\n",
       "  gene_category gene_name  \n",
       "0     Essential      dnaA  \n",
       "1          None      None  \n",
       "2          None      None  \n",
       "3          None      None  \n",
       "4          None      None  "
      ]
     },
     "execution_count": 13,
     "metadata": {},
     "output_type": "execute_result"
    }
   ],
   "source": [
    "INDEL_annotation_DF.head()"
   ]
  },
  {
   "cell_type": "code",
   "execution_count": 14,
   "metadata": {},
   "outputs": [
    {
     "data": {
      "text/plain": [
       "(50260, 8)"
      ]
     },
     "execution_count": 14,
     "metadata": {},
     "output_type": "execute_result"
    }
   ],
   "source": [
    "np.shape(INDEL_annotation_DF)"
   ]
  },
  {
   "cell_type": "code",
   "execution_count": 15,
   "metadata": {},
   "outputs": [
    {
     "data": {
      "text/plain": [
       "(50260, 31428)"
      ]
     },
     "execution_count": 15,
     "metadata": {},
     "output_type": "execute_result"
    }
   ],
   "source": [
    "np.shape(genotypes_array_INDELs)"
   ]
  },
  {
   "cell_type": "markdown",
   "metadata": {},
   "source": [
    "### Switch Genoyptes Matrix *columns* & Isolate Annotation *rows* to match isolate ordering for SNP genotypes matrix (used to construct t-SNE embeddings)"
   ]
  },
  {
   "cell_type": "code",
   "execution_count": 16,
   "metadata": {},
   "outputs": [],
   "source": [
    "#this will be the order of the isolates in the t-SNE embeddings\n",
    "isolate_reorder = [isolate_annotation_DF_indels[isolate_annotation_DF_indels.isolate_ID == isolate_ID].index[0] for isolate_ID in isolate_annotation_DF_SNPs.isolate_ID]\n",
    "\n",
    "#re-order rows of isolate annotation df\n",
    "isolate_annotation_DF_indels = isolate_annotation_DF_indels.iloc[isolate_reorder , :]\n",
    "isolate_annotation_DF_indels.reset_index(inplace = True , drop = True)\n",
    "\n",
    "#re-order columns for genotypes matrix\n",
    "genotypes_array_INDELs = genotypes_array_INDELs[: , isolate_reorder]"
   ]
  },
  {
   "cell_type": "code",
   "execution_count": 17,
   "metadata": {},
   "outputs": [
    {
     "data": {
      "text/html": [
       "<div>\n",
       "<style>\n",
       "    .dataframe thead tr:only-child th {\n",
       "        text-align: right;\n",
       "    }\n",
       "\n",
       "    .dataframe thead th {\n",
       "        text-align: left;\n",
       "    }\n",
       "\n",
       "    .dataframe tbody tr th {\n",
       "        vertical-align: top;\n",
       "    }\n",
       "</style>\n",
       "<table border=\"1\" class=\"dataframe\">\n",
       "  <thead>\n",
       "    <tr style=\"text-align: right;\">\n",
       "      <th></th>\n",
       "      <th>isolate_ID</th>\n",
       "      <th>lineage_1</th>\n",
       "      <th>lineage_2</th>\n",
       "      <th>lineage_3</th>\n",
       "      <th>lineage_4</th>\n",
       "      <th>lineage_5</th>\n",
       "      <th>lineage_6</th>\n",
       "      <th>lineage_7</th>\n",
       "      <th>lineage_8</th>\n",
       "      <th>lineage_9</th>\n",
       "      <th>lineage_10</th>\n",
       "      <th>lineage_11</th>\n",
       "      <th>lineage_call</th>\n",
       "      <th>group</th>\n",
       "    </tr>\n",
       "  </thead>\n",
       "  <tbody>\n",
       "    <tr>\n",
       "      <th>0</th>\n",
       "      <td>SAMEA3558733</td>\n",
       "      <td>4</td>\n",
       "      <td>2</td>\n",
       "      <td>1</td>\n",
       "      <td>2</td>\n",
       "      <td>1</td>\n",
       "      <td>1</td>\n",
       "      <td>i3</td>\n",
       "      <td>1</td>\n",
       "      <td>NaN</td>\n",
       "      <td>NaN</td>\n",
       "      <td>NaN</td>\n",
       "      <td>4.2.1.2.1.1.i3.1</td>\n",
       "      <td>4B</td>\n",
       "    </tr>\n",
       "    <tr>\n",
       "      <th>1</th>\n",
       "      <td>SAMN03648641</td>\n",
       "      <td>4</td>\n",
       "      <td>2</td>\n",
       "      <td>1</td>\n",
       "      <td>2</td>\n",
       "      <td>2</td>\n",
       "      <td>1</td>\n",
       "      <td>1</td>\n",
       "      <td>NaN</td>\n",
       "      <td>NaN</td>\n",
       "      <td>NaN</td>\n",
       "      <td>NaN</td>\n",
       "      <td>4.2.1.2.2.1.1</td>\n",
       "      <td>4B</td>\n",
       "    </tr>\n",
       "    <tr>\n",
       "      <th>2</th>\n",
       "      <td>SAMN03647419</td>\n",
       "      <td>3</td>\n",
       "      <td>1</td>\n",
       "      <td>1</td>\n",
       "      <td>i1</td>\n",
       "      <td>NaN</td>\n",
       "      <td>NaN</td>\n",
       "      <td>NaN</td>\n",
       "      <td>NaN</td>\n",
       "      <td>NaN</td>\n",
       "      <td>NaN</td>\n",
       "      <td>NaN</td>\n",
       "      <td>3.1.1.i1</td>\n",
       "      <td>3</td>\n",
       "    </tr>\n",
       "    <tr>\n",
       "      <th>3</th>\n",
       "      <td>SAMEA3671418</td>\n",
       "      <td>4</td>\n",
       "      <td>2</td>\n",
       "      <td>1</td>\n",
       "      <td>2</td>\n",
       "      <td>1</td>\n",
       "      <td>1</td>\n",
       "      <td>i1</td>\n",
       "      <td>NaN</td>\n",
       "      <td>NaN</td>\n",
       "      <td>NaN</td>\n",
       "      <td>NaN</td>\n",
       "      <td>4.2.1.2.1.1.i1</td>\n",
       "      <td>4B</td>\n",
       "    </tr>\n",
       "    <tr>\n",
       "      <th>4</th>\n",
       "      <td>SAMN07659096</td>\n",
       "      <td>1</td>\n",
       "      <td>1</td>\n",
       "      <td>1</td>\n",
       "      <td>2</td>\n",
       "      <td>NaN</td>\n",
       "      <td>NaN</td>\n",
       "      <td>NaN</td>\n",
       "      <td>NaN</td>\n",
       "      <td>NaN</td>\n",
       "      <td>NaN</td>\n",
       "      <td>NaN</td>\n",
       "      <td>1.1.1.2</td>\n",
       "      <td>1</td>\n",
       "    </tr>\n",
       "  </tbody>\n",
       "</table>\n",
       "</div>"
      ],
      "text/plain": [
       "     isolate_ID lineage_1 lineage_2 lineage_3 lineage_4 lineage_5 lineage_6  \\\n",
       "0  SAMEA3558733         4         2         1         2         1         1   \n",
       "1  SAMN03648641         4         2         1         2         2         1   \n",
       "2  SAMN03647419         3         1         1        i1       NaN       NaN   \n",
       "3  SAMEA3671418         4         2         1         2         1         1   \n",
       "4  SAMN07659096         1         1         1         2       NaN       NaN   \n",
       "\n",
       "  lineage_7 lineage_8 lineage_9 lineage_10 lineage_11      lineage_call group  \n",
       "0        i3         1       NaN        NaN        NaN  4.2.1.2.1.1.i3.1    4B  \n",
       "1         1       NaN       NaN        NaN        NaN     4.2.1.2.2.1.1    4B  \n",
       "2       NaN       NaN       NaN        NaN        NaN          3.1.1.i1     3  \n",
       "3        i1       NaN       NaN        NaN        NaN    4.2.1.2.1.1.i1    4B  \n",
       "4       NaN       NaN       NaN        NaN        NaN           1.1.1.2     1  "
      ]
     },
     "execution_count": 17,
     "metadata": {},
     "output_type": "execute_result"
    }
   ],
   "source": [
    "isolate_annotation_DF_indels.head()"
   ]
  },
  {
   "cell_type": "markdown",
   "metadata": {},
   "source": [
    "### t-SNE"
   ]
  },
  {
   "cell_type": "markdown",
   "metadata": {},
   "source": [
    "Import t-SNE embeddings"
   ]
  },
  {
   "cell_type": "code",
   "execution_count": 18,
   "metadata": {},
   "outputs": [],
   "source": [
    "t_SNE_coords = np.loadtxt('/n/data1/hms/dbmi/farhat/Roger/homoplasy_project/rolling_DB_scrape/Genotypes_Filtered_2/pairwise_distance_matrix/tb_output/tSNE_embeddings_from_pairwise_SNP_dist.txt')"
   ]
  },
  {
   "cell_type": "code",
   "execution_count": 19,
   "metadata": {},
   "outputs": [
    {
     "data": {
      "text/plain": [
       "array([[ 15.77039433, -31.88985825],\n",
       "       [ 47.15923691, -36.95353317],\n",
       "       [ 12.14623451,  71.26150513],\n",
       "       ...,\n",
       "       [-15.47960186,  38.40433884],\n",
       "       [ 16.71702766, -43.72228622],\n",
       "       [ 68.94006348,  35.38974762]])"
      ]
     },
     "execution_count": 19,
     "metadata": {},
     "output_type": "execute_result"
    }
   ],
   "source": [
    "t_SNE_coords"
   ]
  },
  {
   "cell_type": "code",
   "execution_count": 20,
   "metadata": {},
   "outputs": [
    {
     "data": {
      "text/plain": [
       "(31428, 2)"
      ]
     },
     "execution_count": 20,
     "metadata": {},
     "output_type": "execute_result"
    }
   ],
   "source": [
    "np.shape(t_SNE_coords)"
   ]
  },
  {
   "cell_type": "markdown",
   "metadata": {},
   "source": [
    "### Define function to plot den-SNE & label isolates with a mutant allele"
   ]
  },
  {
   "cell_type": "code",
   "execution_count": 21,
   "metadata": {},
   "outputs": [],
   "source": [
    "plt.style.use('ggplot')\n",
    "plt.rcParams['lines.linewidth']=0\n",
    "plt.rcParams['axes.facecolor']='1.0'\n",
    "plt.rcParams['xtick.color']='black'\n",
    "plt.rcParams['axes.grid']=False\n",
    "plt.rcParams['axes.edgecolor']='black'\n",
    "plt.rcParams['grid.color']= '1.0'\n",
    "plt.rcParams.update({'font.size': 9})\n",
    "plt.rc('font', family='serif')"
   ]
  },
  {
   "cell_type": "code",
   "execution_count": 22,
   "metadata": {},
   "outputs": [],
   "source": [
    "def t_SNE_label_isolates_with_SNP(pos_i , mut_allele , SNP_label , fig , ax):\n",
    "    \n",
    "    #Get Genotypes for SNP\n",
    "    #get row index of genotypes matrix that corresponds to this row\n",
    "    SNP_site_row_index = SNP_annotation_DF[SNP_annotation_DF.pos == pos_i].index.values[0]\n",
    "\n",
    "    #get the genotypes for all isolates\n",
    "    SNP_site_genotypes = genotypes_array_SNPs[SNP_site_row_index , :]\n",
    "\n",
    "    #construct a boolean array that is TRUE if isolate's genotype matches the mutant allele and FALSE otherwise\n",
    "    isolate_mutant_allele_match_bool = SNP_site_genotypes == allele_code_map_dict[mut_allele]\n",
    "\n",
    "    #construct a boolean array that is FALSE if isolate's genotype matches the mutant allele and TRUE otherwise\n",
    "    isolate_mutant_allele_no_match_bool = SNP_site_genotypes != allele_code_map_dict[mut_allele]\n",
    "    \n",
    "    #Plot coordinates for each isolate\n",
    "    \n",
    "    #isolates without mutant allele\n",
    "    other_isolates = ax.scatter( t_SNE_coords[: , 0][isolate_mutant_allele_no_match_bool] , t_SNE_coords[: , 1][isolate_mutant_allele_no_match_bool]  , color = 'xkcd:golden yellow' , edgecolor = 'white' , linewidth = 0.15 , alpha = 0.40 , s = 15)\n",
    "\n",
    "    #isolates with mutant allele\n",
    "    mut_allele_isolates = ax.scatter( t_SNE_coords[: , 0][isolate_mutant_allele_match_bool] ,t_SNE_coords[: , 1][isolate_mutant_allele_match_bool]  ,  color = 'xkcd:black' , edgecolor = 'white' , linewidth = 0.15 , alpha = 1.0 , s = 15)\n",
    "\n",
    "    ax.spines['right'].set_visible(False)\n",
    "    ax.spines['top'].set_visible(False)\n",
    "    for axis in ['bottom','left']:\n",
    "        ax.spines[axis].set_linewidth(0.5)\n",
    "\n",
    "    ax.tick_params(axis='y', which='major', labelsize=12, pad = 0.0, labelcolor = 'k', rotation = 90)\n",
    "    ax.tick_params(axis='x', which='major', labelsize=12, pad = 0.0, labelcolor = 'k')\n",
    "\n",
    "    #add legend\n",
    "    ax.legend((mut_allele_isolates, other_isolates), (SNP_label + ' (N = ' + str(sum(isolate_mutant_allele_match_bool)) + ')', 'isolates without mutant allele'), bbox_to_anchor=(0,0.97,1,0.2) , scatterpoints=1, loc='lower left' , ncol=1,fontsize=8 , mode=\"expand\", borderaxespad=0, frameon=False, handletextpad=0.01)\n",
    "    \n",
    "    #plot parameters\n",
    "    ax.spines['right'].set_visible(False)\n",
    "    ax.spines['top'].set_visible(False)\n",
    "    for axis in ['bottom','left']:\n",
    "        ax.spines[axis].set_linewidth(0.5)\n",
    "\n",
    "    ax.tick_params(axis='y', which='major', labelsize=7.5, pad = 0.0, labelcolor = 'k', rotation = 90)\n",
    "    ax.tick_params(axis='x', which='major', labelsize=7.5, pad = 0.0, labelcolor = 'k')\n",
    "\n",
    "    #add axis labels\n",
    "    ax.set_xlabel('t-SNE 1' , fontsize = '7.5' , color = 'k')\n",
    "    ax.tick_params(axis='x', pad=0.0)\n",
    "\n",
    "    ax.set_ylabel('t-SNE 2', fontsize = '7.5', color = 'k')\n",
    "    ax.tick_params(axis='y', pad=0.0)"
   ]
  },
  {
   "cell_type": "code",
   "execution_count": 23,
   "metadata": {},
   "outputs": [],
   "source": [
    "def t_SNE_label_isolates_with_INDEL(mut_key , indel_label , fig , ax):\n",
    "    \n",
    "    #Get Genotypes for INDEL\n",
    "    #get row index of genotypes matrix that corresponds to this row\n",
    "    INDEL_row_index = INDEL_annotation_DF[INDEL_annotation_DF.key == mut_key].index.values[0]\n",
    "\n",
    "    #get the genotypes for all isolates\n",
    "    INDEL_genotypes = genotypes_array_INDELs[INDEL_row_index , :]\n",
    "\n",
    "    #construct a boolean array that is TRUE if isolate's genotype matches the mutant allele and FALSE otherwise\n",
    "    isolate_mutant_allele_match_bool = INDEL_genotypes == 1\n",
    "\n",
    "    #construct a boolean array that is FALSE if isolate's genotype matches the mutant allele and TRUE otherwise\n",
    "    isolate_mutant_allele_no_match_bool = INDEL_genotypes == 0\n",
    "    \n",
    "    #Plot coordinates for each isolate\n",
    "    \n",
    "    #isolates without mutant allele\n",
    "    other_isolates = ax.scatter( t_SNE_coords[: , 0][isolate_mutant_allele_no_match_bool] , t_SNE_coords[: , 1][isolate_mutant_allele_no_match_bool]  , color = 'xkcd:golden yellow' , edgecolor = 'white' , linewidth = 0.15 , alpha = 0.40 , s = 15)\n",
    "\n",
    "    #isolates with mutant allele\n",
    "    mut_allele_isolates = ax.scatter( t_SNE_coords[: , 0][isolate_mutant_allele_match_bool] ,t_SNE_coords[: , 1][isolate_mutant_allele_match_bool]  ,  color = 'xkcd:black' , edgecolor = 'white' , linewidth = 0.15 , alpha = 1.0 , s = 15)\n",
    "\n",
    "    ax.spines['right'].set_visible(False)\n",
    "    ax.spines['top'].set_visible(False)\n",
    "    for axis in ['bottom','left']:\n",
    "        ax.spines[axis].set_linewidth(0.5)\n",
    "\n",
    "    ax.tick_params(axis='y', which='major', labelsize=7.5, pad = 0.0, labelcolor = 'k', rotation = 90)\n",
    "    ax.tick_params(axis='x', which='major', labelsize=7.5, pad = 0.0, labelcolor = 'k')\n",
    "\n",
    "    #add legend\n",
    "    ax.legend((mut_allele_isolates, other_isolates), (indel_label + ' (n = ' + str(sum(isolate_mutant_allele_match_bool)) + ')', 'isolates without mutant allele'), bbox_to_anchor=(0,0.97,1,0.2) , scatterpoints=1, loc='lower left' , ncol=1,fontsize=8 , mode=\"expand\", borderaxespad=0, frameon=False, handletextpad=0.01)\n",
    "\n",
    "    #add axis labels\n",
    "    ax.set_xlabel('t-SNE 1' , fontsize = '7.5' , color = 'k')\n",
    "    ax.tick_params(axis='x', pad=0.0)\n",
    "\n",
    "    ax.set_ylabel('t-SNE 2', fontsize = '7.5', color = 'k')\n",
    "    ax.tick_params(axis='y', pad=0.0)"
   ]
  },
  {
   "cell_type": "markdown",
   "metadata": {},
   "source": [
    "Get **promoter SNP** of interest"
   ]
  },
  {
   "cell_type": "code",
   "execution_count": 24,
   "metadata": {},
   "outputs": [
    {
     "data": {
      "text/html": [
       "<div>\n",
       "<style>\n",
       "    .dataframe thead tr:only-child th {\n",
       "        text-align: right;\n",
       "    }\n",
       "\n",
       "    .dataframe thead th {\n",
       "        text-align: left;\n",
       "    }\n",
       "\n",
       "    .dataframe tbody tr th {\n",
       "        vertical-align: top;\n",
       "    }\n",
       "</style>\n",
       "<table border=\"1\" class=\"dataframe\">\n",
       "  <thead>\n",
       "    <tr style=\"text-align: right;\">\n",
       "      <th></th>\n",
       "      <th>pos</th>\n",
       "      <th>ref</th>\n",
       "      <th>alt</th>\n",
       "      <th>gene_id</th>\n",
       "      <th>gene_pos</th>\n",
       "      <th>gene_category</th>\n",
       "      <th>gene_name</th>\n",
       "    </tr>\n",
       "  </thead>\n",
       "  <tbody>\n",
       "    <tr>\n",
       "      <th>490018</th>\n",
       "      <td>2715346</td>\n",
       "      <td>G</td>\n",
       "      <td>[A]</td>\n",
       "      <td>intergenic</td>\n",
       "      <td>NaN</td>\n",
       "      <td>None</td>\n",
       "      <td>None</td>\n",
       "    </tr>\n",
       "  </tbody>\n",
       "</table>\n",
       "</div>"
      ],
      "text/plain": [
       "            pos ref  alt     gene_id  gene_pos gene_category gene_name\n",
       "490018  2715346   G  [A]  intergenic       NaN          None      None"
      ]
     },
     "execution_count": 24,
     "metadata": {},
     "output_type": "execute_result"
    }
   ],
   "source": [
    "SNPs_interest = [2715346]\n",
    "SNP_annotation_DF.loc[[SNP_pos in SNPs_interest for SNP_pos in SNP_annotation_DF.pos]]"
   ]
  },
  {
   "cell_type": "markdown",
   "metadata": {},
   "source": [
    "Get **gene body SNP** of interest"
   ]
  },
  {
   "cell_type": "code",
   "execution_count": 25,
   "metadata": {},
   "outputs": [
    {
     "data": {
      "text/html": [
       "<div>\n",
       "<style>\n",
       "    .dataframe thead tr:only-child th {\n",
       "        text-align: right;\n",
       "    }\n",
       "\n",
       "    .dataframe thead th {\n",
       "        text-align: left;\n",
       "    }\n",
       "\n",
       "    .dataframe tbody tr th {\n",
       "        vertical-align: top;\n",
       "    }\n",
       "</style>\n",
       "<table border=\"1\" class=\"dataframe\">\n",
       "  <thead>\n",
       "    <tr style=\"text-align: right;\">\n",
       "      <th></th>\n",
       "      <th>pos</th>\n",
       "      <th>ref</th>\n",
       "      <th>alt</th>\n",
       "      <th>gene_id</th>\n",
       "      <th>gene_pos</th>\n",
       "      <th>gene_category</th>\n",
       "      <th>gene_name</th>\n",
       "    </tr>\n",
       "  </thead>\n",
       "  <tbody>\n",
       "    <tr>\n",
       "      <th>490009</th>\n",
       "      <td>2715330</td>\n",
       "      <td>C</td>\n",
       "      <td>[T]</td>\n",
       "      <td>Rv2416c</td>\n",
       "      <td>1206.0</td>\n",
       "      <td>Non-Essential</td>\n",
       "      <td>eis</td>\n",
       "    </tr>\n",
       "  </tbody>\n",
       "</table>\n",
       "</div>"
      ],
      "text/plain": [
       "            pos ref  alt  gene_id  gene_pos  gene_category gene_name\n",
       "490009  2715330   C  [T]  Rv2416c    1206.0  Non-Essential       eis"
      ]
     },
     "execution_count": 25,
     "metadata": {},
     "output_type": "execute_result"
    }
   ],
   "source": [
    "SNPs_interest = [2715330]\n",
    "SNP_annotation_DF.loc[[SNP_pos in SNPs_interest for SNP_pos in SNP_annotation_DF.pos]]"
   ]
  },
  {
   "cell_type": "markdown",
   "metadata": {},
   "source": [
    "Get **gene body indel** of interest"
   ]
  },
  {
   "cell_type": "code",
   "execution_count": 26,
   "metadata": {},
   "outputs": [
    {
     "data": {
      "text/html": [
       "<div>\n",
       "<style>\n",
       "    .dataframe thead tr:only-child th {\n",
       "        text-align: right;\n",
       "    }\n",
       "\n",
       "    .dataframe thead th {\n",
       "        text-align: left;\n",
       "    }\n",
       "\n",
       "    .dataframe tbody tr th {\n",
       "        vertical-align: top;\n",
       "    }\n",
       "</style>\n",
       "<table border=\"1\" class=\"dataframe\">\n",
       "  <thead>\n",
       "    <tr style=\"text-align: right;\">\n",
       "      <th></th>\n",
       "      <th>key</th>\n",
       "      <th>pos</th>\n",
       "      <th>ref</th>\n",
       "      <th>alt</th>\n",
       "      <th>gene_id</th>\n",
       "      <th>gene_pos</th>\n",
       "      <th>gene_category</th>\n",
       "      <th>gene_name</th>\n",
       "    </tr>\n",
       "  </thead>\n",
       "  <tbody>\n",
       "    <tr>\n",
       "      <th>31204</th>\n",
       "      <td>GA_2714885_G</td>\n",
       "      <td>2714885</td>\n",
       "      <td>GA</td>\n",
       "      <td>G</td>\n",
       "      <td>Rv2416c</td>\n",
       "      <td>761.0</td>\n",
       "      <td>Non-Essential</td>\n",
       "      <td>eis</td>\n",
       "    </tr>\n",
       "  </tbody>\n",
       "</table>\n",
       "</div>"
      ],
      "text/plain": [
       "                key      pos ref alt  gene_id  gene_pos  gene_category  \\\n",
       "31204  GA_2714885_G  2714885  GA   G  Rv2416c     761.0  Non-Essential   \n",
       "\n",
       "      gene_name  \n",
       "31204       eis  "
      ]
     },
     "execution_count": 26,
     "metadata": {},
     "output_type": "execute_result"
    }
   ],
   "source": [
    "INDEL_keys_interest = ['GA_2714885_G']\n",
    "INDEL_annotation_DF.loc[[indel_key in INDEL_keys_interest for indel_key in INDEL_annotation_DF.key]]"
   ]
  },
  {
   "cell_type": "markdown",
   "metadata": {},
   "source": [
    "#### Specific mutations that we're are interested in"
   ]
  },
  {
   "cell_type": "code",
   "execution_count": 26,
   "metadata": {},
   "outputs": [
    {
     "data": {
      "text/plain": [
       "(2715346, 'A-14A eis-Rv2417c')"
      ]
     },
     "execution_count": 26,
     "metadata": {},
     "output_type": "execute_result"
    }
   ],
   "source": [
    "2715346, 'A' '-14A eis-Rv2417c'\n",
    "\n",
    "2715330, 'T', 'eis 3C>T V1V'\n",
    "\n",
    "'GA_2714885_G', 'eis 448delA'\n",
    "\n",
    "'A_2714860_AT', 'eis 473insT'"
   ]
  },
  {
   "cell_type": "markdown",
   "metadata": {},
   "source": [
    "### Main Figure 7"
   ]
  },
  {
   "cell_type": "code",
   "execution_count": 56,
   "metadata": {},
   "outputs": [
    {
     "data": {
      "image/png": "[encoded data removed]",
      "text/plain": [
       "<Figure size 612x630 with 4 Axes>"
      ]
     },
     "metadata": {},
     "output_type": "display_data"
    }
   ],
   "source": [
    "figM7 = plt.figure(constrained_layout=True)\n",
    "spec2 = gridspec.GridSpec(ncols=2, nrows=2, figure=figM7 , wspace=0.155, hspace=0.265)\n",
    "figM7_ax1 = figM7.add_subplot(spec2[0, 0])\n",
    "figM7_ax2 = figM7.add_subplot(spec2[0, 1])\n",
    "figM7_ax3 = figM7.add_subplot(spec2[1, 0])\n",
    "figM7_ax4 = figM7.add_subplot(spec2[1, 1])\n",
    "\n",
    "################################################################################################################\n",
    "\n",
    "t_SNE_label_isolates_with_SNP(2715346 , 'A' , '-14A eis-Rv2417c' , figM7 , figM7_ax1)\n",
    "\n",
    "t_SNE_label_isolates_with_SNP(2715330 , 'T' , 'eis 3C>T V1V' , figM7 , figM7_ax2)\n",
    "\n",
    "t_SNE_label_isolates_with_INDEL('GA_2714885_G' , 'eis 448delA' , figM7 , figM7_ax3)\n",
    "\n",
    "t_SNE_label_isolates_with_INDEL('A_2714860_AT' , 'eis 473insT' , figM7 , figM7_ax4)\n",
    "\n",
    "################################################################################################################\n",
    "\n",
    "figM7.text(0.10, 0.89, 'A', fontsize=12 , fontweight='bold' , color = 'k')\n",
    "figM7.text(0.51, 0.89, 'B', fontsize=12 , fontweight='bold' , color = 'k')\n",
    "figM7.text(0.10, 0.47, 'C', fontsize=12 , fontweight='bold' , color = 'k')\n",
    "figM7.text(0.51, 0.47, 'D', fontsize=12 , fontweight='bold' , color = 'k')\n",
    "\n",
    "figM7 = plt.gcf()\n",
    "figM7.set_size_inches(8.5, 8.75)\n",
    "figM7.tight_layout()\n",
    "\n",
    "file_name = '/n/data1/hms/dbmi/farhat/Roger/mmpR_BDQ_mutant_project/figures/eis promoter SNP eis mutations tSNE.png'\n",
    "plt.savefig(file_name, bbox_inches='tight', dpi = 300 , transparent = False)\n",
    "\n",
    "plt.show()"
   ]
  },
  {
   "cell_type": "code",
   "execution_count": 57,
   "metadata": {},
   "outputs": [
    {
     "data": {
      "image/png": "[encoded data removed]",
      "text/plain": [
       "<Figure size 612x673.2 with 4 Axes>"
      ]
     },
     "metadata": {},
     "output_type": "display_data"
    }
   ],
   "source": [
    "figM7 = plt.figure(constrained_layout=True)\n",
    "spec2 = gridspec.GridSpec(ncols=2, nrows=2, figure=figM7 , wspace=0.155, hspace=0.34)\n",
    "figM7_ax1 = figM7.add_subplot(spec2[0, 0])\n",
    "figM7_ax2 = figM7.add_subplot(spec2[0, 1])\n",
    "figM7_ax3 = figM7.add_subplot(spec2[1, 0])\n",
    "figM7_ax4 = figM7.add_subplot(spec2[1, 1])\n",
    "\n",
    "#A: sublineage 2.2.1.1.1.i3 highlighted in context of all isolates\n",
    "################################################################################################################\n",
    "circ_size = 10\n",
    "alpha = 1.0\n",
    "linewidth = 0.05\n",
    "\n",
    "#Plot coordinates for each isolate\n",
    "all_isolates = figM7_ax1.scatter( t_SNE_coords[: , 0] , t_SNE_coords[: , 1] ,  color = '0.85' , edgecolor = 'white' , linewidth = linewidth , alpha = alpha , s = circ_size)\n",
    "\n",
    "#lineage 2.2.1.1.1.i3\n",
    "isolate_sublineage_filter = [isolate_i_lineage_call[0:13] == '2.2.1.1.1.i3' for isolate_i_lineage_call in isolate_annotation_DF_indels.lineage_call]\n",
    "\n",
    "#plot points for all isolates that belong to this sub-lineage\n",
    "L_22111i3 = figM7_ax1.scatter( t_SNE_coords[: , 0][isolate_sublineage_filter] , t_SNE_coords[: , 1][isolate_sublineage_filter]  , color = 'xkcd:bright pink' , edgecolor = 'xkcd:white' , linewidth = linewidth , alpha = alpha , s = circ_size)\n",
    "\n",
    "figM7_ax1.spines['right'].set_visible(False)\n",
    "figM7_ax1.spines['top'].set_visible(False)\n",
    "for axis in ['bottom','left']:\n",
    "    figM7_ax1.spines[axis].set_linewidth(0.5)\n",
    "\n",
    "figM7_ax1.tick_params(axis='y', which='major', labelsize=7.5, pad = 0.0, labelcolor = 'k', rotation = 90)\n",
    "figM7_ax1.tick_params(axis='x', which='major', labelsize=7.5, pad = 0.0, labelcolor = 'k')\n",
    "\n",
    "#add legend\n",
    "figM7_ax1.legend((L_22111i3, all_isolates), ('Lineage 2.2.1.1.1.i3' + ' (n = ' + str(sum(isolate_sublineage_filter)) + ')', 'other'), bbox_to_anchor=(0,0.97,1,0.2) , scatterpoints=1 , loc='lower left', ncol=1, fontsize=8 ,mode=\"expand\", borderaxespad=0 , frameon=False , handletextpad=0.01)\n",
    "\n",
    "#add axis labels\n",
    "figM7_ax1.set_xlabel('t-SNE 1' , fontsize = '7.5' , color = 'k')\n",
    "figM7_ax1.tick_params(axis='x', pad=0.0)\n",
    "\n",
    "figM7_ax1.set_ylabel('t-SNE 2', fontsize = '7.5', color = 'k')\n",
    "figM7_ax1.tick_params(axis='y', pad=0.0)\n",
    "################################################################################################################\n",
    "\n",
    "#B: only isolates belonging to sublineage 2.2.1.1.1.i3\n",
    "################################################################################################################\n",
    "\n",
    "#lineage 2.2.1.1.1.i3\n",
    "isolate_sublineage_filter = [isolate_i_lineage_call[0:12] == '2.2.1.1.1.i3' for isolate_i_lineage_call in isolate_annotation_DF_indels.lineage_call]\n",
    "\n",
    "#plot points for all isolates that belong to this sub-lineage\n",
    "L_22111i3 = figM7_ax2.scatter( t_SNE_coords[: , 0][isolate_sublineage_filter] , t_SNE_coords[: , 1][isolate_sublineage_filter]  , color = 'xkcd:white' , edgecolor = 'xkcd:bright pink' , linewidth = 0.4 , alpha = 0.75 , s = 30)\n",
    "\n",
    "figM7_ax2.spines['right'].set_visible(False)\n",
    "figM7_ax2.spines['top'].set_visible(False)\n",
    "for axis in ['bottom','left']:\n",
    "    figM7_ax2.spines[axis].set_linewidth(0.5)\n",
    "\n",
    "figM7_ax2.tick_params(axis='y', which='major', labelsize=7.5, pad = 0.0, labelcolor = 'k', rotation = 90)\n",
    "figM7_ax2.tick_params(axis='x', which='major', labelsize=7.5, pad = 0.0, labelcolor = 'k')\n",
    "\n",
    "#add legend\n",
    "figM7_ax2.legend((L_22111i3, all_isolates), ('Lineage 2.2.1.1.1.i3' + ' (n = ' + str(sum(isolate_sublineage_filter)) + ')', 'other'), bbox_to_anchor=(0,0.97,1,0.2) , scatterpoints=1 , loc='lower left', ncol=1, fontsize=8 ,mode=\"expand\", borderaxespad=0 , frameon=False , handletextpad=0.01)\n",
    "\n",
    "#add axis labels\n",
    "figM7_ax2.set_xlabel('t-SNE 1' , fontsize = '7.5' , color = 'k')\n",
    "figM7_ax2.tick_params(axis='x', pad=0.0)\n",
    "\n",
    "figM7_ax2.set_ylabel('t-SNE 2', fontsize = '7.5', color = 'k')\n",
    "figM7_ax2.tick_params(axis='y', pad=0.0)\n",
    "################################################################################################################\n",
    "\n",
    "#C: only isolates belonging to sublineage 2.2.1.1.1.i3 cluster\n",
    "################################################################################################################\n",
    "\n",
    "#lineage 2.2.1.1.1.i3 (SUBSET this sublineage to cluster of isolates with -2 <= t-SNE_1 <= 8 , 26 <= t-SNE_2 <= 38)\n",
    "isolate_sublineage_filter = [isolate_i_lineage_call[0:12] == '2.2.1.1.1.i3' for isolate_i_lineage_call in isolate_annotation_DF_indels.lineage_call] # n = 1887\n",
    "isolate_cluster_filter = [( -2 <= tSNE_1 <= 8 ) and ( 26 <= tSNE_2 <= 38 ) for tSNE_1, tSNE_2 in zip(t_SNE_coords[: , 0], t_SNE_coords[: , 1])] #n = 439\n",
    "\n",
    "#create filter based off of isolates belonging to cluster within sublineage\n",
    "isolate_sublineage_cluster_filter = [(isolate_in_sublineage and isolate_in_cluster) for isolate_in_sublineage, isolate_in_cluster in zip(isolate_sublineage_filter, isolate_cluster_filter)] #n = 438\n",
    "\n",
    "#plot points for all isolates that belong to this sub-lineage & cluster with double mutants\n",
    "L_22111i3_cluster = figM7_ax3.scatter( t_SNE_coords[: , 0][isolate_sublineage_cluster_filter] , t_SNE_coords[: , 1][isolate_sublineage_cluster_filter]  , color = 'xkcd:white' , edgecolor = 'xkcd:bright pink' , linewidth = 0.5 , alpha = 0.75 , s = 38)\n",
    "\n",
    "#plot isolates with promoter SNP\n",
    "\n",
    "#isolates have eis promoter SNP + eis indel\n",
    "eis_promoter_SNP_row_index = SNP_annotation_DF[SNP_annotation_DF.pos == 2715346].index.values[0]\n",
    "\n",
    "#get the genotypes for all isolates\n",
    "eis_promoter_SNP_genotypes = genotypes_array_SNPs[eis_promoter_SNP_row_index , :]\n",
    "\n",
    "#construct a boolean array that is TRUE if isolate's genotype matches the mutant allele and FALSE otherwise\n",
    "isolate_mutant_allele_match_bool = [(isolate_with_eis_promoter_SNP and isolate_belong_to_sublineage_cluster) for isolate_with_eis_promoter_SNP, isolate_belong_to_sublineage_cluster in zip(eis_promoter_SNP_genotypes == allele_code_map_dict['A'], isolate_sublineage_cluster_filter)]\n",
    "\n",
    "#Plot coordinates for each isolate with both mutant allele\n",
    "mut_allele_isolates = figM7_ax3.scatter( t_SNE_coords[: , 0][isolate_mutant_allele_match_bool] ,t_SNE_coords[: , 1][isolate_mutant_allele_match_bool]  ,  color = 'xkcd:sky blue' , edgecolor = 'xkcd:bright pink' , linewidth = 0.5 , alpha = 1.0 , s = 38)\n",
    "\n",
    "figM7_ax3.spines['right'].set_visible(False)\n",
    "figM7_ax3.spines['top'].set_visible(False)\n",
    "for axis in ['bottom','left']:\n",
    "    figM7_ax3.spines[axis].set_linewidth(0.5)\n",
    "\n",
    "figM7_ax3.tick_params(axis='y', which='major', labelsize=7.5, pad = 0.0, labelcolor = 'k', rotation = 90)\n",
    "figM7_ax3.tick_params(axis='x', which='major', labelsize=7.5, pad = 0.0, labelcolor = 'k')\n",
    "\n",
    "#add legend\n",
    "figM7_ax3.legend((L_22111i3_cluster, mut_allele_isolates), ('Lineage 2.2.1.1.1.i3 cluster' + ' (n = ' + str(sum(isolate_sublineage_cluster_filter)) + ')', '-18A eis-Rv2417c' + ' (n = ' + str(sum(isolate_mutant_allele_match_bool)) + ')'), bbox_to_anchor=(0,0.97,1,0.2) , scatterpoints=1 , loc='lower left', ncol=1, fontsize=8 ,mode=\"expand\", borderaxespad=0 , frameon=False , handletextpad=0.01)\n",
    "\n",
    "#add axis labels\n",
    "figM7_ax3.set_xlabel('t-SNE 1' , fontsize = '7.5' , color = 'k')\n",
    "figM7_ax3.tick_params(axis='x', pad=0.0)\n",
    "\n",
    "figM7_ax3.set_ylabel('t-SNE 2', fontsize = '7.5', color = 'k')\n",
    "figM7_ax3.tick_params(axis='y', pad=0.0)\n",
    "################################################################################################################\n",
    "\n",
    "\n",
    "#D: only isolates belonging to sublineage 2.2.1.1.1.i3 cluster\n",
    "################################################################################################################\n",
    "\n",
    "#lineage 2.2.1.1.1.i3 (SUBSET this sublineage to cluster of isolates with -2 <= t-SNE_1 <= 8 , 26 <= t-SNE_2 <= 38)\n",
    "isolate_sublineage_filter = [isolate_i_lineage_call[0:12] == '2.2.1.1.1.i3' for isolate_i_lineage_call in isolate_annotation_DF_indels.lineage_call] # n = 1887\n",
    "isolate_cluster_filter = [( -2 <= tSNE_1 <= 8 ) and ( 26 <= tSNE_2 <= 38 ) for tSNE_1, tSNE_2 in zip(t_SNE_coords[: , 0], t_SNE_coords[: , 1])] #n = 439\n",
    "\n",
    "#create filter based off of isolates belonging to cluster within sublineage\n",
    "isolate_sublineage_cluster_filter = [(isolate_in_sublineage and isolate_in_cluster) for isolate_in_sublineage, isolate_in_cluster in zip(isolate_sublineage_filter, isolate_cluster_filter)] #n = 438\n",
    "\n",
    "#plot points for all isolates that belong to this sub-lineage & cluster with double mutants\n",
    "L_22111i3_cluster = figM7_ax4.scatter( t_SNE_coords[: , 0][isolate_sublineage_cluster_filter] , t_SNE_coords[: , 1][isolate_sublineage_cluster_filter]  , color = 'xkcd:white' , edgecolor = 'xkcd:bright pink' , linewidth = 0.5 , alpha = 0.75 , s = 30)\n",
    "\n",
    "#get the isolates with the promoter SNP\n",
    "eis_promoter_SNP_row_index = SNP_annotation_DF[SNP_annotation_DF.pos == 2715346].index.values[0]\n",
    "eis_promoter_SNP_genotypes = genotypes_array_SNPs[eis_promoter_SNP_row_index , :]\n",
    "\n",
    "\n",
    "####### plot isolates with promoter SNP & (eis 3C>T V1V) #######\n",
    "#isolates that belong to 2.2.1.1.1.i3 & have eis promoter SNP + eis SNP\n",
    "eis_gene_SNP_row_index = SNP_annotation_DF[SNP_annotation_DF.pos == 2715330].index.values[0]\n",
    "eis_gene_SNP_genotypes = genotypes_array_SNPs[eis_gene_SNP_row_index, :] #get the genotypes for all isolates\n",
    "\n",
    "#construct a boolean array that is TRUE if isolate's genotype matches the mutant allele and FALSE otherwise\n",
    "isolate_mutant_allele_match_bool_eis_SNP = [(isolate_with_eis_promoter_SNP and isolate_with_eis_SNP and isolate_belong_to_sublineage_cluster) for isolate_with_eis_promoter_SNP, isolate_with_eis_SNP, isolate_belong_to_sublineage_cluster in zip(eis_promoter_SNP_genotypes == allele_code_map_dict['A'], eis_gene_SNP_genotypes == allele_code_map_dict['T'], isolate_sublineage_cluster_filter)]\n",
    "#Plot coordinates for each isolate with both mutant allele\n",
    "mut_allele_isolates_eis_SNP = figM7_ax4.scatter( t_SNE_coords[: , 0][isolate_mutant_allele_match_bool_eis_SNP], t_SNE_coords[: , 1][isolate_mutant_allele_match_bool_eis_SNP]  ,  color = 'xkcd:yellow' , edgecolor = 'xkcd:bright pink' , linewidth = 0.5 , alpha = 1.0 , s = 30)\n",
    "\n",
    "\n",
    "####### plot isolates with promoter SNP & (eis 448delA) #######\n",
    "eis_del_row_index = INDEL_annotation_DF[INDEL_annotation_DF.key == 'GA_2714885_G'].index.values[0]\n",
    "eis_del_genotypes = genotypes_array_INDELs[eis_del_row_index, :] #get the genotypes for all isolates\n",
    "\n",
    "#construct a boolean array that is TRUE if isolate's genotype matches the mutant allele and FALSE otherwise\n",
    "isolate_mutant_allele_match_bool_eis_del = [(isolate_with_eis_promoter_SNP and isolate_with_eis_del and isolate_belong_to_sublineage_cluster) for isolate_with_eis_promoter_SNP, isolate_with_eis_del, isolate_belong_to_sublineage_cluster in zip(eis_promoter_SNP_genotypes == allele_code_map_dict['A'], eis_del_genotypes == 1, isolate_sublineage_cluster_filter)]\n",
    "#Plot coordinates for each isolate with both mutant allele\n",
    "mut_allele_isolates_eis_del = figM7_ax4.scatter( t_SNE_coords[: , 0][isolate_mutant_allele_match_bool_eis_del] ,t_SNE_coords[: , 1][isolate_mutant_allele_match_bool_eis_del]  ,  color = 'xkcd:blue' , edgecolor = 'xkcd:bright pink' , linewidth = 0.5 , alpha = 1.0 , s = 30)\n",
    "\n",
    "\n",
    "####### plot isolates with promoter SNP & (eis 473insT) #######\n",
    "eis_ins_row_index = INDEL_annotation_DF[INDEL_annotation_DF.key == 'A_2714860_AT'].index.values[0]\n",
    "eis_ins_genotypes = genotypes_array_INDELs[eis_ins_row_index, :] #get the genotypes for all isolates\n",
    "\n",
    "#construct a boolean array that is TRUE if isolate's genotype matches the mutant allele and FALSE otherwise\n",
    "isolate_mutant_allele_match_bool_eis_ins = [(isolate_with_eis_promoter_SNP and isolate_with_eis_ins and isolate_belong_to_sublineage_cluster) for isolate_with_eis_promoter_SNP, isolate_with_eis_ins, isolate_belong_to_sublineage_cluster in zip(eis_promoter_SNP_genotypes == allele_code_map_dict['A'], eis_ins_genotypes == 1, isolate_sublineage_cluster_filter)]\n",
    "#Plot coordinates for each isolate with both mutant allele\n",
    "mut_allele_isolates_eis_ins = figM7_ax4.scatter( t_SNE_coords[: , 0][isolate_mutant_allele_match_bool_eis_ins] ,t_SNE_coords[: , 1][isolate_mutant_allele_match_bool_eis_ins]  ,  color = 'xkcd:red' , edgecolor = 'xkcd:bright pink' , linewidth = 0.5 , alpha = 1.0 , s = 30)\n",
    "\n",
    "\n",
    "figM7_ax4.spines['right'].set_visible(False)\n",
    "figM7_ax4.spines['top'].set_visible(False)\n",
    "for axis in ['bottom','left']:\n",
    "    figM7_ax4.spines[axis].set_linewidth(0.5)\n",
    "\n",
    "figM7_ax4.tick_params(axis='y', which='major', labelsize=7.5, pad = 0.0, labelcolor = 'k', rotation = 90)\n",
    "figM7_ax4.tick_params(axis='x', which='major', labelsize=7.5, pad = 0.0, labelcolor = 'k')\n",
    "\n",
    "eis_SNP_label = '-18A eis-Rv2417c & eis 3C>T V1V' + ' (n = ' + str(sum(isolate_mutant_allele_match_bool_eis_SNP)) + ')'\n",
    "eis_del_label = '-18A eis-Rv2417c & eis 448delA' + ' (n = ' + str(sum(isolate_mutant_allele_match_bool_eis_del)) + ')'\n",
    "eis_ins_label = '-18A eis-Rv2417c & eis 473insT' + ' (n = ' + str(sum(isolate_mutant_allele_match_bool_eis_ins)) + ')'\n",
    "\n",
    "#add legend\n",
    "figM7_ax4.legend((L_22111i3_cluster, mut_allele_isolates_eis_SNP, mut_allele_isolates_eis_del, mut_allele_isolates_eis_ins), ('Lineage 2.2.1.1.1.i3 cluster' + ' (n = ' + str(sum(isolate_sublineage_cluster_filter)) + ')', eis_SNP_label, eis_del_label, eis_ins_label), bbox_to_anchor=(0,0.97,1,0.2) , scatterpoints=1 , loc='lower left', ncol=1, fontsize=8 ,mode=\"expand\", borderaxespad=0 , frameon=False , handletextpad=0.01)\n",
    "\n",
    "#add axis labels\n",
    "figM7_ax4.set_xlabel('t-SNE 1' , fontsize = '7.5' , color = 'k')\n",
    "figM7_ax4.tick_params(axis='x', pad=0.0)\n",
    "\n",
    "figM7_ax4.set_ylabel('t-SNE 2', fontsize = '7.5', color = 'k')\n",
    "figM7_ax4.tick_params(axis='y', pad=0.0)\n",
    "################################################################################################################\n",
    "\n",
    "figM7.text(0.10, 0.89, 'A', fontsize=12 , fontweight='bold' , color = 'k')\n",
    "figM7.text(0.51, 0.89, 'B', fontsize=12 , fontweight='bold' , color = 'k')\n",
    "figM7.text(0.10, 0.46, 'C', fontsize=12 , fontweight='bold' , color = 'k')\n",
    "figM7.text(0.51, 0.46, 'D', fontsize=12 , fontweight='bold' , color = 'k')\n",
    "\n",
    "figM7 = plt.gcf()\n",
    "figM7.set_size_inches(8.5, 9.35)\n",
    "figM7.tight_layout()\n",
    "\n",
    "file_name = '/n/data1/hms/dbmi/farhat/Roger/mmpR_BDQ_mutant_project/figures/eis promoter SNP eis mutations 22111i3 tSNE.png'\n",
    "plt.savefig(file_name, bbox_inches='tight', dpi = 300 , transparent = False)\n",
    "\n",
    "plt.show()"
   ]
  }
 ],
 "metadata": {
  "kernelspec": {
   "display_name": "Python 2",
   "language": "python",
   "name": "python2"
  },
  "language_info": {
   "codemirror_mode": {
    "name": "ipython",
    "version": 2
   },
   "file_extension": ".py",
   "mimetype": "text/x-python",
   "name": "python",
   "nbconvert_exporter": "python",
   "pygments_lexer": "ipython2",
   "version": "2.7.16"
  }
 },
 "nbformat": 4,
 "nbformat_minor": 2
}
