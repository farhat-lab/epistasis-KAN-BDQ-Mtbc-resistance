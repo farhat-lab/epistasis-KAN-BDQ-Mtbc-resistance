{
 "cells": [
  {
   "cell_type": "markdown",
   "metadata": {},
   "source": [
    "# This notebook was created to 1. collect (SNP & INDEL) variants in *eis* and the *eis* promoter, 2. detect instances of co-occurence of LoF variants in *eis* and the *eis* promoter and 3. analyze/date mutations on the lineage 2.2.1.1.1.i3 cluster phylogeny"
   ]
  },
  {
   "cell_type": "code",
   "execution_count": 1,
   "metadata": {},
   "outputs": [
    {
     "data": {
      "text/html": [
       "<style>.container { width:100% !important; }</style>"
      ],
      "text/plain": [
       "<IPython.core.display.HTML object>"
      ]
     },
     "metadata": {},
     "output_type": "display_data"
    }
   ],
   "source": [
    "from IPython.core.display import display, HTML\n",
    "display(HTML(\"<style>.container { width:100% !important; }</style>\"))"
   ]
  },
  {
   "cell_type": "code",
   "execution_count": 2,
   "metadata": {},
   "outputs": [],
   "source": [
    "import vcf\n",
    "\n",
    "%matplotlib inline\n",
    "import os\n",
    "import pandas as pd\n",
    "import numpy as np\n",
    "import matplotlib.pyplot as plt\n",
    "import matplotlib as mpl\n",
    "import matplotlib.ticker as ticker\n",
    "from itertools import compress\n",
    "from pylab import MaxNLocator\n",
    "import seaborn as sns; sns.set()\n",
    "from matplotlib.colors import LogNorm\n",
    "from matplotlib import gridspec\n",
    "import ast\n",
    "import itertools\n",
    "import seaborn as sns\n",
    "from sklearn.preprocessing import StandardScaler\n",
    "\n",
    "import fastcluster\n",
    "from sklearn import cluster, datasets\n",
    "import scipy.cluster.hierarchy as hier\n",
    "from sklearn.cluster import KMeans\n",
    "import time\n",
    "import sys\n",
    "import pickle\n",
    "\n",
    "import Bio\n",
    "from Bio.Alphabet import IUPAC\n",
    "from Bio.Blast.Applications import NcbiblastnCommandline\n",
    "from Bio.Blast import NCBIXML\n",
    "from Bio.Seq import Seq\n",
    "from Bio.SeqRecord import SeqRecord\n",
    "from Bio.SeqFeature import SeqFeature, FeatureLocation\n",
    "from Bio import pairwise2\n",
    "from Bio import SeqIO\n",
    "from Bio.Graphics import GenomeDiagram\n",
    "from Bio.SeqUtils import GC\n",
    "from Bio import Phylo\n",
    "\n",
    "from Bio.Align.Applications import MuscleCommandline\n",
    "from StringIO import StringIO\n",
    "from Bio import AlignIO\n",
    "from Bio.Align import AlignInfo\n",
    "from Bio.Seq import MutableSeq\n",
    "import itertools\n",
    "import gzip\n",
    "\n",
    "import networkx as nx\n",
    "import scipy\n",
    "from collections import Counter"
   ]
  },
  {
   "cell_type": "markdown",
   "metadata": {},
   "source": [
    "# *eis*\n",
    "\n",
    "promoter: 2,715,333 - 2,715,383\n",
    "\n",
    "coding: 2,714,124 - 2,715,332\n",
    "\n",
    "H37Rv region: 2,714,124 - 2,715,383"
   ]
  },
  {
   "cell_type": "code",
   "execution_count": 3,
   "metadata": {},
   "outputs": [],
   "source": [
    "H37Rv_region_start = 2714124\n",
    "H37Rv_region_end = 2715383\n",
    "regulator_id = 'Rv2416c_Rv2417c'\n",
    "regulon_id = 'Rv2416c'\n",
    "gene_symbol = 'eis'"
   ]
  },
  {
   "cell_type": "markdown",
   "metadata": {},
   "source": [
    "### *Function* to convert lineage-calls to new/simpler lineage call scheme"
   ]
  },
  {
   "cell_type": "code",
   "execution_count": 4,
   "metadata": {},
   "outputs": [],
   "source": [
    "def convert_lineage_calls(isolate_annotation_DF):\n",
    "\n",
    "    lineage_hierarchincal_to_lineage_map_df = pd.read_csv('/n/data1/hms/dbmi/farhat/Roger/mmpR_BDQ_mutant_project/CSV files/lineage_hierachical_to_lineage_map.csv')\n",
    "    lineage_hierarchincal_to_lineage_map_series = pd.Series(list(lineage_hierarchincal_to_lineage_map_df.loc[:, 'lineage']), index = lineage_hierarchincal_to_lineage_map_df.lineage_hierarchical)\n",
    "\n",
    "    lineage_call_update_list = []\n",
    "\n",
    "    for hierarchical_lineage_call in isolate_annotation_DF.lineage_call:\n",
    "\n",
    "        # if lineage call has an updated shorter call\n",
    "        if hierarchical_lineage_call in lineage_hierarchincal_to_lineage_map_series.index:\n",
    "            lineage_call_update_list.append(lineage_hierarchincal_to_lineage_map_series[hierarchical_lineage_call])\n",
    "\n",
    "        # if lineage call doesn't have an updated shorter call\n",
    "        else:\n",
    "            lineage_call_update_list.append(hierarchical_lineage_call)\n",
    "\n",
    "    # replace the hierarchical calls with the shorter ones\n",
    "    isolate_annotation_DF.loc[:,'lineage_call'] = lineage_call_update_list\n",
    "    \n",
    "    return isolate_annotation_DF"
   ]
  },
  {
   "cell_type": "markdown",
   "metadata": {},
   "source": [
    "# [1] INDELs"
   ]
  },
  {
   "cell_type": "markdown",
   "metadata": {},
   "source": [
    "## [1.1] Load INDEL genotype matrix and Annotation Files"
   ]
  },
  {
   "cell_type": "markdown",
   "metadata": {},
   "source": [
    "### 31,428 isolates"
   ]
  },
  {
   "cell_type": "code",
   "execution_count": 5,
   "metadata": {},
   "outputs": [],
   "source": [
    "#load isolate annotation file (columns of Genotype Matrix)\n",
    "INDEL_isolate_annotation_DF = pd.read_pickle('/n/data1/hms/dbmi/farhat/Roger/homoplasy_project/rolling_DB_scrape_indels/Genotypes_Filtered_2/genotypes_isolate_annotation.pkl')\n",
    "INDEL_isolate_annotation_DF = INDEL_isolate_annotation_DF.loc[:, ['isolate_ID','lineage_call']] #drop columns\n",
    "INDEL_isolate_annotation_DF = convert_lineage_calls(INDEL_isolate_annotation_DF)\n",
    "\n",
    "#load INDEL annotation file (rows of Genotype Matrix) with gene annotation information\n",
    "INDEL_annotation_DF = pd.read_pickle('/n/data1/hms/dbmi/farhat/Roger/homoplasy_project/rolling_DB_scrape_indels/Genotypes_Filtered_2/genotypes_INDEL_functional_annotation.pkl')\n",
    "INDEL_annotation_DF.reset_index(inplace = True, drop = False)\n",
    "\n",
    "#load Genotypes Matrix\n",
    "INDEL_genotypes_array =  np.load('/n/data1/hms/dbmi/farhat/Roger/homoplasy_project/rolling_DB_scrape_indels/Genotypes_Filtered_2/genotypes_matrix.npy')"
   ]
  },
  {
   "cell_type": "code",
   "execution_count": 6,
   "metadata": {},
   "outputs": [
    {
     "data": {
      "text/html": [
       "<div>\n",
       "<style>\n",
       "    .dataframe thead tr:only-child th {\n",
       "        text-align: right;\n",
       "    }\n",
       "\n",
       "    .dataframe thead th {\n",
       "        text-align: left;\n",
       "    }\n",
       "\n",
       "    .dataframe tbody tr th {\n",
       "        vertical-align: top;\n",
       "    }\n",
       "</style>\n",
       "<table border=\"1\" class=\"dataframe\">\n",
       "  <thead>\n",
       "    <tr style=\"text-align: right;\">\n",
       "      <th></th>\n",
       "      <th>isolate_ID</th>\n",
       "      <th>lineage_call</th>\n",
       "    </tr>\n",
       "  </thead>\n",
       "  <tbody>\n",
       "    <tr>\n",
       "      <th>0</th>\n",
       "      <td>SAMN13051687</td>\n",
       "      <td>2.2.1.1.1.i3</td>\n",
       "    </tr>\n",
       "    <tr>\n",
       "      <th>1</th>\n",
       "      <td>SAMN09100245</td>\n",
       "      <td>4.3.i4.1</td>\n",
       "    </tr>\n",
       "    <tr>\n",
       "      <th>2</th>\n",
       "      <td>SAMN08732238</td>\n",
       "      <td>2.2.1.1.1</td>\n",
       "    </tr>\n",
       "    <tr>\n",
       "      <th>3</th>\n",
       "      <td>SAMN07658260</td>\n",
       "      <td>3.1.1</td>\n",
       "    </tr>\n",
       "    <tr>\n",
       "      <th>4</th>\n",
       "      <td>SAMN03648003</td>\n",
       "      <td>2.2.1.1.1</td>\n",
       "    </tr>\n",
       "  </tbody>\n",
       "</table>\n",
       "</div>"
      ],
      "text/plain": [
       "     isolate_ID  lineage_call\n",
       "0  SAMN13051687  2.2.1.1.1.i3\n",
       "1  SAMN09100245      4.3.i4.1\n",
       "2  SAMN08732238     2.2.1.1.1\n",
       "3  SAMN07658260         3.1.1\n",
       "4  SAMN03648003     2.2.1.1.1"
      ]
     },
     "execution_count": 6,
     "metadata": {},
     "output_type": "execute_result"
    }
   ],
   "source": [
    "INDEL_isolate_annotation_DF.head()"
   ]
  },
  {
   "cell_type": "code",
   "execution_count": 7,
   "metadata": {},
   "outputs": [
    {
     "data": {
      "text/plain": [
       "(31428, 2)"
      ]
     },
     "execution_count": 7,
     "metadata": {},
     "output_type": "execute_result"
    }
   ],
   "source": [
    "np.shape(INDEL_isolate_annotation_DF)"
   ]
  },
  {
   "cell_type": "code",
   "execution_count": 8,
   "metadata": {
    "scrolled": true
   },
   "outputs": [
    {
     "data": {
      "text/html": [
       "<div>\n",
       "<style>\n",
       "    .dataframe thead tr:only-child th {\n",
       "        text-align: right;\n",
       "    }\n",
       "\n",
       "    .dataframe thead th {\n",
       "        text-align: left;\n",
       "    }\n",
       "\n",
       "    .dataframe tbody tr th {\n",
       "        vertical-align: top;\n",
       "    }\n",
       "</style>\n",
       "<table border=\"1\" class=\"dataframe\">\n",
       "  <thead>\n",
       "    <tr style=\"text-align: right;\">\n",
       "      <th></th>\n",
       "      <th>key</th>\n",
       "      <th>pos</th>\n",
       "      <th>ref</th>\n",
       "      <th>alt</th>\n",
       "      <th>gene_category</th>\n",
       "      <th>gene_name</th>\n",
       "      <th>gene_id</th>\n",
       "      <th>gene_pos</th>\n",
       "      <th>ins_del</th>\n",
       "      <th>INDEL_type</th>\n",
       "      <th>codon_pos</th>\n",
       "    </tr>\n",
       "  </thead>\n",
       "  <tbody>\n",
       "    <tr>\n",
       "      <th>0</th>\n",
       "      <td>ACCGACGAAG_313_A</td>\n",
       "      <td>313</td>\n",
       "      <td>ACCGACGAAG</td>\n",
       "      <td>A</td>\n",
       "      <td>Essential</td>\n",
       "      <td>dnaA</td>\n",
       "      <td>Rv0001</td>\n",
       "      <td>313</td>\n",
       "      <td>del</td>\n",
       "      <td>inframe</td>\n",
       "      <td>105</td>\n",
       "    </tr>\n",
       "    <tr>\n",
       "      <th>1</th>\n",
       "      <td>TC_1549_T</td>\n",
       "      <td>1549</td>\n",
       "      <td>TC</td>\n",
       "      <td>T</td>\n",
       "      <td>None</td>\n",
       "      <td>None</td>\n",
       "      <td>Rv0001_Rv0002</td>\n",
       "      <td>None</td>\n",
       "      <td>del</td>\n",
       "      <td>frameshift</td>\n",
       "      <td>None</td>\n",
       "    </tr>\n",
       "    <tr>\n",
       "      <th>2</th>\n",
       "      <td>T_1552_TAA</td>\n",
       "      <td>1552</td>\n",
       "      <td>T</td>\n",
       "      <td>TAA</td>\n",
       "      <td>None</td>\n",
       "      <td>None</td>\n",
       "      <td>Rv0001_Rv0002</td>\n",
       "      <td>None</td>\n",
       "      <td>ins</td>\n",
       "      <td>frameshift</td>\n",
       "      <td>None</td>\n",
       "    </tr>\n",
       "    <tr>\n",
       "      <th>3</th>\n",
       "      <td>TAA_1552_T</td>\n",
       "      <td>1552</td>\n",
       "      <td>TAA</td>\n",
       "      <td>T</td>\n",
       "      <td>None</td>\n",
       "      <td>None</td>\n",
       "      <td>Rv0001_Rv0002</td>\n",
       "      <td>None</td>\n",
       "      <td>del</td>\n",
       "      <td>frameshift</td>\n",
       "      <td>None</td>\n",
       "    </tr>\n",
       "    <tr>\n",
       "      <th>4</th>\n",
       "      <td>T_1552_TA</td>\n",
       "      <td>1552</td>\n",
       "      <td>T</td>\n",
       "      <td>TA</td>\n",
       "      <td>None</td>\n",
       "      <td>None</td>\n",
       "      <td>Rv0001_Rv0002</td>\n",
       "      <td>None</td>\n",
       "      <td>ins</td>\n",
       "      <td>frameshift</td>\n",
       "      <td>None</td>\n",
       "    </tr>\n",
       "  </tbody>\n",
       "</table>\n",
       "</div>"
      ],
      "text/plain": [
       "                key   pos         ref  alt gene_category gene_name  \\\n",
       "0  ACCGACGAAG_313_A   313  ACCGACGAAG    A     Essential      dnaA   \n",
       "1         TC_1549_T  1549          TC    T          None      None   \n",
       "2        T_1552_TAA  1552           T  TAA          None      None   \n",
       "3        TAA_1552_T  1552         TAA    T          None      None   \n",
       "4         T_1552_TA  1552           T   TA          None      None   \n",
       "\n",
       "         gene_id gene_pos ins_del  INDEL_type codon_pos  \n",
       "0         Rv0001      313     del     inframe       105  \n",
       "1  Rv0001_Rv0002     None     del  frameshift      None  \n",
       "2  Rv0001_Rv0002     None     ins  frameshift      None  \n",
       "3  Rv0001_Rv0002     None     del  frameshift      None  \n",
       "4  Rv0001_Rv0002     None     ins  frameshift      None  "
      ]
     },
     "execution_count": 8,
     "metadata": {},
     "output_type": "execute_result"
    }
   ],
   "source": [
    "INDEL_annotation_DF.head()"
   ]
  },
  {
   "cell_type": "code",
   "execution_count": 9,
   "metadata": {},
   "outputs": [
    {
     "data": {
      "text/plain": [
       "(50260, 11)"
      ]
     },
     "execution_count": 9,
     "metadata": {},
     "output_type": "execute_result"
    }
   ],
   "source": [
    "np.shape(INDEL_annotation_DF)"
   ]
  },
  {
   "cell_type": "code",
   "execution_count": 10,
   "metadata": {},
   "outputs": [
    {
     "data": {
      "text/plain": [
       "array([[0, 0, 0, ..., 0, 0, 0],\n",
       "       [0, 0, 0, ..., 0, 0, 0],\n",
       "       [0, 0, 0, ..., 0, 0, 0],\n",
       "       ...,\n",
       "       [0, 0, 0, ..., 0, 0, 0],\n",
       "       [0, 0, 0, ..., 0, 0, 0],\n",
       "       [0, 0, 0, ..., 0, 0, 0]], dtype=int8)"
      ]
     },
     "execution_count": 10,
     "metadata": {},
     "output_type": "execute_result"
    }
   ],
   "source": [
    "INDEL_genotypes_array"
   ]
  },
  {
   "cell_type": "code",
   "execution_count": 11,
   "metadata": {},
   "outputs": [
    {
     "data": {
      "text/plain": [
       "(50260, 31428)"
      ]
     },
     "execution_count": 11,
     "metadata": {},
     "output_type": "execute_result"
    }
   ],
   "source": [
    "np.shape(INDEL_genotypes_array)"
   ]
  },
  {
   "cell_type": "markdown",
   "metadata": {},
   "source": [
    "### additional 12 eis C-14T mutants with AG MICs"
   ]
  },
  {
   "cell_type": "code",
   "execution_count": 12,
   "metadata": {},
   "outputs": [],
   "source": [
    "#load isolate annotation file (columns of Genotype Matrix)\n",
    "isolate_annotation_DF_extra_strains = pd.read_pickle('/n/data1/hms/dbmi/farhat/Roger/mmpR_BDQ_mutant_project/eis_promoter_mutant_strains_from_Milan/Genotypes/Genotypes_Filtered/genotypes_isolate_annotation.pkl')\n",
    "isolate_annotation_DF_extra_strains = isolate_annotation_DF_extra_strains.loc[:, ['isolate_ID','lineage_call']]\n",
    "isolate_annotation_DF_extra_strains = convert_lineage_calls(isolate_annotation_DF_extra_strains)\n",
    "\n",
    "#load Genotypes Matrix\n",
    "genotypes_array_extra_strains =  np.load('/n/data1/hms/dbmi/farhat/Roger/mmpR_BDQ_mutant_project/eis_promoter_mutant_strains_from_Milan/Genotypes_indels/Genotypes_Filtered/genotypes_matrix.npy')"
   ]
  },
  {
   "cell_type": "code",
   "execution_count": 13,
   "metadata": {},
   "outputs": [
    {
     "data": {
      "text/html": [
       "<div>\n",
       "<style>\n",
       "    .dataframe thead tr:only-child th {\n",
       "        text-align: right;\n",
       "    }\n",
       "\n",
       "    .dataframe thead th {\n",
       "        text-align: left;\n",
       "    }\n",
       "\n",
       "    .dataframe tbody tr th {\n",
       "        vertical-align: top;\n",
       "    }\n",
       "</style>\n",
       "<table border=\"1\" class=\"dataframe\">\n",
       "  <thead>\n",
       "    <tr style=\"text-align: right;\">\n",
       "      <th></th>\n",
       "      <th>isolate_ID</th>\n",
       "      <th>lineage_call</th>\n",
       "    </tr>\n",
       "  </thead>\n",
       "  <tbody>\n",
       "    <tr>\n",
       "      <th>0</th>\n",
       "      <td>168-19</td>\n",
       "      <td>2.2.1.1.1</td>\n",
       "    </tr>\n",
       "    <tr>\n",
       "      <th>1</th>\n",
       "      <td>622-19</td>\n",
       "      <td>2.2.1.1.1.i3</td>\n",
       "    </tr>\n",
       "    <tr>\n",
       "      <th>2</th>\n",
       "      <td>655-19</td>\n",
       "      <td>4.3.i3.1</td>\n",
       "    </tr>\n",
       "    <tr>\n",
       "      <th>3</th>\n",
       "      <td>IT1070</td>\n",
       "      <td>2.2.1.1.1.i3</td>\n",
       "    </tr>\n",
       "    <tr>\n",
       "      <th>4</th>\n",
       "      <td>IT123</td>\n",
       "      <td>2.2.1.1.1</td>\n",
       "    </tr>\n",
       "  </tbody>\n",
       "</table>\n",
       "</div>"
      ],
      "text/plain": [
       "  isolate_ID  lineage_call\n",
       "0     168-19     2.2.1.1.1\n",
       "1     622-19  2.2.1.1.1.i3\n",
       "2     655-19      4.3.i3.1\n",
       "3     IT1070  2.2.1.1.1.i3\n",
       "4      IT123     2.2.1.1.1"
      ]
     },
     "execution_count": 13,
     "metadata": {},
     "output_type": "execute_result"
    }
   ],
   "source": [
    "isolate_annotation_DF_extra_strains.head()"
   ]
  },
  {
   "cell_type": "code",
   "execution_count": 14,
   "metadata": {},
   "outputs": [
    {
     "data": {
      "text/plain": [
       "array([[0, 0, 0, ..., 0, 0, 0],\n",
       "       [0, 0, 0, ..., 0, 0, 0],\n",
       "       [0, 0, 0, ..., 0, 0, 0],\n",
       "       ...,\n",
       "       [0, 0, 0, ..., 0, 0, 0],\n",
       "       [0, 0, 0, ..., 9, 0, 0],\n",
       "       [0, 0, 0, ..., 0, 0, 0]], dtype=int8)"
      ]
     },
     "execution_count": 14,
     "metadata": {},
     "output_type": "execute_result"
    }
   ],
   "source": [
    "genotypes_array_extra_strains"
   ]
  },
  {
   "cell_type": "code",
   "execution_count": 15,
   "metadata": {},
   "outputs": [
    {
     "data": {
      "text/plain": [
       "(50260, 12)"
      ]
     },
     "execution_count": 15,
     "metadata": {},
     "output_type": "execute_result"
    }
   ],
   "source": [
    "np.shape(genotypes_array_extra_strains)"
   ]
  },
  {
   "cell_type": "markdown",
   "metadata": {},
   "source": [
    "### Merge *isolate annotation files* and *genotypes matrices* together"
   ]
  },
  {
   "cell_type": "code",
   "execution_count": 16,
   "metadata": {},
   "outputs": [],
   "source": [
    "# merge isolate annotation dataframes\n",
    "INDEL_isolate_annotation_DF = INDEL_isolate_annotation_DF.append(isolate_annotation_DF_extra_strains)\n",
    "INDEL_isolate_annotation_DF.reset_index(inplace = True, drop = True)"
   ]
  },
  {
   "cell_type": "code",
   "execution_count": 17,
   "metadata": {},
   "outputs": [
    {
     "data": {
      "text/plain": [
       "(31440, 2)"
      ]
     },
     "execution_count": 17,
     "metadata": {},
     "output_type": "execute_result"
    }
   ],
   "source": [
    "np.shape(INDEL_isolate_annotation_DF)"
   ]
  },
  {
   "cell_type": "code",
   "execution_count": 18,
   "metadata": {},
   "outputs": [],
   "source": [
    "# merge genotypes matrices\n",
    "INDEL_genotypes_array = np.hstack((INDEL_genotypes_array, genotypes_array_extra_strains))"
   ]
  },
  {
   "cell_type": "code",
   "execution_count": 19,
   "metadata": {},
   "outputs": [
    {
     "data": {
      "text/plain": [
       "(50260, 31440)"
      ]
     },
     "execution_count": 19,
     "metadata": {},
     "output_type": "execute_result"
    }
   ],
   "source": [
    "np.shape(INDEL_genotypes_array)"
   ]
  },
  {
   "cell_type": "markdown",
   "metadata": {},
   "source": [
    "## [1.2] Subset to targeted chomosomal region"
   ]
  },
  {
   "cell_type": "code",
   "execution_count": 20,
   "metadata": {},
   "outputs": [],
   "source": [
    "# keep only indels that occur within chromosomal region\n",
    "indels_in_targeted_region = list(INDEL_annotation_DF[(INDEL_annotation_DF.pos >= H37Rv_region_start) & (INDEL_annotation_DF.pos <= H37Rv_region_end)].key)\n",
    "\n",
    "# construct boolean filter\n",
    "indels_to_keep_filter = [indel_i in indels_in_targeted_region for indel_i in INDEL_annotation_DF.key]\n",
    "\n",
    "# filter Genotypes Matrix\n",
    "INDEL_genotypes_array = INDEL_genotypes_array[indels_to_keep_filter , :]\n",
    "\n",
    "# filter INDEL annotation file\n",
    "INDEL_annotation_DF = INDEL_annotation_DF[indels_to_keep_filter]\n",
    "INDEL_annotation_DF.reset_index(drop = True , inplace = True) #re-index new filtered INDEL annotation DF (so new index matches indexing of genotypes matrix rows)"
   ]
  },
  {
   "cell_type": "code",
   "execution_count": 21,
   "metadata": {
    "scrolled": true
   },
   "outputs": [
    {
     "data": {
      "text/html": [
       "<div>\n",
       "<style>\n",
       "    .dataframe thead tr:only-child th {\n",
       "        text-align: right;\n",
       "    }\n",
       "\n",
       "    .dataframe thead th {\n",
       "        text-align: left;\n",
       "    }\n",
       "\n",
       "    .dataframe tbody tr th {\n",
       "        vertical-align: top;\n",
       "    }\n",
       "</style>\n",
       "<table border=\"1\" class=\"dataframe\">\n",
       "  <thead>\n",
       "    <tr style=\"text-align: right;\">\n",
       "      <th></th>\n",
       "      <th>key</th>\n",
       "      <th>pos</th>\n",
       "      <th>ref</th>\n",
       "      <th>alt</th>\n",
       "      <th>gene_category</th>\n",
       "      <th>gene_name</th>\n",
       "      <th>gene_id</th>\n",
       "      <th>gene_pos</th>\n",
       "      <th>ins_del</th>\n",
       "      <th>INDEL_type</th>\n",
       "      <th>codon_pos</th>\n",
       "    </tr>\n",
       "  </thead>\n",
       "  <tbody>\n",
       "    <tr>\n",
       "      <th>0</th>\n",
       "      <td>A_2714157_ACTG</td>\n",
       "      <td>2714157</td>\n",
       "      <td>A</td>\n",
       "      <td>ACTG</td>\n",
       "      <td>Non-Essential</td>\n",
       "      <td>eis</td>\n",
       "      <td>Rv2416c</td>\n",
       "      <td>1176</td>\n",
       "      <td>ins</td>\n",
       "      <td>inframe</td>\n",
       "      <td>392</td>\n",
       "    </tr>\n",
       "    <tr>\n",
       "      <th>1</th>\n",
       "      <td>T_2714272_TC</td>\n",
       "      <td>2714272</td>\n",
       "      <td>T</td>\n",
       "      <td>TC</td>\n",
       "      <td>Non-Essential</td>\n",
       "      <td>eis</td>\n",
       "      <td>Rv2416c</td>\n",
       "      <td>1061</td>\n",
       "      <td>ins</td>\n",
       "      <td>frameshift</td>\n",
       "      <td>354</td>\n",
       "    </tr>\n",
       "    <tr>\n",
       "      <th>2</th>\n",
       "      <td>C_2714303_CG</td>\n",
       "      <td>2714303</td>\n",
       "      <td>C</td>\n",
       "      <td>CG</td>\n",
       "      <td>Non-Essential</td>\n",
       "      <td>eis</td>\n",
       "      <td>Rv2416c</td>\n",
       "      <td>1030</td>\n",
       "      <td>ins</td>\n",
       "      <td>frameshift</td>\n",
       "      <td>344</td>\n",
       "    </tr>\n",
       "    <tr>\n",
       "      <th>3</th>\n",
       "      <td>G_2714334_GA</td>\n",
       "      <td>2714334</td>\n",
       "      <td>G</td>\n",
       "      <td>GA</td>\n",
       "      <td>Non-Essential</td>\n",
       "      <td>eis</td>\n",
       "      <td>Rv2416c</td>\n",
       "      <td>999</td>\n",
       "      <td>ins</td>\n",
       "      <td>frameshift</td>\n",
       "      <td>333</td>\n",
       "    </tr>\n",
       "    <tr>\n",
       "      <th>4</th>\n",
       "      <td>ACTCG_2714384_A</td>\n",
       "      <td>2714384</td>\n",
       "      <td>ACTCG</td>\n",
       "      <td>A</td>\n",
       "      <td>Non-Essential</td>\n",
       "      <td>eis</td>\n",
       "      <td>Rv2416c</td>\n",
       "      <td>949</td>\n",
       "      <td>del</td>\n",
       "      <td>frameshift</td>\n",
       "      <td>317</td>\n",
       "    </tr>\n",
       "  </tbody>\n",
       "</table>\n",
       "</div>"
      ],
      "text/plain": [
       "               key      pos    ref   alt  gene_category gene_name  gene_id  \\\n",
       "0   A_2714157_ACTG  2714157      A  ACTG  Non-Essential       eis  Rv2416c   \n",
       "1     T_2714272_TC  2714272      T    TC  Non-Essential       eis  Rv2416c   \n",
       "2     C_2714303_CG  2714303      C    CG  Non-Essential       eis  Rv2416c   \n",
       "3     G_2714334_GA  2714334      G    GA  Non-Essential       eis  Rv2416c   \n",
       "4  ACTCG_2714384_A  2714384  ACTCG     A  Non-Essential       eis  Rv2416c   \n",
       "\n",
       "  gene_pos ins_del  INDEL_type codon_pos  \n",
       "0     1176     ins     inframe       392  \n",
       "1     1061     ins  frameshift       354  \n",
       "2     1030     ins  frameshift       344  \n",
       "3      999     ins  frameshift       333  \n",
       "4      949     del  frameshift       317  "
      ]
     },
     "execution_count": 21,
     "metadata": {},
     "output_type": "execute_result"
    }
   ],
   "source": [
    "INDEL_annotation_DF.head()"
   ]
  },
  {
   "cell_type": "code",
   "execution_count": 22,
   "metadata": {},
   "outputs": [
    {
     "data": {
      "text/plain": [
       "(28, 11)"
      ]
     },
     "execution_count": 22,
     "metadata": {},
     "output_type": "execute_result"
    }
   ],
   "source": [
    "np.shape(INDEL_annotation_DF)"
   ]
  },
  {
   "cell_type": "code",
   "execution_count": 23,
   "metadata": {},
   "outputs": [
    {
     "data": {
      "text/plain": [
       "array([[0, 0, 0, ..., 0, 0, 0],\n",
       "       [0, 0, 0, ..., 0, 0, 0],\n",
       "       [0, 0, 0, ..., 0, 0, 0],\n",
       "       ...,\n",
       "       [0, 0, 0, ..., 0, 0, 0],\n",
       "       [0, 0, 0, ..., 0, 0, 0],\n",
       "       [0, 0, 0, ..., 0, 0, 0]], dtype=int8)"
      ]
     },
     "execution_count": 23,
     "metadata": {},
     "output_type": "execute_result"
    }
   ],
   "source": [
    "INDEL_genotypes_array"
   ]
  },
  {
   "cell_type": "code",
   "execution_count": 24,
   "metadata": {},
   "outputs": [
    {
     "data": {
      "text/plain": [
       "(28, 31440)"
      ]
     },
     "execution_count": 24,
     "metadata": {},
     "output_type": "execute_result"
    }
   ],
   "source": [
    "np.shape(INDEL_genotypes_array)"
   ]
  },
  {
   "cell_type": "markdown",
   "metadata": {},
   "source": [
    "# [2] SNPs"
   ]
  },
  {
   "cell_type": "markdown",
   "metadata": {},
   "source": [
    "### 31,428 isolates"
   ]
  },
  {
   "cell_type": "markdown",
   "metadata": {},
   "source": [
    "## [2.1] Load SNP genotype matrix and Annotation Files"
   ]
  },
  {
   "cell_type": "code",
   "execution_count": 25,
   "metadata": {},
   "outputs": [],
   "source": [
    "#load isolate annotation file (columns of Genotype Matrix)\n",
    "SNP_isolate_annotation_DF = pd.read_pickle('/n/data1/hms/dbmi/farhat/Roger/homoplasy_project/rolling_DB_scrape/Genotypes_Filtered_2/genotypes_isolate_annotation.pkl')\n",
    "SNP_isolate_annotation_DF = SNP_isolate_annotation_DF.loc[:, ['isolate_ID','lineage_call']] #drop columns\n",
    "SNP_isolate_annotation_DF = convert_lineage_calls(SNP_isolate_annotation_DF)\n",
    "\n",
    "#load INDEL annotation file (rows of Genotype Matrix) with gene annotation information\n",
    "SNP_annotation_DF = pd.read_pickle('/n/data1/hms/dbmi/farhat/Roger/homoplasy_project/rolling_DB_scrape/Genotypes_Filtered_2/genotypes_SNP_annotation.pkl')\n",
    "SNP_annotation_DF = SNP_annotation_DF.loc[:, ['pos','ref','alt']] # drop columns\n",
    "SNP_annotation_DF.reset_index(inplace = True, drop = False)\n",
    "\n",
    "#load Genotypes Matrix\n",
    "SNP_genotypes_array =  np.load('/n/data1/hms/dbmi/farhat/Roger/homoplasy_project/rolling_DB_scrape/Genotypes_Filtered_2/genotypes_matrix.npy')"
   ]
  },
  {
   "cell_type": "code",
   "execution_count": 26,
   "metadata": {},
   "outputs": [
    {
     "data": {
      "text/html": [
       "<div>\n",
       "<style>\n",
       "    .dataframe thead tr:only-child th {\n",
       "        text-align: right;\n",
       "    }\n",
       "\n",
       "    .dataframe thead th {\n",
       "        text-align: left;\n",
       "    }\n",
       "\n",
       "    .dataframe tbody tr th {\n",
       "        vertical-align: top;\n",
       "    }\n",
       "</style>\n",
       "<table border=\"1\" class=\"dataframe\">\n",
       "  <thead>\n",
       "    <tr style=\"text-align: right;\">\n",
       "      <th></th>\n",
       "      <th>isolate_ID</th>\n",
       "      <th>lineage_call</th>\n",
       "    </tr>\n",
       "  </thead>\n",
       "  <tbody>\n",
       "    <tr>\n",
       "      <th>0</th>\n",
       "      <td>SAMEA3558733</td>\n",
       "      <td>4.3.i4.2</td>\n",
       "    </tr>\n",
       "    <tr>\n",
       "      <th>1</th>\n",
       "      <td>SAMN03648641</td>\n",
       "      <td>4.4.1.1</td>\n",
       "    </tr>\n",
       "    <tr>\n",
       "      <th>2</th>\n",
       "      <td>SAMN03647419</td>\n",
       "      <td>3.1.1.i1</td>\n",
       "    </tr>\n",
       "    <tr>\n",
       "      <th>3</th>\n",
       "      <td>SAMEA3671418</td>\n",
       "      <td>4.3.i2</td>\n",
       "    </tr>\n",
       "    <tr>\n",
       "      <th>4</th>\n",
       "      <td>SAMN07659096</td>\n",
       "      <td>1.1.3</td>\n",
       "    </tr>\n",
       "  </tbody>\n",
       "</table>\n",
       "</div>"
      ],
      "text/plain": [
       "     isolate_ID lineage_call\n",
       "0  SAMEA3558733     4.3.i4.2\n",
       "1  SAMN03648641      4.4.1.1\n",
       "2  SAMN03647419     3.1.1.i1\n",
       "3  SAMEA3671418       4.3.i2\n",
       "4  SAMN07659096        1.1.3"
      ]
     },
     "execution_count": 26,
     "metadata": {},
     "output_type": "execute_result"
    }
   ],
   "source": [
    "SNP_isolate_annotation_DF.head()"
   ]
  },
  {
   "cell_type": "code",
   "execution_count": 27,
   "metadata": {},
   "outputs": [
    {
     "data": {
      "text/plain": [
       "(31428, 2)"
      ]
     },
     "execution_count": 27,
     "metadata": {},
     "output_type": "execute_result"
    }
   ],
   "source": [
    "np.shape(SNP_isolate_annotation_DF)"
   ]
  },
  {
   "cell_type": "code",
   "execution_count": 28,
   "metadata": {
    "scrolled": true
   },
   "outputs": [
    {
     "data": {
      "text/html": [
       "<div>\n",
       "<style>\n",
       "    .dataframe thead tr:only-child th {\n",
       "        text-align: right;\n",
       "    }\n",
       "\n",
       "    .dataframe thead th {\n",
       "        text-align: left;\n",
       "    }\n",
       "\n",
       "    .dataframe tbody tr th {\n",
       "        vertical-align: top;\n",
       "    }\n",
       "</style>\n",
       "<table border=\"1\" class=\"dataframe\">\n",
       "  <thead>\n",
       "    <tr style=\"text-align: right;\">\n",
       "      <th></th>\n",
       "      <th>index</th>\n",
       "      <th>pos</th>\n",
       "      <th>ref</th>\n",
       "      <th>alt</th>\n",
       "    </tr>\n",
       "  </thead>\n",
       "  <tbody>\n",
       "    <tr>\n",
       "      <th>0</th>\n",
       "      <td>0</td>\n",
       "      <td>48</td>\n",
       "      <td>C</td>\n",
       "      <td>[T]</td>\n",
       "    </tr>\n",
       "    <tr>\n",
       "      <th>1</th>\n",
       "      <td>1</td>\n",
       "      <td>64</td>\n",
       "      <td>G</td>\n",
       "      <td>[C]</td>\n",
       "    </tr>\n",
       "    <tr>\n",
       "      <th>2</th>\n",
       "      <td>2</td>\n",
       "      <td>67</td>\n",
       "      <td>G</td>\n",
       "      <td>[A, T]</td>\n",
       "    </tr>\n",
       "    <tr>\n",
       "      <th>3</th>\n",
       "      <td>3</td>\n",
       "      <td>69</td>\n",
       "      <td>C</td>\n",
       "      <td>[T]</td>\n",
       "    </tr>\n",
       "    <tr>\n",
       "      <th>4</th>\n",
       "      <td>4</td>\n",
       "      <td>71</td>\n",
       "      <td>C</td>\n",
       "      <td>[T]</td>\n",
       "    </tr>\n",
       "  </tbody>\n",
       "</table>\n",
       "</div>"
      ],
      "text/plain": [
       "   index  pos ref     alt\n",
       "0      0   48   C     [T]\n",
       "1      1   64   G     [C]\n",
       "2      2   67   G  [A, T]\n",
       "3      3   69   C     [T]\n",
       "4      4   71   C     [T]"
      ]
     },
     "execution_count": 28,
     "metadata": {},
     "output_type": "execute_result"
    }
   ],
   "source": [
    "SNP_annotation_DF.head()"
   ]
  },
  {
   "cell_type": "code",
   "execution_count": 29,
   "metadata": {},
   "outputs": [
    {
     "data": {
      "text/plain": [
       "(782565, 4)"
      ]
     },
     "execution_count": 29,
     "metadata": {},
     "output_type": "execute_result"
    }
   ],
   "source": [
    "np.shape(SNP_annotation_DF)"
   ]
  },
  {
   "cell_type": "code",
   "execution_count": 30,
   "metadata": {},
   "outputs": [
    {
     "data": {
      "text/plain": [
       "array([[1, 1, 1, ..., 1, 1, 1],\n",
       "       [2, 2, 2, ..., 2, 2, 2],\n",
       "       [2, 2, 2, ..., 2, 2, 2],\n",
       "       ...,\n",
       "       [1, 9, 9, ..., 1, 1, 1],\n",
       "       [1, 9, 1, ..., 1, 1, 1],\n",
       "       [1, 9, 1, ..., 1, 1, 1]], dtype=int8)"
      ]
     },
     "execution_count": 30,
     "metadata": {},
     "output_type": "execute_result"
    }
   ],
   "source": [
    "SNP_genotypes_array"
   ]
  },
  {
   "cell_type": "code",
   "execution_count": 31,
   "metadata": {},
   "outputs": [
    {
     "data": {
      "text/plain": [
       "(782565, 31428)"
      ]
     },
     "execution_count": 31,
     "metadata": {},
     "output_type": "execute_result"
    }
   ],
   "source": [
    "np.shape(SNP_genotypes_array)"
   ]
  },
  {
   "cell_type": "markdown",
   "metadata": {},
   "source": [
    "### additional 12 eis C-14T mutants with AG MICs"
   ]
  },
  {
   "cell_type": "code",
   "execution_count": 32,
   "metadata": {},
   "outputs": [],
   "source": [
    "#load isolate annotation file (columns of Genotype Matrix)\n",
    "isolate_annotation_DF_extra_strains = pd.read_pickle('/n/data1/hms/dbmi/farhat/Roger/mmpR_BDQ_mutant_project/eis_promoter_mutant_strains_from_Milan/Genotypes/Genotypes_Filtered/genotypes_isolate_annotation.pkl')\n",
    "isolate_annotation_DF_extra_strains = isolate_annotation_DF_extra_strains.loc[:, ['isolate_ID','lineage_call']]\n",
    "isolate_annotation_DF_extra_strains = convert_lineage_calls(isolate_annotation_DF_extra_strains)\n",
    "\n",
    "#load Genotypes Matrix\n",
    "genotypes_array_extra_strains =  np.load('/n/data1/hms/dbmi/farhat/Roger/mmpR_BDQ_mutant_project/eis_promoter_mutant_strains_from_Milan/Genotypes/Genotypes_Filtered/genotypes_matrix.npy')"
   ]
  },
  {
   "cell_type": "code",
   "execution_count": 33,
   "metadata": {},
   "outputs": [
    {
     "data": {
      "text/html": [
       "<div>\n",
       "<style>\n",
       "    .dataframe thead tr:only-child th {\n",
       "        text-align: right;\n",
       "    }\n",
       "\n",
       "    .dataframe thead th {\n",
       "        text-align: left;\n",
       "    }\n",
       "\n",
       "    .dataframe tbody tr th {\n",
       "        vertical-align: top;\n",
       "    }\n",
       "</style>\n",
       "<table border=\"1\" class=\"dataframe\">\n",
       "  <thead>\n",
       "    <tr style=\"text-align: right;\">\n",
       "      <th></th>\n",
       "      <th>isolate_ID</th>\n",
       "      <th>lineage_call</th>\n",
       "    </tr>\n",
       "  </thead>\n",
       "  <tbody>\n",
       "    <tr>\n",
       "      <th>0</th>\n",
       "      <td>168-19</td>\n",
       "      <td>2.2.1.1.1</td>\n",
       "    </tr>\n",
       "    <tr>\n",
       "      <th>1</th>\n",
       "      <td>622-19</td>\n",
       "      <td>2.2.1.1.1.i3</td>\n",
       "    </tr>\n",
       "    <tr>\n",
       "      <th>2</th>\n",
       "      <td>655-19</td>\n",
       "      <td>4.3.i3.1</td>\n",
       "    </tr>\n",
       "    <tr>\n",
       "      <th>3</th>\n",
       "      <td>IT1070</td>\n",
       "      <td>2.2.1.1.1.i3</td>\n",
       "    </tr>\n",
       "    <tr>\n",
       "      <th>4</th>\n",
       "      <td>IT123</td>\n",
       "      <td>2.2.1.1.1</td>\n",
       "    </tr>\n",
       "  </tbody>\n",
       "</table>\n",
       "</div>"
      ],
      "text/plain": [
       "  isolate_ID  lineage_call\n",
       "0     168-19     2.2.1.1.1\n",
       "1     622-19  2.2.1.1.1.i3\n",
       "2     655-19      4.3.i3.1\n",
       "3     IT1070  2.2.1.1.1.i3\n",
       "4      IT123     2.2.1.1.1"
      ]
     },
     "execution_count": 33,
     "metadata": {},
     "output_type": "execute_result"
    }
   ],
   "source": [
    "isolate_annotation_DF_extra_strains.head()"
   ]
  },
  {
   "cell_type": "code",
   "execution_count": 34,
   "metadata": {},
   "outputs": [
    {
     "data": {
      "text/plain": [
       "array([[1, 1, 1, ..., 1, 1, 1],\n",
       "       [2, 2, 2, ..., 2, 2, 2],\n",
       "       [2, 2, 2, ..., 2, 2, 2],\n",
       "       ...,\n",
       "       [1, 1, 1, ..., 1, 1, 1],\n",
       "       [1, 1, 1, ..., 1, 1, 1],\n",
       "       [1, 1, 1, ..., 1, 1, 1]], dtype=int8)"
      ]
     },
     "execution_count": 34,
     "metadata": {},
     "output_type": "execute_result"
    }
   ],
   "source": [
    "genotypes_array_extra_strains"
   ]
  },
  {
   "cell_type": "code",
   "execution_count": 35,
   "metadata": {},
   "outputs": [
    {
     "data": {
      "text/plain": [
       "(782565, 12)"
      ]
     },
     "execution_count": 35,
     "metadata": {},
     "output_type": "execute_result"
    }
   ],
   "source": [
    "np.shape(genotypes_array_extra_strains)"
   ]
  },
  {
   "cell_type": "markdown",
   "metadata": {},
   "source": [
    "### Merge *isolate annotation files* and *genotypes matrices* together"
   ]
  },
  {
   "cell_type": "code",
   "execution_count": 36,
   "metadata": {},
   "outputs": [],
   "source": [
    "# merge isolate annotation dataframes\n",
    "SNP_isolate_annotation_DF = SNP_isolate_annotation_DF.append(isolate_annotation_DF_extra_strains)\n",
    "SNP_isolate_annotation_DF.reset_index(inplace = True, drop = True)"
   ]
  },
  {
   "cell_type": "code",
   "execution_count": 37,
   "metadata": {},
   "outputs": [
    {
     "data": {
      "text/plain": [
       "(31440, 2)"
      ]
     },
     "execution_count": 37,
     "metadata": {},
     "output_type": "execute_result"
    }
   ],
   "source": [
    "np.shape(SNP_isolate_annotation_DF)"
   ]
  },
  {
   "cell_type": "code",
   "execution_count": 38,
   "metadata": {},
   "outputs": [],
   "source": [
    "# merge genotypes matrices\n",
    "SNP_genotypes_array = np.hstack((SNP_genotypes_array, genotypes_array_extra_strains))"
   ]
  },
  {
   "cell_type": "code",
   "execution_count": 39,
   "metadata": {},
   "outputs": [
    {
     "data": {
      "text/plain": [
       "(782565, 31440)"
      ]
     },
     "execution_count": 39,
     "metadata": {},
     "output_type": "execute_result"
    }
   ],
   "source": [
    "np.shape(SNP_genotypes_array)"
   ]
  },
  {
   "cell_type": "markdown",
   "metadata": {},
   "source": [
    "## [2.2] Subset to targeted chomosomal region"
   ]
  },
  {
   "cell_type": "code",
   "execution_count": 40,
   "metadata": {},
   "outputs": [],
   "source": [
    "# keep only SNPs that occur within chromosomal region\n",
    "SNPs_in_targeted_region = list(SNP_annotation_DF[(SNP_annotation_DF.pos >= H37Rv_region_start) & (SNP_annotation_DF.pos <= H37Rv_region_end)].pos)\n",
    "\n",
    "# construct boolean filter\n",
    "SNPs_to_keep_filter = [SNP_i in SNPs_in_targeted_region for SNP_i in SNP_annotation_DF.pos]\n",
    "\n",
    "# filter Genotypes Matrix\n",
    "SNP_genotypes_array = SNP_genotypes_array[SNPs_to_keep_filter , :]\n",
    "\n",
    "# filter SNP annotation file\n",
    "SNP_annotation_DF = SNP_annotation_DF[SNPs_to_keep_filter]\n",
    "SNP_annotation_DF.reset_index(drop = True , inplace = True) #re-index new filtered SNP annotation DF (so new index matches indexing of genotypes matrix rows)\n",
    "SNP_annotation_DF.loc[:,'array_index'] = SNP_annotation_DF.index"
   ]
  },
  {
   "cell_type": "code",
   "execution_count": 41,
   "metadata": {},
   "outputs": [
    {
     "data": {
      "text/html": [
       "<div>\n",
       "<style>\n",
       "    .dataframe thead tr:only-child th {\n",
       "        text-align: right;\n",
       "    }\n",
       "\n",
       "    .dataframe thead th {\n",
       "        text-align: left;\n",
       "    }\n",
       "\n",
       "    .dataframe tbody tr th {\n",
       "        vertical-align: top;\n",
       "    }\n",
       "</style>\n",
       "<table border=\"1\" class=\"dataframe\">\n",
       "  <thead>\n",
       "    <tr style=\"text-align: right;\">\n",
       "      <th></th>\n",
       "      <th>index</th>\n",
       "      <th>pos</th>\n",
       "      <th>ref</th>\n",
       "      <th>alt</th>\n",
       "      <th>array_index</th>\n",
       "    </tr>\n",
       "  </thead>\n",
       "  <tbody>\n",
       "    <tr>\n",
       "      <th>0</th>\n",
       "      <td>489761</td>\n",
       "      <td>2714130</td>\n",
       "      <td>C</td>\n",
       "      <td>[G]</td>\n",
       "      <td>0</td>\n",
       "    </tr>\n",
       "    <tr>\n",
       "      <th>1</th>\n",
       "      <td>489762</td>\n",
       "      <td>2714139</td>\n",
       "      <td>G</td>\n",
       "      <td>[A]</td>\n",
       "      <td>1</td>\n",
       "    </tr>\n",
       "    <tr>\n",
       "      <th>2</th>\n",
       "      <td>489763</td>\n",
       "      <td>2714140</td>\n",
       "      <td>G</td>\n",
       "      <td>[T]</td>\n",
       "      <td>2</td>\n",
       "    </tr>\n",
       "    <tr>\n",
       "      <th>3</th>\n",
       "      <td>489764</td>\n",
       "      <td>2714145</td>\n",
       "      <td>G</td>\n",
       "      <td>[A]</td>\n",
       "      <td>3</td>\n",
       "    </tr>\n",
       "    <tr>\n",
       "      <th>4</th>\n",
       "      <td>489765</td>\n",
       "      <td>2714147</td>\n",
       "      <td>C</td>\n",
       "      <td>[A]</td>\n",
       "      <td>4</td>\n",
       "    </tr>\n",
       "  </tbody>\n",
       "</table>\n",
       "</div>"
      ],
      "text/plain": [
       "    index      pos ref  alt  array_index\n",
       "0  489761  2714130   C  [G]            0\n",
       "1  489762  2714139   G  [A]            1\n",
       "2  489763  2714140   G  [T]            2\n",
       "3  489764  2714145   G  [A]            3\n",
       "4  489765  2714147   C  [A]            4"
      ]
     },
     "execution_count": 41,
     "metadata": {},
     "output_type": "execute_result"
    }
   ],
   "source": [
    "SNP_annotation_DF.head()"
   ]
  },
  {
   "cell_type": "code",
   "execution_count": 42,
   "metadata": {},
   "outputs": [
    {
     "data": {
      "text/plain": [
       "(266, 5)"
      ]
     },
     "execution_count": 42,
     "metadata": {},
     "output_type": "execute_result"
    }
   ],
   "source": [
    "np.shape(SNP_annotation_DF)"
   ]
  },
  {
   "cell_type": "markdown",
   "metadata": {},
   "source": [
    "#### Re-format SNP annotation DataFrame so that each alternate allele is its own row"
   ]
  },
  {
   "cell_type": "code",
   "execution_count": 43,
   "metadata": {},
   "outputs": [],
   "source": [
    "SNP_annotation_DF_mod = pd.DataFrame(columns = SNP_annotation_DF.columns)\n",
    "new_SNP_index = 0\n",
    "for SNP_i_row in SNP_annotation_DF.index:\n",
    "    \n",
    "    SNP_i_info = SNP_annotation_DF.loc[SNP_i_row, :]\n",
    "    \n",
    "    #iterate through alternate alleles, store a row for each one\n",
    "    for SNP_i_alt_allele in SNP_i_info.alt:\n",
    "        \n",
    "        SNP_annotation_DF_mod.loc[new_SNP_index, :] = list(SNP_i_info.loc[['index','pos','ref']]) + [SNP_i_alt_allele] + list(SNP_i_info.loc[['array_index']])\n",
    "        new_SNP_index += 1\n",
    "\n",
    "SNP_annotation_DF = SNP_annotation_DF_mod\n",
    "#create new column to merge func annotation on\n",
    "SNP_annotation_DF.loc[:, 'key'] = [str(SNP_i_pos) + '_' + SNP_i_alt for SNP_i_pos, SNP_i_alt in zip(SNP_annotation_DF.pos, SNP_annotation_DF.alt)]"
   ]
  },
  {
   "cell_type": "code",
   "execution_count": 44,
   "metadata": {},
   "outputs": [
    {
     "data": {
      "text/html": [
       "<div>\n",
       "<style>\n",
       "    .dataframe thead tr:only-child th {\n",
       "        text-align: right;\n",
       "    }\n",
       "\n",
       "    .dataframe thead th {\n",
       "        text-align: left;\n",
       "    }\n",
       "\n",
       "    .dataframe tbody tr th {\n",
       "        vertical-align: top;\n",
       "    }\n",
       "</style>\n",
       "<table border=\"1\" class=\"dataframe\">\n",
       "  <thead>\n",
       "    <tr style=\"text-align: right;\">\n",
       "      <th></th>\n",
       "      <th>index</th>\n",
       "      <th>pos</th>\n",
       "      <th>ref</th>\n",
       "      <th>alt</th>\n",
       "      <th>array_index</th>\n",
       "      <th>key</th>\n",
       "    </tr>\n",
       "  </thead>\n",
       "  <tbody>\n",
       "    <tr>\n",
       "      <th>0</th>\n",
       "      <td>489761</td>\n",
       "      <td>2714130</td>\n",
       "      <td>C</td>\n",
       "      <td>G</td>\n",
       "      <td>0</td>\n",
       "      <td>2714130_G</td>\n",
       "    </tr>\n",
       "    <tr>\n",
       "      <th>1</th>\n",
       "      <td>489762</td>\n",
       "      <td>2714139</td>\n",
       "      <td>G</td>\n",
       "      <td>A</td>\n",
       "      <td>1</td>\n",
       "      <td>2714139_A</td>\n",
       "    </tr>\n",
       "    <tr>\n",
       "      <th>2</th>\n",
       "      <td>489763</td>\n",
       "      <td>2714140</td>\n",
       "      <td>G</td>\n",
       "      <td>T</td>\n",
       "      <td>2</td>\n",
       "      <td>2714140_T</td>\n",
       "    </tr>\n",
       "    <tr>\n",
       "      <th>3</th>\n",
       "      <td>489764</td>\n",
       "      <td>2714145</td>\n",
       "      <td>G</td>\n",
       "      <td>A</td>\n",
       "      <td>3</td>\n",
       "      <td>2714145_A</td>\n",
       "    </tr>\n",
       "    <tr>\n",
       "      <th>4</th>\n",
       "      <td>489765</td>\n",
       "      <td>2714147</td>\n",
       "      <td>C</td>\n",
       "      <td>A</td>\n",
       "      <td>4</td>\n",
       "      <td>2714147_A</td>\n",
       "    </tr>\n",
       "  </tbody>\n",
       "</table>\n",
       "</div>"
      ],
      "text/plain": [
       "    index      pos ref alt array_index        key\n",
       "0  489761  2714130   C   G           0  2714130_G\n",
       "1  489762  2714139   G   A           1  2714139_A\n",
       "2  489763  2714140   G   T           2  2714140_T\n",
       "3  489764  2714145   G   A           3  2714145_A\n",
       "4  489765  2714147   C   A           4  2714147_A"
      ]
     },
     "execution_count": 44,
     "metadata": {},
     "output_type": "execute_result"
    }
   ],
   "source": [
    "SNP_annotation_DF.head()"
   ]
  },
  {
   "cell_type": "code",
   "execution_count": 45,
   "metadata": {},
   "outputs": [
    {
     "data": {
      "text/plain": [
       "(284, 6)"
      ]
     },
     "execution_count": 45,
     "metadata": {},
     "output_type": "execute_result"
    }
   ],
   "source": [
    "np.shape(SNP_annotation_DF)"
   ]
  },
  {
   "cell_type": "markdown",
   "metadata": {},
   "source": [
    "#### Merge functional annotation data"
   ]
  },
  {
   "cell_type": "code",
   "execution_count": 46,
   "metadata": {},
   "outputs": [],
   "source": [
    "SNP_func_annotation_DF = pd.read_pickle('/n/data1/hms/dbmi/farhat/Roger/homoplasy_project/rolling_DB_scrape/Genotypes_Filtered_2/genotypes_SNP_functional_annotation.pkl')\n",
    "SNP_func_annotation_DF.loc[:, 'key'] = SNP_func_annotation_DF.index"
   ]
  },
  {
   "cell_type": "code",
   "execution_count": 47,
   "metadata": {},
   "outputs": [
    {
     "data": {
      "text/html": [
       "<div>\n",
       "<style>\n",
       "    .dataframe thead tr:only-child th {\n",
       "        text-align: right;\n",
       "    }\n",
       "\n",
       "    .dataframe thead th {\n",
       "        text-align: left;\n",
       "    }\n",
       "\n",
       "    .dataframe tbody tr th {\n",
       "        vertical-align: top;\n",
       "    }\n",
       "</style>\n",
       "<table border=\"1\" class=\"dataframe\">\n",
       "  <thead>\n",
       "    <tr style=\"text-align: right;\">\n",
       "      <th></th>\n",
       "      <th>pos</th>\n",
       "      <th>ref</th>\n",
       "      <th>alt</th>\n",
       "      <th>gene_category</th>\n",
       "      <th>gene_name</th>\n",
       "      <th>gene_id</th>\n",
       "      <th>gene_pos</th>\n",
       "      <th>SNP_type</th>\n",
       "      <th>AA_change</th>\n",
       "      <th>key</th>\n",
       "    </tr>\n",
       "  </thead>\n",
       "  <tbody>\n",
       "    <tr>\n",
       "      <th>48_T</th>\n",
       "      <td>48</td>\n",
       "      <td>C</td>\n",
       "      <td>T</td>\n",
       "      <td>Essential</td>\n",
       "      <td>dnaA</td>\n",
       "      <td>Rv0001</td>\n",
       "      <td>48</td>\n",
       "      <td>S</td>\n",
       "      <td>V16V</td>\n",
       "      <td>48_T</td>\n",
       "    </tr>\n",
       "    <tr>\n",
       "      <th>64_C</th>\n",
       "      <td>64</td>\n",
       "      <td>G</td>\n",
       "      <td>C</td>\n",
       "      <td>Essential</td>\n",
       "      <td>dnaA</td>\n",
       "      <td>Rv0001</td>\n",
       "      <td>64</td>\n",
       "      <td>N</td>\n",
       "      <td>G22R</td>\n",
       "      <td>64_C</td>\n",
       "    </tr>\n",
       "    <tr>\n",
       "      <th>67_A</th>\n",
       "      <td>67</td>\n",
       "      <td>G</td>\n",
       "      <td>A</td>\n",
       "      <td>Essential</td>\n",
       "      <td>dnaA</td>\n",
       "      <td>Rv0001</td>\n",
       "      <td>67</td>\n",
       "      <td>N</td>\n",
       "      <td>D23N</td>\n",
       "      <td>67_A</td>\n",
       "    </tr>\n",
       "    <tr>\n",
       "      <th>67_T</th>\n",
       "      <td>67</td>\n",
       "      <td>G</td>\n",
       "      <td>T</td>\n",
       "      <td>Essential</td>\n",
       "      <td>dnaA</td>\n",
       "      <td>Rv0001</td>\n",
       "      <td>67</td>\n",
       "      <td>N</td>\n",
       "      <td>D23Y</td>\n",
       "      <td>67_T</td>\n",
       "    </tr>\n",
       "    <tr>\n",
       "      <th>69_T</th>\n",
       "      <td>69</td>\n",
       "      <td>C</td>\n",
       "      <td>T</td>\n",
       "      <td>Essential</td>\n",
       "      <td>dnaA</td>\n",
       "      <td>Rv0001</td>\n",
       "      <td>69</td>\n",
       "      <td>S</td>\n",
       "      <td>D23D</td>\n",
       "      <td>69_T</td>\n",
       "    </tr>\n",
       "  </tbody>\n",
       "</table>\n",
       "</div>"
      ],
      "text/plain": [
       "      pos ref alt gene_category gene_name gene_id gene_pos SNP_type AA_change  \\\n",
       "48_T   48   C   T     Essential      dnaA  Rv0001       48        S      V16V   \n",
       "64_C   64   G   C     Essential      dnaA  Rv0001       64        N      G22R   \n",
       "67_A   67   G   A     Essential      dnaA  Rv0001       67        N      D23N   \n",
       "67_T   67   G   T     Essential      dnaA  Rv0001       67        N      D23Y   \n",
       "69_T   69   C   T     Essential      dnaA  Rv0001       69        S      D23D   \n",
       "\n",
       "       key  \n",
       "48_T  48_T  \n",
       "64_C  64_C  \n",
       "67_A  67_A  \n",
       "67_T  67_T  \n",
       "69_T  69_T  "
      ]
     },
     "execution_count": 47,
     "metadata": {},
     "output_type": "execute_result"
    }
   ],
   "source": [
    "SNP_func_annotation_DF.head()"
   ]
  },
  {
   "cell_type": "code",
   "execution_count": 48,
   "metadata": {},
   "outputs": [],
   "source": [
    "SNP_annotation_DF = SNP_annotation_DF.merge(SNP_func_annotation_DF.loc[: , ['gene_category','gene_name','gene_id','gene_pos','SNP_type','AA_change','key']], how = 'left', on = 'key')\n",
    "SNP_annotation_DF = SNP_annotation_DF.loc[:, ['key','pos','ref','alt','gene_category','gene_name','gene_id','gene_pos','SNP_type','AA_change','array_index']] #re-arrange columns\n",
    "SNP_annotation_DF.rename(columns={'SNP_type':'mut_type', 'AA_change':'codon_pos'}, inplace = True) #change column names"
   ]
  },
  {
   "cell_type": "code",
   "execution_count": 49,
   "metadata": {},
   "outputs": [
    {
     "data": {
      "text/html": [
       "<div>\n",
       "<style>\n",
       "    .dataframe thead tr:only-child th {\n",
       "        text-align: right;\n",
       "    }\n",
       "\n",
       "    .dataframe thead th {\n",
       "        text-align: left;\n",
       "    }\n",
       "\n",
       "    .dataframe tbody tr th {\n",
       "        vertical-align: top;\n",
       "    }\n",
       "</style>\n",
       "<table border=\"1\" class=\"dataframe\">\n",
       "  <thead>\n",
       "    <tr style=\"text-align: right;\">\n",
       "      <th></th>\n",
       "      <th>key</th>\n",
       "      <th>pos</th>\n",
       "      <th>ref</th>\n",
       "      <th>alt</th>\n",
       "      <th>gene_category</th>\n",
       "      <th>gene_name</th>\n",
       "      <th>gene_id</th>\n",
       "      <th>gene_pos</th>\n",
       "      <th>mut_type</th>\n",
       "      <th>codon_pos</th>\n",
       "      <th>array_index</th>\n",
       "    </tr>\n",
       "  </thead>\n",
       "  <tbody>\n",
       "    <tr>\n",
       "      <th>0</th>\n",
       "      <td>2714130_G</td>\n",
       "      <td>2714130</td>\n",
       "      <td>C</td>\n",
       "      <td>G</td>\n",
       "      <td>Non-Essential</td>\n",
       "      <td>eis</td>\n",
       "      <td>Rv2416c</td>\n",
       "      <td>1203</td>\n",
       "      <td>N</td>\n",
       "      <td>E401D</td>\n",
       "      <td>0</td>\n",
       "    </tr>\n",
       "    <tr>\n",
       "      <th>1</th>\n",
       "      <td>2714139_A</td>\n",
       "      <td>2714139</td>\n",
       "      <td>G</td>\n",
       "      <td>A</td>\n",
       "      <td>Non-Essential</td>\n",
       "      <td>eis</td>\n",
       "      <td>Rv2416c</td>\n",
       "      <td>1194</td>\n",
       "      <td>S</td>\n",
       "      <td>T398T</td>\n",
       "      <td>1</td>\n",
       "    </tr>\n",
       "    <tr>\n",
       "      <th>2</th>\n",
       "      <td>2714140_T</td>\n",
       "      <td>2714140</td>\n",
       "      <td>G</td>\n",
       "      <td>T</td>\n",
       "      <td>Non-Essential</td>\n",
       "      <td>eis</td>\n",
       "      <td>Rv2416c</td>\n",
       "      <td>1193</td>\n",
       "      <td>N</td>\n",
       "      <td>T398N</td>\n",
       "      <td>2</td>\n",
       "    </tr>\n",
       "    <tr>\n",
       "      <th>3</th>\n",
       "      <td>2714145_A</td>\n",
       "      <td>2714145</td>\n",
       "      <td>G</td>\n",
       "      <td>A</td>\n",
       "      <td>Non-Essential</td>\n",
       "      <td>eis</td>\n",
       "      <td>Rv2416c</td>\n",
       "      <td>1188</td>\n",
       "      <td>S</td>\n",
       "      <td>V396V</td>\n",
       "      <td>3</td>\n",
       "    </tr>\n",
       "    <tr>\n",
       "      <th>4</th>\n",
       "      <td>2714147_A</td>\n",
       "      <td>2714147</td>\n",
       "      <td>C</td>\n",
       "      <td>A</td>\n",
       "      <td>Non-Essential</td>\n",
       "      <td>eis</td>\n",
       "      <td>Rv2416c</td>\n",
       "      <td>1186</td>\n",
       "      <td>N</td>\n",
       "      <td>V396F</td>\n",
       "      <td>4</td>\n",
       "    </tr>\n",
       "  </tbody>\n",
       "</table>\n",
       "</div>"
      ],
      "text/plain": [
       "         key      pos ref alt  gene_category gene_name  gene_id gene_pos  \\\n",
       "0  2714130_G  2714130   C   G  Non-Essential       eis  Rv2416c     1203   \n",
       "1  2714139_A  2714139   G   A  Non-Essential       eis  Rv2416c     1194   \n",
       "2  2714140_T  2714140   G   T  Non-Essential       eis  Rv2416c     1193   \n",
       "3  2714145_A  2714145   G   A  Non-Essential       eis  Rv2416c     1188   \n",
       "4  2714147_A  2714147   C   A  Non-Essential       eis  Rv2416c     1186   \n",
       "\n",
       "  mut_type codon_pos array_index  \n",
       "0        N     E401D           0  \n",
       "1        S     T398T           1  \n",
       "2        N     T398N           2  \n",
       "3        S     V396V           3  \n",
       "4        N     V396F           4  "
      ]
     },
     "execution_count": 49,
     "metadata": {},
     "output_type": "execute_result"
    }
   ],
   "source": [
    "SNP_annotation_DF.head()"
   ]
  },
  {
   "cell_type": "code",
   "execution_count": 50,
   "metadata": {},
   "outputs": [
    {
     "data": {
      "text/plain": [
       "(284, 11)"
      ]
     },
     "execution_count": 50,
     "metadata": {},
     "output_type": "execute_result"
    }
   ],
   "source": [
    "np.shape(SNP_annotation_DF)"
   ]
  },
  {
   "cell_type": "code",
   "execution_count": 51,
   "metadata": {},
   "outputs": [
    {
     "data": {
      "text/plain": [
       "array([[1, 1, 1, ..., 1, 1, 1],\n",
       "       [2, 2, 2, ..., 2, 2, 2],\n",
       "       [2, 2, 2, ..., 2, 2, 2],\n",
       "       ...,\n",
       "       [3, 3, 3, ..., 3, 3, 3],\n",
       "       [0, 0, 0, ..., 0, 0, 0],\n",
       "       [0, 0, 0, ..., 0, 0, 0]], dtype=int8)"
      ]
     },
     "execution_count": 51,
     "metadata": {},
     "output_type": "execute_result"
    }
   ],
   "source": [
    "SNP_genotypes_array"
   ]
  },
  {
   "cell_type": "code",
   "execution_count": 52,
   "metadata": {},
   "outputs": [
    {
     "data": {
      "text/plain": [
       "(266, 31440)"
      ]
     },
     "execution_count": 52,
     "metadata": {},
     "output_type": "execute_result"
    }
   ],
   "source": [
    "np.shape(SNP_genotypes_array)"
   ]
  },
  {
   "cell_type": "markdown",
   "metadata": {},
   "source": [
    "# [3] Pull info for isolates with mutant alleles"
   ]
  },
  {
   "cell_type": "markdown",
   "metadata": {},
   "source": [
    "## [3.1] Get genotypes for SNPs of interest"
   ]
  },
  {
   "cell_type": "markdown",
   "metadata": {},
   "source": [
    "### *Function* to get the genotypes for a specifc SNP and get attributes for isolates that support SNP"
   ]
  },
  {
   "cell_type": "code",
   "execution_count": 53,
   "metadata": {},
   "outputs": [],
   "source": [
    "def get_genotypes_for_SNP(SNP_i_pos, SNP_i_alt_allele):\n",
    "    \n",
    "    #get the number code that corresponds to the alt allele, 9 indicated bad quality call\n",
    "    base_code_dict = {'A':0, 'C':1, 'G':2, 'T':3}\n",
    "    SNP_i_alt_allele_code = base_code_dict[SNP_i_alt_allele]\n",
    "    SNP_i_genotypes = SNP_genotypes_array[SNP_annotation_DF[SNP_annotation_DF.pos == SNP_i_pos].array_index.values[0] , :] \n",
    "\n",
    "    #count the number of isolates that support this SNP call\n",
    "    num_isolates_SNP_i = np.sum(SNP_i_genotypes == SNP_i_alt_allele_code)\n",
    "\n",
    "    #create a boolean filter and extract information for the isolates that support this call\n",
    "    SNP_i_isolate_filter = SNP_i_genotypes == SNP_i_alt_allele_code\n",
    "    isolate_annotation_SNP_i = SNP_isolate_annotation_DF[SNP_i_isolate_filter]\n",
    "\n",
    "    #find number of sub-lineages that have SNP support in at least 1 isolate\n",
    "    num_sublineages_with_SNP_i = len(set(list(isolate_annotation_SNP_i.lineage_call.values)))\n",
    "    \n",
    "    #get list of sublineages w/ at least 1 isolates that supports SNP call\n",
    "    sublineages_with_SNP_count_dict = Counter(isolate_annotation_SNP_i.lineage_call.values)\n",
    "    sublineages_with_SNP_list = []\n",
    "    for sublineage_i in sublineages_with_SNP_count_dict.keys():\n",
    "\n",
    "        sublineage_i_with_SNP = sublineage_i + '({0})'.format(str(sublineages_with_SNP_count_dict[sublineage_i]))\n",
    "        sublineages_with_SNP_list.append(sublineage_i_with_SNP)\n",
    "\n",
    "    sublineages_with_SNP = ' - '.join(sublineages_with_SNP_list)\n",
    "\n",
    "    return [num_isolates_SNP_i , num_sublineages_with_SNP_i , sublineages_with_SNP]"
   ]
  },
  {
   "cell_type": "code",
   "execution_count": 54,
   "metadata": {},
   "outputs": [
    {
     "data": {
      "text/html": [
       "<div>\n",
       "<style>\n",
       "    .dataframe thead tr:only-child th {\n",
       "        text-align: right;\n",
       "    }\n",
       "\n",
       "    .dataframe thead th {\n",
       "        text-align: left;\n",
       "    }\n",
       "\n",
       "    .dataframe tbody tr th {\n",
       "        vertical-align: top;\n",
       "    }\n",
       "</style>\n",
       "<table border=\"1\" class=\"dataframe\">\n",
       "  <thead>\n",
       "    <tr style=\"text-align: right;\">\n",
       "      <th></th>\n",
       "      <th>key</th>\n",
       "      <th>pos</th>\n",
       "      <th>ref</th>\n",
       "      <th>alt</th>\n",
       "      <th>gene_category</th>\n",
       "      <th>gene_name</th>\n",
       "      <th>gene_id</th>\n",
       "      <th>gene_pos</th>\n",
       "      <th>mut_type</th>\n",
       "      <th>codon_pos</th>\n",
       "      <th>array_index</th>\n",
       "    </tr>\n",
       "  </thead>\n",
       "  <tbody>\n",
       "    <tr>\n",
       "      <th>0</th>\n",
       "      <td>2714130_G</td>\n",
       "      <td>2714130</td>\n",
       "      <td>C</td>\n",
       "      <td>G</td>\n",
       "      <td>Non-Essential</td>\n",
       "      <td>eis</td>\n",
       "      <td>Rv2416c</td>\n",
       "      <td>1203</td>\n",
       "      <td>N</td>\n",
       "      <td>E401D</td>\n",
       "      <td>0</td>\n",
       "    </tr>\n",
       "    <tr>\n",
       "      <th>1</th>\n",
       "      <td>2714139_A</td>\n",
       "      <td>2714139</td>\n",
       "      <td>G</td>\n",
       "      <td>A</td>\n",
       "      <td>Non-Essential</td>\n",
       "      <td>eis</td>\n",
       "      <td>Rv2416c</td>\n",
       "      <td>1194</td>\n",
       "      <td>S</td>\n",
       "      <td>T398T</td>\n",
       "      <td>1</td>\n",
       "    </tr>\n",
       "    <tr>\n",
       "      <th>2</th>\n",
       "      <td>2714140_T</td>\n",
       "      <td>2714140</td>\n",
       "      <td>G</td>\n",
       "      <td>T</td>\n",
       "      <td>Non-Essential</td>\n",
       "      <td>eis</td>\n",
       "      <td>Rv2416c</td>\n",
       "      <td>1193</td>\n",
       "      <td>N</td>\n",
       "      <td>T398N</td>\n",
       "      <td>2</td>\n",
       "    </tr>\n",
       "    <tr>\n",
       "      <th>3</th>\n",
       "      <td>2714145_A</td>\n",
       "      <td>2714145</td>\n",
       "      <td>G</td>\n",
       "      <td>A</td>\n",
       "      <td>Non-Essential</td>\n",
       "      <td>eis</td>\n",
       "      <td>Rv2416c</td>\n",
       "      <td>1188</td>\n",
       "      <td>S</td>\n",
       "      <td>V396V</td>\n",
       "      <td>3</td>\n",
       "    </tr>\n",
       "    <tr>\n",
       "      <th>4</th>\n",
       "      <td>2714147_A</td>\n",
       "      <td>2714147</td>\n",
       "      <td>C</td>\n",
       "      <td>A</td>\n",
       "      <td>Non-Essential</td>\n",
       "      <td>eis</td>\n",
       "      <td>Rv2416c</td>\n",
       "      <td>1186</td>\n",
       "      <td>N</td>\n",
       "      <td>V396F</td>\n",
       "      <td>4</td>\n",
       "    </tr>\n",
       "  </tbody>\n",
       "</table>\n",
       "</div>"
      ],
      "text/plain": [
       "         key      pos ref alt  gene_category gene_name  gene_id gene_pos  \\\n",
       "0  2714130_G  2714130   C   G  Non-Essential       eis  Rv2416c     1203   \n",
       "1  2714139_A  2714139   G   A  Non-Essential       eis  Rv2416c     1194   \n",
       "2  2714140_T  2714140   G   T  Non-Essential       eis  Rv2416c     1193   \n",
       "3  2714145_A  2714145   G   A  Non-Essential       eis  Rv2416c     1188   \n",
       "4  2714147_A  2714147   C   A  Non-Essential       eis  Rv2416c     1186   \n",
       "\n",
       "  mut_type codon_pos array_index  \n",
       "0        N     E401D           0  \n",
       "1        S     T398T           1  \n",
       "2        N     T398N           2  \n",
       "3        S     V396V           3  \n",
       "4        N     V396F           4  "
      ]
     },
     "execution_count": 54,
     "metadata": {},
     "output_type": "execute_result"
    }
   ],
   "source": [
    "SNP_annotation_DF.head()"
   ]
  },
  {
   "cell_type": "code",
   "execution_count": 55,
   "metadata": {},
   "outputs": [
    {
     "data": {
      "text/plain": [
       "(284, 11)"
      ]
     },
     "execution_count": 55,
     "metadata": {},
     "output_type": "execute_result"
    }
   ],
   "source": [
    "np.shape(SNP_annotation_DF)"
   ]
  },
  {
   "cell_type": "code",
   "execution_count": 56,
   "metadata": {},
   "outputs": [],
   "source": [
    "num_isolates_with_SNP = []\n",
    "num_sublineages_with_SNP = []\n",
    "sublineages_with_SNP = []\n",
    "\n",
    "for SNP_i_pos, SNP_i_alt_allele in zip(SNP_annotation_DF.pos, SNP_annotation_DF.alt):\n",
    "    \n",
    "    num_isolates_with_SNP_i , num_sublineages_with_SNP_i , sublineages_with_SNP_i = get_genotypes_for_SNP(SNP_i_pos, SNP_i_alt_allele)\n",
    "    \n",
    "    num_isolates_with_SNP.append(num_isolates_with_SNP_i)\n",
    "    num_sublineages_with_SNP.append(num_sublineages_with_SNP_i)\n",
    "    sublineages_with_SNP.append(sublineages_with_SNP_i)\n",
    "    \n",
    "SNP_annotation_DF.loc[: , 'num_isolates'] = num_isolates_with_SNP\n",
    "SNP_annotation_DF.loc[: , 'num_sublineages'] = num_sublineages_with_SNP\n",
    "SNP_annotation_DF.loc[: , 'sublineages'] = sublineages_with_SNP\n",
    "\n",
    "#drop SNPs present in 0 isolates\n",
    "SNP_annotation_DF = SNP_annotation_DF[SNP_annotation_DF.num_isolates > 0]\n",
    "SNP_annotation_DF.reset_index(inplace = True, drop = True)"
   ]
  },
  {
   "cell_type": "code",
   "execution_count": 57,
   "metadata": {},
   "outputs": [
    {
     "data": {
      "text/html": [
       "<div>\n",
       "<style>\n",
       "    .dataframe thead tr:only-child th {\n",
       "        text-align: right;\n",
       "    }\n",
       "\n",
       "    .dataframe thead th {\n",
       "        text-align: left;\n",
       "    }\n",
       "\n",
       "    .dataframe tbody tr th {\n",
       "        vertical-align: top;\n",
       "    }\n",
       "</style>\n",
       "<table border=\"1\" class=\"dataframe\">\n",
       "  <thead>\n",
       "    <tr style=\"text-align: right;\">\n",
       "      <th></th>\n",
       "      <th>key</th>\n",
       "      <th>pos</th>\n",
       "      <th>ref</th>\n",
       "      <th>alt</th>\n",
       "      <th>gene_category</th>\n",
       "      <th>gene_name</th>\n",
       "      <th>gene_id</th>\n",
       "      <th>gene_pos</th>\n",
       "      <th>mut_type</th>\n",
       "      <th>codon_pos</th>\n",
       "      <th>array_index</th>\n",
       "      <th>num_isolates</th>\n",
       "      <th>num_sublineages</th>\n",
       "      <th>sublineages</th>\n",
       "    </tr>\n",
       "  </thead>\n",
       "  <tbody>\n",
       "    <tr>\n",
       "      <th>0</th>\n",
       "      <td>2714130_G</td>\n",
       "      <td>2714130</td>\n",
       "      <td>C</td>\n",
       "      <td>G</td>\n",
       "      <td>Non-Essential</td>\n",
       "      <td>eis</td>\n",
       "      <td>Rv2416c</td>\n",
       "      <td>1203</td>\n",
       "      <td>N</td>\n",
       "      <td>E401D</td>\n",
       "      <td>0</td>\n",
       "      <td>27</td>\n",
       "      <td>2</td>\n",
       "      <td>3.1.1(25) - 3.1(2)</td>\n",
       "    </tr>\n",
       "    <tr>\n",
       "      <th>1</th>\n",
       "      <td>2714139_A</td>\n",
       "      <td>2714139</td>\n",
       "      <td>G</td>\n",
       "      <td>A</td>\n",
       "      <td>Non-Essential</td>\n",
       "      <td>eis</td>\n",
       "      <td>Rv2416c</td>\n",
       "      <td>1194</td>\n",
       "      <td>S</td>\n",
       "      <td>T398T</td>\n",
       "      <td>1</td>\n",
       "      <td>1</td>\n",
       "      <td>1</td>\n",
       "      <td>4.1.i1.1.1.1(1)</td>\n",
       "    </tr>\n",
       "    <tr>\n",
       "      <th>2</th>\n",
       "      <td>2714140_T</td>\n",
       "      <td>2714140</td>\n",
       "      <td>G</td>\n",
       "      <td>T</td>\n",
       "      <td>Non-Essential</td>\n",
       "      <td>eis</td>\n",
       "      <td>Rv2416c</td>\n",
       "      <td>1193</td>\n",
       "      <td>N</td>\n",
       "      <td>T398N</td>\n",
       "      <td>2</td>\n",
       "      <td>2</td>\n",
       "      <td>1</td>\n",
       "      <td>1.1.1.1(2)</td>\n",
       "    </tr>\n",
       "    <tr>\n",
       "      <th>3</th>\n",
       "      <td>2714145_A</td>\n",
       "      <td>2714145</td>\n",
       "      <td>G</td>\n",
       "      <td>A</td>\n",
       "      <td>Non-Essential</td>\n",
       "      <td>eis</td>\n",
       "      <td>Rv2416c</td>\n",
       "      <td>1188</td>\n",
       "      <td>S</td>\n",
       "      <td>V396V</td>\n",
       "      <td>3</td>\n",
       "      <td>2</td>\n",
       "      <td>2</td>\n",
       "      <td>4.5(1) - 4.13(1)</td>\n",
       "    </tr>\n",
       "    <tr>\n",
       "      <th>4</th>\n",
       "      <td>2714147_A</td>\n",
       "      <td>2714147</td>\n",
       "      <td>C</td>\n",
       "      <td>A</td>\n",
       "      <td>Non-Essential</td>\n",
       "      <td>eis</td>\n",
       "      <td>Rv2416c</td>\n",
       "      <td>1186</td>\n",
       "      <td>N</td>\n",
       "      <td>V396F</td>\n",
       "      <td>4</td>\n",
       "      <td>1</td>\n",
       "      <td>1</td>\n",
       "      <td>1.1.3(1)</td>\n",
       "    </tr>\n",
       "  </tbody>\n",
       "</table>\n",
       "</div>"
      ],
      "text/plain": [
       "         key      pos ref alt  gene_category gene_name  gene_id gene_pos  \\\n",
       "0  2714130_G  2714130   C   G  Non-Essential       eis  Rv2416c     1203   \n",
       "1  2714139_A  2714139   G   A  Non-Essential       eis  Rv2416c     1194   \n",
       "2  2714140_T  2714140   G   T  Non-Essential       eis  Rv2416c     1193   \n",
       "3  2714145_A  2714145   G   A  Non-Essential       eis  Rv2416c     1188   \n",
       "4  2714147_A  2714147   C   A  Non-Essential       eis  Rv2416c     1186   \n",
       "\n",
       "  mut_type codon_pos array_index  num_isolates  num_sublineages  \\\n",
       "0        N     E401D           0            27                2   \n",
       "1        S     T398T           1             1                1   \n",
       "2        N     T398N           2             2                1   \n",
       "3        S     V396V           3             2                2   \n",
       "4        N     V396F           4             1                1   \n",
       "\n",
       "          sublineages  \n",
       "0  3.1.1(25) - 3.1(2)  \n",
       "1     4.1.i1.1.1.1(1)  \n",
       "2          1.1.1.1(2)  \n",
       "3    4.5(1) - 4.13(1)  \n",
       "4            1.1.3(1)  "
      ]
     },
     "execution_count": 57,
     "metadata": {},
     "output_type": "execute_result"
    }
   ],
   "source": [
    "SNP_annotation_DF.head()"
   ]
  },
  {
   "cell_type": "code",
   "execution_count": 58,
   "metadata": {},
   "outputs": [
    {
     "data": {
      "text/plain": [
       "(283, 14)"
      ]
     },
     "execution_count": 58,
     "metadata": {},
     "output_type": "execute_result"
    }
   ],
   "source": [
    "np.shape(SNP_annotation_DF)"
   ]
  },
  {
   "cell_type": "markdown",
   "metadata": {},
   "source": [
    "## [3.2] Get genotypes for indels of interest"
   ]
  },
  {
   "cell_type": "markdown",
   "metadata": {},
   "source": [
    "### *Function* to get the genotypes for a specifc indel and get attributes for isolates that support indel"
   ]
  },
  {
   "cell_type": "code",
   "execution_count": 59,
   "metadata": {},
   "outputs": [],
   "source": [
    "def get_genotypes_for_indel(indel_i_key):\n",
    "    \n",
    "    #0 supports Ref, 1 supports Alt, 9 indicated bad quality call\n",
    "    indel_i_genotypes = INDEL_genotypes_array[INDEL_annotation_DF[INDEL_annotation_DF.key == indel_i_key].index[0] , :] \n",
    "\n",
    "    #count the number of isolates that support this indel call\n",
    "    num_isolates_indel_i = np.sum(indel_i_genotypes == 1)\n",
    "\n",
    "    #create a boolean filter and extract information for the isolates taht support this call\n",
    "    indel_i_isolate_filter = indel_i_genotypes == 1\n",
    "    isolate_annotation_indel_i = INDEL_isolate_annotation_DF[indel_i_isolate_filter]\n",
    "\n",
    "    #find number of sub-lineages that have indel support in at least 1 isolate\n",
    "    num_sublineages_with_indel_i = len(set(list(isolate_annotation_indel_i.lineage_call.values)))\n",
    "    \n",
    "    #get list of sublineages w/ at least 1 isolates that supports indel call\n",
    "    sublineage_with_indel_count_dict = Counter(isolate_annotation_indel_i.lineage_call.values)\n",
    "    sublineages_with_indel_list = []\n",
    "    for sublineage_i in sublineage_with_indel_count_dict.keys():\n",
    "\n",
    "        sublineage_i_with_indel = sublineage_i + '({0})'.format(str(sublineage_with_indel_count_dict[sublineage_i]))\n",
    "        sublineages_with_indel_list.append(sublineage_i_with_indel)\n",
    "\n",
    "    sublineages_with_indel = ' - '.join(sublineages_with_indel_list)\n",
    "    \n",
    "    return [num_isolates_indel_i , num_sublineages_with_indel_i , sublineages_with_indel]"
   ]
  },
  {
   "cell_type": "code",
   "execution_count": 60,
   "metadata": {},
   "outputs": [
    {
     "data": {
      "text/html": [
       "<div>\n",
       "<style>\n",
       "    .dataframe thead tr:only-child th {\n",
       "        text-align: right;\n",
       "    }\n",
       "\n",
       "    .dataframe thead th {\n",
       "        text-align: left;\n",
       "    }\n",
       "\n",
       "    .dataframe tbody tr th {\n",
       "        vertical-align: top;\n",
       "    }\n",
       "</style>\n",
       "<table border=\"1\" class=\"dataframe\">\n",
       "  <thead>\n",
       "    <tr style=\"text-align: right;\">\n",
       "      <th></th>\n",
       "      <th>key</th>\n",
       "      <th>pos</th>\n",
       "      <th>ref</th>\n",
       "      <th>alt</th>\n",
       "      <th>gene_category</th>\n",
       "      <th>gene_name</th>\n",
       "      <th>gene_id</th>\n",
       "      <th>gene_pos</th>\n",
       "      <th>ins_del</th>\n",
       "      <th>INDEL_type</th>\n",
       "      <th>codon_pos</th>\n",
       "    </tr>\n",
       "  </thead>\n",
       "  <tbody>\n",
       "    <tr>\n",
       "      <th>0</th>\n",
       "      <td>A_2714157_ACTG</td>\n",
       "      <td>2714157</td>\n",
       "      <td>A</td>\n",
       "      <td>ACTG</td>\n",
       "      <td>Non-Essential</td>\n",
       "      <td>eis</td>\n",
       "      <td>Rv2416c</td>\n",
       "      <td>1176</td>\n",
       "      <td>ins</td>\n",
       "      <td>inframe</td>\n",
       "      <td>392</td>\n",
       "    </tr>\n",
       "    <tr>\n",
       "      <th>1</th>\n",
       "      <td>T_2714272_TC</td>\n",
       "      <td>2714272</td>\n",
       "      <td>T</td>\n",
       "      <td>TC</td>\n",
       "      <td>Non-Essential</td>\n",
       "      <td>eis</td>\n",
       "      <td>Rv2416c</td>\n",
       "      <td>1061</td>\n",
       "      <td>ins</td>\n",
       "      <td>frameshift</td>\n",
       "      <td>354</td>\n",
       "    </tr>\n",
       "    <tr>\n",
       "      <th>2</th>\n",
       "      <td>C_2714303_CG</td>\n",
       "      <td>2714303</td>\n",
       "      <td>C</td>\n",
       "      <td>CG</td>\n",
       "      <td>Non-Essential</td>\n",
       "      <td>eis</td>\n",
       "      <td>Rv2416c</td>\n",
       "      <td>1030</td>\n",
       "      <td>ins</td>\n",
       "      <td>frameshift</td>\n",
       "      <td>344</td>\n",
       "    </tr>\n",
       "    <tr>\n",
       "      <th>3</th>\n",
       "      <td>G_2714334_GA</td>\n",
       "      <td>2714334</td>\n",
       "      <td>G</td>\n",
       "      <td>GA</td>\n",
       "      <td>Non-Essential</td>\n",
       "      <td>eis</td>\n",
       "      <td>Rv2416c</td>\n",
       "      <td>999</td>\n",
       "      <td>ins</td>\n",
       "      <td>frameshift</td>\n",
       "      <td>333</td>\n",
       "    </tr>\n",
       "    <tr>\n",
       "      <th>4</th>\n",
       "      <td>ACTCG_2714384_A</td>\n",
       "      <td>2714384</td>\n",
       "      <td>ACTCG</td>\n",
       "      <td>A</td>\n",
       "      <td>Non-Essential</td>\n",
       "      <td>eis</td>\n",
       "      <td>Rv2416c</td>\n",
       "      <td>949</td>\n",
       "      <td>del</td>\n",
       "      <td>frameshift</td>\n",
       "      <td>317</td>\n",
       "    </tr>\n",
       "  </tbody>\n",
       "</table>\n",
       "</div>"
      ],
      "text/plain": [
       "               key      pos    ref   alt  gene_category gene_name  gene_id  \\\n",
       "0   A_2714157_ACTG  2714157      A  ACTG  Non-Essential       eis  Rv2416c   \n",
       "1     T_2714272_TC  2714272      T    TC  Non-Essential       eis  Rv2416c   \n",
       "2     C_2714303_CG  2714303      C    CG  Non-Essential       eis  Rv2416c   \n",
       "3     G_2714334_GA  2714334      G    GA  Non-Essential       eis  Rv2416c   \n",
       "4  ACTCG_2714384_A  2714384  ACTCG     A  Non-Essential       eis  Rv2416c   \n",
       "\n",
       "  gene_pos ins_del  INDEL_type codon_pos  \n",
       "0     1176     ins     inframe       392  \n",
       "1     1061     ins  frameshift       354  \n",
       "2     1030     ins  frameshift       344  \n",
       "3      999     ins  frameshift       333  \n",
       "4      949     del  frameshift       317  "
      ]
     },
     "execution_count": 60,
     "metadata": {},
     "output_type": "execute_result"
    }
   ],
   "source": [
    "INDEL_annotation_DF.head()"
   ]
  },
  {
   "cell_type": "code",
   "execution_count": 61,
   "metadata": {},
   "outputs": [
    {
     "data": {
      "text/plain": [
       "(28, 11)"
      ]
     },
     "execution_count": 61,
     "metadata": {},
     "output_type": "execute_result"
    }
   ],
   "source": [
    "np.shape(INDEL_annotation_DF)"
   ]
  },
  {
   "cell_type": "code",
   "execution_count": 62,
   "metadata": {},
   "outputs": [],
   "source": [
    "num_isolates_with_indel = []\n",
    "num_sublineages_with_indel = []\n",
    "sublineages_with_indel = []\n",
    "\n",
    "for indel_i_key in INDEL_annotation_DF.key:\n",
    "    \n",
    "    num_isolates_with_indel_i , num_sublineages_with_indel_i , sublineages_with_indel_i = get_genotypes_for_indel(indel_i_key)\n",
    "    \n",
    "    num_isolates_with_indel.append(num_isolates_with_indel_i)\n",
    "    num_sublineages_with_indel.append(num_sublineages_with_indel_i)\n",
    "    sublineages_with_indel.append(sublineages_with_indel_i)\n",
    "    \n",
    "INDEL_annotation_DF.loc[: , 'num_isolates'] = num_isolates_with_indel\n",
    "INDEL_annotation_DF.loc[: , 'num_sublineages'] = num_sublineages_with_indel\n",
    "INDEL_annotation_DF.loc[: , 'sublineages'] = sublineages_with_indel\n",
    "\n",
    "#drop indels present in 0 isolates\n",
    "INDEL_annotation_DF = INDEL_annotation_DF[INDEL_annotation_DF.num_isolates > 0]"
   ]
  },
  {
   "cell_type": "code",
   "execution_count": 63,
   "metadata": {},
   "outputs": [
    {
     "data": {
      "text/html": [
       "<div>\n",
       "<style>\n",
       "    .dataframe thead tr:only-child th {\n",
       "        text-align: right;\n",
       "    }\n",
       "\n",
       "    .dataframe thead th {\n",
       "        text-align: left;\n",
       "    }\n",
       "\n",
       "    .dataframe tbody tr th {\n",
       "        vertical-align: top;\n",
       "    }\n",
       "</style>\n",
       "<table border=\"1\" class=\"dataframe\">\n",
       "  <thead>\n",
       "    <tr style=\"text-align: right;\">\n",
       "      <th></th>\n",
       "      <th>key</th>\n",
       "      <th>pos</th>\n",
       "      <th>ref</th>\n",
       "      <th>alt</th>\n",
       "      <th>gene_category</th>\n",
       "      <th>gene_name</th>\n",
       "      <th>gene_id</th>\n",
       "      <th>gene_pos</th>\n",
       "      <th>ins_del</th>\n",
       "      <th>INDEL_type</th>\n",
       "      <th>codon_pos</th>\n",
       "      <th>num_isolates</th>\n",
       "      <th>num_sublineages</th>\n",
       "      <th>sublineages</th>\n",
       "    </tr>\n",
       "  </thead>\n",
       "  <tbody>\n",
       "    <tr>\n",
       "      <th>2</th>\n",
       "      <td>C_2714303_CG</td>\n",
       "      <td>2714303</td>\n",
       "      <td>C</td>\n",
       "      <td>CG</td>\n",
       "      <td>Non-Essential</td>\n",
       "      <td>eis</td>\n",
       "      <td>Rv2416c</td>\n",
       "      <td>1030</td>\n",
       "      <td>ins</td>\n",
       "      <td>frameshift</td>\n",
       "      <td>344</td>\n",
       "      <td>3</td>\n",
       "      <td>1</td>\n",
       "      <td>4.1.i1.1.1.1(3)</td>\n",
       "    </tr>\n",
       "    <tr>\n",
       "      <th>3</th>\n",
       "      <td>G_2714334_GA</td>\n",
       "      <td>2714334</td>\n",
       "      <td>G</td>\n",
       "      <td>GA</td>\n",
       "      <td>Non-Essential</td>\n",
       "      <td>eis</td>\n",
       "      <td>Rv2416c</td>\n",
       "      <td>999</td>\n",
       "      <td>ins</td>\n",
       "      <td>frameshift</td>\n",
       "      <td>333</td>\n",
       "      <td>1</td>\n",
       "      <td>1</td>\n",
       "      <td>3.1.1(1)</td>\n",
       "    </tr>\n",
       "    <tr>\n",
       "      <th>4</th>\n",
       "      <td>ACTCG_2714384_A</td>\n",
       "      <td>2714384</td>\n",
       "      <td>ACTCG</td>\n",
       "      <td>A</td>\n",
       "      <td>Non-Essential</td>\n",
       "      <td>eis</td>\n",
       "      <td>Rv2416c</td>\n",
       "      <td>949</td>\n",
       "      <td>del</td>\n",
       "      <td>frameshift</td>\n",
       "      <td>317</td>\n",
       "      <td>4</td>\n",
       "      <td>1</td>\n",
       "      <td>4.4.1.1(4)</td>\n",
       "    </tr>\n",
       "    <tr>\n",
       "      <th>5</th>\n",
       "      <td>GT_2714433_G</td>\n",
       "      <td>2714433</td>\n",
       "      <td>GT</td>\n",
       "      <td>G</td>\n",
       "      <td>Non-Essential</td>\n",
       "      <td>eis</td>\n",
       "      <td>Rv2416c</td>\n",
       "      <td>900</td>\n",
       "      <td>del</td>\n",
       "      <td>frameshift</td>\n",
       "      <td>300</td>\n",
       "      <td>2</td>\n",
       "      <td>1</td>\n",
       "      <td>4.1.i1.2.1(2)</td>\n",
       "    </tr>\n",
       "    <tr>\n",
       "      <th>6</th>\n",
       "      <td>GGT_2714526_G</td>\n",
       "      <td>2714526</td>\n",
       "      <td>GGT</td>\n",
       "      <td>G</td>\n",
       "      <td>Non-Essential</td>\n",
       "      <td>eis</td>\n",
       "      <td>Rv2416c</td>\n",
       "      <td>807</td>\n",
       "      <td>del</td>\n",
       "      <td>frameshift</td>\n",
       "      <td>269</td>\n",
       "      <td>112</td>\n",
       "      <td>1</td>\n",
       "      <td>2.2.1.1.1(112)</td>\n",
       "    </tr>\n",
       "  </tbody>\n",
       "</table>\n",
       "</div>"
      ],
      "text/plain": [
       "               key      pos    ref alt  gene_category gene_name  gene_id  \\\n",
       "2     C_2714303_CG  2714303      C  CG  Non-Essential       eis  Rv2416c   \n",
       "3     G_2714334_GA  2714334      G  GA  Non-Essential       eis  Rv2416c   \n",
       "4  ACTCG_2714384_A  2714384  ACTCG   A  Non-Essential       eis  Rv2416c   \n",
       "5     GT_2714433_G  2714433     GT   G  Non-Essential       eis  Rv2416c   \n",
       "6    GGT_2714526_G  2714526    GGT   G  Non-Essential       eis  Rv2416c   \n",
       "\n",
       "  gene_pos ins_del  INDEL_type codon_pos  num_isolates  num_sublineages  \\\n",
       "2     1030     ins  frameshift       344             3                1   \n",
       "3      999     ins  frameshift       333             1                1   \n",
       "4      949     del  frameshift       317             4                1   \n",
       "5      900     del  frameshift       300             2                1   \n",
       "6      807     del  frameshift       269           112                1   \n",
       "\n",
       "       sublineages  \n",
       "2  4.1.i1.1.1.1(3)  \n",
       "3         3.1.1(1)  \n",
       "4       4.4.1.1(4)  \n",
       "5    4.1.i1.2.1(2)  \n",
       "6   2.2.1.1.1(112)  "
      ]
     },
     "execution_count": 63,
     "metadata": {},
     "output_type": "execute_result"
    }
   ],
   "source": [
    "INDEL_annotation_DF.head()"
   ]
  },
  {
   "cell_type": "code",
   "execution_count": 64,
   "metadata": {},
   "outputs": [
    {
     "data": {
      "text/plain": [
       "(24, 14)"
      ]
     },
     "execution_count": 64,
     "metadata": {},
     "output_type": "execute_result"
    }
   ],
   "source": [
    "np.shape(INDEL_annotation_DF)"
   ]
  },
  {
   "cell_type": "markdown",
   "metadata": {},
   "source": [
    "# [4] Check co-occurrence between *regulator* SNPs/INDELs & *regulon* SNPs/INDELs"
   ]
  },
  {
   "cell_type": "markdown",
   "metadata": {},
   "source": [
    "### SNPs in regulator"
   ]
  },
  {
   "cell_type": "code",
   "execution_count": 65,
   "metadata": {},
   "outputs": [],
   "source": [
    "regulator_SNPs_DF = SNP_annotation_DF[SNP_annotation_DF.gene_id == regulator_id]"
   ]
  },
  {
   "cell_type": "code",
   "execution_count": 66,
   "metadata": {},
   "outputs": [
    {
     "data": {
      "text/html": [
       "<div>\n",
       "<style>\n",
       "    .dataframe thead tr:only-child th {\n",
       "        text-align: right;\n",
       "    }\n",
       "\n",
       "    .dataframe thead th {\n",
       "        text-align: left;\n",
       "    }\n",
       "\n",
       "    .dataframe tbody tr th {\n",
       "        vertical-align: top;\n",
       "    }\n",
       "</style>\n",
       "<table border=\"1\" class=\"dataframe\">\n",
       "  <thead>\n",
       "    <tr style=\"text-align: right;\">\n",
       "      <th></th>\n",
       "      <th>key</th>\n",
       "      <th>pos</th>\n",
       "      <th>ref</th>\n",
       "      <th>alt</th>\n",
       "      <th>gene_category</th>\n",
       "      <th>gene_name</th>\n",
       "      <th>gene_id</th>\n",
       "      <th>gene_pos</th>\n",
       "      <th>mut_type</th>\n",
       "      <th>codon_pos</th>\n",
       "      <th>array_index</th>\n",
       "      <th>num_isolates</th>\n",
       "      <th>num_sublineages</th>\n",
       "      <th>sublineages</th>\n",
       "    </tr>\n",
       "  </thead>\n",
       "  <tbody>\n",
       "    <tr>\n",
       "      <th>263</th>\n",
       "      <td>2715333_C</td>\n",
       "      <td>2715333</td>\n",
       "      <td>A</td>\n",
       "      <td>C</td>\n",
       "      <td>None</td>\n",
       "      <td>None</td>\n",
       "      <td>Rv2416c_Rv2417c</td>\n",
       "      <td>None</td>\n",
       "      <td>I</td>\n",
       "      <td>None</td>\n",
       "      <td>249</td>\n",
       "      <td>2</td>\n",
       "      <td>2</td>\n",
       "      <td>4.3.i3.1(1) - 1.1.1.1(1)</td>\n",
       "    </tr>\n",
       "    <tr>\n",
       "      <th>264</th>\n",
       "      <td>2715337_C</td>\n",
       "      <td>2715337</td>\n",
       "      <td>T</td>\n",
       "      <td>C</td>\n",
       "      <td>None</td>\n",
       "      <td>None</td>\n",
       "      <td>Rv2416c_Rv2417c</td>\n",
       "      <td>None</td>\n",
       "      <td>I</td>\n",
       "      <td>None</td>\n",
       "      <td>250</td>\n",
       "      <td>1</td>\n",
       "      <td>1</td>\n",
       "      <td>3.1.1(1)</td>\n",
       "    </tr>\n",
       "    <tr>\n",
       "      <th>265</th>\n",
       "      <td>2715338_A</td>\n",
       "      <td>2715338</td>\n",
       "      <td>C</td>\n",
       "      <td>A</td>\n",
       "      <td>None</td>\n",
       "      <td>None</td>\n",
       "      <td>Rv2416c_Rv2417c</td>\n",
       "      <td>None</td>\n",
       "      <td>I</td>\n",
       "      <td>None</td>\n",
       "      <td>251</td>\n",
       "      <td>2</td>\n",
       "      <td>1</td>\n",
       "      <td>4.3.i4.1(2)</td>\n",
       "    </tr>\n",
       "    <tr>\n",
       "      <th>266</th>\n",
       "      <td>2715340_A</td>\n",
       "      <td>2715340</td>\n",
       "      <td>G</td>\n",
       "      <td>A</td>\n",
       "      <td>None</td>\n",
       "      <td>None</td>\n",
       "      <td>Rv2416c_Rv2417c</td>\n",
       "      <td>None</td>\n",
       "      <td>I</td>\n",
       "      <td>None</td>\n",
       "      <td>252</td>\n",
       "      <td>9</td>\n",
       "      <td>3</td>\n",
       "      <td>4.3.i4.1(1) - 4.1.i1.1.1.1(7) - 2.2.1.1.2(1)</td>\n",
       "    </tr>\n",
       "    <tr>\n",
       "      <th>267</th>\n",
       "      <td>2715340_T</td>\n",
       "      <td>2715340</td>\n",
       "      <td>G</td>\n",
       "      <td>T</td>\n",
       "      <td>None</td>\n",
       "      <td>None</td>\n",
       "      <td>Rv2416c_Rv2417c</td>\n",
       "      <td>None</td>\n",
       "      <td>I</td>\n",
       "      <td>None</td>\n",
       "      <td>252</td>\n",
       "      <td>11</td>\n",
       "      <td>4</td>\n",
       "      <td>4.11(2) - 2.2.1.1.1.i3(5) - 4.3.i3.1(3) - 2.2....</td>\n",
       "    </tr>\n",
       "  </tbody>\n",
       "</table>\n",
       "</div>"
      ],
      "text/plain": [
       "           key      pos ref alt gene_category gene_name          gene_id  \\\n",
       "263  2715333_C  2715333   A   C          None      None  Rv2416c_Rv2417c   \n",
       "264  2715337_C  2715337   T   C          None      None  Rv2416c_Rv2417c   \n",
       "265  2715338_A  2715338   C   A          None      None  Rv2416c_Rv2417c   \n",
       "266  2715340_A  2715340   G   A          None      None  Rv2416c_Rv2417c   \n",
       "267  2715340_T  2715340   G   T          None      None  Rv2416c_Rv2417c   \n",
       "\n",
       "    gene_pos mut_type codon_pos array_index  num_isolates  num_sublineages  \\\n",
       "263     None        I      None         249             2                2   \n",
       "264     None        I      None         250             1                1   \n",
       "265     None        I      None         251             2                1   \n",
       "266     None        I      None         252             9                3   \n",
       "267     None        I      None         252            11                4   \n",
       "\n",
       "                                           sublineages  \n",
       "263                           4.3.i3.1(1) - 1.1.1.1(1)  \n",
       "264                                           3.1.1(1)  \n",
       "265                                        4.3.i4.1(2)  \n",
       "266       4.3.i4.1(1) - 4.1.i1.1.1.1(7) - 2.2.1.1.2(1)  \n",
       "267  4.11(2) - 2.2.1.1.1.i3(5) - 4.3.i3.1(3) - 2.2....  "
      ]
     },
     "execution_count": 66,
     "metadata": {},
     "output_type": "execute_result"
    }
   ],
   "source": [
    "regulator_SNPs_DF.head()"
   ]
  },
  {
   "cell_type": "code",
   "execution_count": 67,
   "metadata": {},
   "outputs": [
    {
     "data": {
      "text/plain": [
       "(20, 14)"
      ]
     },
     "execution_count": 67,
     "metadata": {},
     "output_type": "execute_result"
    }
   ],
   "source": [
    "np.shape(regulator_SNPs_DF)"
   ]
  },
  {
   "cell_type": "markdown",
   "metadata": {},
   "source": [
    "### INDELs in regulator"
   ]
  },
  {
   "cell_type": "code",
   "execution_count": 68,
   "metadata": {},
   "outputs": [],
   "source": [
    "regulator_INDELs_DF = INDEL_annotation_DF[INDEL_annotation_DF.gene_id == regulator_id]"
   ]
  },
  {
   "cell_type": "code",
   "execution_count": 69,
   "metadata": {},
   "outputs": [
    {
     "data": {
      "text/html": [
       "<div>\n",
       "<style>\n",
       "    .dataframe thead tr:only-child th {\n",
       "        text-align: right;\n",
       "    }\n",
       "\n",
       "    .dataframe thead th {\n",
       "        text-align: left;\n",
       "    }\n",
       "\n",
       "    .dataframe tbody tr th {\n",
       "        vertical-align: top;\n",
       "    }\n",
       "</style>\n",
       "<table border=\"1\" class=\"dataframe\">\n",
       "  <thead>\n",
       "    <tr style=\"text-align: right;\">\n",
       "      <th></th>\n",
       "      <th>key</th>\n",
       "      <th>pos</th>\n",
       "      <th>ref</th>\n",
       "      <th>alt</th>\n",
       "      <th>gene_category</th>\n",
       "      <th>gene_name</th>\n",
       "      <th>gene_id</th>\n",
       "      <th>gene_pos</th>\n",
       "      <th>ins_del</th>\n",
       "      <th>INDEL_type</th>\n",
       "      <th>codon_pos</th>\n",
       "      <th>num_isolates</th>\n",
       "      <th>num_sublineages</th>\n",
       "      <th>sublineages</th>\n",
       "    </tr>\n",
       "  </thead>\n",
       "  <tbody>\n",
       "    <tr>\n",
       "      <th>25</th>\n",
       "      <td>GAATCCGAC_2715334_G</td>\n",
       "      <td>2715334</td>\n",
       "      <td>GAATCCGAC</td>\n",
       "      <td>G</td>\n",
       "      <td>None</td>\n",
       "      <td>None</td>\n",
       "      <td>Rv2416c_Rv2417c</td>\n",
       "      <td>None</td>\n",
       "      <td>del</td>\n",
       "      <td>frameshift</td>\n",
       "      <td>None</td>\n",
       "      <td>1</td>\n",
       "      <td>1</td>\n",
       "      <td>2.2.1.1.1.i3(1)</td>\n",
       "    </tr>\n",
       "    <tr>\n",
       "      <th>26</th>\n",
       "      <td>CG_2715339_C</td>\n",
       "      <td>2715339</td>\n",
       "      <td>CG</td>\n",
       "      <td>C</td>\n",
       "      <td>None</td>\n",
       "      <td>None</td>\n",
       "      <td>Rv2416c_Rv2417c</td>\n",
       "      <td>None</td>\n",
       "      <td>del</td>\n",
       "      <td>frameshift</td>\n",
       "      <td>None</td>\n",
       "      <td>7</td>\n",
       "      <td>3</td>\n",
       "      <td>2.2.1.1.1.i3(1) - 2.2.1.1.1(5) - 4.4.2(1)</td>\n",
       "    </tr>\n",
       "    <tr>\n",
       "      <th>27</th>\n",
       "      <td>AC_2715362_A</td>\n",
       "      <td>2715362</td>\n",
       "      <td>AC</td>\n",
       "      <td>A</td>\n",
       "      <td>None</td>\n",
       "      <td>None</td>\n",
       "      <td>Rv2416c_Rv2417c</td>\n",
       "      <td>None</td>\n",
       "      <td>del</td>\n",
       "      <td>frameshift</td>\n",
       "      <td>None</td>\n",
       "      <td>1</td>\n",
       "      <td>1</td>\n",
       "      <td>4.3.i3.2(1)</td>\n",
       "    </tr>\n",
       "  </tbody>\n",
       "</table>\n",
       "</div>"
      ],
      "text/plain": [
       "                    key      pos        ref alt gene_category gene_name  \\\n",
       "25  GAATCCGAC_2715334_G  2715334  GAATCCGAC   G          None      None   \n",
       "26         CG_2715339_C  2715339         CG   C          None      None   \n",
       "27         AC_2715362_A  2715362         AC   A          None      None   \n",
       "\n",
       "            gene_id gene_pos ins_del  INDEL_type codon_pos  num_isolates  \\\n",
       "25  Rv2416c_Rv2417c     None     del  frameshift      None             1   \n",
       "26  Rv2416c_Rv2417c     None     del  frameshift      None             7   \n",
       "27  Rv2416c_Rv2417c     None     del  frameshift      None             1   \n",
       "\n",
       "    num_sublineages                                sublineages  \n",
       "25                1                            2.2.1.1.1.i3(1)  \n",
       "26                3  2.2.1.1.1.i3(1) - 2.2.1.1.1(5) - 4.4.2(1)  \n",
       "27                1                                4.3.i3.2(1)  "
      ]
     },
     "execution_count": 69,
     "metadata": {},
     "output_type": "execute_result"
    }
   ],
   "source": [
    "regulator_INDELs_DF.head()"
   ]
  },
  {
   "cell_type": "code",
   "execution_count": 70,
   "metadata": {},
   "outputs": [
    {
     "data": {
      "text/plain": [
       "(3, 14)"
      ]
     },
     "execution_count": 70,
     "metadata": {},
     "output_type": "execute_result"
    }
   ],
   "source": [
    "np.shape(regulator_INDELs_DF)"
   ]
  },
  {
   "cell_type": "markdown",
   "metadata": {},
   "source": [
    "Drop **INDEL_type** column and rename **ins_del** column to fit with SNPs DataFrames"
   ]
  },
  {
   "cell_type": "code",
   "execution_count": 71,
   "metadata": {},
   "outputs": [
    {
     "name": "stderr",
     "output_type": "stream",
     "text": [
      "/home/rv76/anaconda2/lib/python2.7/site-packages/ipykernel_launcher.py:1: SettingWithCopyWarning: \n",
      "A value is trying to be set on a copy of a slice from a DataFrame\n",
      "\n",
      "See the caveats in the documentation: http://pandas.pydata.org/pandas-docs/stable/indexing.html#indexing-view-versus-copy\n",
      "  \"\"\"Entry point for launching an IPython kernel.\n",
      "/home/rv76/anaconda2/lib/python2.7/site-packages/pandas/core/frame.py:2746: SettingWithCopyWarning: \n",
      "A value is trying to be set on a copy of a slice from a DataFrame\n",
      "\n",
      "See the caveats in the documentation: http://pandas.pydata.org/pandas-docs/stable/indexing.html#indexing-view-versus-copy\n",
      "  **kwargs)\n"
     ]
    }
   ],
   "source": [
    "regulator_INDELs_DF.drop(['INDEL_type'], axis=1, inplace = True)\n",
    "regulator_INDELs_DF.rename(columns={'ins_del':'mut_type'}, inplace = True) #change column names"
   ]
  },
  {
   "cell_type": "markdown",
   "metadata": {},
   "source": [
    "### SNPs in regulon"
   ]
  },
  {
   "cell_type": "markdown",
   "metadata": {},
   "source": [
    "We're going to include SNPs in a gene that either \n",
    "\n",
    "- cause a **premature STOP codon** (nonsense mutation)\n",
    "- **synonymous mutations at the first codon that abolish the start codon** (i.e. eis, whiB7 and mmpR which start with a **valine** as this is not possible with ahpC, mmpS5 or mmpL5, which start with a **methionine**)\n",
    "- **non-synonymous mutations at the first codon that abolish the start codon** (i.e. that change the start to an AA other than **valine** and **methionine**)"
   ]
  },
  {
   "cell_type": "code",
   "execution_count": 72,
   "metadata": {},
   "outputs": [],
   "source": [
    "regulon_SNPs_DF = SNP_annotation_DF[SNP_annotation_DF.gene_id == regulon_id]"
   ]
  },
  {
   "cell_type": "code",
   "execution_count": 73,
   "metadata": {},
   "outputs": [
    {
     "data": {
      "text/html": [
       "<div>\n",
       "<style>\n",
       "    .dataframe thead tr:only-child th {\n",
       "        text-align: right;\n",
       "    }\n",
       "\n",
       "    .dataframe thead th {\n",
       "        text-align: left;\n",
       "    }\n",
       "\n",
       "    .dataframe tbody tr th {\n",
       "        vertical-align: top;\n",
       "    }\n",
       "</style>\n",
       "<table border=\"1\" class=\"dataframe\">\n",
       "  <thead>\n",
       "    <tr style=\"text-align: right;\">\n",
       "      <th></th>\n",
       "      <th>key</th>\n",
       "      <th>pos</th>\n",
       "      <th>ref</th>\n",
       "      <th>alt</th>\n",
       "      <th>gene_category</th>\n",
       "      <th>gene_name</th>\n",
       "      <th>gene_id</th>\n",
       "      <th>gene_pos</th>\n",
       "      <th>mut_type</th>\n",
       "      <th>codon_pos</th>\n",
       "      <th>array_index</th>\n",
       "      <th>num_isolates</th>\n",
       "      <th>num_sublineages</th>\n",
       "      <th>sublineages</th>\n",
       "    </tr>\n",
       "  </thead>\n",
       "  <tbody>\n",
       "    <tr>\n",
       "      <th>59</th>\n",
       "      <td>2714449_T</td>\n",
       "      <td>2714449</td>\n",
       "      <td>C</td>\n",
       "      <td>T</td>\n",
       "      <td>Non-Essential</td>\n",
       "      <td>eis</td>\n",
       "      <td>Rv2416c</td>\n",
       "      <td>884</td>\n",
       "      <td>N</td>\n",
       "      <td>W295*</td>\n",
       "      <td>57</td>\n",
       "      <td>1</td>\n",
       "      <td>1</td>\n",
       "      <td>3.1.1(1)</td>\n",
       "    </tr>\n",
       "    <tr>\n",
       "      <th>82</th>\n",
       "      <td>2714543_A</td>\n",
       "      <td>2714543</td>\n",
       "      <td>G</td>\n",
       "      <td>A</td>\n",
       "      <td>Non-Essential</td>\n",
       "      <td>eis</td>\n",
       "      <td>Rv2416c</td>\n",
       "      <td>790</td>\n",
       "      <td>N</td>\n",
       "      <td>R264*</td>\n",
       "      <td>79</td>\n",
       "      <td>1</td>\n",
       "      <td>1</td>\n",
       "      <td>3.1.1(1)</td>\n",
       "    </tr>\n",
       "    <tr>\n",
       "      <th>103</th>\n",
       "      <td>2714664_T</td>\n",
       "      <td>2714664</td>\n",
       "      <td>G</td>\n",
       "      <td>T</td>\n",
       "      <td>Non-Essential</td>\n",
       "      <td>eis</td>\n",
       "      <td>Rv2416c</td>\n",
       "      <td>669</td>\n",
       "      <td>N</td>\n",
       "      <td>Y223*</td>\n",
       "      <td>99</td>\n",
       "      <td>2</td>\n",
       "      <td>1</td>\n",
       "      <td>3.1.1(2)</td>\n",
       "    </tr>\n",
       "    <tr>\n",
       "      <th>123</th>\n",
       "      <td>2714753_A</td>\n",
       "      <td>2714753</td>\n",
       "      <td>G</td>\n",
       "      <td>A</td>\n",
       "      <td>Non-Essential</td>\n",
       "      <td>eis</td>\n",
       "      <td>Rv2416c</td>\n",
       "      <td>580</td>\n",
       "      <td>N</td>\n",
       "      <td>Q194*</td>\n",
       "      <td>118</td>\n",
       "      <td>10</td>\n",
       "      <td>2</td>\n",
       "      <td>4.10.i1(1) - 1.2.2.1(9)</td>\n",
       "    </tr>\n",
       "    <tr>\n",
       "      <th>132</th>\n",
       "      <td>2714787_T</td>\n",
       "      <td>2714787</td>\n",
       "      <td>C</td>\n",
       "      <td>T</td>\n",
       "      <td>Non-Essential</td>\n",
       "      <td>eis</td>\n",
       "      <td>Rv2416c</td>\n",
       "      <td>546</td>\n",
       "      <td>N</td>\n",
       "      <td>W182*</td>\n",
       "      <td>126</td>\n",
       "      <td>15</td>\n",
       "      <td>1</td>\n",
       "      <td>4.10.i1(15)</td>\n",
       "    </tr>\n",
       "    <tr>\n",
       "      <th>244</th>\n",
       "      <td>2715294_T</td>\n",
       "      <td>2715294</td>\n",
       "      <td>C</td>\n",
       "      <td>T</td>\n",
       "      <td>Non-Essential</td>\n",
       "      <td>eis</td>\n",
       "      <td>Rv2416c</td>\n",
       "      <td>39</td>\n",
       "      <td>N</td>\n",
       "      <td>W13*</td>\n",
       "      <td>232</td>\n",
       "      <td>1</td>\n",
       "      <td>1</td>\n",
       "      <td>2.2.1.1.1(1)</td>\n",
       "    </tr>\n",
       "    <tr>\n",
       "      <th>245</th>\n",
       "      <td>2715295_T</td>\n",
       "      <td>2715295</td>\n",
       "      <td>C</td>\n",
       "      <td>T</td>\n",
       "      <td>Non-Essential</td>\n",
       "      <td>eis</td>\n",
       "      <td>Rv2416c</td>\n",
       "      <td>38</td>\n",
       "      <td>N</td>\n",
       "      <td>W13*</td>\n",
       "      <td>233</td>\n",
       "      <td>1</td>\n",
       "      <td>1</td>\n",
       "      <td>2.2.1.1.1(1)</td>\n",
       "    </tr>\n",
       "    <tr>\n",
       "      <th>249</th>\n",
       "      <td>2715305_A</td>\n",
       "      <td>2715305</td>\n",
       "      <td>C</td>\n",
       "      <td>A</td>\n",
       "      <td>Non-Essential</td>\n",
       "      <td>eis</td>\n",
       "      <td>Rv2416c</td>\n",
       "      <td>28</td>\n",
       "      <td>N</td>\n",
       "      <td>E10*</td>\n",
       "      <td>237</td>\n",
       "      <td>6</td>\n",
       "      <td>2</td>\n",
       "      <td>1.1.3(5) - 1.1.1.1(1)</td>\n",
       "    </tr>\n",
       "    <tr>\n",
       "      <th>262</th>\n",
       "      <td>2715330_T</td>\n",
       "      <td>2715330</td>\n",
       "      <td>C</td>\n",
       "      <td>T</td>\n",
       "      <td>Non-Essential</td>\n",
       "      <td>eis</td>\n",
       "      <td>Rv2416c</td>\n",
       "      <td>3</td>\n",
       "      <td>S</td>\n",
       "      <td>V1V</td>\n",
       "      <td>248</td>\n",
       "      <td>6</td>\n",
       "      <td>2</td>\n",
       "      <td>2.2.1.1.1.i3(5) - 1.1.1.1(1)</td>\n",
       "    </tr>\n",
       "  </tbody>\n",
       "</table>\n",
       "</div>"
      ],
      "text/plain": [
       "           key      pos ref alt  gene_category gene_name  gene_id gene_pos  \\\n",
       "59   2714449_T  2714449   C   T  Non-Essential       eis  Rv2416c      884   \n",
       "82   2714543_A  2714543   G   A  Non-Essential       eis  Rv2416c      790   \n",
       "103  2714664_T  2714664   G   T  Non-Essential       eis  Rv2416c      669   \n",
       "123  2714753_A  2714753   G   A  Non-Essential       eis  Rv2416c      580   \n",
       "132  2714787_T  2714787   C   T  Non-Essential       eis  Rv2416c      546   \n",
       "244  2715294_T  2715294   C   T  Non-Essential       eis  Rv2416c       39   \n",
       "245  2715295_T  2715295   C   T  Non-Essential       eis  Rv2416c       38   \n",
       "249  2715305_A  2715305   C   A  Non-Essential       eis  Rv2416c       28   \n",
       "262  2715330_T  2715330   C   T  Non-Essential       eis  Rv2416c        3   \n",
       "\n",
       "    mut_type codon_pos array_index  num_isolates  num_sublineages  \\\n",
       "59         N     W295*          57             1                1   \n",
       "82         N     R264*          79             1                1   \n",
       "103        N     Y223*          99             2                1   \n",
       "123        N     Q194*         118            10                2   \n",
       "132        N     W182*         126            15                1   \n",
       "244        N      W13*         232             1                1   \n",
       "245        N      W13*         233             1                1   \n",
       "249        N      E10*         237             6                2   \n",
       "262        S       V1V         248             6                2   \n",
       "\n",
       "                      sublineages  \n",
       "59                       3.1.1(1)  \n",
       "82                       3.1.1(1)  \n",
       "103                      3.1.1(2)  \n",
       "123       4.10.i1(1) - 1.2.2.1(9)  \n",
       "132                   4.10.i1(15)  \n",
       "244                  2.2.1.1.1(1)  \n",
       "245                  2.2.1.1.1(1)  \n",
       "249         1.1.3(5) - 1.1.1.1(1)  \n",
       "262  2.2.1.1.1.i3(5) - 1.1.1.1(1)  "
      ]
     },
     "execution_count": 73,
     "metadata": {},
     "output_type": "execute_result"
    }
   ],
   "source": [
    "regulon_SNPs_DF[[(AA_change[-1]=='*') | ((len(AA_change)==3) and (AA_change[1]=='1')) for AA_change in regulon_SNPs_DF.codon_pos]]"
   ]
  },
  {
   "cell_type": "code",
   "execution_count": 74,
   "metadata": {},
   "outputs": [],
   "source": [
    "regulon_SNPs_DF = regulon_SNPs_DF[[(AA_change[-1]=='*') | ((len(AA_change)==3) and (AA_change[1]=='1')) for AA_change in regulon_SNPs_DF.codon_pos]]"
   ]
  },
  {
   "cell_type": "markdown",
   "metadata": {},
   "source": [
    "Save SNPs that occur in the first codon seperately"
   ]
  },
  {
   "cell_type": "code",
   "execution_count": 75,
   "metadata": {},
   "outputs": [],
   "source": [
    "regulon_SNPs_DF[[((len(AA_change)==3) and (AA_change[1]=='1')) for AA_change in regulon_SNPs_DF.codon_pos]].to_excel('/n/data1/hms/dbmi/farhat/Roger/mmpR_BDQ_mutant_project/CSV files/START_codon_SNVs/eis_START_codon_SNVs.xlsx')"
   ]
  },
  {
   "cell_type": "markdown",
   "metadata": {},
   "source": [
    "### INDELs in regulon"
   ]
  },
  {
   "cell_type": "markdown",
   "metadata": {},
   "source": [
    "#### keep only *frameshift* indels for gene body"
   ]
  },
  {
   "cell_type": "code",
   "execution_count": 76,
   "metadata": {},
   "outputs": [
    {
     "data": {
      "text/html": [
       "<div>\n",
       "<style>\n",
       "    .dataframe thead tr:only-child th {\n",
       "        text-align: right;\n",
       "    }\n",
       "\n",
       "    .dataframe thead th {\n",
       "        text-align: left;\n",
       "    }\n",
       "\n",
       "    .dataframe tbody tr th {\n",
       "        vertical-align: top;\n",
       "    }\n",
       "</style>\n",
       "<table border=\"1\" class=\"dataframe\">\n",
       "  <thead>\n",
       "    <tr style=\"text-align: right;\">\n",
       "      <th></th>\n",
       "      <th>key</th>\n",
       "      <th>pos</th>\n",
       "      <th>ref</th>\n",
       "      <th>alt</th>\n",
       "      <th>gene_category</th>\n",
       "      <th>gene_name</th>\n",
       "      <th>gene_id</th>\n",
       "      <th>gene_pos</th>\n",
       "      <th>ins_del</th>\n",
       "      <th>INDEL_type</th>\n",
       "      <th>codon_pos</th>\n",
       "      <th>num_isolates</th>\n",
       "      <th>num_sublineages</th>\n",
       "      <th>sublineages</th>\n",
       "    </tr>\n",
       "  </thead>\n",
       "  <tbody>\n",
       "    <tr>\n",
       "      <th>2</th>\n",
       "      <td>C_2714303_CG</td>\n",
       "      <td>2714303</td>\n",
       "      <td>C</td>\n",
       "      <td>CG</td>\n",
       "      <td>Non-Essential</td>\n",
       "      <td>eis</td>\n",
       "      <td>Rv2416c</td>\n",
       "      <td>1030</td>\n",
       "      <td>ins</td>\n",
       "      <td>frameshift</td>\n",
       "      <td>344</td>\n",
       "      <td>3</td>\n",
       "      <td>1</td>\n",
       "      <td>4.1.i1.1.1.1(3)</td>\n",
       "    </tr>\n",
       "    <tr>\n",
       "      <th>3</th>\n",
       "      <td>G_2714334_GA</td>\n",
       "      <td>2714334</td>\n",
       "      <td>G</td>\n",
       "      <td>GA</td>\n",
       "      <td>Non-Essential</td>\n",
       "      <td>eis</td>\n",
       "      <td>Rv2416c</td>\n",
       "      <td>999</td>\n",
       "      <td>ins</td>\n",
       "      <td>frameshift</td>\n",
       "      <td>333</td>\n",
       "      <td>1</td>\n",
       "      <td>1</td>\n",
       "      <td>3.1.1(1)</td>\n",
       "    </tr>\n",
       "    <tr>\n",
       "      <th>4</th>\n",
       "      <td>ACTCG_2714384_A</td>\n",
       "      <td>2714384</td>\n",
       "      <td>ACTCG</td>\n",
       "      <td>A</td>\n",
       "      <td>Non-Essential</td>\n",
       "      <td>eis</td>\n",
       "      <td>Rv2416c</td>\n",
       "      <td>949</td>\n",
       "      <td>del</td>\n",
       "      <td>frameshift</td>\n",
       "      <td>317</td>\n",
       "      <td>4</td>\n",
       "      <td>1</td>\n",
       "      <td>4.4.1.1(4)</td>\n",
       "    </tr>\n",
       "    <tr>\n",
       "      <th>5</th>\n",
       "      <td>GT_2714433_G</td>\n",
       "      <td>2714433</td>\n",
       "      <td>GT</td>\n",
       "      <td>G</td>\n",
       "      <td>Non-Essential</td>\n",
       "      <td>eis</td>\n",
       "      <td>Rv2416c</td>\n",
       "      <td>900</td>\n",
       "      <td>del</td>\n",
       "      <td>frameshift</td>\n",
       "      <td>300</td>\n",
       "      <td>2</td>\n",
       "      <td>1</td>\n",
       "      <td>4.1.i1.2.1(2)</td>\n",
       "    </tr>\n",
       "    <tr>\n",
       "      <th>6</th>\n",
       "      <td>GGT_2714526_G</td>\n",
       "      <td>2714526</td>\n",
       "      <td>GGT</td>\n",
       "      <td>G</td>\n",
       "      <td>Non-Essential</td>\n",
       "      <td>eis</td>\n",
       "      <td>Rv2416c</td>\n",
       "      <td>807</td>\n",
       "      <td>del</td>\n",
       "      <td>frameshift</td>\n",
       "      <td>269</td>\n",
       "      <td>112</td>\n",
       "      <td>1</td>\n",
       "      <td>2.2.1.1.1(112)</td>\n",
       "    </tr>\n",
       "  </tbody>\n",
       "</table>\n",
       "</div>"
      ],
      "text/plain": [
       "               key      pos    ref alt  gene_category gene_name  gene_id  \\\n",
       "2     C_2714303_CG  2714303      C  CG  Non-Essential       eis  Rv2416c   \n",
       "3     G_2714334_GA  2714334      G  GA  Non-Essential       eis  Rv2416c   \n",
       "4  ACTCG_2714384_A  2714384  ACTCG   A  Non-Essential       eis  Rv2416c   \n",
       "5     GT_2714433_G  2714433     GT   G  Non-Essential       eis  Rv2416c   \n",
       "6    GGT_2714526_G  2714526    GGT   G  Non-Essential       eis  Rv2416c   \n",
       "\n",
       "  gene_pos ins_del  INDEL_type codon_pos  num_isolates  num_sublineages  \\\n",
       "2     1030     ins  frameshift       344             3                1   \n",
       "3      999     ins  frameshift       333             1                1   \n",
       "4      949     del  frameshift       317             4                1   \n",
       "5      900     del  frameshift       300             2                1   \n",
       "6      807     del  frameshift       269           112                1   \n",
       "\n",
       "       sublineages  \n",
       "2  4.1.i1.1.1.1(3)  \n",
       "3         3.1.1(1)  \n",
       "4       4.4.1.1(4)  \n",
       "5    4.1.i1.2.1(2)  \n",
       "6   2.2.1.1.1(112)  "
      ]
     },
     "execution_count": 76,
     "metadata": {},
     "output_type": "execute_result"
    }
   ],
   "source": [
    "INDEL_annotation_DF[(INDEL_annotation_DF.gene_id == regulon_id) & (INDEL_annotation_DF.INDEL_type == 'frameshift')].head()"
   ]
  },
  {
   "cell_type": "code",
   "execution_count": 77,
   "metadata": {},
   "outputs": [],
   "source": [
    "regulon_INDELs_DF = INDEL_annotation_DF[(INDEL_annotation_DF.gene_id == regulon_id) & (INDEL_annotation_DF.INDEL_type == 'frameshift')]"
   ]
  },
  {
   "cell_type": "code",
   "execution_count": 78,
   "metadata": {},
   "outputs": [
    {
     "data": {
      "text/html": [
       "<div>\n",
       "<style>\n",
       "    .dataframe thead tr:only-child th {\n",
       "        text-align: right;\n",
       "    }\n",
       "\n",
       "    .dataframe thead th {\n",
       "        text-align: left;\n",
       "    }\n",
       "\n",
       "    .dataframe tbody tr th {\n",
       "        vertical-align: top;\n",
       "    }\n",
       "</style>\n",
       "<table border=\"1\" class=\"dataframe\">\n",
       "  <thead>\n",
       "    <tr style=\"text-align: right;\">\n",
       "      <th></th>\n",
       "      <th>key</th>\n",
       "      <th>pos</th>\n",
       "      <th>ref</th>\n",
       "      <th>alt</th>\n",
       "      <th>gene_category</th>\n",
       "      <th>gene_name</th>\n",
       "      <th>gene_id</th>\n",
       "      <th>gene_pos</th>\n",
       "      <th>ins_del</th>\n",
       "      <th>INDEL_type</th>\n",
       "      <th>codon_pos</th>\n",
       "      <th>num_isolates</th>\n",
       "      <th>num_sublineages</th>\n",
       "      <th>sublineages</th>\n",
       "    </tr>\n",
       "  </thead>\n",
       "  <tbody>\n",
       "    <tr>\n",
       "      <th>2</th>\n",
       "      <td>C_2714303_CG</td>\n",
       "      <td>2714303</td>\n",
       "      <td>C</td>\n",
       "      <td>CG</td>\n",
       "      <td>Non-Essential</td>\n",
       "      <td>eis</td>\n",
       "      <td>Rv2416c</td>\n",
       "      <td>1030</td>\n",
       "      <td>ins</td>\n",
       "      <td>frameshift</td>\n",
       "      <td>344</td>\n",
       "      <td>3</td>\n",
       "      <td>1</td>\n",
       "      <td>4.1.i1.1.1.1(3)</td>\n",
       "    </tr>\n",
       "    <tr>\n",
       "      <th>3</th>\n",
       "      <td>G_2714334_GA</td>\n",
       "      <td>2714334</td>\n",
       "      <td>G</td>\n",
       "      <td>GA</td>\n",
       "      <td>Non-Essential</td>\n",
       "      <td>eis</td>\n",
       "      <td>Rv2416c</td>\n",
       "      <td>999</td>\n",
       "      <td>ins</td>\n",
       "      <td>frameshift</td>\n",
       "      <td>333</td>\n",
       "      <td>1</td>\n",
       "      <td>1</td>\n",
       "      <td>3.1.1(1)</td>\n",
       "    </tr>\n",
       "    <tr>\n",
       "      <th>4</th>\n",
       "      <td>ACTCG_2714384_A</td>\n",
       "      <td>2714384</td>\n",
       "      <td>ACTCG</td>\n",
       "      <td>A</td>\n",
       "      <td>Non-Essential</td>\n",
       "      <td>eis</td>\n",
       "      <td>Rv2416c</td>\n",
       "      <td>949</td>\n",
       "      <td>del</td>\n",
       "      <td>frameshift</td>\n",
       "      <td>317</td>\n",
       "      <td>4</td>\n",
       "      <td>1</td>\n",
       "      <td>4.4.1.1(4)</td>\n",
       "    </tr>\n",
       "    <tr>\n",
       "      <th>5</th>\n",
       "      <td>GT_2714433_G</td>\n",
       "      <td>2714433</td>\n",
       "      <td>GT</td>\n",
       "      <td>G</td>\n",
       "      <td>Non-Essential</td>\n",
       "      <td>eis</td>\n",
       "      <td>Rv2416c</td>\n",
       "      <td>900</td>\n",
       "      <td>del</td>\n",
       "      <td>frameshift</td>\n",
       "      <td>300</td>\n",
       "      <td>2</td>\n",
       "      <td>1</td>\n",
       "      <td>4.1.i1.2.1(2)</td>\n",
       "    </tr>\n",
       "    <tr>\n",
       "      <th>6</th>\n",
       "      <td>GGT_2714526_G</td>\n",
       "      <td>2714526</td>\n",
       "      <td>GGT</td>\n",
       "      <td>G</td>\n",
       "      <td>Non-Essential</td>\n",
       "      <td>eis</td>\n",
       "      <td>Rv2416c</td>\n",
       "      <td>807</td>\n",
       "      <td>del</td>\n",
       "      <td>frameshift</td>\n",
       "      <td>269</td>\n",
       "      <td>112</td>\n",
       "      <td>1</td>\n",
       "      <td>2.2.1.1.1(112)</td>\n",
       "    </tr>\n",
       "  </tbody>\n",
       "</table>\n",
       "</div>"
      ],
      "text/plain": [
       "               key      pos    ref alt  gene_category gene_name  gene_id  \\\n",
       "2     C_2714303_CG  2714303      C  CG  Non-Essential       eis  Rv2416c   \n",
       "3     G_2714334_GA  2714334      G  GA  Non-Essential       eis  Rv2416c   \n",
       "4  ACTCG_2714384_A  2714384  ACTCG   A  Non-Essential       eis  Rv2416c   \n",
       "5     GT_2714433_G  2714433     GT   G  Non-Essential       eis  Rv2416c   \n",
       "6    GGT_2714526_G  2714526    GGT   G  Non-Essential       eis  Rv2416c   \n",
       "\n",
       "  gene_pos ins_del  INDEL_type codon_pos  num_isolates  num_sublineages  \\\n",
       "2     1030     ins  frameshift       344             3                1   \n",
       "3      999     ins  frameshift       333             1                1   \n",
       "4      949     del  frameshift       317             4                1   \n",
       "5      900     del  frameshift       300             2                1   \n",
       "6      807     del  frameshift       269           112                1   \n",
       "\n",
       "       sublineages  \n",
       "2  4.1.i1.1.1.1(3)  \n",
       "3         3.1.1(1)  \n",
       "4       4.4.1.1(4)  \n",
       "5    4.1.i1.2.1(2)  \n",
       "6   2.2.1.1.1(112)  "
      ]
     },
     "execution_count": 78,
     "metadata": {},
     "output_type": "execute_result"
    }
   ],
   "source": [
    "regulon_INDELs_DF.head()"
   ]
  },
  {
   "cell_type": "code",
   "execution_count": 79,
   "metadata": {},
   "outputs": [
    {
     "data": {
      "text/plain": [
       "(18, 14)"
      ]
     },
     "execution_count": 79,
     "metadata": {},
     "output_type": "execute_result"
    }
   ],
   "source": [
    "np.shape(regulon_INDELs_DF)"
   ]
  },
  {
   "cell_type": "markdown",
   "metadata": {},
   "source": [
    "Drop **INDEL_type** column (since all indels are frameshifts) and rename **ins_del** column to fit with SNPs DataFrames"
   ]
  },
  {
   "cell_type": "code",
   "execution_count": 80,
   "metadata": {},
   "outputs": [
    {
     "name": "stderr",
     "output_type": "stream",
     "text": [
      "/home/rv76/anaconda2/lib/python2.7/site-packages/ipykernel_launcher.py:1: SettingWithCopyWarning: \n",
      "A value is trying to be set on a copy of a slice from a DataFrame\n",
      "\n",
      "See the caveats in the documentation: http://pandas.pydata.org/pandas-docs/stable/indexing.html#indexing-view-versus-copy\n",
      "  \"\"\"Entry point for launching an IPython kernel.\n"
     ]
    }
   ],
   "source": [
    "regulon_INDELs_DF.drop(['INDEL_type'], axis=1, inplace = True)\n",
    "regulon_INDELs_DF.rename(columns={'ins_del':'mut_type'}, inplace = True) #change column names"
   ]
  },
  {
   "cell_type": "markdown",
   "metadata": {},
   "source": [
    "Save DataFrame for *regulator* & *regulon* mutations"
   ]
  },
  {
   "cell_type": "code",
   "execution_count": 81,
   "metadata": {},
   "outputs": [],
   "source": [
    "regulator_SNPs_DF_for_export = regulator_SNPs_DF.drop(['array_index'], axis=1)\n",
    "regulon_SNPs_DF_for_export = regulon_SNPs_DF.drop(['array_index'], axis=1)\n",
    "regulator_regulon_mutations_df = regulator_SNPs_DF_for_export.append(regulon_SNPs_DF_for_export.append(regulator_INDELs_DF.append(regulon_INDELs_DF)))\n",
    "\n",
    "regulator_regulon_mutations_df.drop(['key'], axis=1, inplace = True) #drop col\n",
    "regulator_regulon_mutations_df.sort_values(by = 'pos', inplace = True) #sort by reference position\n",
    "regulator_regulon_mutations_df.reset_index(inplace = True, drop = True) #reset index"
   ]
  },
  {
   "cell_type": "code",
   "execution_count": 82,
   "metadata": {},
   "outputs": [
    {
     "data": {
      "text/plain": [
       "(50, 12)"
      ]
     },
     "execution_count": 82,
     "metadata": {},
     "output_type": "execute_result"
    }
   ],
   "source": [
    "np.shape(regulator_regulon_mutations_df)"
   ]
  },
  {
   "cell_type": "code",
   "execution_count": 83,
   "metadata": {},
   "outputs": [
    {
     "data": {
      "text/html": [
       "<div>\n",
       "<style>\n",
       "    .dataframe thead tr:only-child th {\n",
       "        text-align: right;\n",
       "    }\n",
       "\n",
       "    .dataframe thead th {\n",
       "        text-align: left;\n",
       "    }\n",
       "\n",
       "    .dataframe tbody tr th {\n",
       "        vertical-align: top;\n",
       "    }\n",
       "</style>\n",
       "<table border=\"1\" class=\"dataframe\">\n",
       "  <thead>\n",
       "    <tr style=\"text-align: right;\">\n",
       "      <th></th>\n",
       "      <th>pos</th>\n",
       "      <th>ref</th>\n",
       "      <th>alt</th>\n",
       "      <th>gene_category</th>\n",
       "      <th>gene_name</th>\n",
       "      <th>gene_id</th>\n",
       "      <th>gene_pos</th>\n",
       "      <th>mut_type</th>\n",
       "      <th>codon_pos</th>\n",
       "      <th>num_isolates</th>\n",
       "      <th>num_sublineages</th>\n",
       "      <th>sublineages</th>\n",
       "    </tr>\n",
       "  </thead>\n",
       "  <tbody>\n",
       "    <tr>\n",
       "      <th>0</th>\n",
       "      <td>2714303</td>\n",
       "      <td>C</td>\n",
       "      <td>CG</td>\n",
       "      <td>Non-Essential</td>\n",
       "      <td>eis</td>\n",
       "      <td>Rv2416c</td>\n",
       "      <td>1030</td>\n",
       "      <td>ins</td>\n",
       "      <td>344</td>\n",
       "      <td>3</td>\n",
       "      <td>1</td>\n",
       "      <td>4.1.i1.1.1.1(3)</td>\n",
       "    </tr>\n",
       "    <tr>\n",
       "      <th>1</th>\n",
       "      <td>2714334</td>\n",
       "      <td>G</td>\n",
       "      <td>GA</td>\n",
       "      <td>Non-Essential</td>\n",
       "      <td>eis</td>\n",
       "      <td>Rv2416c</td>\n",
       "      <td>999</td>\n",
       "      <td>ins</td>\n",
       "      <td>333</td>\n",
       "      <td>1</td>\n",
       "      <td>1</td>\n",
       "      <td>3.1.1(1)</td>\n",
       "    </tr>\n",
       "    <tr>\n",
       "      <th>2</th>\n",
       "      <td>2714384</td>\n",
       "      <td>ACTCG</td>\n",
       "      <td>A</td>\n",
       "      <td>Non-Essential</td>\n",
       "      <td>eis</td>\n",
       "      <td>Rv2416c</td>\n",
       "      <td>949</td>\n",
       "      <td>del</td>\n",
       "      <td>317</td>\n",
       "      <td>4</td>\n",
       "      <td>1</td>\n",
       "      <td>4.4.1.1(4)</td>\n",
       "    </tr>\n",
       "    <tr>\n",
       "      <th>3</th>\n",
       "      <td>2714433</td>\n",
       "      <td>GT</td>\n",
       "      <td>G</td>\n",
       "      <td>Non-Essential</td>\n",
       "      <td>eis</td>\n",
       "      <td>Rv2416c</td>\n",
       "      <td>900</td>\n",
       "      <td>del</td>\n",
       "      <td>300</td>\n",
       "      <td>2</td>\n",
       "      <td>1</td>\n",
       "      <td>4.1.i1.2.1(2)</td>\n",
       "    </tr>\n",
       "    <tr>\n",
       "      <th>4</th>\n",
       "      <td>2714449</td>\n",
       "      <td>C</td>\n",
       "      <td>T</td>\n",
       "      <td>Non-Essential</td>\n",
       "      <td>eis</td>\n",
       "      <td>Rv2416c</td>\n",
       "      <td>884</td>\n",
       "      <td>N</td>\n",
       "      <td>W295*</td>\n",
       "      <td>1</td>\n",
       "      <td>1</td>\n",
       "      <td>3.1.1(1)</td>\n",
       "    </tr>\n",
       "    <tr>\n",
       "      <th>5</th>\n",
       "      <td>2714526</td>\n",
       "      <td>GGT</td>\n",
       "      <td>G</td>\n",
       "      <td>Non-Essential</td>\n",
       "      <td>eis</td>\n",
       "      <td>Rv2416c</td>\n",
       "      <td>807</td>\n",
       "      <td>del</td>\n",
       "      <td>269</td>\n",
       "      <td>112</td>\n",
       "      <td>1</td>\n",
       "      <td>2.2.1.1.1(112)</td>\n",
       "    </tr>\n",
       "    <tr>\n",
       "      <th>6</th>\n",
       "      <td>2714543</td>\n",
       "      <td>G</td>\n",
       "      <td>A</td>\n",
       "      <td>Non-Essential</td>\n",
       "      <td>eis</td>\n",
       "      <td>Rv2416c</td>\n",
       "      <td>790</td>\n",
       "      <td>N</td>\n",
       "      <td>R264*</td>\n",
       "      <td>1</td>\n",
       "      <td>1</td>\n",
       "      <td>3.1.1(1)</td>\n",
       "    </tr>\n",
       "    <tr>\n",
       "      <th>7</th>\n",
       "      <td>2714557</td>\n",
       "      <td>AGGCCAATCAG</td>\n",
       "      <td>A</td>\n",
       "      <td>Non-Essential</td>\n",
       "      <td>eis</td>\n",
       "      <td>Rv2416c</td>\n",
       "      <td>776</td>\n",
       "      <td>del</td>\n",
       "      <td>259</td>\n",
       "      <td>1</td>\n",
       "      <td>1</td>\n",
       "      <td>2.2.1.1.1(1)</td>\n",
       "    </tr>\n",
       "    <tr>\n",
       "      <th>8</th>\n",
       "      <td>2714664</td>\n",
       "      <td>G</td>\n",
       "      <td>T</td>\n",
       "      <td>Non-Essential</td>\n",
       "      <td>eis</td>\n",
       "      <td>Rv2416c</td>\n",
       "      <td>669</td>\n",
       "      <td>N</td>\n",
       "      <td>Y223*</td>\n",
       "      <td>2</td>\n",
       "      <td>1</td>\n",
       "      <td>3.1.1(2)</td>\n",
       "    </tr>\n",
       "    <tr>\n",
       "      <th>9</th>\n",
       "      <td>2714740</td>\n",
       "      <td>TC</td>\n",
       "      <td>T</td>\n",
       "      <td>Non-Essential</td>\n",
       "      <td>eis</td>\n",
       "      <td>Rv2416c</td>\n",
       "      <td>593</td>\n",
       "      <td>del</td>\n",
       "      <td>198</td>\n",
       "      <td>2</td>\n",
       "      <td>1</td>\n",
       "      <td>1.1.2(2)</td>\n",
       "    </tr>\n",
       "    <tr>\n",
       "      <th>10</th>\n",
       "      <td>2714753</td>\n",
       "      <td>G</td>\n",
       "      <td>A</td>\n",
       "      <td>Non-Essential</td>\n",
       "      <td>eis</td>\n",
       "      <td>Rv2416c</td>\n",
       "      <td>580</td>\n",
       "      <td>N</td>\n",
       "      <td>Q194*</td>\n",
       "      <td>10</td>\n",
       "      <td>2</td>\n",
       "      <td>4.10.i1(1) - 1.2.2.1(9)</td>\n",
       "    </tr>\n",
       "    <tr>\n",
       "      <th>11</th>\n",
       "      <td>2714760</td>\n",
       "      <td>TAGCA</td>\n",
       "      <td>T</td>\n",
       "      <td>Non-Essential</td>\n",
       "      <td>eis</td>\n",
       "      <td>Rv2416c</td>\n",
       "      <td>573</td>\n",
       "      <td>del</td>\n",
       "      <td>191</td>\n",
       "      <td>1</td>\n",
       "      <td>1</td>\n",
       "      <td>2.2.1.1.1(1)</td>\n",
       "    </tr>\n",
       "    <tr>\n",
       "      <th>12</th>\n",
       "      <td>2714787</td>\n",
       "      <td>C</td>\n",
       "      <td>T</td>\n",
       "      <td>Non-Essential</td>\n",
       "      <td>eis</td>\n",
       "      <td>Rv2416c</td>\n",
       "      <td>546</td>\n",
       "      <td>N</td>\n",
       "      <td>W182*</td>\n",
       "      <td>15</td>\n",
       "      <td>1</td>\n",
       "      <td>4.10.i1(15)</td>\n",
       "    </tr>\n",
       "    <tr>\n",
       "      <th>13</th>\n",
       "      <td>2714847</td>\n",
       "      <td>G</td>\n",
       "      <td>GCT</td>\n",
       "      <td>Non-Essential</td>\n",
       "      <td>eis</td>\n",
       "      <td>Rv2416c</td>\n",
       "      <td>486</td>\n",
       "      <td>ins</td>\n",
       "      <td>162</td>\n",
       "      <td>2</td>\n",
       "      <td>1</td>\n",
       "      <td>4.1.i1.1.1.1(2)</td>\n",
       "    </tr>\n",
       "    <tr>\n",
       "      <th>14</th>\n",
       "      <td>2714860</td>\n",
       "      <td>A</td>\n",
       "      <td>AT</td>\n",
       "      <td>Non-Essential</td>\n",
       "      <td>eis</td>\n",
       "      <td>Rv2416c</td>\n",
       "      <td>473</td>\n",
       "      <td>ins</td>\n",
       "      <td>158</td>\n",
       "      <td>1</td>\n",
       "      <td>1</td>\n",
       "      <td>2.2.1.1.1.i3(1)</td>\n",
       "    </tr>\n",
       "    <tr>\n",
       "      <th>15</th>\n",
       "      <td>2714885</td>\n",
       "      <td>GA</td>\n",
       "      <td>G</td>\n",
       "      <td>Non-Essential</td>\n",
       "      <td>eis</td>\n",
       "      <td>Rv2416c</td>\n",
       "      <td>448</td>\n",
       "      <td>del</td>\n",
       "      <td>150</td>\n",
       "      <td>7</td>\n",
       "      <td>1</td>\n",
       "      <td>2.2.1.1.1.i3(7)</td>\n",
       "    </tr>\n",
       "    <tr>\n",
       "      <th>16</th>\n",
       "      <td>2714966</td>\n",
       "      <td>CCTCG</td>\n",
       "      <td>C</td>\n",
       "      <td>Non-Essential</td>\n",
       "      <td>eis</td>\n",
       "      <td>Rv2416c</td>\n",
       "      <td>367</td>\n",
       "      <td>del</td>\n",
       "      <td>123</td>\n",
       "      <td>1</td>\n",
       "      <td>1</td>\n",
       "      <td>4.1.i1.1.2(1)</td>\n",
       "    </tr>\n",
       "    <tr>\n",
       "      <th>17</th>\n",
       "      <td>2715209</td>\n",
       "      <td>TG</td>\n",
       "      <td>T</td>\n",
       "      <td>Non-Essential</td>\n",
       "      <td>eis</td>\n",
       "      <td>Rv2416c</td>\n",
       "      <td>124</td>\n",
       "      <td>del</td>\n",
       "      <td>42</td>\n",
       "      <td>1</td>\n",
       "      <td>1</td>\n",
       "      <td>4.5(1)</td>\n",
       "    </tr>\n",
       "    <tr>\n",
       "      <th>18</th>\n",
       "      <td>2715214</td>\n",
       "      <td>AC</td>\n",
       "      <td>A</td>\n",
       "      <td>Non-Essential</td>\n",
       "      <td>eis</td>\n",
       "      <td>Rv2416c</td>\n",
       "      <td>119</td>\n",
       "      <td>del</td>\n",
       "      <td>40</td>\n",
       "      <td>2</td>\n",
       "      <td>1</td>\n",
       "      <td>2.2.1.1.1(2)</td>\n",
       "    </tr>\n",
       "    <tr>\n",
       "      <th>19</th>\n",
       "      <td>2715287</td>\n",
       "      <td>T</td>\n",
       "      <td>TC</td>\n",
       "      <td>Non-Essential</td>\n",
       "      <td>eis</td>\n",
       "      <td>Rv2416c</td>\n",
       "      <td>46</td>\n",
       "      <td>ins</td>\n",
       "      <td>16</td>\n",
       "      <td>3</td>\n",
       "      <td>2</td>\n",
       "      <td>4.4.1.1(1) - 4.3.i2(2)</td>\n",
       "    </tr>\n",
       "    <tr>\n",
       "      <th>20</th>\n",
       "      <td>2715291</td>\n",
       "      <td>C</td>\n",
       "      <td>CG</td>\n",
       "      <td>Non-Essential</td>\n",
       "      <td>eis</td>\n",
       "      <td>Rv2416c</td>\n",
       "      <td>42</td>\n",
       "      <td>ins</td>\n",
       "      <td>14</td>\n",
       "      <td>1</td>\n",
       "      <td>1</td>\n",
       "      <td>1.1.1.2(1)</td>\n",
       "    </tr>\n",
       "    <tr>\n",
       "      <th>21</th>\n",
       "      <td>2715294</td>\n",
       "      <td>C</td>\n",
       "      <td>T</td>\n",
       "      <td>Non-Essential</td>\n",
       "      <td>eis</td>\n",
       "      <td>Rv2416c</td>\n",
       "      <td>39</td>\n",
       "      <td>N</td>\n",
       "      <td>W13*</td>\n",
       "      <td>1</td>\n",
       "      <td>1</td>\n",
       "      <td>2.2.1.1.1(1)</td>\n",
       "    </tr>\n",
       "    <tr>\n",
       "      <th>22</th>\n",
       "      <td>2715295</td>\n",
       "      <td>C</td>\n",
       "      <td>T</td>\n",
       "      <td>Non-Essential</td>\n",
       "      <td>eis</td>\n",
       "      <td>Rv2416c</td>\n",
       "      <td>38</td>\n",
       "      <td>N</td>\n",
       "      <td>W13*</td>\n",
       "      <td>1</td>\n",
       "      <td>1</td>\n",
       "      <td>2.2.1.1.1(1)</td>\n",
       "    </tr>\n",
       "    <tr>\n",
       "      <th>23</th>\n",
       "      <td>2715305</td>\n",
       "      <td>C</td>\n",
       "      <td>A</td>\n",
       "      <td>Non-Essential</td>\n",
       "      <td>eis</td>\n",
       "      <td>Rv2416c</td>\n",
       "      <td>28</td>\n",
       "      <td>N</td>\n",
       "      <td>E10*</td>\n",
       "      <td>6</td>\n",
       "      <td>2</td>\n",
       "      <td>1.1.3(5) - 1.1.1.1(1)</td>\n",
       "    </tr>\n",
       "    <tr>\n",
       "      <th>24</th>\n",
       "      <td>2715317</td>\n",
       "      <td>A</td>\n",
       "      <td>AC</td>\n",
       "      <td>Non-Essential</td>\n",
       "      <td>eis</td>\n",
       "      <td>Rv2416c</td>\n",
       "      <td>16</td>\n",
       "      <td>ins</td>\n",
       "      <td>6</td>\n",
       "      <td>1</td>\n",
       "      <td>1</td>\n",
       "      <td>2.2.1.1.1(1)</td>\n",
       "    </tr>\n",
       "    <tr>\n",
       "      <th>25</th>\n",
       "      <td>2715319</td>\n",
       "      <td>A</td>\n",
       "      <td>AC</td>\n",
       "      <td>Non-Essential</td>\n",
       "      <td>eis</td>\n",
       "      <td>Rv2416c</td>\n",
       "      <td>14</td>\n",
       "      <td>ins</td>\n",
       "      <td>5</td>\n",
       "      <td>1</td>\n",
       "      <td>1</td>\n",
       "      <td>2.2.1.1.1(1)</td>\n",
       "    </tr>\n",
       "    <tr>\n",
       "      <th>26</th>\n",
       "      <td>2715330</td>\n",
       "      <td>C</td>\n",
       "      <td>T</td>\n",
       "      <td>Non-Essential</td>\n",
       "      <td>eis</td>\n",
       "      <td>Rv2416c</td>\n",
       "      <td>3</td>\n",
       "      <td>S</td>\n",
       "      <td>V1V</td>\n",
       "      <td>6</td>\n",
       "      <td>2</td>\n",
       "      <td>2.2.1.1.1.i3(5) - 1.1.1.1(1)</td>\n",
       "    </tr>\n",
       "    <tr>\n",
       "      <th>27</th>\n",
       "      <td>2715333</td>\n",
       "      <td>A</td>\n",
       "      <td>C</td>\n",
       "      <td>None</td>\n",
       "      <td>None</td>\n",
       "      <td>Rv2416c_Rv2417c</td>\n",
       "      <td>None</td>\n",
       "      <td>I</td>\n",
       "      <td>None</td>\n",
       "      <td>2</td>\n",
       "      <td>2</td>\n",
       "      <td>4.3.i3.1(1) - 1.1.1.1(1)</td>\n",
       "    </tr>\n",
       "    <tr>\n",
       "      <th>28</th>\n",
       "      <td>2715334</td>\n",
       "      <td>GAATCCGAC</td>\n",
       "      <td>G</td>\n",
       "      <td>None</td>\n",
       "      <td>None</td>\n",
       "      <td>Rv2416c_Rv2417c</td>\n",
       "      <td>None</td>\n",
       "      <td>del</td>\n",
       "      <td>None</td>\n",
       "      <td>1</td>\n",
       "      <td>1</td>\n",
       "      <td>2.2.1.1.1.i3(1)</td>\n",
       "    </tr>\n",
       "    <tr>\n",
       "      <th>29</th>\n",
       "      <td>2715337</td>\n",
       "      <td>T</td>\n",
       "      <td>C</td>\n",
       "      <td>None</td>\n",
       "      <td>None</td>\n",
       "      <td>Rv2416c_Rv2417c</td>\n",
       "      <td>None</td>\n",
       "      <td>I</td>\n",
       "      <td>None</td>\n",
       "      <td>1</td>\n",
       "      <td>1</td>\n",
       "      <td>3.1.1(1)</td>\n",
       "    </tr>\n",
       "    <tr>\n",
       "      <th>30</th>\n",
       "      <td>2715338</td>\n",
       "      <td>C</td>\n",
       "      <td>A</td>\n",
       "      <td>None</td>\n",
       "      <td>None</td>\n",
       "      <td>Rv2416c_Rv2417c</td>\n",
       "      <td>None</td>\n",
       "      <td>I</td>\n",
       "      <td>None</td>\n",
       "      <td>2</td>\n",
       "      <td>1</td>\n",
       "      <td>4.3.i4.1(2)</td>\n",
       "    </tr>\n",
       "    <tr>\n",
       "      <th>31</th>\n",
       "      <td>2715339</td>\n",
       "      <td>CG</td>\n",
       "      <td>C</td>\n",
       "      <td>None</td>\n",
       "      <td>None</td>\n",
       "      <td>Rv2416c_Rv2417c</td>\n",
       "      <td>None</td>\n",
       "      <td>del</td>\n",
       "      <td>None</td>\n",
       "      <td>7</td>\n",
       "      <td>3</td>\n",
       "      <td>2.2.1.1.1.i3(1) - 2.2.1.1.1(5) - 4.4.2(1)</td>\n",
       "    </tr>\n",
       "    <tr>\n",
       "      <th>32</th>\n",
       "      <td>2715340</td>\n",
       "      <td>G</td>\n",
       "      <td>A</td>\n",
       "      <td>None</td>\n",
       "      <td>None</td>\n",
       "      <td>Rv2416c_Rv2417c</td>\n",
       "      <td>None</td>\n",
       "      <td>I</td>\n",
       "      <td>None</td>\n",
       "      <td>9</td>\n",
       "      <td>3</td>\n",
       "      <td>4.3.i4.1(1) - 4.1.i1.1.1.1(7) - 2.2.1.1.2(1)</td>\n",
       "    </tr>\n",
       "    <tr>\n",
       "      <th>33</th>\n",
       "      <td>2715340</td>\n",
       "      <td>G</td>\n",
       "      <td>T</td>\n",
       "      <td>None</td>\n",
       "      <td>None</td>\n",
       "      <td>Rv2416c_Rv2417c</td>\n",
       "      <td>None</td>\n",
       "      <td>I</td>\n",
       "      <td>None</td>\n",
       "      <td>11</td>\n",
       "      <td>4</td>\n",
       "      <td>4.11(2) - 2.2.1.1.1.i3(5) - 4.3.i3.1(3) - 2.2....</td>\n",
       "    </tr>\n",
       "    <tr>\n",
       "      <th>34</th>\n",
       "      <td>2715341</td>\n",
       "      <td>A</td>\n",
       "      <td>G</td>\n",
       "      <td>None</td>\n",
       "      <td>None</td>\n",
       "      <td>Rv2416c_Rv2417c</td>\n",
       "      <td>None</td>\n",
       "      <td>I</td>\n",
       "      <td>None</td>\n",
       "      <td>1</td>\n",
       "      <td>1</td>\n",
       "      <td>2.2.1.1.1(1)</td>\n",
       "    </tr>\n",
       "    <tr>\n",
       "      <th>35</th>\n",
       "      <td>2715342</td>\n",
       "      <td>C</td>\n",
       "      <td>T</td>\n",
       "      <td>None</td>\n",
       "      <td>None</td>\n",
       "      <td>Rv2416c_Rv2417c</td>\n",
       "      <td>None</td>\n",
       "      <td>I</td>\n",
       "      <td>None</td>\n",
       "      <td>293</td>\n",
       "      <td>18</td>\n",
       "      <td>4.11(1) - 2.2.1.1.1.i3(58) - 4.3.i3.1(14) - 4....</td>\n",
       "    </tr>\n",
       "    <tr>\n",
       "      <th>36</th>\n",
       "      <td>2715342</td>\n",
       "      <td>C</td>\n",
       "      <td>G</td>\n",
       "      <td>None</td>\n",
       "      <td>None</td>\n",
       "      <td>Rv2416c_Rv2417c</td>\n",
       "      <td>None</td>\n",
       "      <td>I</td>\n",
       "      <td>None</td>\n",
       "      <td>11</td>\n",
       "      <td>5</td>\n",
       "      <td>4.5(2) - 4.10.i1(1) - 4.3.i3.1(4) - 2.2.1.1.1(...</td>\n",
       "    </tr>\n",
       "    <tr>\n",
       "      <th>37</th>\n",
       "      <td>2715344</td>\n",
       "      <td>G</td>\n",
       "      <td>A</td>\n",
       "      <td>None</td>\n",
       "      <td>None</td>\n",
       "      <td>Rv2416c_Rv2417c</td>\n",
       "      <td>None</td>\n",
       "      <td>I</td>\n",
       "      <td>None</td>\n",
       "      <td>332</td>\n",
       "      <td>17</td>\n",
       "      <td>4.10.i2(1) - 2.2.1.1.1.i3(70) - 4.3.i3.1(50) -...</td>\n",
       "    </tr>\n",
       "    <tr>\n",
       "      <th>38</th>\n",
       "      <td>2715345</td>\n",
       "      <td>T</td>\n",
       "      <td>C</td>\n",
       "      <td>None</td>\n",
       "      <td>None</td>\n",
       "      <td>Rv2416c_Rv2417c</td>\n",
       "      <td>None</td>\n",
       "      <td>I</td>\n",
       "      <td>None</td>\n",
       "      <td>3</td>\n",
       "      <td>1</td>\n",
       "      <td>2.2.1.1.1.i3(3)</td>\n",
       "    </tr>\n",
       "    <tr>\n",
       "      <th>39</th>\n",
       "      <td>2715346</td>\n",
       "      <td>G</td>\n",
       "      <td>A</td>\n",
       "      <td>None</td>\n",
       "      <td>None</td>\n",
       "      <td>Rv2416c_Rv2417c</td>\n",
       "      <td>None</td>\n",
       "      <td>I</td>\n",
       "      <td>None</td>\n",
       "      <td>181</td>\n",
       "      <td>19</td>\n",
       "      <td>2.2.1.1.1.i3(89) - 4.3.i3.1(18) - 4.10.i2(4) -...</td>\n",
       "    </tr>\n",
       "    <tr>\n",
       "      <th>40</th>\n",
       "      <td>2715347</td>\n",
       "      <td>G</td>\n",
       "      <td>A</td>\n",
       "      <td>None</td>\n",
       "      <td>None</td>\n",
       "      <td>Rv2416c_Rv2417c</td>\n",
       "      <td>None</td>\n",
       "      <td>I</td>\n",
       "      <td>None</td>\n",
       "      <td>1</td>\n",
       "      <td>1</td>\n",
       "      <td>3.1.1(1)</td>\n",
       "    </tr>\n",
       "    <tr>\n",
       "      <th>41</th>\n",
       "      <td>2715347</td>\n",
       "      <td>G</td>\n",
       "      <td>C</td>\n",
       "      <td>None</td>\n",
       "      <td>None</td>\n",
       "      <td>Rv2416c_Rv2417c</td>\n",
       "      <td>None</td>\n",
       "      <td>I</td>\n",
       "      <td>None</td>\n",
       "      <td>16</td>\n",
       "      <td>6</td>\n",
       "      <td>4.11(3) - 2.2.1.1.1.i3(2) - 4.3.i3.1(1) - 4.1....</td>\n",
       "    </tr>\n",
       "    <tr>\n",
       "      <th>42</th>\n",
       "      <td>2715353</td>\n",
       "      <td>G</td>\n",
       "      <td>A</td>\n",
       "      <td>None</td>\n",
       "      <td>None</td>\n",
       "      <td>Rv2416c_Rv2417c</td>\n",
       "      <td>None</td>\n",
       "      <td>I</td>\n",
       "      <td>None</td>\n",
       "      <td>1</td>\n",
       "      <td>1</td>\n",
       "      <td>4.1.i1.1.2(1)</td>\n",
       "    </tr>\n",
       "    <tr>\n",
       "      <th>43</th>\n",
       "      <td>2715355</td>\n",
       "      <td>C</td>\n",
       "      <td>A</td>\n",
       "      <td>None</td>\n",
       "      <td>None</td>\n",
       "      <td>Rv2416c_Rv2417c</td>\n",
       "      <td>None</td>\n",
       "      <td>I</td>\n",
       "      <td>None</td>\n",
       "      <td>5</td>\n",
       "      <td>1</td>\n",
       "      <td>2.2.1.1.1.i3(5)</td>\n",
       "    </tr>\n",
       "    <tr>\n",
       "      <th>44</th>\n",
       "      <td>2715362</td>\n",
       "      <td>AC</td>\n",
       "      <td>A</td>\n",
       "      <td>None</td>\n",
       "      <td>None</td>\n",
       "      <td>Rv2416c_Rv2417c</td>\n",
       "      <td>None</td>\n",
       "      <td>del</td>\n",
       "      <td>None</td>\n",
       "      <td>1</td>\n",
       "      <td>1</td>\n",
       "      <td>4.3.i3.2(1)</td>\n",
       "    </tr>\n",
       "    <tr>\n",
       "      <th>45</th>\n",
       "      <td>2715365</td>\n",
       "      <td>T</td>\n",
       "      <td>C</td>\n",
       "      <td>None</td>\n",
       "      <td>None</td>\n",
       "      <td>Rv2416c_Rv2417c</td>\n",
       "      <td>None</td>\n",
       "      <td>I</td>\n",
       "      <td>None</td>\n",
       "      <td>2</td>\n",
       "      <td>1</td>\n",
       "      <td>4.3.i4.2(2)</td>\n",
       "    </tr>\n",
       "    <tr>\n",
       "      <th>46</th>\n",
       "      <td>2715369</td>\n",
       "      <td>C</td>\n",
       "      <td>A</td>\n",
       "      <td>None</td>\n",
       "      <td>None</td>\n",
       "      <td>Rv2416c_Rv2417c</td>\n",
       "      <td>None</td>\n",
       "      <td>I</td>\n",
       "      <td>None</td>\n",
       "      <td>285</td>\n",
       "      <td>8</td>\n",
       "      <td>4.11(4) - 2.2.1.1.1.i3(230) - 4.1.i1.1.1.1(1) ...</td>\n",
       "    </tr>\n",
       "    <tr>\n",
       "      <th>47</th>\n",
       "      <td>2715375</td>\n",
       "      <td>T</td>\n",
       "      <td>C</td>\n",
       "      <td>None</td>\n",
       "      <td>None</td>\n",
       "      <td>Rv2416c_Rv2417c</td>\n",
       "      <td>None</td>\n",
       "      <td>I</td>\n",
       "      <td>None</td>\n",
       "      <td>1</td>\n",
       "      <td>1</td>\n",
       "      <td>4.3.i4.2(1)</td>\n",
       "    </tr>\n",
       "    <tr>\n",
       "      <th>48</th>\n",
       "      <td>2715376</td>\n",
       "      <td>A</td>\n",
       "      <td>G</td>\n",
       "      <td>None</td>\n",
       "      <td>None</td>\n",
       "      <td>Rv2416c_Rv2417c</td>\n",
       "      <td>None</td>\n",
       "      <td>I</td>\n",
       "      <td>None</td>\n",
       "      <td>4</td>\n",
       "      <td>1</td>\n",
       "      <td>4.1.i1.2.1(4)</td>\n",
       "    </tr>\n",
       "    <tr>\n",
       "      <th>49</th>\n",
       "      <td>2715382</td>\n",
       "      <td>A</td>\n",
       "      <td>G</td>\n",
       "      <td>None</td>\n",
       "      <td>None</td>\n",
       "      <td>Rv2416c_Rv2417c</td>\n",
       "      <td>None</td>\n",
       "      <td>I</td>\n",
       "      <td>None</td>\n",
       "      <td>1</td>\n",
       "      <td>1</td>\n",
       "      <td>4.1.i1.2.1(1)</td>\n",
       "    </tr>\n",
       "  </tbody>\n",
       "</table>\n",
       "</div>"
      ],
      "text/plain": [
       "        pos          ref  alt  gene_category gene_name          gene_id  \\\n",
       "0   2714303            C   CG  Non-Essential       eis          Rv2416c   \n",
       "1   2714334            G   GA  Non-Essential       eis          Rv2416c   \n",
       "2   2714384        ACTCG    A  Non-Essential       eis          Rv2416c   \n",
       "3   2714433           GT    G  Non-Essential       eis          Rv2416c   \n",
       "4   2714449            C    T  Non-Essential       eis          Rv2416c   \n",
       "5   2714526          GGT    G  Non-Essential       eis          Rv2416c   \n",
       "6   2714543            G    A  Non-Essential       eis          Rv2416c   \n",
       "7   2714557  AGGCCAATCAG    A  Non-Essential       eis          Rv2416c   \n",
       "8   2714664            G    T  Non-Essential       eis          Rv2416c   \n",
       "9   2714740           TC    T  Non-Essential       eis          Rv2416c   \n",
       "10  2714753            G    A  Non-Essential       eis          Rv2416c   \n",
       "11  2714760        TAGCA    T  Non-Essential       eis          Rv2416c   \n",
       "12  2714787            C    T  Non-Essential       eis          Rv2416c   \n",
       "13  2714847            G  GCT  Non-Essential       eis          Rv2416c   \n",
       "14  2714860            A   AT  Non-Essential       eis          Rv2416c   \n",
       "15  2714885           GA    G  Non-Essential       eis          Rv2416c   \n",
       "16  2714966        CCTCG    C  Non-Essential       eis          Rv2416c   \n",
       "17  2715209           TG    T  Non-Essential       eis          Rv2416c   \n",
       "18  2715214           AC    A  Non-Essential       eis          Rv2416c   \n",
       "19  2715287            T   TC  Non-Essential       eis          Rv2416c   \n",
       "20  2715291            C   CG  Non-Essential       eis          Rv2416c   \n",
       "21  2715294            C    T  Non-Essential       eis          Rv2416c   \n",
       "22  2715295            C    T  Non-Essential       eis          Rv2416c   \n",
       "23  2715305            C    A  Non-Essential       eis          Rv2416c   \n",
       "24  2715317            A   AC  Non-Essential       eis          Rv2416c   \n",
       "25  2715319            A   AC  Non-Essential       eis          Rv2416c   \n",
       "26  2715330            C    T  Non-Essential       eis          Rv2416c   \n",
       "27  2715333            A    C           None      None  Rv2416c_Rv2417c   \n",
       "28  2715334    GAATCCGAC    G           None      None  Rv2416c_Rv2417c   \n",
       "29  2715337            T    C           None      None  Rv2416c_Rv2417c   \n",
       "30  2715338            C    A           None      None  Rv2416c_Rv2417c   \n",
       "31  2715339           CG    C           None      None  Rv2416c_Rv2417c   \n",
       "32  2715340            G    A           None      None  Rv2416c_Rv2417c   \n",
       "33  2715340            G    T           None      None  Rv2416c_Rv2417c   \n",
       "34  2715341            A    G           None      None  Rv2416c_Rv2417c   \n",
       "35  2715342            C    T           None      None  Rv2416c_Rv2417c   \n",
       "36  2715342            C    G           None      None  Rv2416c_Rv2417c   \n",
       "37  2715344            G    A           None      None  Rv2416c_Rv2417c   \n",
       "38  2715345            T    C           None      None  Rv2416c_Rv2417c   \n",
       "39  2715346            G    A           None      None  Rv2416c_Rv2417c   \n",
       "40  2715347            G    A           None      None  Rv2416c_Rv2417c   \n",
       "41  2715347            G    C           None      None  Rv2416c_Rv2417c   \n",
       "42  2715353            G    A           None      None  Rv2416c_Rv2417c   \n",
       "43  2715355            C    A           None      None  Rv2416c_Rv2417c   \n",
       "44  2715362           AC    A           None      None  Rv2416c_Rv2417c   \n",
       "45  2715365            T    C           None      None  Rv2416c_Rv2417c   \n",
       "46  2715369            C    A           None      None  Rv2416c_Rv2417c   \n",
       "47  2715375            T    C           None      None  Rv2416c_Rv2417c   \n",
       "48  2715376            A    G           None      None  Rv2416c_Rv2417c   \n",
       "49  2715382            A    G           None      None  Rv2416c_Rv2417c   \n",
       "\n",
       "   gene_pos mut_type codon_pos  num_isolates  num_sublineages  \\\n",
       "0      1030      ins       344             3                1   \n",
       "1       999      ins       333             1                1   \n",
       "2       949      del       317             4                1   \n",
       "3       900      del       300             2                1   \n",
       "4       884        N     W295*             1                1   \n",
       "5       807      del       269           112                1   \n",
       "6       790        N     R264*             1                1   \n",
       "7       776      del       259             1                1   \n",
       "8       669        N     Y223*             2                1   \n",
       "9       593      del       198             2                1   \n",
       "10      580        N     Q194*            10                2   \n",
       "11      573      del       191             1                1   \n",
       "12      546        N     W182*            15                1   \n",
       "13      486      ins       162             2                1   \n",
       "14      473      ins       158             1                1   \n",
       "15      448      del       150             7                1   \n",
       "16      367      del       123             1                1   \n",
       "17      124      del        42             1                1   \n",
       "18      119      del        40             2                1   \n",
       "19       46      ins        16             3                2   \n",
       "20       42      ins        14             1                1   \n",
       "21       39        N      W13*             1                1   \n",
       "22       38        N      W13*             1                1   \n",
       "23       28        N      E10*             6                2   \n",
       "24       16      ins         6             1                1   \n",
       "25       14      ins         5             1                1   \n",
       "26        3        S       V1V             6                2   \n",
       "27     None        I      None             2                2   \n",
       "28     None      del      None             1                1   \n",
       "29     None        I      None             1                1   \n",
       "30     None        I      None             2                1   \n",
       "31     None      del      None             7                3   \n",
       "32     None        I      None             9                3   \n",
       "33     None        I      None            11                4   \n",
       "34     None        I      None             1                1   \n",
       "35     None        I      None           293               18   \n",
       "36     None        I      None            11                5   \n",
       "37     None        I      None           332               17   \n",
       "38     None        I      None             3                1   \n",
       "39     None        I      None           181               19   \n",
       "40     None        I      None             1                1   \n",
       "41     None        I      None            16                6   \n",
       "42     None        I      None             1                1   \n",
       "43     None        I      None             5                1   \n",
       "44     None      del      None             1                1   \n",
       "45     None        I      None             2                1   \n",
       "46     None        I      None           285                8   \n",
       "47     None        I      None             1                1   \n",
       "48     None        I      None             4                1   \n",
       "49     None        I      None             1                1   \n",
       "\n",
       "                                          sublineages  \n",
       "0                                     4.1.i1.1.1.1(3)  \n",
       "1                                            3.1.1(1)  \n",
       "2                                          4.4.1.1(4)  \n",
       "3                                       4.1.i1.2.1(2)  \n",
       "4                                            3.1.1(1)  \n",
       "5                                      2.2.1.1.1(112)  \n",
       "6                                            3.1.1(1)  \n",
       "7                                        2.2.1.1.1(1)  \n",
       "8                                            3.1.1(2)  \n",
       "9                                            1.1.2(2)  \n",
       "10                            4.10.i1(1) - 1.2.2.1(9)  \n",
       "11                                       2.2.1.1.1(1)  \n",
       "12                                        4.10.i1(15)  \n",
       "13                                    4.1.i1.1.1.1(2)  \n",
       "14                                    2.2.1.1.1.i3(1)  \n",
       "15                                    2.2.1.1.1.i3(7)  \n",
       "16                                      4.1.i1.1.2(1)  \n",
       "17                                             4.5(1)  \n",
       "18                                       2.2.1.1.1(2)  \n",
       "19                             4.4.1.1(1) - 4.3.i2(2)  \n",
       "20                                         1.1.1.2(1)  \n",
       "21                                       2.2.1.1.1(1)  \n",
       "22                                       2.2.1.1.1(1)  \n",
       "23                              1.1.3(5) - 1.1.1.1(1)  \n",
       "24                                       2.2.1.1.1(1)  \n",
       "25                                       2.2.1.1.1(1)  \n",
       "26                       2.2.1.1.1.i3(5) - 1.1.1.1(1)  \n",
       "27                           4.3.i3.1(1) - 1.1.1.1(1)  \n",
       "28                                    2.2.1.1.1.i3(1)  \n",
       "29                                           3.1.1(1)  \n",
       "30                                        4.3.i4.1(2)  \n",
       "31          2.2.1.1.1.i3(1) - 2.2.1.1.1(5) - 4.4.2(1)  \n",
       "32       4.3.i4.1(1) - 4.1.i1.1.1.1(7) - 2.2.1.1.2(1)  \n",
       "33  4.11(2) - 2.2.1.1.1.i3(5) - 4.3.i3.1(3) - 2.2....  \n",
       "34                                       2.2.1.1.1(1)  \n",
       "35  4.11(1) - 2.2.1.1.1.i3(58) - 4.3.i3.1(14) - 4....  \n",
       "36  4.5(2) - 4.10.i1(1) - 4.3.i3.1(4) - 2.2.1.1.1(...  \n",
       "37  4.10.i2(1) - 2.2.1.1.1.i3(70) - 4.3.i3.1(50) -...  \n",
       "38                                    2.2.1.1.1.i3(3)  \n",
       "39  2.2.1.1.1.i3(89) - 4.3.i3.1(18) - 4.10.i2(4) -...  \n",
       "40                                           3.1.1(1)  \n",
       "41  4.11(3) - 2.2.1.1.1.i3(2) - 4.3.i3.1(1) - 4.1....  \n",
       "42                                      4.1.i1.1.2(1)  \n",
       "43                                    2.2.1.1.1.i3(5)  \n",
       "44                                        4.3.i3.2(1)  \n",
       "45                                        4.3.i4.2(2)  \n",
       "46  4.11(4) - 2.2.1.1.1.i3(230) - 4.1.i1.1.1.1(1) ...  \n",
       "47                                        4.3.i4.2(1)  \n",
       "48                                      4.1.i1.2.1(4)  \n",
       "49                                      4.1.i1.2.1(1)  "
      ]
     },
     "execution_count": 83,
     "metadata": {},
     "output_type": "execute_result"
    }
   ],
   "source": [
    "regulator_regulon_mutations_df"
   ]
  },
  {
   "cell_type": "code",
   "execution_count": 84,
   "metadata": {},
   "outputs": [],
   "source": [
    "regulator_regulon_mutations_df.to_excel('/n/data1/hms/dbmi/farhat/Roger/mmpR_BDQ_mutant_project/CSV files/mutations_detected_within_isolates/promoter_eis_gene_body_mutations_in_31440_isolates.xlsx')"
   ]
  },
  {
   "cell_type": "markdown",
   "metadata": {},
   "source": [
    "#### Save DataFrame for *regulator* & *regulon* mutations for *Table 1*"
   ]
  },
  {
   "cell_type": "markdown",
   "metadata": {},
   "source": [
    "**REGULATOR** Subset to the 4 most commonly occurring mutations in the regulator regions"
   ]
  },
  {
   "cell_type": "code",
   "execution_count": 85,
   "metadata": {},
   "outputs": [],
   "source": [
    "regulator_mutations_df_subset = regulator_regulon_mutations_df[regulator_regulon_mutations_df.gene_id == regulator_id].sort_values(by = 'num_isolates', ascending = False).head(n=4)"
   ]
  },
  {
   "cell_type": "markdown",
   "metadata": {},
   "source": [
    "**REGULON** Subset to mutations that occured in at least 2 Mtb sub-lineages in the regulon regions"
   ]
  },
  {
   "cell_type": "code",
   "execution_count": 87,
   "metadata": {},
   "outputs": [],
   "source": [
    "regulon_mutations_df_subset = regulator_regulon_mutations_df[regulator_regulon_mutations_df.gene_id == regulon_id]\n",
    "regulon_mutations_df_subset = regulon_mutations_df_subset[regulon_mutations_df_subset.num_sublineages >= 2]"
   ]
  },
  {
   "cell_type": "markdown",
   "metadata": {},
   "source": [
    "Export as excel file"
   ]
  },
  {
   "cell_type": "code",
   "execution_count": 90,
   "metadata": {},
   "outputs": [],
   "source": [
    "regulator_regulon_subset_mutations_df = regulator_mutations_df_subset.append(regulon_mutations_df_subset)\n",
    "regulator_regulon_subset_mutations_df.sort_values(by = 'pos', ascending = True, inplace = True)\n",
    "regulator_regulon_subset_mutations_df.reset_index(inplace = True, drop = True)"
   ]
  },
  {
   "cell_type": "code",
   "execution_count": 91,
   "metadata": {},
   "outputs": [
    {
     "data": {
      "text/html": [
       "<div>\n",
       "<style>\n",
       "    .dataframe thead tr:only-child th {\n",
       "        text-align: right;\n",
       "    }\n",
       "\n",
       "    .dataframe thead th {\n",
       "        text-align: left;\n",
       "    }\n",
       "\n",
       "    .dataframe tbody tr th {\n",
       "        vertical-align: top;\n",
       "    }\n",
       "</style>\n",
       "<table border=\"1\" class=\"dataframe\">\n",
       "  <thead>\n",
       "    <tr style=\"text-align: right;\">\n",
       "      <th></th>\n",
       "      <th>pos</th>\n",
       "      <th>ref</th>\n",
       "      <th>alt</th>\n",
       "      <th>gene_category</th>\n",
       "      <th>gene_name</th>\n",
       "      <th>gene_id</th>\n",
       "      <th>gene_pos</th>\n",
       "      <th>mut_type</th>\n",
       "      <th>codon_pos</th>\n",
       "      <th>num_isolates</th>\n",
       "      <th>num_sublineages</th>\n",
       "      <th>sublineages</th>\n",
       "    </tr>\n",
       "  </thead>\n",
       "  <tbody>\n",
       "    <tr>\n",
       "      <th>0</th>\n",
       "      <td>2714753</td>\n",
       "      <td>G</td>\n",
       "      <td>A</td>\n",
       "      <td>Non-Essential</td>\n",
       "      <td>eis</td>\n",
       "      <td>Rv2416c</td>\n",
       "      <td>580</td>\n",
       "      <td>N</td>\n",
       "      <td>Q194*</td>\n",
       "      <td>10</td>\n",
       "      <td>2</td>\n",
       "      <td>4.10.i1(1) - 1.2.2.1(9)</td>\n",
       "    </tr>\n",
       "    <tr>\n",
       "      <th>1</th>\n",
       "      <td>2715287</td>\n",
       "      <td>T</td>\n",
       "      <td>TC</td>\n",
       "      <td>Non-Essential</td>\n",
       "      <td>eis</td>\n",
       "      <td>Rv2416c</td>\n",
       "      <td>46</td>\n",
       "      <td>ins</td>\n",
       "      <td>16</td>\n",
       "      <td>3</td>\n",
       "      <td>2</td>\n",
       "      <td>4.4.1.1(1) - 4.3.i2(2)</td>\n",
       "    </tr>\n",
       "    <tr>\n",
       "      <th>2</th>\n",
       "      <td>2715305</td>\n",
       "      <td>C</td>\n",
       "      <td>A</td>\n",
       "      <td>Non-Essential</td>\n",
       "      <td>eis</td>\n",
       "      <td>Rv2416c</td>\n",
       "      <td>28</td>\n",
       "      <td>N</td>\n",
       "      <td>E10*</td>\n",
       "      <td>6</td>\n",
       "      <td>2</td>\n",
       "      <td>1.1.3(5) - 1.1.1.1(1)</td>\n",
       "    </tr>\n",
       "    <tr>\n",
       "      <th>3</th>\n",
       "      <td>2715330</td>\n",
       "      <td>C</td>\n",
       "      <td>T</td>\n",
       "      <td>Non-Essential</td>\n",
       "      <td>eis</td>\n",
       "      <td>Rv2416c</td>\n",
       "      <td>3</td>\n",
       "      <td>S</td>\n",
       "      <td>V1V</td>\n",
       "      <td>6</td>\n",
       "      <td>2</td>\n",
       "      <td>2.2.1.1.1.i3(5) - 1.1.1.1(1)</td>\n",
       "    </tr>\n",
       "    <tr>\n",
       "      <th>4</th>\n",
       "      <td>2715342</td>\n",
       "      <td>C</td>\n",
       "      <td>T</td>\n",
       "      <td>None</td>\n",
       "      <td>None</td>\n",
       "      <td>Rv2416c_Rv2417c</td>\n",
       "      <td>None</td>\n",
       "      <td>I</td>\n",
       "      <td>None</td>\n",
       "      <td>293</td>\n",
       "      <td>18</td>\n",
       "      <td>4.11(1) - 2.2.1.1.1.i3(58) - 4.3.i3.1(14) - 4....</td>\n",
       "    </tr>\n",
       "    <tr>\n",
       "      <th>5</th>\n",
       "      <td>2715344</td>\n",
       "      <td>G</td>\n",
       "      <td>A</td>\n",
       "      <td>None</td>\n",
       "      <td>None</td>\n",
       "      <td>Rv2416c_Rv2417c</td>\n",
       "      <td>None</td>\n",
       "      <td>I</td>\n",
       "      <td>None</td>\n",
       "      <td>332</td>\n",
       "      <td>17</td>\n",
       "      <td>4.10.i2(1) - 2.2.1.1.1.i3(70) - 4.3.i3.1(50) -...</td>\n",
       "    </tr>\n",
       "    <tr>\n",
       "      <th>6</th>\n",
       "      <td>2715346</td>\n",
       "      <td>G</td>\n",
       "      <td>A</td>\n",
       "      <td>None</td>\n",
       "      <td>None</td>\n",
       "      <td>Rv2416c_Rv2417c</td>\n",
       "      <td>None</td>\n",
       "      <td>I</td>\n",
       "      <td>None</td>\n",
       "      <td>181</td>\n",
       "      <td>19</td>\n",
       "      <td>2.2.1.1.1.i3(89) - 4.3.i3.1(18) - 4.10.i2(4) -...</td>\n",
       "    </tr>\n",
       "    <tr>\n",
       "      <th>7</th>\n",
       "      <td>2715369</td>\n",
       "      <td>C</td>\n",
       "      <td>A</td>\n",
       "      <td>None</td>\n",
       "      <td>None</td>\n",
       "      <td>Rv2416c_Rv2417c</td>\n",
       "      <td>None</td>\n",
       "      <td>I</td>\n",
       "      <td>None</td>\n",
       "      <td>285</td>\n",
       "      <td>8</td>\n",
       "      <td>4.11(4) - 2.2.1.1.1.i3(230) - 4.1.i1.1.1.1(1) ...</td>\n",
       "    </tr>\n",
       "  </tbody>\n",
       "</table>\n",
       "</div>"
      ],
      "text/plain": [
       "       pos ref alt  gene_category gene_name          gene_id gene_pos  \\\n",
       "0  2714753   G   A  Non-Essential       eis          Rv2416c      580   \n",
       "1  2715287   T  TC  Non-Essential       eis          Rv2416c       46   \n",
       "2  2715305   C   A  Non-Essential       eis          Rv2416c       28   \n",
       "3  2715330   C   T  Non-Essential       eis          Rv2416c        3   \n",
       "4  2715342   C   T           None      None  Rv2416c_Rv2417c     None   \n",
       "5  2715344   G   A           None      None  Rv2416c_Rv2417c     None   \n",
       "6  2715346   G   A           None      None  Rv2416c_Rv2417c     None   \n",
       "7  2715369   C   A           None      None  Rv2416c_Rv2417c     None   \n",
       "\n",
       "  mut_type codon_pos  num_isolates  num_sublineages  \\\n",
       "0        N     Q194*            10                2   \n",
       "1      ins        16             3                2   \n",
       "2        N      E10*             6                2   \n",
       "3        S       V1V             6                2   \n",
       "4        I      None           293               18   \n",
       "5        I      None           332               17   \n",
       "6        I      None           181               19   \n",
       "7        I      None           285                8   \n",
       "\n",
       "                                         sublineages  \n",
       "0                            4.10.i1(1) - 1.2.2.1(9)  \n",
       "1                             4.4.1.1(1) - 4.3.i2(2)  \n",
       "2                              1.1.3(5) - 1.1.1.1(1)  \n",
       "3                       2.2.1.1.1.i3(5) - 1.1.1.1(1)  \n",
       "4  4.11(1) - 2.2.1.1.1.i3(58) - 4.3.i3.1(14) - 4....  \n",
       "5  4.10.i2(1) - 2.2.1.1.1.i3(70) - 4.3.i3.1(50) -...  \n",
       "6  2.2.1.1.1.i3(89) - 4.3.i3.1(18) - 4.10.i2(4) -...  \n",
       "7  4.11(4) - 2.2.1.1.1.i3(230) - 4.1.i1.1.1.1(1) ...  "
      ]
     },
     "execution_count": 91,
     "metadata": {},
     "output_type": "execute_result"
    }
   ],
   "source": [
    "regulator_regulon_subset_mutations_df"
   ]
  },
  {
   "cell_type": "code",
   "execution_count": 92,
   "metadata": {},
   "outputs": [],
   "source": [
    "regulator_regulon_subset_mutations_df.to_excel('/n/data1/hms/dbmi/farhat/Roger/mmpR_BDQ_mutant_project/CSV files/mutations_detected_within_isolates/promoter_eis_gene_body_mutations_in_31440_isolates_for_Table_1.xlsx')"
   ]
  },
  {
   "cell_type": "markdown",
   "metadata": {},
   "source": [
    "### Construct DataFrame (which displays each pair of co-occuring mutations as a seperate row with info for each pair of mutations)"
   ]
  },
  {
   "cell_type": "code",
   "execution_count": 85,
   "metadata": {},
   "outputs": [],
   "source": [
    "variant_mutation_pair_df = pd.DataFrame(columns=['A_type', 'A_pos', 'A_ref', 'A_alt', 'A_mut_type', 'A_codon_pos', 'A_gene_id', 'A_gene_name', 'A_gene_pos' ,'A_num_isolates', 'B_type', 'B_pos', 'B_ref', 'B_alt', 'B_mut_type', 'B_codon_pos', 'B_gene_id', 'B_gene_name', 'B_gene_pos', 'B_num_isolates', 'num_isolates_co_occur', 'isolate_IDs', 'sublineages'])"
   ]
  },
  {
   "cell_type": "markdown",
   "metadata": {},
   "source": [
    "### Get the ordering of the INDELs genotypes columns in terms of the SNPs genotypes columns"
   ]
  },
  {
   "cell_type": "code",
   "execution_count": 86,
   "metadata": {},
   "outputs": [],
   "source": [
    "SNP_isolate_annotation_DF['isolate_order'] = SNP_isolate_annotation_DF.index\n",
    "SNP_isolate_annotation_DF.set_index('isolate_ID', drop = True, inplace = True)\n",
    "INDEL_isolate_ordering_for_SNP_genotypes_array = SNP_isolate_annotation_DF.loc[INDEL_isolate_annotation_DF.isolate_ID, :].isolate_order.values"
   ]
  },
  {
   "cell_type": "code",
   "execution_count": 87,
   "metadata": {},
   "outputs": [
    {
     "data": {
      "text/plain": [
       "array([  188,  2733, 24409, ..., 31437, 31438, 31439])"
      ]
     },
     "execution_count": 87,
     "metadata": {},
     "output_type": "execute_result"
    }
   ],
   "source": [
    "INDEL_isolate_ordering_for_SNP_genotypes_array"
   ]
  },
  {
   "cell_type": "markdown",
   "metadata": {},
   "source": [
    "### Fill in dataframe by quering the genotypes matrices"
   ]
  },
  {
   "cell_type": "code",
   "execution_count": 88,
   "metadata": {},
   "outputs": [],
   "source": [
    "#SNPs or INDELs in regulator x SNPs or INDELs in regulon\n",
    "regulator_mut_keys = list(regulator_SNPs_DF.key) + list(regulator_INDELs_DF.key)\n",
    "regulon_mut_keys = list(regulon_SNPs_DF.key) + list(regulon_INDELs_DF.key)"
   ]
  },
  {
   "cell_type": "code",
   "execution_count": 89,
   "metadata": {
    "scrolled": false
   },
   "outputs": [],
   "source": [
    "#index for DataFrame\n",
    "variant_mutation_pair_df_index = 0\n",
    "\n",
    "for variant_i in regulator_mut_keys: #iterate through regulator SNPs & INDELs\n",
    "    \n",
    "    if variant_i.count('_') == 1: # if variant in regulator is a SNP\n",
    "\n",
    "        SNP_i_pos = int(variant_i.split('_')[0])\n",
    "        SNP_i_alt_allele = variant_i.split('_')[1]\n",
    "\n",
    "        #get the number code that corresponds to the alt allele, 9 indicated bad quality call\n",
    "        base_code_dict = {'A':0, 'C':1, 'G':2, 'T':3}\n",
    "        SNP_i_alt_allele_code = base_code_dict[SNP_i_alt_allele]\n",
    "\n",
    "        #genotypes for each SNP site\n",
    "        genotypes_for_SNP_i = SNP_genotypes_array[SNP_annotation_DF[SNP_annotation_DF.pos == SNP_i_pos].array_index.values[0] , :]\n",
    "\n",
    "        #re-order isolates according to the order of the columns in the INDEL genotypes matrix\n",
    "        genotypes_for_SNP_i = genotypes_for_SNP_i[INDEL_isolate_ordering_for_SNP_genotypes_array]\n",
    "\n",
    "        for variant_j in regulon_mut_keys: #iterate through mutations in regulon\n",
    "\n",
    "            if variant_j.count('_') == 1: #if variant in regulon is a SNP\n",
    "\n",
    "                SNP_j_pos = int(variant_j.split('_')[0])\n",
    "                SNP_j_alt_allele = variant_j.split('_')[1]\n",
    "\n",
    "                #get the number code that corresponds to the alt allele, 9 indicated bad quality call\n",
    "                SNP_j_alt_allele_code = base_code_dict[SNP_j_alt_allele]\n",
    "\n",
    "                #genotypes for each SNP site\n",
    "                genotypes_for_SNP_j = SNP_genotypes_array[SNP_annotation_DF[SNP_annotation_DF.pos == SNP_j_pos].array_index.values[0] , :]\n",
    "\n",
    "                #re-order isolates according to the order of the columns in the INDEL genotypes matrix\n",
    "                genotypes_for_SNP_j = genotypes_for_SNP_j[INDEL_isolate_ordering_for_SNP_genotypes_array]\n",
    "\n",
    "                #boolean filter of isolates with both variants\n",
    "                isolates_with_both_variants_filter = [(SNP_i_called and SNP_j_called) for SNP_i_called , SNP_j_called in zip(list(genotypes_for_SNP_i == SNP_i_alt_allele_code) , list(genotypes_for_SNP_j == SNP_j_alt_allele_code))]\n",
    "\n",
    "                #number of isolates that have both variants\n",
    "                num_isolates_with_both_variants = np.sum(isolates_with_both_variants_filter)\n",
    "\n",
    "                #check to see if the number of isolates carrying both variants was >= 1\n",
    "                if num_isolates_with_both_variants >= 1:\n",
    "\n",
    "                    # get info for mutation in regulator\n",
    "                    regulator_SNP_info = list(regulator_SNPs_DF[(regulator_SNPs_DF.pos == SNP_i_pos) & (regulator_SNPs_DF.alt == SNP_i_alt_allele)].loc[:, ['pos','ref','alt','mut_type','codon_pos','gene_id','gene_name','gene_pos','num_isolates']].values[0])\n",
    "\n",
    "                    # get info for mutation in regulon\n",
    "                    regulon_SNP_info = list(regulon_SNPs_DF[(regulon_SNPs_DF.pos == SNP_j_pos) & (regulon_SNPs_DF.alt == SNP_j_alt_allele)].loc[:, ['pos','ref','alt','mut_type','codon_pos','gene_id','gene_name','gene_pos','num_isolates']].values[0])\n",
    "\n",
    "                    strain_names = [' - '.join(list(INDEL_isolate_annotation_DF[isolates_with_both_variants_filter].isolate_ID))]\n",
    "\n",
    "                    # sublineage calls\n",
    "                    strain_lineage_calls_count_dict = Counter(list(INDEL_isolate_annotation_DF[isolates_with_both_variants_filter].lineage_call))\n",
    "                    strain_lineage_calls_list = []\n",
    "                    for sublineage_i in strain_lineage_calls_count_dict.keys():\n",
    "                        sublineage_i_with_mutations = sublineage_i + '({0})'.format(str(strain_lineage_calls_count_dict[sublineage_i]))\n",
    "                        strain_lineage_calls_list.append(sublineage_i_with_mutations)\n",
    "                    strain_lineage_calls = ' - '.join(strain_lineage_calls_list)\n",
    "\n",
    "                    co_occurring_SNP_i_and_SNP_or_indel_j_info = ['SNP'] + regulator_SNP_info + ['SNP'] + regulon_SNP_info + [num_isolates_with_both_variants] + strain_names + [strain_lineage_calls]\n",
    "                    variant_mutation_pair_df.loc[variant_mutation_pair_df_index, :] = co_occurring_SNP_i_and_SNP_or_indel_j_info\n",
    "                    variant_mutation_pair_df_index += 1\n",
    "\n",
    "            if variant_j.count('_') == 2: #if variant in regulon is an INDEL\n",
    "\n",
    "                #genotypes for each INDEL\n",
    "                genotypes_for_indel_j = INDEL_genotypes_array[INDEL_annotation_DF[INDEL_annotation_DF.key == variant_j].index[0] , :]\n",
    "\n",
    "                #boolean filter of isolates with both variants\n",
    "                isolates_with_both_variants_filter = [(SNP_i_called and indel_j_called) for SNP_i_called , indel_j_called in zip(list(genotypes_for_SNP_i == SNP_i_alt_allele_code) , list(genotypes_for_indel_j == 1))]\n",
    "\n",
    "                #number of isolates that have both variants\n",
    "                num_isolates_with_both_variants = np.sum(isolates_with_both_variants_filter)\n",
    "\n",
    "                #check to see if the number of isolates carrying both variants was >= 1\n",
    "                if num_isolates_with_both_variants >= 1:\n",
    "\n",
    "                    # get info for mutation in regulator\n",
    "                    regulator_SNP_info = list(regulator_SNPs_DF[(regulator_SNPs_DF.pos == SNP_i_pos) & (regulator_SNPs_DF.alt == SNP_i_alt_allele)].loc[:, ['pos','ref','alt','mut_type','codon_pos','gene_id','gene_name','gene_pos','num_isolates']].values[0])\n",
    "\n",
    "                    # get info for mutation in regulon\n",
    "                    regulon_INDEL_info = list(regulon_INDELs_DF[regulon_INDELs_DF.key == variant_j].loc[:, ['pos','ref','alt','mut_type','codon_pos','gene_id','gene_name','gene_pos','num_isolates']].values[0])\n",
    "\n",
    "                    strain_names = [' - '.join(list(INDEL_isolate_annotation_DF[isolates_with_both_variants_filter].isolate_ID))]\n",
    "\n",
    "                    # sublineage calls\n",
    "                    strain_lineage_calls_count_dict = Counter(list(INDEL_isolate_annotation_DF[isolates_with_both_variants_filter].lineage_call))\n",
    "                    strain_lineage_calls_list = []\n",
    "                    for sublineage_i in strain_lineage_calls_count_dict.keys():\n",
    "                        sublineage_i_with_mutations = sublineage_i + '({0})'.format(str(strain_lineage_calls_count_dict[sublineage_i]))\n",
    "                        strain_lineage_calls_list.append(sublineage_i_with_mutations)\n",
    "                    strain_lineage_calls = ' - '.join(strain_lineage_calls_list)\n",
    "\n",
    "                    co_occurring_SNP_i_and_SNP_or_indel_j_info = ['SNP'] + regulator_SNP_info + ['INDEL'] + regulon_INDEL_info + [num_isolates_with_both_variants] + strain_names + [strain_lineage_calls]\n",
    "                    variant_mutation_pair_df.loc[variant_mutation_pair_df_index, :] = co_occurring_SNP_i_and_SNP_or_indel_j_info\n",
    "                    variant_mutation_pair_df_index += 1\n",
    "    \n",
    "    elif variant_i.count('_') == 2: # if variant in regulator is an INDEL\n",
    "        \n",
    "        #genotypes for each INDEL\n",
    "        genotypes_for_indel_i = INDEL_genotypes_array[INDEL_annotation_DF[INDEL_annotation_DF.key == variant_i].index[0] , :]\n",
    "\n",
    "        for variant_j in regulon_mut_keys: #iterate through mutations in regulon\n",
    "\n",
    "            if variant_j.count('_') == 1: #if variant in regulon is a SNP\n",
    "\n",
    "                SNP_j_pos = int(variant_j.split('_')[0])\n",
    "                SNP_j_alt_allele = variant_j.split('_')[1]\n",
    "\n",
    "                #get the number code that corresponds to the alt allele, 9 indicated bad quality call\n",
    "                SNP_j_alt_allele_code = base_code_dict[SNP_j_alt_allele]\n",
    "\n",
    "                #genotypes for each SNP site\n",
    "                genotypes_for_SNP_j = SNP_genotypes_array[SNP_annotation_DF[SNP_annotation_DF.pos == SNP_j_pos].array_index.values[0] , :]\n",
    "\n",
    "                #re-order isolates according to the order of the columns in the INDEL genotypes matrix\n",
    "                genotypes_for_SNP_j = genotypes_for_SNP_j[INDEL_isolate_ordering_for_SNP_genotypes_array]\n",
    "\n",
    "                #boolean filter of isolates with both variants\n",
    "                isolates_with_both_variants_filter = [(indel_i_called and SNP_j_called) for indel_i_called , SNP_j_called in zip(list(genotypes_for_indel_i == 1) , list(genotypes_for_SNP_j == SNP_j_alt_allele_code))]\n",
    "\n",
    "                #number of isolates that have both variants\n",
    "                num_isolates_with_both_variants = np.sum(isolates_with_both_variants_filter)\n",
    "\n",
    "                #check to see if the number of isolates carrying both variants was >= 1\n",
    "                if num_isolates_with_both_variants >= 1:\n",
    "\n",
    "                    # get info for mutation in regulator\n",
    "                    regulator_INDEL_info = list(regulator_INDELs_DF[regulator_INDELs_DF.key == variant_i].loc[:, ['pos','ref','alt','mut_type','codon_pos','gene_id','gene_name','gene_pos','num_isolates']].values[0])\n",
    "\n",
    "                    # get info for mutation in regulon\n",
    "                    regulon_SNP_info = list(regulon_SNPs_DF[(regulon_SNPs_DF.pos == SNP_j_pos) & (regulon_SNPs_DF.alt == SNP_j_alt_allele)].loc[:, ['pos','ref','alt','mut_type','codon_pos','gene_id','gene_name','gene_pos','num_isolates']].values[0])\n",
    "\n",
    "                    strain_names = [' - '.join(list(INDEL_isolate_annotation_DF[isolates_with_both_variants_filter].isolate_ID))]\n",
    "\n",
    "                    # sublineage calls\n",
    "                    strain_lineage_calls_count_dict = Counter(list(INDEL_isolate_annotation_DF[isolates_with_both_variants_filter].lineage_call))\n",
    "                    strain_lineage_calls_list = []\n",
    "                    for sublineage_i in strain_lineage_calls_count_dict.keys():\n",
    "                        sublineage_i_with_mutations = sublineage_i + '({0})'.format(str(strain_lineage_calls_count_dict[sublineage_i]))\n",
    "                        strain_lineage_calls_list.append(sublineage_i_with_mutations)\n",
    "                    strain_lineage_calls = ' - '.join(strain_lineage_calls_list)\n",
    "\n",
    "                    co_occurring_SNP_i_and_SNP_or_indel_j_info = ['INDEL'] + regulator_INDEL_info + ['SNP'] + regulon_SNP_info + [num_isolates_with_both_variants] + strain_names + [strain_lineage_calls]\n",
    "                    variant_mutation_pair_df.loc[variant_mutation_pair_df_index, :] = co_occurring_SNP_i_and_SNP_or_indel_j_info\n",
    "                    variant_mutation_pair_df_index += 1\n",
    "\n",
    "            if variant_j.count('_') == 2: # if variant in regulon is an INDEL\n",
    "\n",
    "                #genotypes for each INDEL\n",
    "                genotypes_for_indel_j = INDEL_genotypes_array[INDEL_annotation_DF[INDEL_annotation_DF.key == variant_j].index[0] , :]\n",
    "\n",
    "                #boolean filter of isolates with both variants\n",
    "                isolates_with_both_variants_filter = [(indel_i_called and indel_j_called) for indel_i_called , indel_j_called in zip(list(genotypes_for_indel_i == 1) , list(genotypes_for_indel_j == 1))]\n",
    "\n",
    "                #number of isolates that have both variants\n",
    "                num_isolates_with_both_variants = np.sum(isolates_with_both_variants_filter)\n",
    "\n",
    "                #check to see if the number of isolates carrying both variants was >= 1\n",
    "                if num_isolates_with_both_variants >= 1:\n",
    "\n",
    "                    # get info for mutation in regulator\n",
    "                    regulator_INDEL_info = list(regulator_INDELs_DF[regulator_INDELs_DF.key == variant_i].loc[:, ['pos','ref','alt','mut_type','codon_pos','gene_id','gene_name','gene_pos','num_isolates']].values[0])\n",
    "\n",
    "                    # get info for mutation in regulon\n",
    "                    regulon_INDEL_info = list(regulon_INDELs_DF[regulon_INDELs_DF.key == variant_j].loc[:, ['pos','ref','alt','mut_type','codon_pos','gene_id','gene_name','gene_pos','num_isolates']].values[0])\n",
    "\n",
    "                    strain_names = [' - '.join(list(INDEL_isolate_annotation_DF[isolates_with_both_variants_filter].isolate_ID))]\n",
    "\n",
    "                    # sublineage calls\n",
    "                    strain_lineage_calls_count_dict = Counter(list(INDEL_isolate_annotation_DF[isolates_with_both_variants_filter].lineage_call))\n",
    "                    strain_lineage_calls_list = []\n",
    "                    for sublineage_i in strain_lineage_calls_count_dict.keys():\n",
    "                        sublineage_i_with_mutations = sublineage_i + '({0})'.format(str(strain_lineage_calls_count_dict[sublineage_i]))\n",
    "                        strain_lineage_calls_list.append(sublineage_i_with_mutations)\n",
    "                    strain_lineage_calls = ' - '.join(strain_lineage_calls_list)\n",
    "\n",
    "                    co_occurring_SNP_i_and_SNP_or_indel_j_info = ['INDEL'] + regulator_INDEL_info + ['INDEL'] + regulon_INDEL_info + [num_isolates_with_both_variants] + strain_names + [strain_lineage_calls]\n",
    "                    variant_mutation_pair_df.loc[variant_mutation_pair_df_index, :] = co_occurring_SNP_i_and_SNP_or_indel_j_info\n",
    "                    variant_mutation_pair_df_index += 1"
   ]
  },
  {
   "cell_type": "code",
   "execution_count": 90,
   "metadata": {},
   "outputs": [
    {
     "data": {
      "text/html": [
       "<div>\n",
       "<style>\n",
       "    .dataframe thead tr:only-child th {\n",
       "        text-align: right;\n",
       "    }\n",
       "\n",
       "    .dataframe thead th {\n",
       "        text-align: left;\n",
       "    }\n",
       "\n",
       "    .dataframe tbody tr th {\n",
       "        vertical-align: top;\n",
       "    }\n",
       "</style>\n",
       "<table border=\"1\" class=\"dataframe\">\n",
       "  <thead>\n",
       "    <tr style=\"text-align: right;\">\n",
       "      <th></th>\n",
       "      <th>A_type</th>\n",
       "      <th>A_pos</th>\n",
       "      <th>A_ref</th>\n",
       "      <th>A_alt</th>\n",
       "      <th>A_mut_type</th>\n",
       "      <th>A_codon_pos</th>\n",
       "      <th>A_gene_id</th>\n",
       "      <th>A_gene_name</th>\n",
       "      <th>A_gene_pos</th>\n",
       "      <th>A_num_isolates</th>\n",
       "      <th>...</th>\n",
       "      <th>B_alt</th>\n",
       "      <th>B_mut_type</th>\n",
       "      <th>B_codon_pos</th>\n",
       "      <th>B_gene_id</th>\n",
       "      <th>B_gene_name</th>\n",
       "      <th>B_gene_pos</th>\n",
       "      <th>B_num_isolates</th>\n",
       "      <th>num_isolates_co_occur</th>\n",
       "      <th>isolate_IDs</th>\n",
       "      <th>sublineages</th>\n",
       "    </tr>\n",
       "  </thead>\n",
       "  <tbody>\n",
       "    <tr>\n",
       "      <th>0</th>\n",
       "      <td>SNP</td>\n",
       "      <td>2715346</td>\n",
       "      <td>G</td>\n",
       "      <td>A</td>\n",
       "      <td>I</td>\n",
       "      <td>None</td>\n",
       "      <td>Rv2416c_Rv2417c</td>\n",
       "      <td>None</td>\n",
       "      <td>None</td>\n",
       "      <td>181</td>\n",
       "      <td>...</td>\n",
       "      <td>T</td>\n",
       "      <td>N</td>\n",
       "      <td>W13*</td>\n",
       "      <td>Rv2416c</td>\n",
       "      <td>eis</td>\n",
       "      <td>39</td>\n",
       "      <td>1</td>\n",
       "      <td>1</td>\n",
       "      <td>SAMN08376196</td>\n",
       "      <td>2.2.1.1.1(1)</td>\n",
       "    </tr>\n",
       "    <tr>\n",
       "      <th>1</th>\n",
       "      <td>SNP</td>\n",
       "      <td>2715346</td>\n",
       "      <td>G</td>\n",
       "      <td>A</td>\n",
       "      <td>I</td>\n",
       "      <td>None</td>\n",
       "      <td>Rv2416c_Rv2417c</td>\n",
       "      <td>None</td>\n",
       "      <td>None</td>\n",
       "      <td>181</td>\n",
       "      <td>...</td>\n",
       "      <td>T</td>\n",
       "      <td>N</td>\n",
       "      <td>W13*</td>\n",
       "      <td>Rv2416c</td>\n",
       "      <td>eis</td>\n",
       "      <td>38</td>\n",
       "      <td>1</td>\n",
       "      <td>1</td>\n",
       "      <td>SAMN08709032</td>\n",
       "      <td>2.2.1.1.1(1)</td>\n",
       "    </tr>\n",
       "    <tr>\n",
       "      <th>2</th>\n",
       "      <td>SNP</td>\n",
       "      <td>2715346</td>\n",
       "      <td>G</td>\n",
       "      <td>A</td>\n",
       "      <td>I</td>\n",
       "      <td>None</td>\n",
       "      <td>Rv2416c_Rv2417c</td>\n",
       "      <td>None</td>\n",
       "      <td>None</td>\n",
       "      <td>181</td>\n",
       "      <td>...</td>\n",
       "      <td>T</td>\n",
       "      <td>S</td>\n",
       "      <td>V1V</td>\n",
       "      <td>Rv2416c</td>\n",
       "      <td>eis</td>\n",
       "      <td>3</td>\n",
       "      <td>6</td>\n",
       "      <td>6</td>\n",
       "      <td>SAMN02419586 - SAMN02419559 - SAMN02419535 - S...</td>\n",
       "      <td>2.2.1.1.1.i3(5) - 1.1.1.1(1)</td>\n",
       "    </tr>\n",
       "    <tr>\n",
       "      <th>3</th>\n",
       "      <td>SNP</td>\n",
       "      <td>2715346</td>\n",
       "      <td>G</td>\n",
       "      <td>A</td>\n",
       "      <td>I</td>\n",
       "      <td>None</td>\n",
       "      <td>Rv2416c_Rv2417c</td>\n",
       "      <td>None</td>\n",
       "      <td>None</td>\n",
       "      <td>181</td>\n",
       "      <td>...</td>\n",
       "      <td>GCT</td>\n",
       "      <td>ins</td>\n",
       "      <td>162</td>\n",
       "      <td>Rv2416c</td>\n",
       "      <td>eis</td>\n",
       "      <td>486</td>\n",
       "      <td>2</td>\n",
       "      <td>2</td>\n",
       "      <td>Peru3354 - Peru2946</td>\n",
       "      <td>4.1.i1.1.1.1(2)</td>\n",
       "    </tr>\n",
       "    <tr>\n",
       "      <th>4</th>\n",
       "      <td>SNP</td>\n",
       "      <td>2715346</td>\n",
       "      <td>G</td>\n",
       "      <td>A</td>\n",
       "      <td>I</td>\n",
       "      <td>None</td>\n",
       "      <td>Rv2416c_Rv2417c</td>\n",
       "      <td>None</td>\n",
       "      <td>None</td>\n",
       "      <td>181</td>\n",
       "      <td>...</td>\n",
       "      <td>AT</td>\n",
       "      <td>ins</td>\n",
       "      <td>158</td>\n",
       "      <td>Rv2416c</td>\n",
       "      <td>eis</td>\n",
       "      <td>473</td>\n",
       "      <td>1</td>\n",
       "      <td>1</td>\n",
       "      <td>SAMN07956543</td>\n",
       "      <td>2.2.1.1.1.i3(1)</td>\n",
       "    </tr>\n",
       "    <tr>\n",
       "      <th>5</th>\n",
       "      <td>SNP</td>\n",
       "      <td>2715346</td>\n",
       "      <td>G</td>\n",
       "      <td>A</td>\n",
       "      <td>I</td>\n",
       "      <td>None</td>\n",
       "      <td>Rv2416c_Rv2417c</td>\n",
       "      <td>None</td>\n",
       "      <td>None</td>\n",
       "      <td>181</td>\n",
       "      <td>...</td>\n",
       "      <td>G</td>\n",
       "      <td>del</td>\n",
       "      <td>150</td>\n",
       "      <td>Rv2416c</td>\n",
       "      <td>eis</td>\n",
       "      <td>448</td>\n",
       "      <td>7</td>\n",
       "      <td>7</td>\n",
       "      <td>SAMN02584676 - SAMEA1016073 - SAMN04633319 - S...</td>\n",
       "      <td>2.2.1.1.1.i3(7)</td>\n",
       "    </tr>\n",
       "    <tr>\n",
       "      <th>6</th>\n",
       "      <td>SNP</td>\n",
       "      <td>2715346</td>\n",
       "      <td>G</td>\n",
       "      <td>A</td>\n",
       "      <td>I</td>\n",
       "      <td>None</td>\n",
       "      <td>Rv2416c_Rv2417c</td>\n",
       "      <td>None</td>\n",
       "      <td>None</td>\n",
       "      <td>181</td>\n",
       "      <td>...</td>\n",
       "      <td>AC</td>\n",
       "      <td>ins</td>\n",
       "      <td>6</td>\n",
       "      <td>Rv2416c</td>\n",
       "      <td>eis</td>\n",
       "      <td>16</td>\n",
       "      <td>1</td>\n",
       "      <td>1</td>\n",
       "      <td>SAMN06210015</td>\n",
       "      <td>2.2.1.1.1(1)</td>\n",
       "    </tr>\n",
       "    <tr>\n",
       "      <th>7</th>\n",
       "      <td>SNP</td>\n",
       "      <td>2715346</td>\n",
       "      <td>G</td>\n",
       "      <td>A</td>\n",
       "      <td>I</td>\n",
       "      <td>None</td>\n",
       "      <td>Rv2416c_Rv2417c</td>\n",
       "      <td>None</td>\n",
       "      <td>None</td>\n",
       "      <td>181</td>\n",
       "      <td>...</td>\n",
       "      <td>AC</td>\n",
       "      <td>ins</td>\n",
       "      <td>5</td>\n",
       "      <td>Rv2416c</td>\n",
       "      <td>eis</td>\n",
       "      <td>14</td>\n",
       "      <td>1</td>\n",
       "      <td>1</td>\n",
       "      <td>SAMN02584612</td>\n",
       "      <td>2.2.1.1.1(1)</td>\n",
       "    </tr>\n",
       "  </tbody>\n",
       "</table>\n",
       "<p>8 rows × 23 columns</p>\n",
       "</div>"
      ],
      "text/plain": [
       "  A_type    A_pos A_ref A_alt A_mut_type A_codon_pos        A_gene_id  \\\n",
       "0    SNP  2715346     G     A          I        None  Rv2416c_Rv2417c   \n",
       "1    SNP  2715346     G     A          I        None  Rv2416c_Rv2417c   \n",
       "2    SNP  2715346     G     A          I        None  Rv2416c_Rv2417c   \n",
       "3    SNP  2715346     G     A          I        None  Rv2416c_Rv2417c   \n",
       "4    SNP  2715346     G     A          I        None  Rv2416c_Rv2417c   \n",
       "5    SNP  2715346     G     A          I        None  Rv2416c_Rv2417c   \n",
       "6    SNP  2715346     G     A          I        None  Rv2416c_Rv2417c   \n",
       "7    SNP  2715346     G     A          I        None  Rv2416c_Rv2417c   \n",
       "\n",
       "  A_gene_name A_gene_pos A_num_isolates              ...              B_alt  \\\n",
       "0        None       None            181              ...                  T   \n",
       "1        None       None            181              ...                  T   \n",
       "2        None       None            181              ...                  T   \n",
       "3        None       None            181              ...                GCT   \n",
       "4        None       None            181              ...                 AT   \n",
       "5        None       None            181              ...                  G   \n",
       "6        None       None            181              ...                 AC   \n",
       "7        None       None            181              ...                 AC   \n",
       "\n",
       "  B_mut_type B_codon_pos B_gene_id B_gene_name B_gene_pos B_num_isolates  \\\n",
       "0          N        W13*   Rv2416c         eis         39              1   \n",
       "1          N        W13*   Rv2416c         eis         38              1   \n",
       "2          S         V1V   Rv2416c         eis          3              6   \n",
       "3        ins         162   Rv2416c         eis        486              2   \n",
       "4        ins         158   Rv2416c         eis        473              1   \n",
       "5        del         150   Rv2416c         eis        448              7   \n",
       "6        ins           6   Rv2416c         eis         16              1   \n",
       "7        ins           5   Rv2416c         eis         14              1   \n",
       "\n",
       "  num_isolates_co_occur                                        isolate_IDs  \\\n",
       "0                     1                                       SAMN08376196   \n",
       "1                     1                                       SAMN08709032   \n",
       "2                     6  SAMN02419586 - SAMN02419559 - SAMN02419535 - S...   \n",
       "3                     2                                Peru3354 - Peru2946   \n",
       "4                     1                                       SAMN07956543   \n",
       "5                     7  SAMN02584676 - SAMEA1016073 - SAMN04633319 - S...   \n",
       "6                     1                                       SAMN06210015   \n",
       "7                     1                                       SAMN02584612   \n",
       "\n",
       "                    sublineages  \n",
       "0                  2.2.1.1.1(1)  \n",
       "1                  2.2.1.1.1(1)  \n",
       "2  2.2.1.1.1.i3(5) - 1.1.1.1(1)  \n",
       "3               4.1.i1.1.1.1(2)  \n",
       "4               2.2.1.1.1.i3(1)  \n",
       "5               2.2.1.1.1.i3(7)  \n",
       "6                  2.2.1.1.1(1)  \n",
       "7                  2.2.1.1.1(1)  \n",
       "\n",
       "[8 rows x 23 columns]"
      ]
     },
     "execution_count": 90,
     "metadata": {},
     "output_type": "execute_result"
    }
   ],
   "source": [
    "variant_mutation_pair_df"
   ]
  },
  {
   "cell_type": "code",
   "execution_count": 91,
   "metadata": {},
   "outputs": [
    {
     "data": {
      "text/plain": [
       "(8, 23)"
      ]
     },
     "execution_count": 91,
     "metadata": {},
     "output_type": "execute_result"
    }
   ],
   "source": [
    "np.shape(variant_mutation_pair_df)"
   ]
  },
  {
   "cell_type": "markdown",
   "metadata": {},
   "source": [
    "Save dataframe as CSV file"
   ]
  },
  {
   "cell_type": "code",
   "execution_count": 93,
   "metadata": {},
   "outputs": [],
   "source": [
    "variant_mutation_pair_df.to_excel('/n/data1/hms/dbmi/farhat/Roger/mmpR_BDQ_mutant_project/CSV files/co_occurring_mutations_within_isolates/eis_promoter_gene_body_co_occurence_mutations_in_31440_isolates.xlsx')"
   ]
  },
  {
   "cell_type": "markdown",
   "metadata": {},
   "source": [
    "#### 2715346_A (*eis* -14)"
   ]
  },
  {
   "cell_type": "code",
   "execution_count": 95,
   "metadata": {},
   "outputs": [
    {
     "data": {
      "text/html": [
       "<div>\n",
       "<style>\n",
       "    .dataframe thead tr:only-child th {\n",
       "        text-align: right;\n",
       "    }\n",
       "\n",
       "    .dataframe thead th {\n",
       "        text-align: left;\n",
       "    }\n",
       "\n",
       "    .dataframe tbody tr th {\n",
       "        vertical-align: top;\n",
       "    }\n",
       "</style>\n",
       "<table border=\"1\" class=\"dataframe\">\n",
       "  <thead>\n",
       "    <tr style=\"text-align: right;\">\n",
       "      <th></th>\n",
       "      <th>key</th>\n",
       "      <th>pos</th>\n",
       "      <th>ref</th>\n",
       "      <th>alt</th>\n",
       "      <th>gene_category</th>\n",
       "      <th>gene_name</th>\n",
       "      <th>gene_id</th>\n",
       "      <th>gene_pos</th>\n",
       "      <th>mut_type</th>\n",
       "      <th>codon_pos</th>\n",
       "      <th>array_index</th>\n",
       "      <th>num_isolates</th>\n",
       "      <th>num_sublineages</th>\n",
       "      <th>sublineages</th>\n",
       "    </tr>\n",
       "  </thead>\n",
       "  <tbody>\n",
       "    <tr>\n",
       "      <th>273</th>\n",
       "      <td>2715346_A</td>\n",
       "      <td>2715346</td>\n",
       "      <td>G</td>\n",
       "      <td>A</td>\n",
       "      <td>None</td>\n",
       "      <td>None</td>\n",
       "      <td>Rv2416c_Rv2417c</td>\n",
       "      <td>None</td>\n",
       "      <td>I</td>\n",
       "      <td>None</td>\n",
       "      <td>257</td>\n",
       "      <td>181</td>\n",
       "      <td>19</td>\n",
       "      <td>2.2.1.1.1.i3(89) - 4.3.i3.1(18) - 4.10.i2(4) -...</td>\n",
       "    </tr>\n",
       "  </tbody>\n",
       "</table>\n",
       "</div>"
      ],
      "text/plain": [
       "           key      pos ref alt gene_category gene_name          gene_id  \\\n",
       "273  2715346_A  2715346   G   A          None      None  Rv2416c_Rv2417c   \n",
       "\n",
       "    gene_pos mut_type codon_pos array_index  num_isolates  num_sublineages  \\\n",
       "273     None        I      None         257           181               19   \n",
       "\n",
       "                                           sublineages  \n",
       "273  2.2.1.1.1.i3(89) - 4.3.i3.1(18) - 4.10.i2(4) -...  "
      ]
     },
     "execution_count": 95,
     "metadata": {},
     "output_type": "execute_result"
    }
   ],
   "source": [
    "regulator_SNPs_DF[(regulator_SNPs_DF.pos == 2715346) & (regulator_SNPs_DF.alt == 'A')]"
   ]
  },
  {
   "cell_type": "code",
   "execution_count": 96,
   "metadata": {},
   "outputs": [
    {
     "name": "stdout",
     "output_type": "stream",
     "text": [
      "2.2.1.1.1.i3(89) - 4.3.i3.1(18) - 4.10.i2(4) - 4.1.i1.1.1.1(17) - 1.2.2.1(1) - 4.4.1.1(1) - 4.3.i4.2(1) - 4.2.1.1(1) - 2.2.1.1.1(27) - 3.1.1(2) - 2.2.1.1.2(2) - 4.1.i1.2.1(9) - 4.2.1.2.1.1.i4(2) - 4.1.i1.2.2(1) - 2.2.1.2(1) - 1.1.1.1(1) - 3.2.2(1) - 2.2.2(2) - 4.2.1.2.2.1(1)\n"
     ]
    }
   ],
   "source": [
    "print regulator_SNPs_DF[(regulator_SNPs_DF.pos == 2715346) & (regulator_SNPs_DF.alt == 'A')].sublineages.values[0]"
   ]
  },
  {
   "cell_type": "markdown",
   "metadata": {},
   "source": [
    "#### GA_2714885_G"
   ]
  },
  {
   "cell_type": "code",
   "execution_count": 97,
   "metadata": {},
   "outputs": [
    {
     "data": {
      "text/html": [
       "<div>\n",
       "<style>\n",
       "    .dataframe thead tr:only-child th {\n",
       "        text-align: right;\n",
       "    }\n",
       "\n",
       "    .dataframe thead th {\n",
       "        text-align: left;\n",
       "    }\n",
       "\n",
       "    .dataframe tbody tr th {\n",
       "        vertical-align: top;\n",
       "    }\n",
       "</style>\n",
       "<table border=\"1\" class=\"dataframe\">\n",
       "  <thead>\n",
       "    <tr style=\"text-align: right;\">\n",
       "      <th></th>\n",
       "      <th>key</th>\n",
       "      <th>pos</th>\n",
       "      <th>ref</th>\n",
       "      <th>alt</th>\n",
       "      <th>gene_category</th>\n",
       "      <th>gene_name</th>\n",
       "      <th>gene_id</th>\n",
       "      <th>gene_pos</th>\n",
       "      <th>mut_type</th>\n",
       "      <th>codon_pos</th>\n",
       "      <th>num_isolates</th>\n",
       "      <th>num_sublineages</th>\n",
       "      <th>sublineages</th>\n",
       "    </tr>\n",
       "  </thead>\n",
       "  <tbody>\n",
       "    <tr>\n",
       "      <th>14</th>\n",
       "      <td>GA_2714885_G</td>\n",
       "      <td>2714885</td>\n",
       "      <td>GA</td>\n",
       "      <td>G</td>\n",
       "      <td>Non-Essential</td>\n",
       "      <td>eis</td>\n",
       "      <td>Rv2416c</td>\n",
       "      <td>448</td>\n",
       "      <td>del</td>\n",
       "      <td>150</td>\n",
       "      <td>7</td>\n",
       "      <td>1</td>\n",
       "      <td>2.2.1.1.1.i3(7)</td>\n",
       "    </tr>\n",
       "  </tbody>\n",
       "</table>\n",
       "</div>"
      ],
      "text/plain": [
       "             key      pos ref alt  gene_category gene_name  gene_id gene_pos  \\\n",
       "14  GA_2714885_G  2714885  GA   G  Non-Essential       eis  Rv2416c      448   \n",
       "\n",
       "   mut_type codon_pos  num_isolates  num_sublineages      sublineages  \n",
       "14      del       150             7                1  2.2.1.1.1.i3(7)  "
      ]
     },
     "execution_count": 97,
     "metadata": {},
     "output_type": "execute_result"
    }
   ],
   "source": [
    "regulon_INDELs_DF[regulon_INDELs_DF.key == 'GA_2714885_G']"
   ]
  },
  {
   "cell_type": "markdown",
   "metadata": {},
   "source": [
    "# [5] Get strains with *eis* promoter SNPs"
   ]
  },
  {
   "cell_type": "markdown",
   "metadata": {},
   "source": [
    "### *Function* to get the strains with a specific mutation"
   ]
  },
  {
   "cell_type": "code",
   "execution_count": 98,
   "metadata": {},
   "outputs": [],
   "source": [
    "def get_strain_names_for_SNV(SNP_i_pos, SNP_i_alt_allele):\n",
    "    \n",
    "    #get the number code that corresponds to the alt allele, 9 indicated bad quality call\n",
    "    base_code_dict = {'A':0, 'C':1, 'G':2, 'T':3}\n",
    "    \n",
    "    #get the number code that corresponds to the alternate allele, 9 indicated bad quality call\n",
    "    SNP_i_alt_allele_code = base_code_dict[SNP_i_alt_allele]\n",
    "\n",
    "    #genotypes for each SNP site\n",
    "    genotypes_for_SNP_i = SNP_genotypes_array[SNP_annotation_DF[SNP_annotation_DF.pos == SNP_i_pos].array_index.values[0] , :]\n",
    "\n",
    "    #boolean filter of isolates with variant\n",
    "    isolates_with_variant_filter = genotypes_for_SNP_i == SNP_i_alt_allele_code\n",
    "\n",
    "    #get list of isolates with variant\n",
    "    strain_names = list(SNP_isolate_annotation_DF[isolates_with_variant_filter].index)\n",
    "    \n",
    "    #get list of strains in phylogeny\n",
    "    strain_names = list(set(isolate_tags_in_phylogeny).intersection(set(strain_names)))\n",
    "    \n",
    "    #order strains according to terminal branches on phylogeny\n",
    "    isolate_tags_in_phylogeny_with_variant_filter = [(isolate_ID in strain_names) for isolate_ID in isolate_tags_in_phylogeny]\n",
    "    strain_names = np.array(isolate_tags_in_phylogeny)[isolate_tags_in_phylogeny_with_variant_filter]\n",
    "\n",
    "    return strain_names\n",
    "\n",
    "def get_strain_names_for_INDEL(INDEL_i_key):\n",
    "\n",
    "    #genotypes for each SNP site\n",
    "    genotypes_for_INDEL_i = INDEL_genotypes_array[INDEL_annotation_DF[INDEL_annotation_DF.key == INDEL_i_key].index[0] , :]\n",
    "\n",
    "    #boolean filter of isolates with variant\n",
    "    isolates_with_variant_filter = genotypes_for_INDEL_i == 1\n",
    "\n",
    "    #get list of isolates with variant\n",
    "    strain_names = list(INDEL_isolate_annotation_DF[isolates_with_variant_filter].isolate_ID)\n",
    "    \n",
    "    #get list of strains in phylogeny\n",
    "    strain_names = list(set(isolate_tags_in_phylogeny).intersection(set(strain_names)))\n",
    "    \n",
    "    #order strains according to terminal branches on phylogeny\n",
    "    isolate_tags_in_phylogeny_with_variant_filter = [(isolate_ID in strain_names) for isolate_ID in isolate_tags_in_phylogeny]\n",
    "    strain_names = np.array(isolate_tags_in_phylogeny)[isolate_tags_in_phylogeny_with_variant_filter]\n",
    "\n",
    "    return strain_names"
   ]
  },
  {
   "cell_type": "markdown",
   "metadata": {},
   "source": [
    "# [6] Explore the *eis* promoter SNP & *eis* mutations & explore phylogeny"
   ]
  },
  {
   "cell_type": "markdown",
   "metadata": {},
   "source": [
    "### Load in phylogeny created by Luca tree pipeline"
   ]
  },
  {
   "cell_type": "markdown",
   "metadata": {},
   "source": [
    "We're going to use Biopython's *Phylo* module to load phylogenetic trees created by Luca"
   ]
  },
  {
   "cell_type": "code",
   "execution_count": 99,
   "metadata": {},
   "outputs": [],
   "source": [
    "#path to tree\n",
    "phylogeny_path = '/n/data1/hms/dbmi/farhat/Roger/mmpR_BDQ_mutant_project/phylogenies/tree_output_files/phylogeny_lineage_2.2.1.1.1.i3_cluster/tree_lineage_2.2.1.1.1.i3_cluster_iqtree_FINAL.treefile'\n",
    "\n",
    "#parses and load tree\n",
    "tree = Phylo.parse(phylogeny_path , 'newick').next() \n",
    "\n",
    "#root the tree with the outgroup M. canettii [\"Normally you will want the outgroup to be a monophyletic group, rather than a single taxon.\"]\n",
    "tree.root_with_outgroup({\"name\":\"canettii\"})\n",
    "\n",
    "#flip branches so deeper clades are displayed at top\n",
    "tree.ladderize()\n",
    "\n",
    "'''\n",
    "Can choose to root the tree at the midpoint instead\n",
    "#root the tree at the midpoint [\"Root the tree at the midpoint of the two most distant taxa.\"]\n",
    "tree.root_at_midpoint()\n",
    "'''\n",
    "\n",
    "#retrieves the terminal branches of the tree\n",
    "terminal_branches = tree.get_terminals() "
   ]
  },
  {
   "cell_type": "markdown",
   "metadata": {},
   "source": [
    "Number of branches on this tree"
   ]
  },
  {
   "cell_type": "code",
   "execution_count": 100,
   "metadata": {},
   "outputs": [
    {
     "data": {
      "text/plain": [
       "445"
      ]
     },
     "execution_count": 100,
     "metadata": {},
     "output_type": "execute_result"
    }
   ],
   "source": [
    "len(terminal_branches)"
   ]
  },
  {
   "cell_type": "markdown",
   "metadata": {},
   "source": [
    "Retrieve the isolates that were used for this tree"
   ]
  },
  {
   "cell_type": "code",
   "execution_count": 101,
   "metadata": {},
   "outputs": [],
   "source": [
    "isolate_tags_in_phylogeny = [terminal_branches[i].name for i in range(0 , len(terminal_branches))]"
   ]
  },
  {
   "cell_type": "code",
   "execution_count": 102,
   "metadata": {},
   "outputs": [
    {
     "data": {
      "text/plain": [
       "445"
      ]
     },
     "execution_count": 102,
     "metadata": {},
     "output_type": "execute_result"
    }
   ],
   "source": [
    "len(isolate_tags_in_phylogeny) #+1 for M. canetti"
   ]
  },
  {
   "cell_type": "code",
   "execution_count": 103,
   "metadata": {},
   "outputs": [
    {
     "data": {
      "text/plain": [
       "['canettii', 'SAMN08708358', 'SAMN08709231', 'SAMN08708977', 'SAMN08709035']"
      ]
     },
     "execution_count": 103,
     "metadata": {},
     "output_type": "execute_result"
    }
   ],
   "source": [
    "isolate_tags_in_phylogeny[0:5]"
   ]
  },
  {
   "cell_type": "markdown",
   "metadata": {},
   "source": [
    "### Use dataframe matrix to pull the isolate IDs that had specific mutations called"
   ]
  },
  {
   "cell_type": "markdown",
   "metadata": {},
   "source": [
    "Different mutations that we're interested in - "
   ]
  },
  {
   "cell_type": "markdown",
   "metadata": {},
   "source": [
    "#### [1] *promoter SNP* 2715346, 'A', -14A eis-Rv2417c"
   ]
  },
  {
   "cell_type": "code",
   "execution_count": 104,
   "metadata": {},
   "outputs": [],
   "source": [
    "SNP_2715346_A_strain_names = get_strain_names_for_SNV(2715346, 'A')"
   ]
  },
  {
   "cell_type": "code",
   "execution_count": 105,
   "metadata": {},
   "outputs": [
    {
     "data": {
      "text/plain": [
       "75"
      ]
     },
     "execution_count": 105,
     "metadata": {},
     "output_type": "execute_result"
    }
   ],
   "source": [
    "len(SNP_2715346_A_strain_names)"
   ]
  },
  {
   "cell_type": "code",
   "execution_count": 106,
   "metadata": {},
   "outputs": [
    {
     "name": "stdout",
     "output_type": "stream",
     "text": [
      "['SAMEA2535204' 'NLA000500538' 'NLA000401210' 'SAMEA3402474'\n",
      " 'SAMN08709254' 'IT634' 'SAMN04633299' 'SAMN08708268' 'SAMN08708369'\n",
      " 'SAMEA3558426' 'SAMN08708602' 'IT233' 'SAMEA1102554' 'SAMN08709192'\n",
      " 'SAMN09914650' 'SAMN04633291' 'IT77' 'SAMEA1102358' 'SAMEA1016073'\n",
      " 'SAMN02584676' 'SAMN04633319' 'SAMEA1403645' 'SAMN02414859'\n",
      " 'SAMN02419543' 'SAMN02419586' 'SAMN02419535' 'SAMN02419559'\n",
      " 'SAMN02419574' 'SAMN02419643' 'SAMN02419582' 'SAMN02419641'\n",
      " 'SAMN02419604' 'SAMN02419545' 'SAMN02419550' 'SAMN02628508'\n",
      " 'SAMN02628483' 'SAMN02628484' 'SAMN08347767' 'SAMEA3367276'\n",
      " 'SAMN08347734' 'SAMN09399503' 'SAMN09399504' 'IT947' '622-19'\n",
      " 'SAMEA3420946' 'SAMEA3443173' 'SAMEA3420955' 'SAMEA3444106'\n",
      " 'SAMEA3421124' 'SAMEA3442605' 'SAMEA3436395' 'SAMEA3443144' 'IT1070'\n",
      " 'SAMN07956560' 'SAMN07956543' 'SAMN07956617' 'SAMN08143531'\n",
      " '1479150601544T895915lib5741nextseqn0051151bp' 'SAMN08636976'\n",
      " 'SAMN13169633' 'SAMN06849040' 'SAMN09715570' 'SAMN09715516'\n",
      " 'SAMN06849035' 'SAMN12347358' 'SAMEA1403685' 'SAMN10593557'\n",
      " 'SAMEA1403638' 'SAMEA1707505' 'SAMEA1469523' 'SAMN05001043'\n",
      " 'SAMN05001051' 'SAMEA1404026' 'SAMEA1403691' 'SAMEA1403827']\n"
     ]
    }
   ],
   "source": [
    "print(SNP_2715346_A_strain_names) #blue"
   ]
  },
  {
   "cell_type": "markdown",
   "metadata": {},
   "source": [
    "#### [2] *gene body SNP that abolishes START codon* 2715330, 'T', eis 3C>T V1V"
   ]
  },
  {
   "cell_type": "code",
   "execution_count": 107,
   "metadata": {},
   "outputs": [],
   "source": [
    "SNP_2715330_T_strain_names = get_strain_names_for_SNV(2715330, 'T')"
   ]
  },
  {
   "cell_type": "code",
   "execution_count": 108,
   "metadata": {},
   "outputs": [
    {
     "data": {
      "text/plain": [
       "5"
      ]
     },
     "execution_count": 108,
     "metadata": {},
     "output_type": "execute_result"
    }
   ],
   "source": [
    "len(SNP_2715330_T_strain_names)"
   ]
  },
  {
   "cell_type": "code",
   "execution_count": 109,
   "metadata": {},
   "outputs": [
    {
     "name": "stdout",
     "output_type": "stream",
     "text": [
      "['IT634' 'SAMN02419543' 'SAMN02419586' 'SAMN02419535' 'SAMN02419559']\n"
     ]
    }
   ],
   "source": [
    "print(SNP_2715330_T_strain_names) #green labels"
   ]
  },
  {
   "cell_type": "markdown",
   "metadata": {},
   "source": [
    "#### [3] *gene body deletion* 'GA_2714885_G', eis 448delA"
   ]
  },
  {
   "cell_type": "code",
   "execution_count": 110,
   "metadata": {},
   "outputs": [],
   "source": [
    "INDEL_GA_2714885_A_strain_names = get_strain_names_for_INDEL('GA_2714885_G')"
   ]
  },
  {
   "cell_type": "code",
   "execution_count": 111,
   "metadata": {},
   "outputs": [
    {
     "data": {
      "text/plain": [
       "7"
      ]
     },
     "execution_count": 111,
     "metadata": {},
     "output_type": "execute_result"
    }
   ],
   "source": [
    "len(INDEL_GA_2714885_A_strain_names)"
   ]
  },
  {
   "cell_type": "code",
   "execution_count": 112,
   "metadata": {},
   "outputs": [
    {
     "name": "stdout",
     "output_type": "stream",
     "text": [
      "['SAMEA1016073' 'SAMN02584676' 'SAMN04633319' 'IT1070' 'SAMN07956543'\n",
      " 'SAMEA1403685' 'SAMEA1403638']\n"
     ]
    }
   ],
   "source": [
    "print(INDEL_GA_2714885_A_strain_names) #pink labels"
   ]
  },
  {
   "cell_type": "markdown",
   "metadata": {},
   "source": [
    "#### [4] *gene body insertion* 'A_2714860_AT', eis 473insT"
   ]
  },
  {
   "cell_type": "code",
   "execution_count": 113,
   "metadata": {},
   "outputs": [],
   "source": [
    "INDEL_A_2714860_AT_strain_names = get_strain_names_for_INDEL('A_2714860_AT')"
   ]
  },
  {
   "cell_type": "code",
   "execution_count": 114,
   "metadata": {},
   "outputs": [
    {
     "data": {
      "text/plain": [
       "1"
      ]
     },
     "execution_count": 114,
     "metadata": {},
     "output_type": "execute_result"
    }
   ],
   "source": [
    "len(INDEL_A_2714860_AT_strain_names)"
   ]
  },
  {
   "cell_type": "code",
   "execution_count": 115,
   "metadata": {},
   "outputs": [
    {
     "name": "stdout",
     "output_type": "stream",
     "text": [
      "['SAMN07956543']\n"
     ]
    }
   ],
   "source": [
    "print(INDEL_A_2714860_AT_strain_names) #orange labels"
   ]
  },
  {
   "cell_type": "markdown",
   "metadata": {},
   "source": [
    "### Approximate TMRCA for clusters of isolates that carry the *promoter SNP* 2715346, 'A', -14A eis-Rv2417c"
   ]
  },
  {
   "cell_type": "markdown",
   "metadata": {},
   "source": [
    "There were 30,099 sites used to construct the **2.2.1.1.1.i3 cluster** tree"
   ]
  },
  {
   "cell_type": "code",
   "execution_count": 116,
   "metadata": {},
   "outputs": [],
   "source": [
    "num_sites_to_construct_tree = 30099.0"
   ]
  },
  {
   "cell_type": "code",
   "execution_count": 117,
   "metadata": {},
   "outputs": [],
   "source": [
    "def est_TMRCA_for_isolates(clade_isolate_IDs):\n",
    "\n",
    "    # Find the MRCA clade of this block of isolates\n",
    "    MRCA_of_children = tree.common_ancestor(clade_isolate_IDs)\n",
    "\n",
    "    Phylo.draw(MRCA_of_children) #visualize sub-tree\n",
    "    Phylo.draw_ascii(MRCA_of_children) #visualize sub-tree\n",
    "\n",
    "    # Find the distance between this MRCA & all terminal isolates within this clade\n",
    "    ## distance is given in *substitutions per sequence site* (SNPs / site)\n",
    "    distance_between_MRCA_and_terminal_nodes = []\n",
    "    for isolate_ID in clade_isolate_IDs:\n",
    "\n",
    "        #get the distance between MRCA node & the root (i.e. tree.distance({\"name\":'SAMN03647821'} , {\"name\":'SAMEA1485499'}))\n",
    "        #[\"Calculate the sum of the branch lengths between two targets. If only one target is specified, the other is the root of this tree.\"]\n",
    "        dist_between_MRCA_and_terminal_node = tree.distance(MRCA_of_children , isolate_ID)\n",
    "        distance_between_MRCA_and_terminal_nodes.append(dist_between_MRCA_and_terminal_node)\n",
    "\n",
    "    # Find median distances between the MRCA & the terminal nodes\n",
    "    median_distance_between_MRCA_and_terminal_nodes = np.median(distance_between_MRCA_and_terminal_nodes) #SNPs / site\n",
    "    median_SNP_distance_between_MRCA_and_terminal_nodes = median_distance_between_MRCA_and_terminal_nodes * num_sites_to_construct_tree #median distance in SNPs\n",
    "\n",
    "    # Aim to get an estimate for how long ago the MRCA existed in evolutionary time (Range of molecular clocks estimates: 0.3 - 0.6 SNPs/genome/year)\n",
    "\n",
    "    # using slower clock estimate\n",
    "    median_time_from_MRCA_to_tips_slow_clock = median_SNP_distance_between_MRCA_and_terminal_nodes / 0.3\n",
    "\n",
    "    # using faster clock estimate\n",
    "    median_time_from_MRCA_to_tips_fast_clock = median_SNP_distance_between_MRCA_and_terminal_nodes / 0.6\n",
    "    \n",
    "    print str(median_SNP_distance_between_MRCA_and_terminal_nodes)\n",
    "    print ''\n",
    "    print str(median_time_from_MRCA_to_tips_fast_clock) + ' - ' + str(median_time_from_MRCA_to_tips_slow_clock) + ' years'\n",
    "        \n",
    "    '''    \n",
    "    # Average the distances between the MRCA & the terminal nodes\n",
    "    mean_distance_between_MRCA_and_terminal_nodes = np.mean(distance_between_MRCA_and_terminal_nodes) #SNPs / site\n",
    "    mean_SNP_distance_between_MRCA_and_terminal_nodes = mean_distance_between_MRCA_and_terminal_nodes * num_sites_to_construct_tree #mean distance in SNPs\n",
    "\n",
    "    # Aim to get an estimate for how long ago the MRCA existed in evolutionary time (Range of molecular clocks estimates: 0.3 - 0.6 SNPs/genome/year)\n",
    "\n",
    "    # using slower clock estimate\n",
    "    mean_time_from_MRCA_to_tips_slow_clock = mean_SNP_distance_between_MRCA_and_terminal_nodes / 0.3\n",
    "\n",
    "    # using faster clock estimate\n",
    "    mean_time_from_MRCA_to_tips_fast_clock = mean_SNP_distance_between_MRCA_and_terminal_nodes / 0.6\n",
    "    \n",
    "    print str(mean_SNP_distance_between_MRCA_and_terminal_nodes)\n",
    "    print ''\n",
    "    print str(mean_time_from_MRCA_to_tips_fast_clock) + ' - ' + str(mean_time_from_MRCA_to_tips_slow_clock) + ' years'\n",
    "    \n",
    "    #return [mean_time_from_MRCA_to_tips_slow_clock, mean_time_from_MRCA_to_tips_fast_clock]\n",
    "    '''"
   ]
  },
  {
   "cell_type": "markdown",
   "metadata": {},
   "source": [
    "(Previously Cluster A)"
   ]
  },
  {
   "cell_type": "code",
   "execution_count": 118,
   "metadata": {},
   "outputs": [
    {
     "name": "stdout",
     "output_type": "stream",
     "text": [
      "10\n"
     ]
    },
    {
     "data": {
      "image/png": "[encoded data removed]",
      "text/plain": [
       "<Figure size 432x288 with 1 Axes>"
      ]
     },
     "metadata": {
      "needs_background": "light"
     },
     "output_type": "display_data"
    },
    {
     "name": "stdout",
     "output_type": "stream",
     "text": [
      "   ___________________________________ IT947\n",
      "  |\n",
      "  | _____________________________ 622-19\n",
      "__||\n",
      "  ||                           __________ SAMEA3420946\n",
      "  ||             _____________|\n",
      "  ||            |             |_________________ SAMEA3443173\n",
      "   |   _________|\n",
      "   |  |         |           ___________ SAMEA3420955\n",
      "   |  |         |__________|\n",
      "   |  |                    |____________________________________ SAMEA3444106\n",
      "   |__|\n",
      "      |             __________________ SAMEA3421124\n",
      "      |      ______|\n",
      "      |     |      |_____________________ SAMEA3442605\n",
      "      |_____|\n",
      "            |         ______________ SAMEA3436395\n",
      "            |________|\n",
      "                     |____________________________________ SAMEA3443144\n",
      "\n",
      "38.290092196649994\n",
      "\n",
      "63.816820327749994 - 127.63364065549999 years\n"
     ]
    }
   ],
   "source": [
    "clade_isolate_IDs = ['IT947','622-19','SAMEA3443144','SAMEA3436395','SAMEA3442605','SAMEA3421124','SAMEA3444106','SAMEA3420955','SAMEA3443173','SAMEA3420946']\n",
    "print(len(clade_isolate_IDs))\n",
    "est_TMRCA_for_isolates(clade_isolate_IDs)"
   ]
  },
  {
   "cell_type": "markdown",
   "metadata": {},
   "source": [
    "Cluster **C** (Previously Cluster B), *double* mutant"
   ]
  },
  {
   "cell_type": "code",
   "execution_count": 119,
   "metadata": {},
   "outputs": [
    {
     "name": "stdout",
     "output_type": "stream",
     "text": [
      "4\n"
     ]
    },
    {
     "data": {
      "image/png": "[encoded data removed]",
      "text/plain": [
       "<Figure size 432x288 with 1 Axes>"
      ]
     },
     "metadata": {
      "needs_background": "light"
     },
     "output_type": "display_data"
    },
    {
     "name": "stdout",
     "output_type": "stream",
     "text": [
      "                 _____________________________________________ IT1070\n",
      "________________|\n",
      "                |         ___________________________________ SAMN07956560\n",
      "                |________|\n",
      "                         | _______________________ SAMN07956543\n",
      "                         ||\n",
      "                          |_______________________________________ SAMN07956617\n",
      "\n",
      "35.681690282400005\n",
      "\n",
      "59.46948380400001 - 118.93896760800003 years\n"
     ]
    }
   ],
   "source": [
    "clade_isolate_IDs = ['IT1070','SAMN07956560','SAMN07956617','SAMN07956543']\n",
    "print(len(clade_isolate_IDs))\n",
    "est_TMRCA_for_isolates(clade_isolate_IDs)"
   ]
  },
  {
   "cell_type": "markdown",
   "metadata": {},
   "source": [
    "(Previously Cluster C)"
   ]
  },
  {
   "cell_type": "code",
   "execution_count": 120,
   "metadata": {},
   "outputs": [
    {
     "name": "stdout",
     "output_type": "stream",
     "text": [
      "7\n"
     ]
    },
    {
     "data": {
      "image/png": "[encoded data removed]",
      "text/plain": [
       "<Figure size 432x288 with 1 Axes>"
      ]
     },
     "metadata": {
      "needs_background": "light"
     },
     "output_type": "display_data"
    },
    {
     "name": "stdout",
     "output_type": "stream",
     "text": [
      "               _________________________________________________ SAMN08636976\n",
      "    __________|\n",
      "   |          |_______________ SAMN13169633\n",
      "   |\n",
      "___|             _________________ SAMN06849040\n",
      "   |      ______|\n",
      "   |     |      |_______________________ SAMN09715570\n",
      "   |_____|\n",
      "         |          _____________________________________________ SAMN09715516\n",
      "         |_________|\n",
      "                   |   __________________ SAMN06849035\n",
      "                   |__|\n",
      "                      |________________________________ SAMN12347358\n",
      "\n",
      "35.602072407600005\n",
      "\n",
      "59.33678734600001 - 118.67357469200002 years\n"
     ]
    }
   ],
   "source": [
    "clade_isolate_IDs = ['SAMN13169633','SAMN08636976','SAMN09715570','SAMN06849040','SAMN09715516','SAMN12347358','SAMN06849035']\n",
    "print(len(clade_isolate_IDs))\n",
    "est_TMRCA_for_isolates(clade_isolate_IDs)"
   ]
  },
  {
   "cell_type": "markdown",
   "metadata": {},
   "source": [
    "Cluster **A** (Previously Cluster D), *single* mutant"
   ]
  },
  {
   "cell_type": "code",
   "execution_count": 121,
   "metadata": {},
   "outputs": [
    {
     "name": "stdout",
     "output_type": "stream",
     "text": [
      "3\n"
     ]
    },
    {
     "data": {
      "image/png": "[encoded data removed]",
      "text/plain": [
       "<Figure size 432x288 with 1 Axes>"
      ]
     },
     "metadata": {
      "needs_background": "light"
     },
     "output_type": "display_data"
    },
    {
     "name": "stdout",
     "output_type": "stream",
     "text": [
      "                               ____ SAMN02628508\n",
      "______________________________|\n",
      "                              |     ________________________ SAMN02628483\n",
      "                              |____|\n",
      "                                   |______________________________ SAMN02628484\n",
      "\n",
      "15.108463940999998\n",
      "\n",
      "25.180773234999997 - 50.36154646999999 years\n"
     ]
    }
   ],
   "source": [
    "clade_isolate_IDs = ['SAMN02628483','SAMN02628484','SAMN02628508']\n",
    "print(len(clade_isolate_IDs))\n",
    "est_TMRCA_for_isolates(clade_isolate_IDs)"
   ]
  },
  {
   "cell_type": "markdown",
   "metadata": {},
   "source": [
    "(Previously Cluster E)"
   ]
  },
  {
   "cell_type": "code",
   "execution_count": 122,
   "metadata": {},
   "outputs": [
    {
     "name": "stdout",
     "output_type": "stream",
     "text": [
      "11\n"
     ]
    },
    {
     "data": {
      "image/png": "[encoded data removed]",
      "text/plain": [
       "<Figure size 432x288 with 1 Axes>"
      ]
     },
     "metadata": {
      "needs_background": "light"
     },
     "output_type": "display_data"
    },
    {
     "name": "stdout",
     "output_type": "stream",
     "text": [
      "         ______________ SAMN02419543\n",
      "  ______|\n",
      " |      |  _____________________________________________________ SAMN02419586\n",
      " |      |_|\n",
      " |        |  ___________________________ SAMN02419535\n",
      " |        |_|\n",
      "_|          |_______________________ SAMN02419559\n",
      " |\n",
      " |           ___________ SAMN02419574\n",
      " |    ______|\n",
      " |   |      |_____________ SAMN02419643\n",
      " |   |\n",
      " |___|      ______________ SAMN02419582\n",
      "     |   __|\n",
      "     |  |  |______________ SAMN02419641\n",
      "     |__|\n",
      "        |__________________________ SAMN02419604\n",
      "        |\n",
      "        |        _____________ SAMN02419545\n",
      "        |_______|\n",
      "                |______________ SAMN02419550\n",
      "\n",
      "65.6795937612\n",
      "\n",
      "109.465989602 - 218.931979204 years\n"
     ]
    }
   ],
   "source": [
    "clade_isolate_IDs = ['SAMN02419545','SAMN02419550','SAMN02419604','SAMN02419582','SAMN02419641','SAMN02419574','SAMN02419643','SAMN02419535','SAMN02419559','SAMN02419586','SAMN02419543']\n",
    "print(len(clade_isolate_IDs))\n",
    "est_TMRCA_for_isolates(clade_isolate_IDs)"
   ]
  },
  {
   "cell_type": "markdown",
   "metadata": {},
   "source": [
    "(Previously Cluster F)"
   ]
  },
  {
   "cell_type": "code",
   "execution_count": 123,
   "metadata": {},
   "outputs": [
    {
     "name": "stdout",
     "output_type": "stream",
     "text": [
      "2\n"
     ]
    },
    {
     "data": {
      "image/png": "[encoded data removed]",
      "text/plain": [
       "<Figure size 432x288 with 1 Axes>"
      ]
     },
     "metadata": {
      "needs_background": "light"
     },
     "output_type": "display_data"
    },
    {
     "name": "stdout",
     "output_type": "stream",
     "text": [
      "         ___________________________________________ SAMEA1403645\n",
      "________|\n",
      "        |                                 ________________________ SAMN02414851\n",
      "        |________________________________|\n",
      "                                         |_______________________ SAMN02414859\n",
      "\n",
      "29.156750805\n",
      "\n",
      "48.59458467500001 - 97.18916935000001 years\n"
     ]
    }
   ],
   "source": [
    "clade_isolate_IDs = ['SAMN02414859','SAMEA1403645']\n",
    "print(len(clade_isolate_IDs))\n",
    "est_TMRCA_for_isolates(clade_isolate_IDs)"
   ]
  },
  {
   "cell_type": "markdown",
   "metadata": {},
   "source": [
    "Cluster **D** (Previously Cluster G), *double* mutant"
   ]
  },
  {
   "cell_type": "code",
   "execution_count": 124,
   "metadata": {},
   "outputs": [
    {
     "name": "stdout",
     "output_type": "stream",
     "text": [
      "3\n"
     ]
    },
    {
     "data": {
      "image/png": "[encoded data removed]",
      "text/plain": [
       "<Figure size 432x288 with 1 Axes>"
      ]
     },
     "metadata": {
      "needs_background": "light"
     },
     "output_type": "display_data"
    },
    {
     "name": "stdout",
     "output_type": "stream",
     "text": [
      "      __________ SAMEA1016073\n",
      "_____|\n",
      "     |    _________ SAMN02584676\n",
      "     |___|\n",
      "         |________________________________________________________ SAMN04633319\n",
      "\n",
      "25.413067284\n",
      "\n",
      "42.35511214 - 84.71022428 years\n"
     ]
    }
   ],
   "source": [
    "clade_isolate_IDs = ['SAMN02584676','SAMN04633319','SAMEA1016073']\n",
    "print(len(clade_isolate_IDs))\n",
    "est_TMRCA_for_isolates(clade_isolate_IDs)"
   ]
  },
  {
   "cell_type": "markdown",
   "metadata": {},
   "source": [
    "(Previously Cluster H)"
   ]
  },
  {
   "cell_type": "code",
   "execution_count": 125,
   "metadata": {},
   "outputs": [
    {
     "name": "stdout",
     "output_type": "stream",
     "text": [
      "4\n"
     ]
    },
    {
     "data": {
      "image/png": "[encoded data removed]",
      "text/plain": [
       "<Figure size 432x288 with 1 Axes>"
      ]
     },
     "metadata": {
      "needs_background": "light"
     },
     "output_type": "display_data"
    },
    {
     "name": "stdout",
     "output_type": "stream",
     "text": [
      "   _________________ SAMN09914650\n",
      "__|\n",
      "  |        _______________________________________________________ SAMN04633291\n",
      "  |_______|\n",
      "          |   , IT77\n",
      "          |___|\n",
      "              |__ SAMEA1102358\n",
      "\n",
      "17.348828827800002\n",
      "\n",
      "28.914714713000006 - 57.82942942600001 years\n"
     ]
    }
   ],
   "source": [
    "clade_isolate_IDs = ['IT77','SAMEA1102358','SAMN04633291','SAMN09914650']\n",
    "print(len(clade_isolate_IDs))\n",
    "est_TMRCA_for_isolates(clade_isolate_IDs)"
   ]
  },
  {
   "cell_type": "markdown",
   "metadata": {},
   "source": [
    "Cluster **E** (Previously Cluster I), *double* mutant"
   ]
  },
  {
   "cell_type": "code",
   "execution_count": 126,
   "metadata": {},
   "outputs": [
    {
     "name": "stdout",
     "output_type": "stream",
     "text": [
      "8\n"
     ]
    },
    {
     "data": {
      "image/png": "[encoded data removed]",
      "text/plain": [
       "<Figure size 432x288 with 1 Axes>"
      ]
     },
     "metadata": {
      "needs_background": "light"
     },
     "output_type": "display_data"
    },
    {
     "name": "stdout",
     "output_type": "stream",
     "text": [
      "        ________________________ IT634\n",
      "       |\n",
      "_______|________________________________________________ SAMN04633299\n",
      "       |\n",
      "       |           __________________________ SAMN08708268\n",
      "       |    ______|\n",
      "       |   |      |______________________ SAMN08708369\n",
      "       |___|\n",
      "           |_____________________________________________________ SAMEA3558426\n",
      "           |\n",
      "           |         __________________ SAMN08708602\n",
      "           |________|\n",
      "                    |                  , IT233\n",
      "                    |__________________|\n",
      "                                       | SAMEA1102554\n",
      "\n",
      "32.562752140049994\n",
      "\n",
      "54.27125356674999 - 108.54250713349998 years\n"
     ]
    }
   ],
   "source": [
    "clade_isolate_IDs = ['IT233','SAMEA1102554','SAMN08708602','SAMEA3558426','SAMN08708268','SAMN08708369','SAMN04633299','IT634']\n",
    "print(len(clade_isolate_IDs))\n",
    "est_TMRCA_for_isolates(clade_isolate_IDs)"
   ]
  },
  {
   "cell_type": "markdown",
   "metadata": {},
   "source": [
    "(Previously Cluster J)"
   ]
  },
  {
   "cell_type": "code",
   "execution_count": 127,
   "metadata": {},
   "outputs": [
    {
     "name": "stdout",
     "output_type": "stream",
     "text": [
      "4\n"
     ]
    },
    {
     "data": {
      "image/png": "[encoded data removed]",
      "text/plain": [
       "<Figure size 432x288 with 1 Axes>"
      ]
     },
     "metadata": {
      "needs_background": "light"
     },
     "output_type": "display_data"
    },
    {
     "name": "stdout",
     "output_type": "stream",
     "text": [
      "        ____________________ SAMEA2535204\n",
      "_______|\n",
      "       |              ____________________________________ NLA000500538\n",
      "       |_____________|\n",
      "                     |                                       , NLA000401210\n",
      "                     |_______________________________________|\n",
      "                                                             |____ SAMEA3402474\n",
      "\n",
      "42.165309852600004\n",
      "\n",
      "70.275516421 - 140.551032842 years\n"
     ]
    }
   ],
   "source": [
    "clade_isolate_IDs = ['NLA000401210','SAMEA3402474','NLA000500538','SAMEA2535204']\n",
    "print(len(clade_isolate_IDs))\n",
    "est_TMRCA_for_isolates(clade_isolate_IDs)"
   ]
  },
  {
   "cell_type": "markdown",
   "metadata": {},
   "source": [
    "(Previously Cluster K)"
   ]
  },
  {
   "cell_type": "code",
   "execution_count": 128,
   "metadata": {},
   "outputs": [
    {
     "name": "stdout",
     "output_type": "stream",
     "text": [
      "3\n"
     ]
    },
    {
     "data": {
      "image/png": "[encoded data removed]",
      "text/plain": [
       "<Figure size 432x288 with 1 Axes>"
      ]
     },
     "metadata": {
      "needs_background": "light"
     },
     "output_type": "display_data"
    },
    {
     "name": "stdout",
     "output_type": "stream",
     "text": [
      "       ________________________________________________________ SAMEA1404026\n",
      "______|\n",
      "      |         _____________________________________ SAMEA1403691\n",
      "      |________|\n",
      "               |__________________________________________________ SAMEA1403827\n",
      "\n",
      "39.9375745062\n",
      "\n",
      "66.562624177 - 133.125248354 years\n"
     ]
    }
   ],
   "source": [
    "clade_isolate_IDs = ['SAMEA1403691','SAMEA1403827','SAMEA1404026']\n",
    "print(len(clade_isolate_IDs))\n",
    "est_TMRCA_for_isolates(clade_isolate_IDs)"
   ]
  },
  {
   "cell_type": "markdown",
   "metadata": {},
   "source": [
    "Cluster **B** (Previously Cluster L), *single* mutant"
   ]
  },
  {
   "cell_type": "code",
   "execution_count": 129,
   "metadata": {},
   "outputs": [
    {
     "name": "stdout",
     "output_type": "stream",
     "text": [
      "2\n"
     ]
    },
    {
     "data": {
      "image/png": "[encoded data removed]",
      "text/plain": [
       "<Figure size 432x288 with 1 Axes>"
      ]
     },
     "metadata": {
      "needs_background": "light"
     },
     "output_type": "display_data"
    },
    {
     "name": "stdout",
     "output_type": "stream",
     "text": [
      "                                         _____________ SAMN05001043\n",
      "________________________________________|\n",
      "                                        |__________________________ SAMN05001051\n",
      "\n",
      "13.18763756295\n",
      "\n",
      "21.97939593825 - 43.9587918765 years\n"
     ]
    }
   ],
   "source": [
    "clade_isolate_IDs = ['SAMN05001043','SAMN05001051']\n",
    "print(len(clade_isolate_IDs))\n",
    "est_TMRCA_for_isolates(clade_isolate_IDs)"
   ]
  },
  {
   "cell_type": "markdown",
   "metadata": {},
   "source": [
    "(Previously Cluster M)"
   ]
  },
  {
   "cell_type": "code",
   "execution_count": 130,
   "metadata": {},
   "outputs": [
    {
     "name": "stdout",
     "output_type": "stream",
     "text": [
      "2\n"
     ]
    },
    {
     "data": {
      "image/png": "[encoded data removed]",
      "text/plain": [
       "<Figure size 432x288 with 1 Axes>"
      ]
     },
     "metadata": {
      "needs_background": "light"
     },
     "output_type": "display_data"
    },
    {
     "name": "stdout",
     "output_type": "stream",
     "text": [
      "          ____________________________________________________ SAMEA1403638\n",
      "_________|\n",
      "         |_________________________________________________________ SAMEA1707505\n",
      "\n",
      "35.040351325050004\n",
      "\n",
      "58.40058554175001 - 116.80117108350002 years\n"
     ]
    }
   ],
   "source": [
    "clade_isolate_IDs = ['SAMEA1403638','SAMEA1707505']\n",
    "print(len(clade_isolate_IDs))\n",
    "est_TMRCA_for_isolates(clade_isolate_IDs)"
   ]
  },
  {
   "cell_type": "markdown",
   "metadata": {},
   "source": [
    "Cluster **F** (Previously Cluster N), *double* mutant"
   ]
  },
  {
   "cell_type": "code",
   "execution_count": 131,
   "metadata": {},
   "outputs": [
    {
     "name": "stdout",
     "output_type": "stream",
     "text": [
      "2\n"
     ]
    },
    {
     "data": {
      "image/png": "[encoded data removed]",
      "text/plain": [
       "<Figure size 432x288 with 1 Axes>"
      ]
     },
     "metadata": {
      "needs_background": "light"
     },
     "output_type": "display_data"
    },
    {
     "name": "stdout",
     "output_type": "stream",
     "text": [
      "                 ____________________________________ SAMEA1403685\n",
      "________________|\n",
      "                |__________________________________________________ SAMN10593557\n",
      "\n",
      "30.6063397143\n",
      "\n",
      "51.0105661905 - 102.021132381 years\n"
     ]
    }
   ],
   "source": [
    "clade_isolate_IDs = ['SAMEA1403685','SAMN10593557']\n",
    "print(len(clade_isolate_IDs))\n",
    "est_TMRCA_for_isolates(clade_isolate_IDs)"
   ]
  },
  {
   "cell_type": "markdown",
   "metadata": {},
   "source": [
    "# [7] Annotate new variants in additional 12 eis C-14T mutants with AG MICs in the *eis* gene"
   ]
  },
  {
   "cell_type": "markdown",
   "metadata": {},
   "source": [
    "### Annotate INDELs w/ H37Rv Locus Info"
   ]
  },
  {
   "cell_type": "markdown",
   "metadata": {},
   "source": [
    "#### Retrieve information for H37Rv Reference Genome"
   ]
  },
  {
   "cell_type": "code",
   "execution_count": 132,
   "metadata": {},
   "outputs": [
    {
     "name": "stderr",
     "output_type": "stream",
     "text": [
      "/home/rv76/anaconda2/lib/python2.7/site-packages/ipykernel_launcher.py:18: DeprecationWarning: \n",
      ".ix is deprecated. Please use\n",
      ".loc for label based indexing or\n",
      ".iloc for positional indexing\n",
      "\n",
      "See the documentation here:\n",
      "http://pandas.pydata.org/pandas-docs/stable/indexing.html#ix-indexer-is-deprecated\n"
     ]
    }
   ],
   "source": [
    "####################################################################################################################################################################################\n",
    "#load reference genome and reference annotation\n",
    "reference_genome = '/home/rv76/Farhat_Lab/Reference_Seqs/H37Rv/h37rv.fasta'\n",
    "for reference_genome in SeqIO.parse(reference_genome, \"fasta\"):\n",
    "    reference_genome.seq.alphabet = IUPAC.unambiguous_dna\n",
    "\n",
    "reference_genome_annotation = pd.read_csv('/home/rv76/Farhat_Lab/CSV_files/h37rv_genome_summary.txt', '\\t').set_index('name')\n",
    "\n",
    "####### Make a dictionary of all H37Rv reference positions and corresponding genes #######\n",
    "ReferencePosition_Gene_mapping = {} #keys: H37Rv Reference Positions , values: gene_ids (may be multiple genes for some Reference Positions)\n",
    "\n",
    "#store a list corresponding to every Reference Position (to store all genes that map to the Reference Position)\n",
    "for H37Rv_RefPos in range(0 , len(reference_genome.seq) + 1):\n",
    "    ReferencePosition_Gene_mapping[H37Rv_RefPos] = []\n",
    "\n",
    "for gene_id_index in range(0 , len(reference_genome_annotation.index)):\n",
    "\n",
    "    gene_id_info = reference_genome_annotation.ix[gene_id_index , :]\n",
    "    gene_id = gene_id_info.name\n",
    "\n",
    "    chrom_start = gene_id_info.chromStart\n",
    "    chrom_end = gene_id_info.chromEnd\n",
    "\n",
    "    #find the position of the first base relative to H37Rv in 5' -> 3'\n",
    "    H37Rv_start = min(chrom_start , chrom_end)\n",
    "    H37Rv_end = max(chrom_start , chrom_end)\n",
    "\n",
    "    #store all corresponding H37Rv Reference Positions to gene_id in dictionary\n",
    "    for H37Rv_RefPos in range(H37Rv_start+1 , H37Rv_end+1):\n",
    "\n",
    "        ReferencePosition_Gene_mapping[H37Rv_RefPos].append(gene_id) #append gene_id to list already in dict\n",
    "        \n",
    "####################################################################################################################################################################################"
   ]
  },
  {
   "cell_type": "markdown",
   "metadata": {},
   "source": [
    "#### Annotate INDELs"
   ]
  },
  {
   "cell_type": "markdown",
   "metadata": {},
   "source": [
    "To annotate INDELs, we get gene_ids that the INDELs 'land in' and the gene-relative coordinate."
   ]
  },
  {
   "cell_type": "code",
   "execution_count": 133,
   "metadata": {},
   "outputs": [
    {
     "data": {
      "text/html": [
       "<div>\n",
       "<style>\n",
       "    .dataframe thead tr:only-child th {\n",
       "        text-align: right;\n",
       "    }\n",
       "\n",
       "    .dataframe thead th {\n",
       "        text-align: left;\n",
       "    }\n",
       "\n",
       "    .dataframe tbody tr th {\n",
       "        vertical-align: top;\n",
       "    }\n",
       "</style>\n",
       "<table border=\"1\" class=\"dataframe\">\n",
       "  <thead>\n",
       "    <tr style=\"text-align: right;\">\n",
       "      <th></th>\n",
       "      <th>key</th>\n",
       "      <th>pos</th>\n",
       "      <th>ref</th>\n",
       "      <th>alt</th>\n",
       "    </tr>\n",
       "  </thead>\n",
       "  <tbody>\n",
       "    <tr>\n",
       "      <th>0</th>\n",
       "      <td>CCGGCGATGCGT_2715054_C</td>\n",
       "      <td>2715054</td>\n",
       "      <td>CCGGCGATGCGT</td>\n",
       "      <td>C</td>\n",
       "    </tr>\n",
       "    <tr>\n",
       "      <th>1</th>\n",
       "      <td>A_2714706_AC</td>\n",
       "      <td>2714706</td>\n",
       "      <td>A</td>\n",
       "      <td>AC</td>\n",
       "    </tr>\n",
       "    <tr>\n",
       "      <th>2</th>\n",
       "      <td>C_2714933_CG</td>\n",
       "      <td>2714933</td>\n",
       "      <td>C</td>\n",
       "      <td>CG</td>\n",
       "    </tr>\n",
       "  </tbody>\n",
       "</table>\n",
       "</div>"
      ],
      "text/plain": [
       "                      key      pos           ref alt\n",
       "0  CCGGCGATGCGT_2715054_C  2715054  CCGGCGATGCGT   C\n",
       "1            A_2714706_AC  2714706             A  AC\n",
       "2            C_2714933_CG  2714933             C  CG"
      ]
     },
     "execution_count": 133,
     "metadata": {},
     "output_type": "execute_result"
    }
   ],
   "source": [
    "#load INDEL annotation file (rows of Genotype Matrix)\n",
    "INDEL_annotation_DF = pd.DataFrame()\n",
    "INDEL_annotation_DF.loc[:,'key'] = ['CCGGCGATGCGT_2715054_C', 'A_2714706_AC', 'C_2714933_CG']\n",
    "INDEL_annotation_DF.loc[:,'pos'] = [2715054, 2714706, 2714933]\n",
    "INDEL_annotation_DF.loc[:,'ref'] = ['CCGGCGATGCGT', 'A', 'C']\n",
    "INDEL_annotation_DF.loc[:,'alt'] = ['C', 'AC', 'CG']\n",
    "\n",
    "INDEL_annotation_DF.head()"
   ]
  },
  {
   "cell_type": "code",
   "execution_count": 134,
   "metadata": {},
   "outputs": [
    {
     "data": {
      "text/plain": [
       "(3, 4)"
      ]
     },
     "execution_count": 134,
     "metadata": {},
     "output_type": "execute_result"
    }
   ],
   "source": [
    "np.shape(INDEL_annotation_DF)"
   ]
  },
  {
   "cell_type": "markdown",
   "metadata": {},
   "source": [
    "#### Gene Categories"
   ]
  },
  {
   "cell_type": "code",
   "execution_count": 135,
   "metadata": {},
   "outputs": [],
   "source": [
    "#get Gene Categories\n",
    "gene_categories = pd.read_csv('/n/data1/hms/dbmi/farhat/Roger/inhost_TB_dynamics_project/CSV_files/gene_categories/gene_categories.csv').set_index('name')\n",
    "\n",
    "#create dictionary, keys: H37Rv locus, values: gene category\n",
    "gene_categories_map = dict( zip( list(gene_categories.gene_id) , list(gene_categories.Gene_Category) ) ) "
   ]
  },
  {
   "cell_type": "markdown",
   "metadata": {},
   "source": [
    "#### Gene Names"
   ]
  },
  {
   "cell_type": "markdown",
   "metadata": {},
   "source": [
    "Parse through Mycobrowser (tuberculist) to collect gene names"
   ]
  },
  {
   "cell_type": "code",
   "execution_count": 136,
   "metadata": {},
   "outputs": [],
   "source": [
    "mycobrowser_table = pd.read_csv('/n/data1/hms/dbmi/farhat/Roger/inhost_TB_dynamics_project/H37Rv/Mycobrowser_Release3/Mycobacterium_tuberculosis_H37Rv_txt_v3.txt' , sep = '\\t')\n",
    "\n",
    "#retreive columns for locus tag & gene name\n",
    "mycobrowser_table = mycobrowser_table.loc[: , ['Locus' , 'Name']]\n",
    "\n",
    "#create dictionary, keys: H37Rv loucs, values: gene category\n",
    "gene_names_map = dict( zip( list(mycobrowser_table.Locus) , list(mycobrowser_table.Name) ) ) "
   ]
  },
  {
   "cell_type": "markdown",
   "metadata": {},
   "source": [
    "#### Iterate through each INDEL to annotate"
   ]
  },
  {
   "cell_type": "markdown",
   "metadata": {},
   "source": [
    "Some INDELs are present in more than 1 gene, have to account for this"
   ]
  },
  {
   "cell_type": "code",
   "execution_count": 137,
   "metadata": {},
   "outputs": [
    {
     "name": "stdout",
     "output_type": "stream",
     "text": [
      "0.0\n",
      "0.333333333333\n",
      "0.666666666667\n"
     ]
    }
   ],
   "source": [
    "#create dictionaries for each columsn of information\n",
    "locus_tag_dict = {} #H37Rv id\n",
    "genomic_coord_dict = {} #coordinate on gene, 5' -> 3'\n",
    "gene_categ_dict = {} #gene Category\n",
    "gene_name_dict = {} #gene Name\n",
    "\n",
    "for INDEL_index in INDEL_annotation_DF.index:\n",
    "\n",
    "    #reference position, ref allele and alt allele for INDEL\n",
    "    INDEL_info = INDEL_annotation_DF.loc[INDEL_index , :]\n",
    "\n",
    "    #find the gene that INDEL occurs on\n",
    "    ref_seq_position = INDEL_info.pos\n",
    "\n",
    "    #check list corresponding to H37Rv coordinate to see if there are any genes associated with RefPosition\n",
    "    if len(ReferencePosition_Gene_mapping[ref_seq_position]) == 1:\n",
    "        \n",
    "        #get gene that ReferencePosition is mapped to (i.e. INDEL filtering ensures that INDEL corresponds to only 1 gene)\n",
    "        gene_intergenic_id = ReferencePosition_Gene_mapping[ref_seq_position][0]\n",
    "\n",
    "        #find genomic coordinate of INDEL relative to gene (subtract 1 since reference seq starts counting at 1)\n",
    "        gene_relative_coord = (ref_seq_position - 1) - min( reference_genome_annotation.loc[gene_intergenic_id , 'chromStart'] , reference_genome_annotation.loc[gene_intergenic_id , 'chromEnd'] )\n",
    "\n",
    "        #store all information for INDEL in relevant dictionaries\n",
    "        locus_tag_dict[INDEL_index] = gene_intergenic_id\n",
    "        genomic_coord_dict[INDEL_index] = gene_relative_coord\n",
    "\n",
    "        #use gene id to get category and names from mappings\n",
    "        if gene_intergenic_id in gene_categories_map.keys():\n",
    "            gene_categ_dict[INDEL_index] = gene_categories_map[gene_intergenic_id]\n",
    "        else:\n",
    "            gene_categ_dict[INDEL_index] = 'None'\n",
    "\n",
    "        if gene_intergenic_id in gene_names_map.keys():\n",
    "            gene_name_dict[INDEL_index] = gene_names_map[gene_intergenic_id] \n",
    "        else:\n",
    "            gene_name_dict[INDEL_index] = 'None'\n",
    "            \n",
    "    #H37Rv RefSeq position was not found in dictionary so Reference position must be intergenic    \n",
    "    elif len(ReferencePosition_Gene_mapping[ref_seq_position]) == 0:\n",
    "\n",
    "        #store all information for INDEL in relevant dictionaries\n",
    "        locus_tag_dict[INDEL_index] = 'intergenic'\n",
    "        genomic_coord_dict[INDEL_index] = np.nan\n",
    "        gene_categ_dict[INDEL_index] = 'None'\n",
    "        gene_name_dict[INDEL_index] = 'None'\n",
    "\n",
    "    #keep track of progress of loop\n",
    "    num_INDELs = float( np.shape(INDEL_annotation_DF)[0] )\n",
    "    if INDEL_index % np.ceil(0.20 * num_INDELs) == 0:\n",
    "        print float(INDEL_index) / num_INDELs"
   ]
  },
  {
   "cell_type": "markdown",
   "metadata": {},
   "source": [
    "#### Update INDEL annotation DF"
   ]
  },
  {
   "cell_type": "code",
   "execution_count": 138,
   "metadata": {},
   "outputs": [],
   "source": [
    "#append columns for info from annotation\n",
    "INDEL_annotation_DF['gene_id'] = pd.Series(locus_tag_dict)\n",
    "INDEL_annotation_DF['gene_pos'] = pd.Series(genomic_coord_dict)\n",
    "INDEL_annotation_DF['gene_category'] = pd.Series(gene_categ_dict)\n",
    "INDEL_annotation_DF['gene_name'] = pd.Series(gene_name_dict)"
   ]
  },
  {
   "cell_type": "code",
   "execution_count": 139,
   "metadata": {},
   "outputs": [
    {
     "data": {
      "text/plain": [
       "(3, 8)"
      ]
     },
     "execution_count": 139,
     "metadata": {},
     "output_type": "execute_result"
    }
   ],
   "source": [
    "np.shape( INDEL_annotation_DF )"
   ]
  },
  {
   "cell_type": "code",
   "execution_count": 140,
   "metadata": {},
   "outputs": [
    {
     "data": {
      "text/html": [
       "<div>\n",
       "<style>\n",
       "    .dataframe thead tr:only-child th {\n",
       "        text-align: right;\n",
       "    }\n",
       "\n",
       "    .dataframe thead th {\n",
       "        text-align: left;\n",
       "    }\n",
       "\n",
       "    .dataframe tbody tr th {\n",
       "        vertical-align: top;\n",
       "    }\n",
       "</style>\n",
       "<table border=\"1\" class=\"dataframe\">\n",
       "  <thead>\n",
       "    <tr style=\"text-align: right;\">\n",
       "      <th></th>\n",
       "      <th>key</th>\n",
       "      <th>pos</th>\n",
       "      <th>ref</th>\n",
       "      <th>alt</th>\n",
       "      <th>gene_id</th>\n",
       "      <th>gene_pos</th>\n",
       "      <th>gene_category</th>\n",
       "      <th>gene_name</th>\n",
       "    </tr>\n",
       "  </thead>\n",
       "  <tbody>\n",
       "    <tr>\n",
       "      <th>0</th>\n",
       "      <td>CCGGCGATGCGT_2715054_C</td>\n",
       "      <td>2715054</td>\n",
       "      <td>CCGGCGATGCGT</td>\n",
       "      <td>C</td>\n",
       "      <td>Rv2416c</td>\n",
       "      <td>930</td>\n",
       "      <td>Non-Essential</td>\n",
       "      <td>eis</td>\n",
       "    </tr>\n",
       "    <tr>\n",
       "      <th>1</th>\n",
       "      <td>A_2714706_AC</td>\n",
       "      <td>2714706</td>\n",
       "      <td>A</td>\n",
       "      <td>AC</td>\n",
       "      <td>Rv2416c</td>\n",
       "      <td>582</td>\n",
       "      <td>Non-Essential</td>\n",
       "      <td>eis</td>\n",
       "    </tr>\n",
       "    <tr>\n",
       "      <th>2</th>\n",
       "      <td>C_2714933_CG</td>\n",
       "      <td>2714933</td>\n",
       "      <td>C</td>\n",
       "      <td>CG</td>\n",
       "      <td>Rv2416c</td>\n",
       "      <td>809</td>\n",
       "      <td>Non-Essential</td>\n",
       "      <td>eis</td>\n",
       "    </tr>\n",
       "  </tbody>\n",
       "</table>\n",
       "</div>"
      ],
      "text/plain": [
       "                      key      pos           ref alt  gene_id  gene_pos  \\\n",
       "0  CCGGCGATGCGT_2715054_C  2715054  CCGGCGATGCGT   C  Rv2416c       930   \n",
       "1            A_2714706_AC  2714706             A  AC  Rv2416c       582   \n",
       "2            C_2714933_CG  2714933             C  CG  Rv2416c       809   \n",
       "\n",
       "   gene_category gene_name  \n",
       "0  Non-Essential       eis  \n",
       "1  Non-Essential       eis  \n",
       "2  Non-Essential       eis  "
      ]
     },
     "execution_count": 140,
     "metadata": {},
     "output_type": "execute_result"
    }
   ],
   "source": [
    "INDEL_annotation_DF.head()"
   ]
  },
  {
   "cell_type": "markdown",
   "metadata": {},
   "source": [
    "### This block of code will determine the functional consequence of each INDEL in our genotypes array."
   ]
  },
  {
   "cell_type": "markdown",
   "metadata": {},
   "source": [
    "#### Create a dataframe for each unique _reference_ allele - _alternate_ allele pairing"
   ]
  },
  {
   "cell_type": "code",
   "execution_count": 141,
   "metadata": {},
   "outputs": [],
   "source": [
    "INDEL_functional_annotation_DF = INDEL_annotation_DF.loc[: , ['key' , 'pos' , 'ref' , 'alt' , 'gene_category' , 'gene_name']]\n",
    "INDEL_functional_annotation_DF.set_index('key' , inplace = True , drop = True)"
   ]
  },
  {
   "cell_type": "code",
   "execution_count": 142,
   "metadata": {},
   "outputs": [
    {
     "data": {
      "text/html": [
       "<div>\n",
       "<style>\n",
       "    .dataframe thead tr:only-child th {\n",
       "        text-align: right;\n",
       "    }\n",
       "\n",
       "    .dataframe thead th {\n",
       "        text-align: left;\n",
       "    }\n",
       "\n",
       "    .dataframe tbody tr th {\n",
       "        vertical-align: top;\n",
       "    }\n",
       "</style>\n",
       "<table border=\"1\" class=\"dataframe\">\n",
       "  <thead>\n",
       "    <tr style=\"text-align: right;\">\n",
       "      <th></th>\n",
       "      <th>pos</th>\n",
       "      <th>ref</th>\n",
       "      <th>alt</th>\n",
       "      <th>gene_category</th>\n",
       "      <th>gene_name</th>\n",
       "    </tr>\n",
       "    <tr>\n",
       "      <th>key</th>\n",
       "      <th></th>\n",
       "      <th></th>\n",
       "      <th></th>\n",
       "      <th></th>\n",
       "      <th></th>\n",
       "    </tr>\n",
       "  </thead>\n",
       "  <tbody>\n",
       "    <tr>\n",
       "      <th>CCGGCGATGCGT_2715054_C</th>\n",
       "      <td>2715054</td>\n",
       "      <td>CCGGCGATGCGT</td>\n",
       "      <td>C</td>\n",
       "      <td>Non-Essential</td>\n",
       "      <td>eis</td>\n",
       "    </tr>\n",
       "    <tr>\n",
       "      <th>A_2714706_AC</th>\n",
       "      <td>2714706</td>\n",
       "      <td>A</td>\n",
       "      <td>AC</td>\n",
       "      <td>Non-Essential</td>\n",
       "      <td>eis</td>\n",
       "    </tr>\n",
       "    <tr>\n",
       "      <th>C_2714933_CG</th>\n",
       "      <td>2714933</td>\n",
       "      <td>C</td>\n",
       "      <td>CG</td>\n",
       "      <td>Non-Essential</td>\n",
       "      <td>eis</td>\n",
       "    </tr>\n",
       "  </tbody>\n",
       "</table>\n",
       "</div>"
      ],
      "text/plain": [
       "                            pos           ref alt  gene_category gene_name\n",
       "key                                                                       \n",
       "CCGGCGATGCGT_2715054_C  2715054  CCGGCGATGCGT   C  Non-Essential       eis\n",
       "A_2714706_AC            2714706             A  AC  Non-Essential       eis\n",
       "C_2714933_CG            2714933             C  CG  Non-Essential       eis"
      ]
     },
     "execution_count": 142,
     "metadata": {},
     "output_type": "execute_result"
    }
   ],
   "source": [
    "INDEL_functional_annotation_DF.head()"
   ]
  },
  {
   "cell_type": "code",
   "execution_count": 143,
   "metadata": {},
   "outputs": [
    {
     "data": {
      "text/plain": [
       "(3, 5)"
      ]
     },
     "execution_count": 143,
     "metadata": {},
     "output_type": "execute_result"
    }
   ],
   "source": [
    "np.shape(INDEL_functional_annotation_DF)"
   ]
  },
  {
   "cell_type": "markdown",
   "metadata": {},
   "source": [
    "Convert **gene_category** and **gene_name** columns so that the elements are lists only when there is more than 1 label in a cell (when a Reference Position corresponds to two overlapping genes, these positions have been filtered out in the most recent version of analysis)"
   ]
  },
  {
   "cell_type": "code",
   "execution_count": 144,
   "metadata": {},
   "outputs": [],
   "source": [
    "gene_category_list = []\n",
    "gene_name_list = []\n",
    "\n",
    "for INDEL_i in INDEL_functional_annotation_DF.index:\n",
    "    \n",
    "    gene_category_INDEL_i = INDEL_functional_annotation_DF.loc[INDEL_i , 'gene_category']\n",
    "    gene_name_INDEL_i = INDEL_functional_annotation_DF.loc[INDEL_i , 'gene_name']\n",
    "    \n",
    "    if len(gene_category_INDEL_i) == 1:\n",
    "        \n",
    "        gene_category_list.append(gene_category_INDEL_i[0])\n",
    "        gene_name_list.append(gene_name_INDEL_i[0])\n",
    "    \n",
    "    else:\n",
    "        \n",
    "        gene_category_list.append(gene_category_INDEL_i)\n",
    "        gene_name_list.append(gene_name_INDEL_i)\n",
    "        \n",
    "INDEL_functional_annotation_DF['gene_category'] = gene_category_list\n",
    "INDEL_functional_annotation_DF['gene_name'] = gene_name_list"
   ]
  },
  {
   "cell_type": "code",
   "execution_count": 145,
   "metadata": {},
   "outputs": [
    {
     "data": {
      "text/html": [
       "<div>\n",
       "<style>\n",
       "    .dataframe thead tr:only-child th {\n",
       "        text-align: right;\n",
       "    }\n",
       "\n",
       "    .dataframe thead th {\n",
       "        text-align: left;\n",
       "    }\n",
       "\n",
       "    .dataframe tbody tr th {\n",
       "        vertical-align: top;\n",
       "    }\n",
       "</style>\n",
       "<table border=\"1\" class=\"dataframe\">\n",
       "  <thead>\n",
       "    <tr style=\"text-align: right;\">\n",
       "      <th></th>\n",
       "      <th>pos</th>\n",
       "      <th>ref</th>\n",
       "      <th>alt</th>\n",
       "      <th>gene_category</th>\n",
       "      <th>gene_name</th>\n",
       "    </tr>\n",
       "    <tr>\n",
       "      <th>key</th>\n",
       "      <th></th>\n",
       "      <th></th>\n",
       "      <th></th>\n",
       "      <th></th>\n",
       "      <th></th>\n",
       "    </tr>\n",
       "  </thead>\n",
       "  <tbody>\n",
       "    <tr>\n",
       "      <th>CCGGCGATGCGT_2715054_C</th>\n",
       "      <td>2715054</td>\n",
       "      <td>CCGGCGATGCGT</td>\n",
       "      <td>C</td>\n",
       "      <td>Non-Essential</td>\n",
       "      <td>eis</td>\n",
       "    </tr>\n",
       "    <tr>\n",
       "      <th>A_2714706_AC</th>\n",
       "      <td>2714706</td>\n",
       "      <td>A</td>\n",
       "      <td>AC</td>\n",
       "      <td>Non-Essential</td>\n",
       "      <td>eis</td>\n",
       "    </tr>\n",
       "    <tr>\n",
       "      <th>C_2714933_CG</th>\n",
       "      <td>2714933</td>\n",
       "      <td>C</td>\n",
       "      <td>CG</td>\n",
       "      <td>Non-Essential</td>\n",
       "      <td>eis</td>\n",
       "    </tr>\n",
       "  </tbody>\n",
       "</table>\n",
       "</div>"
      ],
      "text/plain": [
       "                            pos           ref alt  gene_category gene_name\n",
       "key                                                                       \n",
       "CCGGCGATGCGT_2715054_C  2715054  CCGGCGATGCGT   C  Non-Essential       eis\n",
       "A_2714706_AC            2714706             A  AC  Non-Essential       eis\n",
       "C_2714933_CG            2714933             C  CG  Non-Essential       eis"
      ]
     },
     "execution_count": 145,
     "metadata": {},
     "output_type": "execute_result"
    }
   ],
   "source": [
    "INDEL_functional_annotation_DF.head()"
   ]
  },
  {
   "cell_type": "code",
   "execution_count": 146,
   "metadata": {},
   "outputs": [
    {
     "data": {
      "text/plain": [
       "(3, 5)"
      ]
     },
     "execution_count": 146,
     "metadata": {},
     "output_type": "execute_result"
    }
   ],
   "source": [
    "np.shape(INDEL_functional_annotation_DF)"
   ]
  },
  {
   "cell_type": "markdown",
   "metadata": {},
   "source": [
    "#### Load in work-horse for functional INDEL annotation"
   ]
  },
  {
   "cell_type": "markdown",
   "metadata": {},
   "source": [
    "Relevant Information for H37Rv sequence and INDEL functional annotation"
   ]
  },
  {
   "cell_type": "code",
   "execution_count": 147,
   "metadata": {},
   "outputs": [],
   "source": [
    "####### Collect all DNA and Amino Acid sequences corresponding to genes on H37Rv #######\n",
    "#load reference genome and reference annotation\n",
    "reference_genome = '/n/data1/hms/dbmi/farhat/bin/work-horse/bin/h37rv.fasta'\n",
    "for reference_genome in SeqIO.parse(reference_genome, \"fasta\"):\n",
    "    reference_genome.seq.alphabet = IUPAC.unambiguous_dna\n",
    "\n",
    "reference_genome_annotation = pd.read_csv('/n/data1/hms/dbmi/farhat/Roger/inhost_TB_dynamics_project/H37Rv/h37rv_genome_summary.txt', '\\t').set_index('name')\n",
    "\n",
    "####### Load in dictionaries for SNP annotation #######\n",
    "with open('/n/data1/hms/dbmi/farhat/Roger/homoplasy_project/pickled_files/dicts_for_SNP_annotation/H37Rv_gene_seq_records.pickle', 'rb') as handle:\n",
    "    ref_gene_sequences_records = pickle.load(handle)\n",
    "    \n",
    "with open('/n/data1/hms/dbmi/farhat/Roger/homoplasy_project/pickled_files/dicts_for_SNP_annotation/H37Rv_protein_seq_records.pickle', 'rb') as handle:\n",
    "    ref_protein_sequences_records = pickle.load(handle)\n",
    "    \n",
    "with open('/n/data1/hms/dbmi/farhat/Roger/homoplasy_project/pickled_files/dicts_for_SNP_annotation/H37Rv_coord_gene_mapping.pickle', 'rb') as handle:\n",
    "    ReferencePosition_Gene_mapping = pickle.load(handle)"
   ]
  },
  {
   "cell_type": "markdown",
   "metadata": {},
   "source": [
    "Function to annotate Intergenic INDELs"
   ]
  },
  {
   "cell_type": "code",
   "execution_count": 148,
   "metadata": {},
   "outputs": [],
   "source": [
    "def find_flanking_genes_for_intergenic_region(intergenic_ref_pos): \n",
    "\n",
    "    #this function finds the genes flagging an intergenic region given a reference position\n",
    "\n",
    "    #find gene immediately in the 5' direction\n",
    "    for i in range(0 , 100000):\n",
    "\n",
    "        #move toward 5' direction\n",
    "        if ReferencePosition_Gene_mapping[intergenic_ref_pos - i] != []:\n",
    "\n",
    "            gene_to_left = ReferencePosition_Gene_mapping[intergenic_ref_pos - i][0]\n",
    "            break\n",
    "\n",
    "    #find gene immediately in the 3' direction       \n",
    "    for i in range(0 , 100000):\n",
    "\n",
    "        #move toward 3' direction\n",
    "        try:\n",
    "            if ReferencePosition_Gene_mapping[intergenic_ref_pos + i] != []:\n",
    "\n",
    "                gene_to_right = ReferencePosition_Gene_mapping[intergenic_ref_pos + i][0]\n",
    "                break\n",
    "        \n",
    "        #KeyError means we have hit the 'end' of the chromosome, the intergenic region at then end of H37Rv in 5' > 3' orientation \n",
    "        #since TB chromosome is circular the gene to the 'right' is Rv0001    \n",
    "        except KeyError:\n",
    "            \n",
    "            gene_to_right = 'Rv0001'\n",
    "            break\n",
    "    \n",
    "    return gene_to_left + '_' + gene_to_right"
   ]
  },
  {
   "cell_type": "markdown",
   "metadata": {},
   "source": [
    "Function to determine whether INDELs are *Inframe* or *Frameshift*; Return codon position"
   ]
  },
  {
   "cell_type": "code",
   "execution_count": 149,
   "metadata": {},
   "outputs": [],
   "source": [
    "def INDEL_type(ref_allele_i , ref_seq_position , alt_allele_i):\n",
    "    \n",
    "    '''\n",
    "    This function takes as input a reference position on H37Rv located within a \n",
    "    gene, a reference allelel and an alternate allele and returns whether the indel\n",
    "    would correspond to an inframe or frameshift indel.\n",
    "    \n",
    "    '''\n",
    "    gene_intergenic_id_list = []\n",
    "    genomic_coord_list = []\n",
    "    IF_FS_list = []\n",
    "    INS_DEL_list = []\n",
    "    codon_coord_list = []\n",
    "    \n",
    "    #find the gene that INDEL occurs on\n",
    "    \n",
    "    #check list corresponding to H37Rv coordinate to see if there are any genes associated with RefPosition\n",
    "    if len(ReferencePosition_Gene_mapping[ref_seq_position]) > 0:\n",
    "\n",
    "        #iterate through all genes that ReferencePosition is mapped to (i.e. SNP might correspond to 2 genes)\n",
    "        for gene_intergenic_id in ReferencePosition_Gene_mapping[ref_seq_position]:\n",
    "\n",
    "            #find genomic coordinate of SNP relative to gene (subtract 1 since reference seq starts counting at 1)\n",
    "            gene_relative_coord = (ref_seq_position - 1) - min( reference_genome_annotation.loc[gene_intergenic_id , 'chromStart'] , reference_genome_annotation.loc[gene_intergenic_id , 'chromEnd'] )\n",
    "\n",
    "            #find out if indel is inframe or frameshift\n",
    "            indel_length = abs(len(ref_allele_i) - len(alt_allele_i))\n",
    "            \n",
    "            if indel_length % 3 == 0:\n",
    "                INDEL_type = 'inframe'\n",
    "                \n",
    "            elif indel_length % 3 != 0:\n",
    "                INDEL_type = 'frameshift'\n",
    "                \n",
    "            #find out whether insertion or deletion\n",
    "            if len(ref_allele_i) > len(alt_allele_i):\n",
    "                INS_or_DEL = 'del'\n",
    "                \n",
    "            elif len(ref_allele_i) < len(alt_allele_i):\n",
    "                INS_or_DEL = 'ins'\n",
    "            \n",
    "            #get the codon number where the SNP occurs within\n",
    "            ## take the genomic coordinate (relative to the gene, in the 5' to 3' direction), divide by 3, then take the ceiling of this number (will be fraction if SNP occurs in 1st or 2nd position on codon)\n",
    "            strand = reference_genome_annotation.loc[gene_intergenic_id, 'strand']\n",
    "            if strand == '+':\n",
    "                 genomic_5_to_3_coord = (ref_seq_position) - reference_genome_annotation.loc[gene_intergenic_id , 'chromStart']\n",
    "\n",
    "            elif strand == '-':\n",
    "                 genomic_5_to_3_coord = (reference_genome_annotation.loc[gene_intergenic_id , 'chromEnd']) - (ref_seq_position-1)\n",
    "\n",
    "            codon_coord = int(np.ceil( float( genomic_5_to_3_coord) / 3.0 ))\n",
    "            \n",
    "            #store relevant info in lists    \n",
    "            gene_intergenic_id_list.append(gene_intergenic_id)\n",
    "            genomic_coord_list.append(genomic_5_to_3_coord)\n",
    "            IF_FS_list.append(INDEL_type)\n",
    "            INS_DEL_list.append(INS_or_DEL)\n",
    "            codon_coord_list.append(codon_coord)\n",
    "    \n",
    "    #if no gene in H37Rv corresponds to the Reference Position for INDEL, then INDEL must be intergenic\n",
    "    else:\n",
    "        \n",
    "        gene_intergenic_id = find_flanking_genes_for_intergenic_region(ref_seq_position)\n",
    "        \n",
    "        #find out if indel is inframe or frameshift\n",
    "        indel_length = abs(len(ref_allele_i) - len(alt_allele_i))\n",
    "\n",
    "        if indel_length % 3 == 0:\n",
    "            INDEL_type = 'inframe'\n",
    "\n",
    "        elif indel_length % 3 != 0:\n",
    "            INDEL_type = 'frameshift'\n",
    "            \n",
    "        #find out whether insertion or deletion\n",
    "        if len(ref_allele_i) > len(alt_allele_i):\n",
    "            INS_or_DEL = 'del'\n",
    "\n",
    "        elif len(ref_allele_i) < len(alt_allele_i):\n",
    "            INS_or_DEL = 'ins'\n",
    "                \n",
    "        genomic_5_to_3_coord = 'None'\n",
    "        codon_coord = 'None'\n",
    "        \n",
    "        #store relevant info in lists    \n",
    "        gene_intergenic_id_list.append(gene_intergenic_id)\n",
    "        genomic_coord_list.append('None')\n",
    "        IF_FS_list.append('I')\n",
    "        INS_DEL_list.append(INS_or_DEL)\n",
    "        codon_coord_list.append('None')\n",
    "    \n",
    "    #if there is only a single gene associated with this INDEL, just return the individual elememts\n",
    "    if len(gene_intergenic_id_list) == 1:\n",
    "        return [gene_intergenic_id , genomic_5_to_3_coord , INS_or_DEL , INDEL_type , codon_coord]\n",
    "    \n",
    "    #else if there are two genes associated with this SNP, return elements for each SNP annotation in a list\n",
    "    elif len(gene_intergenic_id_list) > 1:\n",
    "        return [gene_intergenic_id_list , genomic_coord_list , INS_DEL_list , IF_FS_list , codon_coord_list]"
   ]
  },
  {
   "cell_type": "markdown",
   "metadata": {},
   "source": [
    "#### Iterate through each unique Reference Allele - Alternate Allele pair and get relevant annotation"
   ]
  },
  {
   "cell_type": "code",
   "execution_count": 150,
   "metadata": {},
   "outputs": [],
   "source": [
    "#create lists for each new column of the INDEL functional annotation DF\n",
    "gene_intergenic_id_list = []\n",
    "gene_pos_list = []\n",
    "INS_DEL_list = []\n",
    "INDEL_type_list = []\n",
    "codon_coord_list = []\n",
    "\n",
    "for INDEL_i in INDEL_functional_annotation_DF.index:\n",
    "    \n",
    "    #get the reference allele , reference position & alternate allele from index key\n",
    "    ref_allele_i , ref_pos_i , alt_allele_i = INDEL_i.split('_')\n",
    "    \n",
    "    #get functional annotation for INDEL\n",
    "    gene_intergenic_id_i , gene_pos_i , INS_or_DEL_i , INDEL_type_i , codon_coord_i = INDEL_type(ref_allele_i , int(ref_pos_i) , alt_allele_i)\n",
    "    \n",
    "    #store functional annotation info in lists\n",
    "    gene_intergenic_id_list.append(gene_intergenic_id_i)\n",
    "    gene_pos_list.append(gene_pos_i)\n",
    "    INS_DEL_list.append(INS_or_DEL_i)\n",
    "    INDEL_type_list.append(INDEL_type_i)\n",
    "    codon_coord_list.append(codon_coord_i)\n",
    "    \n",
    "#append new columns to INDEL functional annotation\n",
    "INDEL_functional_annotation_DF['gene_id'] = gene_intergenic_id_list\n",
    "INDEL_functional_annotation_DF['gene_pos'] = gene_pos_list\n",
    "INDEL_functional_annotation_DF['ins_del'] = INS_DEL_list\n",
    "INDEL_functional_annotation_DF['INDEL_type'] = INDEL_type_list\n",
    "INDEL_functional_annotation_DF['codon_pos'] = codon_coord_list"
   ]
  },
  {
   "cell_type": "code",
   "execution_count": 151,
   "metadata": {},
   "outputs": [
    {
     "data": {
      "text/plain": [
       "(3, 10)"
      ]
     },
     "execution_count": 151,
     "metadata": {},
     "output_type": "execute_result"
    }
   ],
   "source": [
    "np.shape(INDEL_functional_annotation_DF)"
   ]
  },
  {
   "cell_type": "code",
   "execution_count": 152,
   "metadata": {},
   "outputs": [
    {
     "data": {
      "text/html": [
       "<div>\n",
       "<style>\n",
       "    .dataframe thead tr:only-child th {\n",
       "        text-align: right;\n",
       "    }\n",
       "\n",
       "    .dataframe thead th {\n",
       "        text-align: left;\n",
       "    }\n",
       "\n",
       "    .dataframe tbody tr th {\n",
       "        vertical-align: top;\n",
       "    }\n",
       "</style>\n",
       "<table border=\"1\" class=\"dataframe\">\n",
       "  <thead>\n",
       "    <tr style=\"text-align: right;\">\n",
       "      <th></th>\n",
       "      <th>pos</th>\n",
       "      <th>ref</th>\n",
       "      <th>alt</th>\n",
       "      <th>gene_category</th>\n",
       "      <th>gene_name</th>\n",
       "      <th>gene_id</th>\n",
       "      <th>gene_pos</th>\n",
       "      <th>ins_del</th>\n",
       "      <th>INDEL_type</th>\n",
       "      <th>codon_pos</th>\n",
       "    </tr>\n",
       "    <tr>\n",
       "      <th>key</th>\n",
       "      <th></th>\n",
       "      <th></th>\n",
       "      <th></th>\n",
       "      <th></th>\n",
       "      <th></th>\n",
       "      <th></th>\n",
       "      <th></th>\n",
       "      <th></th>\n",
       "      <th></th>\n",
       "      <th></th>\n",
       "    </tr>\n",
       "  </thead>\n",
       "  <tbody>\n",
       "    <tr>\n",
       "      <th>CCGGCGATGCGT_2715054_C</th>\n",
       "      <td>2715054</td>\n",
       "      <td>CCGGCGATGCGT</td>\n",
       "      <td>C</td>\n",
       "      <td>Non-Essential</td>\n",
       "      <td>eis</td>\n",
       "      <td>Rv2416c</td>\n",
       "      <td>279</td>\n",
       "      <td>del</td>\n",
       "      <td>frameshift</td>\n",
       "      <td>93</td>\n",
       "    </tr>\n",
       "    <tr>\n",
       "      <th>A_2714706_AC</th>\n",
       "      <td>2714706</td>\n",
       "      <td>A</td>\n",
       "      <td>AC</td>\n",
       "      <td>Non-Essential</td>\n",
       "      <td>eis</td>\n",
       "      <td>Rv2416c</td>\n",
       "      <td>627</td>\n",
       "      <td>ins</td>\n",
       "      <td>frameshift</td>\n",
       "      <td>209</td>\n",
       "    </tr>\n",
       "    <tr>\n",
       "      <th>C_2714933_CG</th>\n",
       "      <td>2714933</td>\n",
       "      <td>C</td>\n",
       "      <td>CG</td>\n",
       "      <td>Non-Essential</td>\n",
       "      <td>eis</td>\n",
       "      <td>Rv2416c</td>\n",
       "      <td>400</td>\n",
       "      <td>ins</td>\n",
       "      <td>frameshift</td>\n",
       "      <td>134</td>\n",
       "    </tr>\n",
       "  </tbody>\n",
       "</table>\n",
       "</div>"
      ],
      "text/plain": [
       "                            pos           ref alt  gene_category gene_name  \\\n",
       "key                                                                          \n",
       "CCGGCGATGCGT_2715054_C  2715054  CCGGCGATGCGT   C  Non-Essential       eis   \n",
       "A_2714706_AC            2714706             A  AC  Non-Essential       eis   \n",
       "C_2714933_CG            2714933             C  CG  Non-Essential       eis   \n",
       "\n",
       "                        gene_id  gene_pos ins_del  INDEL_type  codon_pos  \n",
       "key                                                                       \n",
       "CCGGCGATGCGT_2715054_C  Rv2416c       279     del  frameshift         93  \n",
       "A_2714706_AC            Rv2416c       627     ins  frameshift        209  \n",
       "C_2714933_CG            Rv2416c       400     ins  frameshift        134  "
      ]
     },
     "execution_count": 152,
     "metadata": {},
     "output_type": "execute_result"
    }
   ],
   "source": [
    "INDEL_functional_annotation_DF.head()"
   ]
  },
  {
   "cell_type": "markdown",
   "metadata": {},
   "source": [
    "__Note__: \n",
    "\n",
    "The gene position/coordinate for the original INDEL annotation file (whose rows map to the rows of the Genotypes Matrix) starts counting from 0, this is to accomodate the functional INDEL annotation. \n",
    "\n",
    "The gene position/coordinate for the functional INDEL annotation (above) starts counting from 1 which is more intuitive for reporting purposes."
   ]
  }
 ],
 "metadata": {
  "kernelspec": {
   "display_name": "Python 2",
   "language": "python",
   "name": "python2"
  },
  "language_info": {
   "codemirror_mode": {
    "name": "ipython",
    "version": 2
   },
   "file_extension": ".py",
   "mimetype": "text/x-python",
   "name": "python",
   "nbconvert_exporter": "python",
   "pygments_lexer": "ipython2",
   "version": "2.7.16"
  }
 },
 "nbformat": 4,
 "nbformat_minor": 2
}
